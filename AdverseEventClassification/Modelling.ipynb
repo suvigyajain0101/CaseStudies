{
  "nbformat": 4,
  "nbformat_minor": 0,
  "metadata": {
    "colab": {
      "name": "Modelling.ipynb",
      "provenance": [],
      "authorship_tag": "ABX9TyNRVnmrhYeyu86NjDZPlqOP"
    },
    "kernelspec": {
      "name": "python3",
      "display_name": "Python 3"
    },
    "language_info": {
      "name": "python"
    }
  },
  "cells": [
    {
      "cell_type": "markdown",
      "source": [
        "### Download the data"
      ],
      "metadata": {
        "id": "iEICroIunbrH"
      }
    },
    {
      "cell_type": "code",
      "source": [
        "!wget https://raw.githubusercontent.com/suvigyajain0101/CaseStudies/main/AdverseEventClassification/Data/AE_Data.csv"
      ],
      "metadata": {
        "colab": {
          "base_uri": "https://localhost:8080/"
        },
        "id": "v0qHYHSpni9w",
        "outputId": "b86b0a51-846c-45c2-966f-849d067be7e7"
      },
      "execution_count": 28,
      "outputs": [
        {
          "output_type": "stream",
          "name": "stdout",
          "text": [
            "--2022-08-23 22:11:46--  https://raw.githubusercontent.com/suvigyajain0101/CaseStudies/main/AdverseEventClassification/Data/AE_Data.csv\n",
            "Resolving raw.githubusercontent.com (raw.githubusercontent.com)... 185.199.110.133, 185.199.111.133, 185.199.108.133, ...\n",
            "Connecting to raw.githubusercontent.com (raw.githubusercontent.com)|185.199.110.133|:443... connected.\n",
            "HTTP request sent, awaiting response... 200 OK\n",
            "Length: 5998096 (5.7M) [text/plain]\n",
            "Saving to: ‘AE_Data.csv.3’\n",
            "\n",
            "AE_Data.csv.3       100%[===================>]   5.72M  --.-KB/s    in 0.06s   \n",
            "\n",
            "2022-08-23 22:11:47 (93.8 MB/s) - ‘AE_Data.csv.3’ saved [5998096/5998096]\n",
            "\n"
          ]
        }
      ]
    },
    {
      "cell_type": "markdown",
      "source": [
        "### Import Libraries"
      ],
      "metadata": {
        "id": "jpdJtnronjPA"
      }
    },
    {
      "cell_type": "code",
      "source": [
        "import pandas as pd\n",
        "import numpy as np\n",
        "import re"
      ],
      "metadata": {
        "id": "deysFOmVnnSo"
      },
      "execution_count": 29,
      "outputs": []
    },
    {
      "cell_type": "code",
      "source": [
        "WORDS_TO_REMOVE = ['##padding##', 'ti-', 'ti -']\n",
        "EXPERIMENT_RESULTS = []"
      ],
      "metadata": {
        "id": "SjwD_F3KunMI"
      },
      "execution_count": 30,
      "outputs": []
    },
    {
      "cell_type": "code",
      "source": [
        "df = pd.read_csv('/content/AE_Data.csv')\n",
        "df.head()"
      ],
      "metadata": {
        "colab": {
          "base_uri": "https://localhost:8080/",
          "height": 206
        },
        "id": "0abX0Dx8no2-",
        "outputId": "8ed46619-5414-4295-8c26-a5010a874111"
      },
      "execution_count": 31,
      "outputs": [
        {
          "output_type": "execute_result",
          "data": {
            "text/plain": [
              "                                               title  \\\n",
              "0  antimicrobial impacts of essential oils on foo...   \n",
              "1  purification and characterization of a cystein...   \n",
              "2  telavancin activity tested against gram-positi...   \n",
              "3  the in vitro antimicrobial activity of cymbopo...   \n",
              "4  screening currency notes for microbial pathoge...   \n",
              "\n",
              "                                            abstract  label  \n",
              "0  the antimicrobial activity of twelve essential...      0  \n",
              "1  antimicrobial peptide (amp) crustin is a type ...      0  \n",
              "2  objectives: to reassess the activity of telava...      0  \n",
              "3  background: it is well known that cymbopogon (...      0  \n",
              "4  fomites are a well-known source of microbial i...      0  "
            ],
            "text/html": [
              "\n",
              "  <div id=\"df-3b5c5220-49e0-40e2-a972-ef00dd203b5a\">\n",
              "    <div class=\"colab-df-container\">\n",
              "      <div>\n",
              "<style scoped>\n",
              "    .dataframe tbody tr th:only-of-type {\n",
              "        vertical-align: middle;\n",
              "    }\n",
              "\n",
              "    .dataframe tbody tr th {\n",
              "        vertical-align: top;\n",
              "    }\n",
              "\n",
              "    .dataframe thead th {\n",
              "        text-align: right;\n",
              "    }\n",
              "</style>\n",
              "<table border=\"1\" class=\"dataframe\">\n",
              "  <thead>\n",
              "    <tr style=\"text-align: right;\">\n",
              "      <th></th>\n",
              "      <th>title</th>\n",
              "      <th>abstract</th>\n",
              "      <th>label</th>\n",
              "    </tr>\n",
              "  </thead>\n",
              "  <tbody>\n",
              "    <tr>\n",
              "      <th>0</th>\n",
              "      <td>antimicrobial impacts of essential oils on foo...</td>\n",
              "      <td>the antimicrobial activity of twelve essential...</td>\n",
              "      <td>0</td>\n",
              "    </tr>\n",
              "    <tr>\n",
              "      <th>1</th>\n",
              "      <td>purification and characterization of a cystein...</td>\n",
              "      <td>antimicrobial peptide (amp) crustin is a type ...</td>\n",
              "      <td>0</td>\n",
              "    </tr>\n",
              "    <tr>\n",
              "      <th>2</th>\n",
              "      <td>telavancin activity tested against gram-positi...</td>\n",
              "      <td>objectives: to reassess the activity of telava...</td>\n",
              "      <td>0</td>\n",
              "    </tr>\n",
              "    <tr>\n",
              "      <th>3</th>\n",
              "      <td>the in vitro antimicrobial activity of cymbopo...</td>\n",
              "      <td>background: it is well known that cymbopogon (...</td>\n",
              "      <td>0</td>\n",
              "    </tr>\n",
              "    <tr>\n",
              "      <th>4</th>\n",
              "      <td>screening currency notes for microbial pathoge...</td>\n",
              "      <td>fomites are a well-known source of microbial i...</td>\n",
              "      <td>0</td>\n",
              "    </tr>\n",
              "  </tbody>\n",
              "</table>\n",
              "</div>\n",
              "      <button class=\"colab-df-convert\" onclick=\"convertToInteractive('df-3b5c5220-49e0-40e2-a972-ef00dd203b5a')\"\n",
              "              title=\"Convert this dataframe to an interactive table.\"\n",
              "              style=\"display:none;\">\n",
              "        \n",
              "  <svg xmlns=\"http://www.w3.org/2000/svg\" height=\"24px\"viewBox=\"0 0 24 24\"\n",
              "       width=\"24px\">\n",
              "    <path d=\"M0 0h24v24H0V0z\" fill=\"none\"/>\n",
              "    <path d=\"M18.56 5.44l.94 2.06.94-2.06 2.06-.94-2.06-.94-.94-2.06-.94 2.06-2.06.94zm-11 1L8.5 8.5l.94-2.06 2.06-.94-2.06-.94L8.5 2.5l-.94 2.06-2.06.94zm10 10l.94 2.06.94-2.06 2.06-.94-2.06-.94-.94-2.06-.94 2.06-2.06.94z\"/><path d=\"M17.41 7.96l-1.37-1.37c-.4-.4-.92-.59-1.43-.59-.52 0-1.04.2-1.43.59L10.3 9.45l-7.72 7.72c-.78.78-.78 2.05 0 2.83L4 21.41c.39.39.9.59 1.41.59.51 0 1.02-.2 1.41-.59l7.78-7.78 2.81-2.81c.8-.78.8-2.07 0-2.86zM5.41 20L4 18.59l7.72-7.72 1.47 1.35L5.41 20z\"/>\n",
              "  </svg>\n",
              "      </button>\n",
              "      \n",
              "  <style>\n",
              "    .colab-df-container {\n",
              "      display:flex;\n",
              "      flex-wrap:wrap;\n",
              "      gap: 12px;\n",
              "    }\n",
              "\n",
              "    .colab-df-convert {\n",
              "      background-color: #E8F0FE;\n",
              "      border: none;\n",
              "      border-radius: 50%;\n",
              "      cursor: pointer;\n",
              "      display: none;\n",
              "      fill: #1967D2;\n",
              "      height: 32px;\n",
              "      padding: 0 0 0 0;\n",
              "      width: 32px;\n",
              "    }\n",
              "\n",
              "    .colab-df-convert:hover {\n",
              "      background-color: #E2EBFA;\n",
              "      box-shadow: 0px 1px 2px rgba(60, 64, 67, 0.3), 0px 1px 3px 1px rgba(60, 64, 67, 0.15);\n",
              "      fill: #174EA6;\n",
              "    }\n",
              "\n",
              "    [theme=dark] .colab-df-convert {\n",
              "      background-color: #3B4455;\n",
              "      fill: #D2E3FC;\n",
              "    }\n",
              "\n",
              "    [theme=dark] .colab-df-convert:hover {\n",
              "      background-color: #434B5C;\n",
              "      box-shadow: 0px 1px 3px 1px rgba(0, 0, 0, 0.15);\n",
              "      filter: drop-shadow(0px 1px 2px rgba(0, 0, 0, 0.3));\n",
              "      fill: #FFFFFF;\n",
              "    }\n",
              "  </style>\n",
              "\n",
              "      <script>\n",
              "        const buttonEl =\n",
              "          document.querySelector('#df-3b5c5220-49e0-40e2-a972-ef00dd203b5a button.colab-df-convert');\n",
              "        buttonEl.style.display =\n",
              "          google.colab.kernel.accessAllowed ? 'block' : 'none';\n",
              "\n",
              "        async function convertToInteractive(key) {\n",
              "          const element = document.querySelector('#df-3b5c5220-49e0-40e2-a972-ef00dd203b5a');\n",
              "          const dataTable =\n",
              "            await google.colab.kernel.invokeFunction('convertToInteractive',\n",
              "                                                     [key], {});\n",
              "          if (!dataTable) return;\n",
              "\n",
              "          const docLinkHtml = 'Like what you see? Visit the ' +\n",
              "            '<a target=\"_blank\" href=https://colab.research.google.com/notebooks/data_table.ipynb>data table notebook</a>'\n",
              "            + ' to learn more about interactive tables.';\n",
              "          element.innerHTML = '';\n",
              "          dataTable['output_type'] = 'display_data';\n",
              "          await google.colab.output.renderOutput(dataTable, element);\n",
              "          const docLink = document.createElement('div');\n",
              "          docLink.innerHTML = docLinkHtml;\n",
              "          element.appendChild(docLink);\n",
              "        }\n",
              "      </script>\n",
              "    </div>\n",
              "  </div>\n",
              "  "
            ]
          },
          "metadata": {},
          "execution_count": 31
        }
      ]
    },
    {
      "cell_type": "code",
      "source": [
        "df['label'].value_counts()"
      ],
      "metadata": {
        "colab": {
          "base_uri": "https://localhost:8080/"
        },
        "id": "5ydBapLanqSa",
        "outputId": "48794380-75d9-420c-a185-2c730ea4aeeb"
      },
      "execution_count": 32,
      "outputs": [
        {
          "output_type": "execute_result",
          "data": {
            "text/plain": [
              "0    3851\n",
              "1     294\n",
              "Name: label, dtype: int64"
            ]
          },
          "metadata": {},
          "execution_count": 32
        }
      ]
    },
    {
      "cell_type": "markdown",
      "source": [
        "### Helper Functions"
      ],
      "metadata": {
        "id": "87i359fWubWi"
      }
    },
    {
      "cell_type": "code",
      "source": [
        "def parse_confusion_matrix(x):\n",
        "  '''\n",
        "  Function parses confusion matrix and \n",
        "  returns TP, TN, FP and FN for a binary classification model\n",
        "  '''\n",
        "  tp = x[0][0]\n",
        "  tn = x[1][1]\n",
        "  fp = x[1][0]\n",
        "  fn = x[0][1]\n",
        "\n",
        "  return [tp, tn, fp, fn]\n",
        "\n",
        "def parse_clf_report(x):\n",
        "  '''\n",
        "  Functinon parses classificatin report dictionary\n",
        "  '''\n",
        "\n",
        "  f1 = x['weighted avg']['f1-score']\n",
        "  precision = x['weighted avg']['precision']\n",
        "  recall = x['weighted avg']['recall']\n",
        "  positive_f1 = x['1']['f1-score']\n",
        "  positive_precision = x['1']['precision']\n",
        "  positive_recall = x['1']['recall']\n",
        "\n",
        "  return [f1, precision, recall, positive_f1, positive_precision, positive_recall]\n",
        "\n",
        "def prepare_exp_report(master_list, exp_name, confsn_mat, clf_rpt):\n",
        "  '''\n",
        "  Function prepares experiment report, \n",
        "  in a nutshell it's just concataneting few lists\n",
        "  '''\n",
        "  # x is the forest here\n",
        "  return master_list.append([exp_name] + confsn_mat + clf_rpt)"
      ],
      "metadata": {
        "id": "EG-UrseGuciu"
      },
      "execution_count": 33,
      "outputs": []
    },
    {
      "cell_type": "markdown",
      "source": [
        "### Data Cleaning\n",
        "\n",
        "1. Combine Title and Abstract\n",
        "2. Lower case entire corpus\n",
        "2. Remove newline and tabs from the dataset\n",
        "3. Remove brackets, #, colons, 'TI\" (title identifier), '##PADDING##'\n",
        "5. Lemmatize and remove stopwords\n",
        "2. Remove records with less than 10 words"
      ],
      "metadata": {
        "id": "e4pT39M5nu4K"
      }
    },
    {
      "cell_type": "code",
      "source": [
        "df['text'] = df['title'] + ' ' + df['abstract']\n",
        "df.head()"
      ],
      "metadata": {
        "colab": {
          "base_uri": "https://localhost:8080/",
          "height": 206
        },
        "id": "3qqv6Qx1n-rY",
        "outputId": "70727ec0-f4bd-4d0c-d706-c5a91075bec5"
      },
      "execution_count": 34,
      "outputs": [
        {
          "output_type": "execute_result",
          "data": {
            "text/plain": [
              "                                               title  \\\n",
              "0  antimicrobial impacts of essential oils on foo...   \n",
              "1  purification and characterization of a cystein...   \n",
              "2  telavancin activity tested against gram-positi...   \n",
              "3  the in vitro antimicrobial activity of cymbopo...   \n",
              "4  screening currency notes for microbial pathoge...   \n",
              "\n",
              "                                            abstract  label  \\\n",
              "0  the antimicrobial activity of twelve essential...      0   \n",
              "1  antimicrobial peptide (amp) crustin is a type ...      0   \n",
              "2  objectives: to reassess the activity of telava...      0   \n",
              "3  background: it is well known that cymbopogon (...      0   \n",
              "4  fomites are a well-known source of microbial i...      0   \n",
              "\n",
              "                                                text  \n",
              "0  antimicrobial impacts of essential oils on foo...  \n",
              "1  purification and characterization of a cystein...  \n",
              "2  telavancin activity tested against gram-positi...  \n",
              "3  the in vitro antimicrobial activity of cymbopo...  \n",
              "4  screening currency notes for microbial pathoge...  "
            ],
            "text/html": [
              "\n",
              "  <div id=\"df-a45ae2df-5794-4dff-89a1-215f8127f934\">\n",
              "    <div class=\"colab-df-container\">\n",
              "      <div>\n",
              "<style scoped>\n",
              "    .dataframe tbody tr th:only-of-type {\n",
              "        vertical-align: middle;\n",
              "    }\n",
              "\n",
              "    .dataframe tbody tr th {\n",
              "        vertical-align: top;\n",
              "    }\n",
              "\n",
              "    .dataframe thead th {\n",
              "        text-align: right;\n",
              "    }\n",
              "</style>\n",
              "<table border=\"1\" class=\"dataframe\">\n",
              "  <thead>\n",
              "    <tr style=\"text-align: right;\">\n",
              "      <th></th>\n",
              "      <th>title</th>\n",
              "      <th>abstract</th>\n",
              "      <th>label</th>\n",
              "      <th>text</th>\n",
              "    </tr>\n",
              "  </thead>\n",
              "  <tbody>\n",
              "    <tr>\n",
              "      <th>0</th>\n",
              "      <td>antimicrobial impacts of essential oils on foo...</td>\n",
              "      <td>the antimicrobial activity of twelve essential...</td>\n",
              "      <td>0</td>\n",
              "      <td>antimicrobial impacts of essential oils on foo...</td>\n",
              "    </tr>\n",
              "    <tr>\n",
              "      <th>1</th>\n",
              "      <td>purification and characterization of a cystein...</td>\n",
              "      <td>antimicrobial peptide (amp) crustin is a type ...</td>\n",
              "      <td>0</td>\n",
              "      <td>purification and characterization of a cystein...</td>\n",
              "    </tr>\n",
              "    <tr>\n",
              "      <th>2</th>\n",
              "      <td>telavancin activity tested against gram-positi...</td>\n",
              "      <td>objectives: to reassess the activity of telava...</td>\n",
              "      <td>0</td>\n",
              "      <td>telavancin activity tested against gram-positi...</td>\n",
              "    </tr>\n",
              "    <tr>\n",
              "      <th>3</th>\n",
              "      <td>the in vitro antimicrobial activity of cymbopo...</td>\n",
              "      <td>background: it is well known that cymbopogon (...</td>\n",
              "      <td>0</td>\n",
              "      <td>the in vitro antimicrobial activity of cymbopo...</td>\n",
              "    </tr>\n",
              "    <tr>\n",
              "      <th>4</th>\n",
              "      <td>screening currency notes for microbial pathoge...</td>\n",
              "      <td>fomites are a well-known source of microbial i...</td>\n",
              "      <td>0</td>\n",
              "      <td>screening currency notes for microbial pathoge...</td>\n",
              "    </tr>\n",
              "  </tbody>\n",
              "</table>\n",
              "</div>\n",
              "      <button class=\"colab-df-convert\" onclick=\"convertToInteractive('df-a45ae2df-5794-4dff-89a1-215f8127f934')\"\n",
              "              title=\"Convert this dataframe to an interactive table.\"\n",
              "              style=\"display:none;\">\n",
              "        \n",
              "  <svg xmlns=\"http://www.w3.org/2000/svg\" height=\"24px\"viewBox=\"0 0 24 24\"\n",
              "       width=\"24px\">\n",
              "    <path d=\"M0 0h24v24H0V0z\" fill=\"none\"/>\n",
              "    <path d=\"M18.56 5.44l.94 2.06.94-2.06 2.06-.94-2.06-.94-.94-2.06-.94 2.06-2.06.94zm-11 1L8.5 8.5l.94-2.06 2.06-.94-2.06-.94L8.5 2.5l-.94 2.06-2.06.94zm10 10l.94 2.06.94-2.06 2.06-.94-2.06-.94-.94-2.06-.94 2.06-2.06.94z\"/><path d=\"M17.41 7.96l-1.37-1.37c-.4-.4-.92-.59-1.43-.59-.52 0-1.04.2-1.43.59L10.3 9.45l-7.72 7.72c-.78.78-.78 2.05 0 2.83L4 21.41c.39.39.9.59 1.41.59.51 0 1.02-.2 1.41-.59l7.78-7.78 2.81-2.81c.8-.78.8-2.07 0-2.86zM5.41 20L4 18.59l7.72-7.72 1.47 1.35L5.41 20z\"/>\n",
              "  </svg>\n",
              "      </button>\n",
              "      \n",
              "  <style>\n",
              "    .colab-df-container {\n",
              "      display:flex;\n",
              "      flex-wrap:wrap;\n",
              "      gap: 12px;\n",
              "    }\n",
              "\n",
              "    .colab-df-convert {\n",
              "      background-color: #E8F0FE;\n",
              "      border: none;\n",
              "      border-radius: 50%;\n",
              "      cursor: pointer;\n",
              "      display: none;\n",
              "      fill: #1967D2;\n",
              "      height: 32px;\n",
              "      padding: 0 0 0 0;\n",
              "      width: 32px;\n",
              "    }\n",
              "\n",
              "    .colab-df-convert:hover {\n",
              "      background-color: #E2EBFA;\n",
              "      box-shadow: 0px 1px 2px rgba(60, 64, 67, 0.3), 0px 1px 3px 1px rgba(60, 64, 67, 0.15);\n",
              "      fill: #174EA6;\n",
              "    }\n",
              "\n",
              "    [theme=dark] .colab-df-convert {\n",
              "      background-color: #3B4455;\n",
              "      fill: #D2E3FC;\n",
              "    }\n",
              "\n",
              "    [theme=dark] .colab-df-convert:hover {\n",
              "      background-color: #434B5C;\n",
              "      box-shadow: 0px 1px 3px 1px rgba(0, 0, 0, 0.15);\n",
              "      filter: drop-shadow(0px 1px 2px rgba(0, 0, 0, 0.3));\n",
              "      fill: #FFFFFF;\n",
              "    }\n",
              "  </style>\n",
              "\n",
              "      <script>\n",
              "        const buttonEl =\n",
              "          document.querySelector('#df-a45ae2df-5794-4dff-89a1-215f8127f934 button.colab-df-convert');\n",
              "        buttonEl.style.display =\n",
              "          google.colab.kernel.accessAllowed ? 'block' : 'none';\n",
              "\n",
              "        async function convertToInteractive(key) {\n",
              "          const element = document.querySelector('#df-a45ae2df-5794-4dff-89a1-215f8127f934');\n",
              "          const dataTable =\n",
              "            await google.colab.kernel.invokeFunction('convertToInteractive',\n",
              "                                                     [key], {});\n",
              "          if (!dataTable) return;\n",
              "\n",
              "          const docLinkHtml = 'Like what you see? Visit the ' +\n",
              "            '<a target=\"_blank\" href=https://colab.research.google.com/notebooks/data_table.ipynb>data table notebook</a>'\n",
              "            + ' to learn more about interactive tables.';\n",
              "          element.innerHTML = '';\n",
              "          dataTable['output_type'] = 'display_data';\n",
              "          await google.colab.output.renderOutput(dataTable, element);\n",
              "          const docLink = document.createElement('div');\n",
              "          docLink.innerHTML = docLinkHtml;\n",
              "          element.appendChild(docLink);\n",
              "        }\n",
              "      </script>\n",
              "    </div>\n",
              "  </div>\n",
              "  "
            ]
          },
          "metadata": {},
          "execution_count": 34
        }
      ]
    },
    {
      "cell_type": "code",
      "source": [
        "df.replace(r'\\n','', regex=True).iloc[4140, :]['text']"
      ],
      "metadata": {
        "colab": {
          "base_uri": "https://localhost:8080/",
          "height": 35
        },
        "id": "cgFd68BPpWfv",
        "outputId": "6df0d39f-1588-45e0-c917-5270d8bccfee"
      },
      "execution_count": 35,
      "outputs": [
        {
          "output_type": "execute_result",
          "data": {
            "text/plain": [
              "'TI  - [AUTO-INFECTION (INTESTINAL) IN RADIATION SICKNESS AND ITS PREVENTION IN WISTAR WHITE RATS]. ##PADDING##'"
            ],
            "application/vnd.google.colaboratory.intrinsic+json": {
              "type": "string"
            }
          },
          "metadata": {},
          "execution_count": 35
        }
      ]
    },
    {
      "cell_type": "code",
      "source": [
        "import nltk\n",
        "from nltk.stem import WordNetLemmatizer\n",
        "from nltk.corpus import stopwords\n",
        "nltk.download('stopwords')\n",
        "nltk.download('wordnet')\n",
        "nltk.download('omw-1.4')"
      ],
      "metadata": {
        "colab": {
          "base_uri": "https://localhost:8080/"
        },
        "id": "tD1NlEloxF-9",
        "outputId": "004b3b1f-35ee-4342-bfe8-1ea5902a9e92"
      },
      "execution_count": 36,
      "outputs": [
        {
          "output_type": "stream",
          "name": "stderr",
          "text": [
            "[nltk_data] Downloading package stopwords to /root/nltk_data...\n",
            "[nltk_data]   Package stopwords is already up-to-date!\n",
            "[nltk_data] Downloading package wordnet to /root/nltk_data...\n",
            "[nltk_data]   Package wordnet is already up-to-date!\n",
            "[nltk_data] Downloading package omw-1.4 to /root/nltk_data...\n",
            "[nltk_data]   Package omw-1.4 is already up-to-date!\n"
          ]
        },
        {
          "output_type": "execute_result",
          "data": {
            "text/plain": [
              "True"
            ]
          },
          "metadata": {},
          "execution_count": 36
        }
      ]
    },
    {
      "cell_type": "code",
      "source": [
        "eng_stopwords = stopwords.words('english')\n",
        "stemmer = WordNetLemmatizer()\n",
        "\n",
        "joined_words_to_remove = '|'.join(WORDS_TO_REMOVE)\n",
        "\n",
        "\n",
        "def clean_text(x):\n",
        "  # Lower case the text\n",
        "  lower_x = x.lower()\n",
        "\n",
        "  # Remove line breaks and tabs\n",
        "  no_break_x = re.sub(\"\\n|\\r|\\t\", \" \", lower_x)\n",
        "\n",
        "  # Remove specific words\n",
        "  no_waste_words_x = re.sub(joined_words_to_remove, \" \", no_break_x)\n",
        "\n",
        "  # Remove all non alphabet, numeral and space characters\n",
        "  alpha_x = re.sub('[^0-9a-zA-Z ]+', ' ', no_waste_words_x)\n",
        "\n",
        "  # Remove stopwords and lemmatize the word. Join at the end will also remove multi-spaces\n",
        "  lemma_x = ' '.join([stemmer.lemmatize(word) for word in alpha_x.split() if word not in eng_stopwords])\n",
        "\n",
        "  return lemma_x"
      ],
      "metadata": {
        "id": "SAwYUVd6sC47"
      },
      "execution_count": 37,
      "outputs": []
    },
    {
      "cell_type": "markdown",
      "source": [
        "Let's test the function on few examples"
      ],
      "metadata": {
        "id": "qOPATBDpwSho"
      }
    },
    {
      "cell_type": "code",
      "source": [
        "for sample_text in df.sample(5)['text'].values:\n",
        "  print('ORIGINAL TEXT : ', sample_text)\n",
        "  print('-'*100)\n",
        "  print('CLEANED TEXT : ', clean_text(sample_text))\n",
        "  print('\\n')\n",
        "  print('*'*100)"
      ],
      "metadata": {
        "colab": {
          "base_uri": "https://localhost:8080/"
        },
        "id": "j8PxtmOvwVXd",
        "outputId": "641f3999-15b0-4095-f679-c55957941d1e"
      },
      "execution_count": 38,
      "outputs": [
        {
          "output_type": "stream",
          "name": "stdout",
          "text": [
            "ORIGINAL TEXT :  TI  - Role of unbalanced growth of gram-negative bacteria in ileal ulcer formation in rats treated with a nonsteroidal anti-inflammatory drug.\n",
            " AB  - Nonsteroidal anti-inflammatory drugs (NSAIDs) induced formation of intestinal ulcers as side effects, in which an unbalanced increase in the number of gram-negative bacteria in the small intestine plays an important role. To clarify how intestinal microflora are influenced by NSAIDs, we examined the effects of 5-bromo-2-(4-fluorophenyl)-3-(4-methylsulfonylphenyl) thiophene (BFMeT), an NSAID, on intestinal motility and on the growth of Escherichia coli and Lactobacillus acidophilus. Transit index, a marker of peristalsis, was not different in BFMeT-treated and solvent-treated rats, indicating that BFMeT increased the number of gram-negative bacteria without suppression of peristalsis. The factors that affect the growth of intestinal bacteria were not found in intestinal contents of BFMeT-treated rats, because the growth of E. coli and that of L. acidophilus in the supernatants of small intestinal contents of BFMeT-treated rats and solvent-treated rats were not different. The mechanism of the increase in the number of gram-negative bacteria is still unclear, but heat-killed E. coli cells and their purified lipopolysaccharide (LPS) caused deterioration of BFMeT-induced ileal ulcers, while they could not cause the ulcers by themselves without the NSAID. Concentration of LPS and myeloperoxidase activity level were elevated correlatively in the intestinal mucosa of rats treated with LPS and BFMeT. These results suggest that an increase in the number of gram-negative bacteria and their LPS in the mucosa induces activation of neutrophils together with the help of NSAID action and causes ulcer formation.\n",
            "\n",
            "----------------------------------------------------------------------------------------------------\n",
            "CLEANED TEXT :  ti role unbalanced growth gram negative bacteria ileal ulcer formation rat treated nonsteroidal inflammatory drug ab nonsteroidal inflammatory drug nsaid induced formation intestinal ulcer side effect unbalanced increase number gram negative bacteria small intestine play important role clarify intestinal microflora influenced nsaid examined effect 5 bromo 2 4 fluorophenyl 3 4 methylsulfonylphenyl thiophene bfmet nsaid intestinal motility growth escherichia coli lactobacillus acidophilus transit index marker peristalsis different bfmet treated solvent treated rat indicating bfmet increased number gram negative bacteria without suppression peristalsis factor affect growth intestinal bacteria found intestinal content bfmet treated rat growth e coli l acidophilus supernatant small intestinal content bfmet treated rat solvent treated rat different mechanism increase number gram negative bacteria still unclear heat killed e coli cell purified lipopolysaccharide lp caused deterioration bfmet induced ileal ulcer could cause ulcer without nsaid concentration lp myeloperoxidase activity level elevated correlatively intestinal mucosa rat treated lp bfmet result suggest increase number gram negative bacteria lp mucosa induces activation neutrophil together help nsaid action cause ulcer formation\n",
            "\n",
            "\n",
            "****************************************************************************************************\n",
            "ORIGINAL TEXT :  cloning and characterization of a bile salt hydrolase (bsh) from bifidobacterium  adolescentis.\n",
            " a gene coding for bile salt hydrolase (bsh) fromother_species was cloned and expressed inother_species, and the nucleotide sequence was determined. the bsh ofother_species transformants was produced intracellularly in the  absence of bile salts. a unique bsh promoter (p(bsh)) sequence was identified by  using a neural network promoter prediction (nnpp, version 2.2). in spite of their high-level sequence homology with other bsh genes in the bifidobacterium species, their genetic organization surrounding the bsh gene and their promoter sequences  are different depending on the species.\n",
            "\n",
            "----------------------------------------------------------------------------------------------------\n",
            "CLEANED TEXT :  cloning characterization bile salt hydrolase bsh bifidobacterium adolescentis gene coding bile salt hydrolase bsh fromother specie cloned expressed inother specie nucleotide sequence determined bsh ofother specie transformants produced intracellularly absence bile salt unique bsh promoter p bsh sequence identified using neural network promoter prediction nnpp version 2 2 spite high level sequence homology bsh gene bifidobacterium specie genetic organization surrounding bsh gene promoter sequence different depending specie\n",
            "\n",
            "\n",
            "****************************************************************************************************\n",
            "ORIGINAL TEXT :  TI  - Regulation of the IL-10/IL-12 axis in human dendritic cells with probiotic bacteria.\n",
            " AB  - In this study, we have used monocyte-derived dendritic cells (DCs) to design a screening model for the selection of microorganisms with the ability to suppress DC-secreted IL-12p70, a critical cytokine for the induction of T-helper cell type 1 immune responses under inflammatory conditions. By the treatment of DCs with cocktails containing TLR agonists and proinflammatory cytokines, the cells increased the secretion of the Th1-promoting cytokine IL-12p70. Clinically used probiotics were tested for their IL-10- and IL-12p70-stimulating properties in immature DCs, and showed a dose-dependent change in the IL-10/IL-12p70 balance. Lactobacillus acidophilus NCFM() and the probiotic mixture VSL#3 showed a strong induction of IL-12p70, whereas Lactobacillus salivarius Ls-33 and Bifidobacterium infantis 35624 preferentially induced IL-10. Escherichia coli Nissle 1917 induced both IL-10 and IL-12p70, whereas the probiotic yeast Saccharomyces boulardii induced low levels of cytokines. When combining these microorganisms with the Th1-promoting cocktails, E. coli Nissle 1917 and B. infantis 35624 were potent suppressors of IL-12p70 secretion in an IL-10-independent manner, indicating a suppressive effect on Th1-inducing antigen-presenting cells. The present model, using cocktail-stimulated DCs with potent IL-12p70-stimulating capacity, may be used as an efficient tool to assess the anti-inflammatory properties of microorganisms for potential clinical use.\n",
            "\n",
            "----------------------------------------------------------------------------------------------------\n",
            "CLEANED TEXT :  ti regulation il 10 il 12 axis human dendritic cell probiotic bacteria ab study used monocyte derived dendritic cell dc design screening model selection microorganism ability suppress dc secreted il 12p70 critical cytokine induction helper cell type 1 immune response inflammatory condition treatment dc cocktail containing tlr agonist proinflammatory cytokine cell increased secretion th1 promoting cytokine il 12p70 clinically used probiotic tested il 10 il 12p70 stimulating property immature dc showed dose dependent change il 10 il 12p70 balance lactobacillus acidophilus ncfm probiotic mixture vsl 3 showed strong induction il 12p70 whereas lactobacillus salivarius l 33 bifidobacterium infantis 35624 preferentially induced il 10 escherichia coli nissle 1917 induced il 10 il 12p70 whereas probiotic yeast saccharomyces boulardii induced low level cytokine combining microorganism th1 promoting cocktail e coli nissle 1917 b infantis 35624 potent suppressor il 12p70 secretion il 10 independent manner indicating suppressive effect th1 inducing antigen presenting cell present model using cocktail stimulated dc potent il 12p70 stimulating capacity may used efficient tool ass inflammatory property microorganism potential clinical use\n",
            "\n",
            "\n",
            "****************************************************************************************************\n",
            "ORIGINAL TEXT :  in vitro activity of cefpirome (hr 810) against enterococci and staphylococci.\n",
            " the inhibitory activity of cefpirome (hr 810), a new cephalosporin derivative for parenteral use, was tested by agar dilution methods againstother_species (100 strains),other_species (40 strains) and coagulase-negative staphylococcal species (60 strains) in comparison with other beta-lactam antibiotics. forother_species, the cefpirome minimum inhibitory concentration (mic) range was 2-128 micrograms/ml, with an mic50 of 8 micrograms/ml, and an mic90 of 64 micrograms/ml. the optimal bactericidal activity against strains with mics of < or = 8 micrograms/ml occurred at 2-4 times the mic, and the reduction in the initial inoculum was 99.9-99.7% after 24 h incubation at these concentrations. mec gene-negative staphylococci (bothother_species and coagulase-negative species) had cefpirome mics of 0.25-2 micrograms/ml (mic50 0.5 microgram/ml, mic90 1 microgram/ml). mec gene-positive strains had mics of 0.5-128 micrograms/ml (mic50 2 micrograms/ml, mic90 32 micrograms/ml). strains with borderline resistance to oxacillin which did not harbor the mec gene and which were susceptible to cefpirome maintained their susceptibility even when high-density inocula were used and after several passages in media containing the antibiotic. these studies present some potential advantages of cefpirome over other cephalosporins in the inhibitory activity against gram-positive cocci.\n",
            "\n",
            "----------------------------------------------------------------------------------------------------\n",
            "CLEANED TEXT :  vitro activity cefpirome hr 810 enterococci staphylococci inhibitory activity cefpirome hr 810 new cephalosporin derivative parenteral use tested agar dilution method againstother specie 100 strain specie 40 strain coagulase negative staphylococcal specie 60 strain comparison beta lactam antibiotic forother specie cefpirome minimum inhibitory concentration mic range 2 128 microgram ml mic50 8 microgram ml mic90 64 microgram ml optimal bactericidal activity strain mics 8 microgram ml occurred 2 4 time mic reduction initial inoculum 99 9 99 7 24 h incubation concentration mec gene negative staphylococci bothother specie coagulase negative specie cefpirome mics 0 25 2 microgram ml mic50 0 5 microgram ml mic90 1 microgram ml mec gene positive strain mics 0 5 128 microgram ml mic50 2 microgram ml mic90 32 microgram ml strain borderline resistance oxacillin harbor mec gene susceptible cefpirome maintained susceptibility even high density inoculum used several passage medium containing antibiotic study present potential advantage cefpirome cephalosporin inhibitory activity gram positive cocci\n",
            "\n",
            "\n",
            "****************************************************************************************************\n",
            "ORIGINAL TEXT :  TI  - Characterization of a bacteriocin produced by Enterococcus faecium GM-1 isolated  from an infant.\n",
            " AB  - AIM: To partially characterize the bacteriocin produced by the GM-1 strain of Enterococcus faecium, isolated from the faeces of a newborn human infant. METHODS AND RESULTS: The bacteriocin produced by E. faecium GM-1 showed a broad spectrum of activity against indicator strains of Escherichia coli, Staphylococcus aureus, Vibrio spp., Salmonella typhimurium, Listeria monocytogenes, Lactobacillus acidophilus, and Streptococcus thermophilus. Treatment of the GM-1 bacteriocin with proteolytic enzymes reduced its inhibitory activities. The bacteriocin was stable at 100 degrees C for 20 min and displayed inhibitory activity at neutral pH. The optimal production of bacteriocin from E. faecium GM-1 was obtained when the culture conditions were pH 6.0-6.5 and 35-40 degrees C. The inhibitory activity of the bacteriocin was not substantially changed by the use of different carbon sources in the media, except when galactose was substituted for glucose. The use of a sole nitrogen source caused a decrease in inhibitory activity. A bacteriocin gene similar to enterocin P was identified from the total DNA of E. faecium GM-1 by PCR and direct sequencing methods. CONCLUSION: E. faecium GM-1, which was isolated from the faeces of a newborn baby, produces an enterocin P-like bacteriocin with inhibitory activity against Gram-positive and Gram-negative bacteria, including food-borne pathogens. SIGNIFICANCE AND IMPACT OF THE STUDY: E. faecium GM-1, isolated from infant faeces, produces a new bacteriocin that is similar to enterocin P. This bacteriocin is heat stable and has a broad antibacterial spectrum that includes both Gram-positive and Gram-negative bacteria.\n",
            "\n",
            "----------------------------------------------------------------------------------------------------\n",
            "CLEANED TEXT :  ti characterization bacteriocin produced enterococcus faecium gm 1 isolated infant ab aim partially characterize bacteriocin produced gm 1 strain enterococcus faecium isolated faeces newborn human infant method result bacteriocin produced e faecium gm 1 showed broad spectrum activity indicator strain escherichia coli staphylococcus aureus vibrio spp salmonella typhimurium listeria monocytogenes lactobacillus acidophilus streptococcus thermophilus treatment gm 1 bacteriocin proteolytic enzyme reduced inhibitory activity bacteriocin stable 100 degree c 20 min displayed inhibitory activity neutral ph optimal production bacteriocin e faecium gm 1 obtained culture condition ph 6 0 6 5 35 40 degree c inhibitory activity bacteriocin substantially changed use different carbon source medium except galactose substituted glucose use sole nitrogen source caused decrease inhibitory activity bacteriocin gene similar enterocin p identified total dna e faecium gm 1 pcr direct sequencing method conclusion e faecium gm 1 isolated faeces newborn baby produce enterocin p like bacteriocin inhibitory activity gram positive gram negative bacteria including food borne pathogen significance impact study e faecium gm 1 isolated infant faeces produce new bacteriocin similar enterocin p bacteriocin heat stable broad antibacterial spectrum includes gram positive gram negative bacteria\n",
            "\n",
            "\n",
            "****************************************************************************************************\n"
          ]
        }
      ]
    },
    {
      "cell_type": "code",
      "source": [
        "# Apply cleaning function to the text field\n",
        "df['clean_text'] = df['text'].apply(lambda x : clean_text(x))\n",
        "\n",
        "# Get the length and drop records less than 10 words\n",
        "df['text_len'] = df['clean_text'].str.split().apply(len)\n",
        "\n",
        "cleaned_df = df[df['text_len'] > 10][['clean_text', 'label']]"
      ],
      "metadata": {
        "id": "7ahsc8kwoFX3"
      },
      "execution_count": 39,
      "outputs": []
    },
    {
      "cell_type": "code",
      "source": [
        "cleaned_df.head()"
      ],
      "metadata": {
        "colab": {
          "base_uri": "https://localhost:8080/",
          "height": 206
        },
        "id": "4ZgBEcURrdB7",
        "outputId": "2c86e0f9-c15a-44a9-aaa8-bb9f4ea9259b"
      },
      "execution_count": 40,
      "outputs": [
        {
          "output_type": "execute_result",
          "data": {
            "text/plain": [
              "                                          clean_text  label\n",
              "0  antimicrobial impact essential oil food borne ...      0\n",
              "1  purification characterization cysteine rich 14...      0\n",
              "2  telavancin activity tested gram positive clini...      0\n",
              "3  vitro antimicrobial activity cymbopogon essent...      0\n",
              "4  screening currency note microbial pathogen ant...      0"
            ],
            "text/html": [
              "\n",
              "  <div id=\"df-cd48e75b-40d2-43ad-b341-4baf5a29b2fc\">\n",
              "    <div class=\"colab-df-container\">\n",
              "      <div>\n",
              "<style scoped>\n",
              "    .dataframe tbody tr th:only-of-type {\n",
              "        vertical-align: middle;\n",
              "    }\n",
              "\n",
              "    .dataframe tbody tr th {\n",
              "        vertical-align: top;\n",
              "    }\n",
              "\n",
              "    .dataframe thead th {\n",
              "        text-align: right;\n",
              "    }\n",
              "</style>\n",
              "<table border=\"1\" class=\"dataframe\">\n",
              "  <thead>\n",
              "    <tr style=\"text-align: right;\">\n",
              "      <th></th>\n",
              "      <th>clean_text</th>\n",
              "      <th>label</th>\n",
              "    </tr>\n",
              "  </thead>\n",
              "  <tbody>\n",
              "    <tr>\n",
              "      <th>0</th>\n",
              "      <td>antimicrobial impact essential oil food borne ...</td>\n",
              "      <td>0</td>\n",
              "    </tr>\n",
              "    <tr>\n",
              "      <th>1</th>\n",
              "      <td>purification characterization cysteine rich 14...</td>\n",
              "      <td>0</td>\n",
              "    </tr>\n",
              "    <tr>\n",
              "      <th>2</th>\n",
              "      <td>telavancin activity tested gram positive clini...</td>\n",
              "      <td>0</td>\n",
              "    </tr>\n",
              "    <tr>\n",
              "      <th>3</th>\n",
              "      <td>vitro antimicrobial activity cymbopogon essent...</td>\n",
              "      <td>0</td>\n",
              "    </tr>\n",
              "    <tr>\n",
              "      <th>4</th>\n",
              "      <td>screening currency note microbial pathogen ant...</td>\n",
              "      <td>0</td>\n",
              "    </tr>\n",
              "  </tbody>\n",
              "</table>\n",
              "</div>\n",
              "      <button class=\"colab-df-convert\" onclick=\"convertToInteractive('df-cd48e75b-40d2-43ad-b341-4baf5a29b2fc')\"\n",
              "              title=\"Convert this dataframe to an interactive table.\"\n",
              "              style=\"display:none;\">\n",
              "        \n",
              "  <svg xmlns=\"http://www.w3.org/2000/svg\" height=\"24px\"viewBox=\"0 0 24 24\"\n",
              "       width=\"24px\">\n",
              "    <path d=\"M0 0h24v24H0V0z\" fill=\"none\"/>\n",
              "    <path d=\"M18.56 5.44l.94 2.06.94-2.06 2.06-.94-2.06-.94-.94-2.06-.94 2.06-2.06.94zm-11 1L8.5 8.5l.94-2.06 2.06-.94-2.06-.94L8.5 2.5l-.94 2.06-2.06.94zm10 10l.94 2.06.94-2.06 2.06-.94-2.06-.94-.94-2.06-.94 2.06-2.06.94z\"/><path d=\"M17.41 7.96l-1.37-1.37c-.4-.4-.92-.59-1.43-.59-.52 0-1.04.2-1.43.59L10.3 9.45l-7.72 7.72c-.78.78-.78 2.05 0 2.83L4 21.41c.39.39.9.59 1.41.59.51 0 1.02-.2 1.41-.59l7.78-7.78 2.81-2.81c.8-.78.8-2.07 0-2.86zM5.41 20L4 18.59l7.72-7.72 1.47 1.35L5.41 20z\"/>\n",
              "  </svg>\n",
              "      </button>\n",
              "      \n",
              "  <style>\n",
              "    .colab-df-container {\n",
              "      display:flex;\n",
              "      flex-wrap:wrap;\n",
              "      gap: 12px;\n",
              "    }\n",
              "\n",
              "    .colab-df-convert {\n",
              "      background-color: #E8F0FE;\n",
              "      border: none;\n",
              "      border-radius: 50%;\n",
              "      cursor: pointer;\n",
              "      display: none;\n",
              "      fill: #1967D2;\n",
              "      height: 32px;\n",
              "      padding: 0 0 0 0;\n",
              "      width: 32px;\n",
              "    }\n",
              "\n",
              "    .colab-df-convert:hover {\n",
              "      background-color: #E2EBFA;\n",
              "      box-shadow: 0px 1px 2px rgba(60, 64, 67, 0.3), 0px 1px 3px 1px rgba(60, 64, 67, 0.15);\n",
              "      fill: #174EA6;\n",
              "    }\n",
              "\n",
              "    [theme=dark] .colab-df-convert {\n",
              "      background-color: #3B4455;\n",
              "      fill: #D2E3FC;\n",
              "    }\n",
              "\n",
              "    [theme=dark] .colab-df-convert:hover {\n",
              "      background-color: #434B5C;\n",
              "      box-shadow: 0px 1px 3px 1px rgba(0, 0, 0, 0.15);\n",
              "      filter: drop-shadow(0px 1px 2px rgba(0, 0, 0, 0.3));\n",
              "      fill: #FFFFFF;\n",
              "    }\n",
              "  </style>\n",
              "\n",
              "      <script>\n",
              "        const buttonEl =\n",
              "          document.querySelector('#df-cd48e75b-40d2-43ad-b341-4baf5a29b2fc button.colab-df-convert');\n",
              "        buttonEl.style.display =\n",
              "          google.colab.kernel.accessAllowed ? 'block' : 'none';\n",
              "\n",
              "        async function convertToInteractive(key) {\n",
              "          const element = document.querySelector('#df-cd48e75b-40d2-43ad-b341-4baf5a29b2fc');\n",
              "          const dataTable =\n",
              "            await google.colab.kernel.invokeFunction('convertToInteractive',\n",
              "                                                     [key], {});\n",
              "          if (!dataTable) return;\n",
              "\n",
              "          const docLinkHtml = 'Like what you see? Visit the ' +\n",
              "            '<a target=\"_blank\" href=https://colab.research.google.com/notebooks/data_table.ipynb>data table notebook</a>'\n",
              "            + ' to learn more about interactive tables.';\n",
              "          element.innerHTML = '';\n",
              "          dataTable['output_type'] = 'display_data';\n",
              "          await google.colab.output.renderOutput(dataTable, element);\n",
              "          const docLink = document.createElement('div');\n",
              "          docLink.innerHTML = docLinkHtml;\n",
              "          element.appendChild(docLink);\n",
              "        }\n",
              "      </script>\n",
              "    </div>\n",
              "  </div>\n",
              "  "
            ]
          },
          "metadata": {},
          "execution_count": 40
        }
      ]
    },
    {
      "cell_type": "code",
      "source": [
        "print('Total records retained after data cleaning : ', cleaned_df.shape[0])\n",
        "cleaned_df['label'].value_counts()"
      ],
      "metadata": {
        "colab": {
          "base_uri": "https://localhost:8080/"
        },
        "id": "90W6Fcsdr0eK",
        "outputId": "ef87535c-15c7-4d39-a8c9-1186deb9d811"
      },
      "execution_count": 41,
      "outputs": [
        {
          "output_type": "stream",
          "name": "stdout",
          "text": [
            "Total records retained after data cleaning :  4013\n"
          ]
        },
        {
          "output_type": "execute_result",
          "data": {
            "text/plain": [
              "0    3719\n",
              "1     294\n",
              "Name: label, dtype: int64"
            ]
          },
          "metadata": {},
          "execution_count": 41
        }
      ]
    },
    {
      "cell_type": "markdown",
      "source": [
        "### TF-IDF Vectorizer\n",
        "\n",
        "Convert text to features. We'll use TF-IDF score to give the score to the word in the corpus. "
      ],
      "metadata": {
        "id": "18eI1Bgs3oyh"
      }
    },
    {
      "cell_type": "code",
      "source": [
        "from sklearn.feature_extraction.text import TfidfVectorizer\n",
        "tfidfconverter = TfidfVectorizer(max_features=1500, min_df=5, max_df=0.7, stop_words=stopwords.words('english'))\n",
        "X = tfidfconverter.fit_transform(cleaned_df['clean_text']).toarray()\n",
        "y = cleaned_df['label'].values"
      ],
      "metadata": {
        "id": "mMd19xFE3nCL"
      },
      "execution_count": 42,
      "outputs": []
    },
    {
      "cell_type": "markdown",
      "source": [
        "Since the data is unbalanced, we need to split the data into train-test in such a way that those represent the actual data. That's where stratified sampling comes in"
      ],
      "metadata": {
        "id": "lTPUbGjJsOv1"
      }
    },
    {
      "cell_type": "code",
      "source": [
        "from sklearn.model_selection import train_test_split\n",
        "\n",
        "test_split = 0.2\n",
        "\n",
        "X_train, X_test, y_train, y_test = train_test_split(X, y, test_size=test_split, stratify=y)"
      ],
      "metadata": {
        "id": "whkw8UnOtLEo"
      },
      "execution_count": 43,
      "outputs": []
    },
    {
      "cell_type": "code",
      "source": [
        "print('Label Distribution in the training data')\n",
        "print(np.unique(y_train, return_counts=True))\n",
        "print('*'*50)\n",
        "print('Label Distribution in the testing data')\n",
        "print(np.unique(y_test, return_counts=True))"
      ],
      "metadata": {
        "colab": {
          "base_uri": "https://localhost:8080/"
        },
        "id": "6IbL-1lctsul",
        "outputId": "13dce48d-39ad-4fd3-86a6-49ea2cb2537e"
      },
      "execution_count": 44,
      "outputs": [
        {
          "output_type": "stream",
          "name": "stdout",
          "text": [
            "Label Distribution in the training data\n",
            "(array([0, 1]), array([2975,  235]))\n",
            "**************************************************\n",
            "Label Distribution in the testing data\n",
            "(array([0, 1]), array([744,  59]))\n"
          ]
        }
      ]
    },
    {
      "cell_type": "markdown",
      "source": [
        "Now that the text has been converted into features, we can model the data "
      ],
      "metadata": {
        "id": "gN7fp4cz1RmW"
      }
    },
    {
      "cell_type": "markdown",
      "source": [
        "## Machine Learning Models\n",
        "\n",
        "The dataset at hand is so imbalanced that accuracy on the predictions is not a good metric to judge a model. We'll use Classification Report, and more importantly F1 Score for model comparison. Also to note, we want to reduce False negatives as much as we can, we don't want to classify a doc non-adverse event if it's in fact a adverse-event related"
      ],
      "metadata": {
        "id": "ct0MQsp-9VZm"
      }
    },
    {
      "cell_type": "code",
      "source": [
        "from sklearn.metrics import classification_report, confusion_matrix, accuracy_score"
      ],
      "metadata": {
        "id": "xbL9ADUE9eyl"
      },
      "execution_count": 45,
      "outputs": []
    },
    {
      "cell_type": "markdown",
      "source": [
        "### Experiment 1 - Random Forest"
      ],
      "metadata": {
        "id": "mpw7p8jn7m6G"
      }
    },
    {
      "cell_type": "code",
      "source": [
        "from sklearn.ensemble import RandomForestClassifier\n",
        "\n",
        "# Experiment Name\n",
        "exp_name1 = 'Random Forest'\n",
        "\n",
        "# Initialize the model\n",
        "classifier = RandomForestClassifier(n_estimators=1000, random_state=0)\n",
        "\n",
        "# Fit the model to the data\n",
        "classifier.fit(X_train, y_train)\n",
        "\n",
        "# Generate predictions\n",
        "y_pred = classifier.predict(X_test)\n",
        "\n",
        "# Prepare Classification Report\n",
        "exp_confusion_matrix = confusion_matrix(y_test,y_pred)\n",
        "exp_clf_report = classification_report(y_test,y_pred, output_dict=True)\n",
        "print(exp_confusion_matrix)\n",
        "print('\\n')\n",
        "print(pd.DataFrame(exp_clf_report))\n",
        "\n",
        "prepare_exp_report(EXPERIMENT_RESULTS, \n",
        "                    exp_name1, \n",
        "                    parse_confusion_matrix(exp_confusion_matrix), \n",
        "                    parse_clf_report(exp_clf_report))"
      ],
      "metadata": {
        "id": "uq-ffFeG8dQR",
        "colab": {
          "base_uri": "https://localhost:8080/"
        },
        "outputId": "bea50e94-6162-4a9e-a08b-552416c42117"
      },
      "execution_count": 46,
      "outputs": [
        {
          "output_type": "stream",
          "name": "stdout",
          "text": [
            "[[742   2]\n",
            " [ 30  29]]\n",
            "\n",
            "\n",
            "                    0          1  accuracy   macro avg  weighted avg\n",
            "precision    0.961140   0.935484  0.960149    0.948312      0.959255\n",
            "recall       0.997312   0.491525  0.960149    0.744419      0.960149\n",
            "f1-score     0.978892   0.644444  0.960149    0.811668      0.954318\n",
            "support    744.000000  59.000000  0.960149  803.000000    803.000000\n"
          ]
        }
      ]
    },
    {
      "cell_type": "markdown",
      "source": [
        "Performance on 0s is satisfactory, but 1s are pretty terrible!"
      ],
      "metadata": {
        "id": "GkS6TwQ6AJNh"
      }
    },
    {
      "cell_type": "markdown",
      "source": [
        "### Experiment 2 - Multinomial NB"
      ],
      "metadata": {
        "id": "uIgGqJtE_yHF"
      }
    },
    {
      "cell_type": "code",
      "source": [
        "from sklearn.naive_bayes import MultinomialNB\n",
        "\n",
        "# Model Name\n",
        "exp_name2 = 'Multinomial Naive Bayes'\n",
        "\n",
        "# Initialize the model\n",
        "classifier = MultinomialNB()\n",
        "\n",
        "# Fit the model to the data\n",
        "classifier.fit(X_train, y_train)\n",
        "\n",
        "# Generate predictions\n",
        "y_pred = classifier.predict(X_test)\n",
        "\n",
        "# Prepare Classification Report\n",
        "exp_confusion_matrix = confusion_matrix(y_test,y_pred)\n",
        "exp_clf_report = classification_report(y_test,y_pred, output_dict=True)\n",
        "print(exp_confusion_matrix)\n",
        "print('\\n')\n",
        "print(pd.DataFrame(exp_clf_report))\n",
        "\n",
        "prepare_exp_report(EXPERIMENT_RESULTS, \n",
        "                    exp_name2, \n",
        "                    parse_confusion_matrix(exp_confusion_matrix), \n",
        "                    parse_clf_report(exp_clf_report))"
      ],
      "metadata": {
        "colab": {
          "base_uri": "https://localhost:8080/"
        },
        "id": "sEbGejyD_7qM",
        "outputId": "f80ad0a5-7b7a-4872-9497-6b417f2cffb4"
      },
      "execution_count": 47,
      "outputs": [
        {
          "output_type": "stream",
          "name": "stdout",
          "text": [
            "[[734  10]\n",
            " [ 39  20]]\n",
            "\n",
            "\n",
            "                    0          1  accuracy   macro avg  weighted avg\n",
            "precision    0.949547   0.666667  0.938979    0.808107      0.928763\n",
            "recall       0.986559   0.338983  0.938979    0.662771      0.938979\n",
            "f1-score     0.967699   0.449438  0.938979    0.708569      0.929620\n",
            "support    744.000000  59.000000  0.938979  803.000000    803.000000\n"
          ]
        }
      ]
    },
    {
      "cell_type": "markdown",
      "source": [
        "Even worse!"
      ],
      "metadata": {
        "id": "kpxGJZjyAUAc"
      }
    },
    {
      "cell_type": "markdown",
      "source": [
        "### Experiment 3 - SVM : SGD Classifier"
      ],
      "metadata": {
        "id": "MFDKers2x3GH"
      }
    },
    {
      "cell_type": "code",
      "source": [
        "from sklearn.linear_model import SGDClassifier\n",
        "\n",
        "# Model Name\n",
        "exp_name3 = 'SVM'\n",
        "\n",
        "# Initialize the model\n",
        "classifier = SGDClassifier(loss='hinge', penalty='l2', alpha=1e-3, max_iter=5, random_state=42)\n",
        "\n",
        "# Fit the model to the data\n",
        "classifier.fit(X_train, y_train)\n",
        "\n",
        "# Generate predictions\n",
        "y_pred = classifier.predict(X_test)\n",
        "\n",
        "# Prepare Classification Report\n",
        "exp_confusion_matrix = confusion_matrix(y_test,y_pred)\n",
        "exp_clf_report = classification_report(y_test,y_pred, output_dict=True)\n",
        "print(exp_confusion_matrix)\n",
        "print('\\n')\n",
        "print(pd.DataFrame(exp_clf_report))\n",
        "\n",
        "prepare_exp_report(EXPERIMENT_RESULTS, \n",
        "                    exp_name3, \n",
        "                    parse_confusion_matrix(exp_confusion_matrix), \n",
        "                    parse_clf_report(exp_clf_report))"
      ],
      "metadata": {
        "colab": {
          "base_uri": "https://localhost:8080/"
        },
        "id": "o7yPs8UzyL6p",
        "outputId": "535d0f1d-ca22-4b80-fa37-675500962bc6"
      },
      "execution_count": 48,
      "outputs": [
        {
          "output_type": "stream",
          "name": "stdout",
          "text": [
            "[[742   2]\n",
            " [ 51   8]]\n",
            "\n",
            "\n",
            "                    0          1  accuracy   macro avg  weighted avg\n",
            "precision    0.935687   0.800000  0.933998    0.867844      0.925718\n",
            "recall       0.997312   0.135593  0.933998    0.566453      0.933998\n",
            "f1-score     0.965517   0.231884  0.933998    0.598701      0.911614\n",
            "support    744.000000  59.000000  0.933998  803.000000    803.000000\n"
          ]
        },
        {
          "output_type": "stream",
          "name": "stderr",
          "text": [
            "/usr/local/lib/python3.7/dist-packages/sklearn/linear_model/_stochastic_gradient.py:700: ConvergenceWarning: Maximum number of iteration reached before convergence. Consider increasing max_iter to improve the fit.\n",
            "  ConvergenceWarning,\n"
          ]
        }
      ]
    },
    {
      "cell_type": "markdown",
      "source": [
        "Better performance than MNB, but worse than Random Forest"
      ],
      "metadata": {
        "id": "NeT6YcXFyuP7"
      }
    },
    {
      "cell_type": "markdown",
      "source": [
        "### Experiment 4 - K-Nearest Neighbors"
      ],
      "metadata": {
        "id": "NVJAcADwzWaE"
      }
    },
    {
      "cell_type": "code",
      "source": [
        "from sklearn.neighbors import KNeighborsClassifier\n",
        "\n",
        "# Model Name\n",
        "exp_name4 = 'k-NN'\n",
        "\n",
        "# Initialize the model\n",
        "classifier = KNeighborsClassifier(n_neighbors=2)\n",
        "\n",
        "# Fit the model to the data\n",
        "classifier.fit(X_train, y_train)\n",
        "\n",
        "# Generate predictions\n",
        "y_pred = classifier.predict(X_test)\n",
        "\n",
        "# Prepare Classification Report\n",
        "exp_confusion_matrix = confusion_matrix(y_test,y_pred)\n",
        "exp_clf_report = classification_report(y_test,y_pred, output_dict=True)\n",
        "print(exp_confusion_matrix)\n",
        "print('\\n')\n",
        "print(pd.DataFrame(exp_clf_report))\n",
        "\n",
        "prepare_exp_report(EXPERIMENT_RESULTS, \n",
        "                    exp_name4, \n",
        "                    parse_confusion_matrix(exp_confusion_matrix), \n",
        "                    parse_clf_report(exp_clf_report))"
      ],
      "metadata": {
        "colab": {
          "base_uri": "https://localhost:8080/"
        },
        "id": "AfyxEVC41nuM",
        "outputId": "2a25794f-4f00-4433-ab30-48ebeef4922e"
      },
      "execution_count": 49,
      "outputs": [
        {
          "output_type": "stream",
          "name": "stdout",
          "text": [
            "[[733  11]\n",
            " [ 35  24]]\n",
            "\n",
            "\n",
            "                    0          1  accuracy   macro avg  weighted avg\n",
            "precision    0.954427   0.685714  0.942715    0.820071      0.934684\n",
            "recall       0.985215   0.406780  0.942715    0.695997      0.942715\n",
            "f1-score     0.969577   0.510638  0.942715    0.740108      0.935856\n",
            "support    744.000000  59.000000  0.942715  803.000000    803.000000\n"
          ]
        }
      ]
    },
    {
      "cell_type": "markdown",
      "source": [
        "Not a good idea, TBH!"
      ],
      "metadata": {
        "id": "BDJ7zaZ_1pZa"
      }
    },
    {
      "cell_type": "markdown",
      "source": [
        "### Experiment 5 - Decision Trees"
      ],
      "metadata": {
        "id": "nSDuf6we2jOm"
      }
    },
    {
      "cell_type": "code",
      "source": [
        "from sklearn.tree import DecisionTreeClassifier\n",
        "\n",
        "# Model Name\n",
        "exp_name5 = 'Decision Tree'\n",
        "\n",
        "# Initialize the model\n",
        "classifier = DecisionTreeClassifier(max_depth=5)\n",
        "\n",
        "# Fit the model to the data\n",
        "classifier.fit(X_train, y_train)\n",
        "\n",
        "# Generate predictions\n",
        "y_pred = classifier.predict(X_test)\n",
        "\n",
        "# Prepare Classification Report\n",
        "exp_confusion_matrix = confusion_matrix(y_test,y_pred)\n",
        "exp_clf_report = classification_report(y_test,y_pred, output_dict=True)\n",
        "print(exp_confusion_matrix)\n",
        "print('\\n')\n",
        "print(pd.DataFrame(exp_clf_report))\n",
        "\n",
        "prepare_exp_report(EXPERIMENT_RESULTS, \n",
        "                    exp_name5, \n",
        "                    parse_confusion_matrix(exp_confusion_matrix), \n",
        "                    parse_clf_report(exp_clf_report))"
      ],
      "metadata": {
        "colab": {
          "base_uri": "https://localhost:8080/"
        },
        "id": "Fc6ShnPM2sxK",
        "outputId": "b73aaafd-9ae5-4287-9de0-ed2fa48b55b6"
      },
      "execution_count": 50,
      "outputs": [
        {
          "output_type": "stream",
          "name": "stdout",
          "text": [
            "[[732  12]\n",
            " [ 42  17]]\n",
            "\n",
            "\n",
            "                    0          1  accuracy   macro avg  weighted avg\n",
            "precision    0.945736   0.586207  0.932752    0.765972      0.919320\n",
            "recall       0.983871   0.288136  0.932752    0.636003      0.932752\n",
            "f1-score     0.964427   0.386364  0.932752    0.675395      0.921954\n",
            "support    744.000000  59.000000  0.932752  803.000000    803.000000\n"
          ]
        }
      ]
    },
    {
      "cell_type": "markdown",
      "source": [
        "A single tree is not working better than a Random Forest. Proves some theories 😀"
      ],
      "metadata": {
        "id": "vxSPj8234WPL"
      }
    },
    {
      "cell_type": "markdown",
      "source": [
        "### Experiment 6 - AdaBoost (discrete SAMME)"
      ],
      "metadata": {
        "id": "PwbVy2JO49ru"
      }
    },
    {
      "cell_type": "code",
      "source": [
        "from sklearn.ensemble import AdaBoostClassifier\n",
        "\n",
        "# Experiment Name\n",
        "exp_name6 = 'Adaboost (Discrete SAMME)'\n",
        "\n",
        "# Base Model for boosting\n",
        "base_model = DecisionTreeClassifier(max_depth=9, min_samples_leaf=1)\n",
        "\n",
        "# Initialize the model\n",
        "classifier = AdaBoostClassifier(\n",
        "    base_estimator=base_model,\n",
        "    learning_rate=1.0,\n",
        "    n_estimators=400,\n",
        "    algorithm=\"SAMME\",\n",
        ")\n",
        "\n",
        "# Fit the model to the data\n",
        "classifier.fit(X_train, y_train)\n",
        "\n",
        "# Generate predictions\n",
        "y_pred = classifier.predict(X_test)\n",
        "\n",
        "# Prepare Classification Report\n",
        "exp_confusion_matrix = confusion_matrix(y_test,y_pred)\n",
        "exp_clf_report = classification_report(y_test,y_pred, output_dict=True)\n",
        "print(exp_confusion_matrix)\n",
        "print('\\n')\n",
        "print(pd.DataFrame(exp_clf_report))\n",
        "\n",
        "prepare_exp_report(EXPERIMENT_RESULTS, \n",
        "                    exp_name6, \n",
        "                    parse_confusion_matrix(exp_confusion_matrix), \n",
        "                    parse_clf_report(exp_clf_report))"
      ],
      "metadata": {
        "colab": {
          "base_uri": "https://localhost:8080/"
        },
        "id": "8Ob2KuuT5kR9",
        "outputId": "9ba38543-d9aa-4740-e747-fcd810cfacdf"
      },
      "execution_count": 51,
      "outputs": [
        {
          "output_type": "stream",
          "name": "stdout",
          "text": [
            "[[733  11]\n",
            " [ 26  33]]\n",
            "\n",
            "\n",
            "                    0          1  accuracy   macro avg  weighted avg\n",
            "precision    0.965744   0.750000  0.953923    0.857872      0.949893\n",
            "recall       0.985215   0.559322  0.953923    0.772269      0.953923\n",
            "f1-score     0.975383   0.640777  0.953923    0.808080      0.950798\n",
            "support    744.000000  59.000000  0.953923  803.000000    803.000000\n"
          ]
        }
      ]
    },
    {
      "cell_type": "markdown",
      "source": [
        "That's a considerable improvement!"
      ],
      "metadata": {
        "id": "FYQr_S4O71Na"
      }
    },
    {
      "cell_type": "markdown",
      "source": [
        "### Experiment 7 - AdaBoost (real SAMME.R)"
      ],
      "metadata": {
        "id": "Mm9JmIpm6ycF"
      }
    },
    {
      "cell_type": "code",
      "source": [
        "from sklearn.ensemble import AdaBoostClassifier\n",
        "\n",
        "# Experiment Name\n",
        "exp_name7 = 'Adaboost (Real SAMME.R)'\n",
        "\n",
        "# Base Model for boosting\n",
        "base_model = DecisionTreeClassifier(max_depth=9, min_samples_leaf=1)\n",
        "\n",
        "# Initialize the model\n",
        "classifier = AdaBoostClassifier(\n",
        "    base_estimator=base_model,\n",
        "    learning_rate=1.0,\n",
        "    n_estimators=400,\n",
        "    algorithm=\"SAMME.R\",\n",
        ")\n",
        "\n",
        "# Fit the model to the data\n",
        "classifier.fit(X_train, y_train)\n",
        "\n",
        "# Generate predictions\n",
        "y_pred = classifier.predict(X_test)\n",
        "\n",
        "# Prepare Classification Report\n",
        "exp_confusion_matrix = confusion_matrix(y_test,y_pred)\n",
        "exp_clf_report = classification_report(y_test,y_pred, output_dict=True)\n",
        "print(exp_confusion_matrix)\n",
        "print('\\n')\n",
        "print(pd.DataFrame(exp_clf_report))\n",
        "\n",
        "prepare_exp_report(EXPERIMENT_RESULTS, \n",
        "                    exp_name7, \n",
        "                    parse_confusion_matrix(exp_confusion_matrix), \n",
        "                    parse_clf_report(exp_clf_report))"
      ],
      "metadata": {
        "colab": {
          "base_uri": "https://localhost:8080/"
        },
        "id": "nNZMNRZN7TxL",
        "outputId": "1ff12094-42cd-431e-f610-a9a9a9b308bb"
      },
      "execution_count": 52,
      "outputs": [
        {
          "output_type": "stream",
          "name": "stdout",
          "text": [
            "[[740   4]\n",
            " [ 26  33]]\n",
            "\n",
            "\n",
            "                    0          1  accuracy   macro avg  weighted avg\n",
            "precision    0.966057   0.891892   0.96264    0.928975      0.960608\n",
            "recall       0.994624   0.559322   0.96264    0.776973      0.962640\n",
            "f1-score     0.980132   0.687500   0.96264    0.833816      0.958631\n",
            "support    744.000000  59.000000   0.96264  803.000000    803.000000\n"
          ]
        }
      ]
    },
    {
      "cell_type": "markdown",
      "source": [
        "Worse than discrete SAMME algorithm, but still better than other models"
      ],
      "metadata": {
        "id": "XedEJ3zL75_-"
      }
    },
    {
      "cell_type": "markdown",
      "source": [
        "### Experiment 8 - Voting Classifier\n",
        "\n",
        "Voting Classifiers take votes from individual algorithms (panel experts!) about the classification and make decision based on the voting type (Hard or Soft). \n",
        "\n",
        "Difference b/w Hard and Soft Voting - Hard voting involves summing the predictions for each class label and predicting the class label with the most votes. Soft voting involves summing the predicted probabilities (or probability-like scores) for each class label and predicting the class label with the largest probability."
      ],
      "metadata": {
        "id": "5ErydheoKyQB"
      }
    },
    {
      "cell_type": "code",
      "source": [
        "from sklearn.ensemble import VotingClassifier\n",
        "\n",
        "# Experiment Name\n",
        "exp_name8 = 'Voting Classifier'\n",
        "\n",
        "# Model 1 : Adaboost with SAMME.R\n",
        "base_model = DecisionTreeClassifier(max_depth=9, min_samples_leaf=1)\n",
        "\n",
        "adaboost_clf = AdaBoostClassifier(\n",
        "    base_estimator=base_model,\n",
        "    learning_rate=1.0,\n",
        "    n_estimators=400,\n",
        "    algorithm=\"SAMME.R\",\n",
        ")\n",
        "\n",
        "# Model 2 : Decision Trees\n",
        "dt_clf = DecisionTreeClassifier(max_depth=5)\n",
        "\n",
        "# Model 3 : Random Forest\n",
        "rf_clf = RandomForestClassifier(n_estimators=1000, random_state=0)\n",
        "\n",
        "# Initialize the classifer\n",
        "voting_clf = VotingClassifier(estimators=[('Adaboost', adaboost_clf), ('DTree', dt_clf), ('RF', rf_clf)], voting='hard')\n",
        "\n",
        "# Fit the model to the data\n",
        "voting_clf.fit(X_train, y_train)\n",
        "\n",
        "# Generate predictions\n",
        "y_pred = voting_clf.predict(X_test)\n",
        "\n",
        "# Prepare Classification Report\n",
        "exp_confusion_matrix = confusion_matrix(y_test,y_pred)\n",
        "exp_clf_report = classification_report(y_test,y_pred, output_dict=True)\n",
        "print(exp_confusion_matrix)\n",
        "print('\\n')\n",
        "print(pd.DataFrame(exp_clf_report))\n",
        "\n",
        "prepare_exp_report(EXPERIMENT_RESULTS, \n",
        "                    exp_name8, \n",
        "                    parse_confusion_matrix(exp_confusion_matrix), \n",
        "                    parse_clf_report(exp_clf_report))"
      ],
      "metadata": {
        "colab": {
          "base_uri": "https://localhost:8080/"
        },
        "id": "dHoZtHXMK25o",
        "outputId": "5cf62a95-919e-4a89-9bee-ffc87beddd42"
      },
      "execution_count": 53,
      "outputs": [
        {
          "output_type": "stream",
          "name": "stdout",
          "text": [
            "[[741   3]\n",
            " [ 28  31]]\n",
            "\n",
            "\n",
            "                    0          1  accuracy   macro avg  weighted avg\n",
            "precision    0.963589   0.911765  0.961395    0.937677      0.959781\n",
            "recall       0.995968   0.525424  0.961395    0.760696      0.961395\n",
            "f1-score     0.979511   0.666667  0.961395    0.823089      0.956525\n",
            "support    744.000000  59.000000  0.961395  803.000000    803.000000\n"
          ]
        }
      ]
    },
    {
      "cell_type": "code",
      "source": [
        "SCHEMA = ['Experiment Name', 'True Positives', 'True Negatives', 'False Positives', \n",
        "          'False Negatives', 'Overall F1 Score','Overall Precision','Overall Recall',\n",
        "          'F1 for Positives Records','Precision for Positive Records', 'Recall for Positive Records']\n",
        "\n",
        "\n",
        "pd.DataFrame(EXPERIMENT_RESULTS, columns=SCHEMA)"
      ],
      "metadata": {
        "id": "i6wxJPYlR51d",
        "colab": {
          "base_uri": "https://localhost:8080/",
          "height": 448
        },
        "outputId": "0cf58c16-4566-4fa0-e0b5-b56efa70e11b"
      },
      "execution_count": 55,
      "outputs": [
        {
          "output_type": "execute_result",
          "data": {
            "text/plain": [
              "             Experiment Name  True Positives  True Negatives  False Positives  \\\n",
              "0              Random Forest             742              29               30   \n",
              "1    Multinomial Naive Bayes             734              20               39   \n",
              "2                        SVM             742               8               51   \n",
              "3                       k-NN             733              24               35   \n",
              "4              Decision Tree             732              17               42   \n",
              "5  Adaboost (Discrete SAMME)             733              33               26   \n",
              "6    Adaboost (Real SAMME.R)             740              33               26   \n",
              "7          Voting Classifier             741              31               28   \n",
              "\n",
              "   False Negatives  Overall F1 Score  Overall Precision  Overall Recall  \\\n",
              "0                2          0.954318           0.959255        0.960149   \n",
              "1               10          0.929620           0.928763        0.938979   \n",
              "2                2          0.911614           0.925718        0.933998   \n",
              "3               11          0.935856           0.934684        0.942715   \n",
              "4               12          0.921954           0.919320        0.932752   \n",
              "5               11          0.950798           0.949893        0.953923   \n",
              "6                4          0.958631           0.960608        0.962640   \n",
              "7                3          0.956525           0.959781        0.961395   \n",
              "\n",
              "   F1 for Positives Records  Precision for Positive Records  \\\n",
              "0                  0.644444                        0.935484   \n",
              "1                  0.449438                        0.666667   \n",
              "2                  0.231884                        0.800000   \n",
              "3                  0.510638                        0.685714   \n",
              "4                  0.386364                        0.586207   \n",
              "5                  0.640777                        0.750000   \n",
              "6                  0.687500                        0.891892   \n",
              "7                  0.666667                        0.911765   \n",
              "\n",
              "   Recall for Positive Records  \n",
              "0                     0.491525  \n",
              "1                     0.338983  \n",
              "2                     0.135593  \n",
              "3                     0.406780  \n",
              "4                     0.288136  \n",
              "5                     0.559322  \n",
              "6                     0.559322  \n",
              "7                     0.525424  "
            ],
            "text/html": [
              "\n",
              "  <div id=\"df-5ccc9c22-574e-4701-b550-ca7d6e2872d1\">\n",
              "    <div class=\"colab-df-container\">\n",
              "      <div>\n",
              "<style scoped>\n",
              "    .dataframe tbody tr th:only-of-type {\n",
              "        vertical-align: middle;\n",
              "    }\n",
              "\n",
              "    .dataframe tbody tr th {\n",
              "        vertical-align: top;\n",
              "    }\n",
              "\n",
              "    .dataframe thead th {\n",
              "        text-align: right;\n",
              "    }\n",
              "</style>\n",
              "<table border=\"1\" class=\"dataframe\">\n",
              "  <thead>\n",
              "    <tr style=\"text-align: right;\">\n",
              "      <th></th>\n",
              "      <th>Experiment Name</th>\n",
              "      <th>True Positives</th>\n",
              "      <th>True Negatives</th>\n",
              "      <th>False Positives</th>\n",
              "      <th>False Negatives</th>\n",
              "      <th>Overall F1 Score</th>\n",
              "      <th>Overall Precision</th>\n",
              "      <th>Overall Recall</th>\n",
              "      <th>F1 for Positives Records</th>\n",
              "      <th>Precision for Positive Records</th>\n",
              "      <th>Recall for Positive Records</th>\n",
              "    </tr>\n",
              "  </thead>\n",
              "  <tbody>\n",
              "    <tr>\n",
              "      <th>0</th>\n",
              "      <td>Random Forest</td>\n",
              "      <td>742</td>\n",
              "      <td>29</td>\n",
              "      <td>30</td>\n",
              "      <td>2</td>\n",
              "      <td>0.954318</td>\n",
              "      <td>0.959255</td>\n",
              "      <td>0.960149</td>\n",
              "      <td>0.644444</td>\n",
              "      <td>0.935484</td>\n",
              "      <td>0.491525</td>\n",
              "    </tr>\n",
              "    <tr>\n",
              "      <th>1</th>\n",
              "      <td>Multinomial Naive Bayes</td>\n",
              "      <td>734</td>\n",
              "      <td>20</td>\n",
              "      <td>39</td>\n",
              "      <td>10</td>\n",
              "      <td>0.929620</td>\n",
              "      <td>0.928763</td>\n",
              "      <td>0.938979</td>\n",
              "      <td>0.449438</td>\n",
              "      <td>0.666667</td>\n",
              "      <td>0.338983</td>\n",
              "    </tr>\n",
              "    <tr>\n",
              "      <th>2</th>\n",
              "      <td>SVM</td>\n",
              "      <td>742</td>\n",
              "      <td>8</td>\n",
              "      <td>51</td>\n",
              "      <td>2</td>\n",
              "      <td>0.911614</td>\n",
              "      <td>0.925718</td>\n",
              "      <td>0.933998</td>\n",
              "      <td>0.231884</td>\n",
              "      <td>0.800000</td>\n",
              "      <td>0.135593</td>\n",
              "    </tr>\n",
              "    <tr>\n",
              "      <th>3</th>\n",
              "      <td>k-NN</td>\n",
              "      <td>733</td>\n",
              "      <td>24</td>\n",
              "      <td>35</td>\n",
              "      <td>11</td>\n",
              "      <td>0.935856</td>\n",
              "      <td>0.934684</td>\n",
              "      <td>0.942715</td>\n",
              "      <td>0.510638</td>\n",
              "      <td>0.685714</td>\n",
              "      <td>0.406780</td>\n",
              "    </tr>\n",
              "    <tr>\n",
              "      <th>4</th>\n",
              "      <td>Decision Tree</td>\n",
              "      <td>732</td>\n",
              "      <td>17</td>\n",
              "      <td>42</td>\n",
              "      <td>12</td>\n",
              "      <td>0.921954</td>\n",
              "      <td>0.919320</td>\n",
              "      <td>0.932752</td>\n",
              "      <td>0.386364</td>\n",
              "      <td>0.586207</td>\n",
              "      <td>0.288136</td>\n",
              "    </tr>\n",
              "    <tr>\n",
              "      <th>5</th>\n",
              "      <td>Adaboost (Discrete SAMME)</td>\n",
              "      <td>733</td>\n",
              "      <td>33</td>\n",
              "      <td>26</td>\n",
              "      <td>11</td>\n",
              "      <td>0.950798</td>\n",
              "      <td>0.949893</td>\n",
              "      <td>0.953923</td>\n",
              "      <td>0.640777</td>\n",
              "      <td>0.750000</td>\n",
              "      <td>0.559322</td>\n",
              "    </tr>\n",
              "    <tr>\n",
              "      <th>6</th>\n",
              "      <td>Adaboost (Real SAMME.R)</td>\n",
              "      <td>740</td>\n",
              "      <td>33</td>\n",
              "      <td>26</td>\n",
              "      <td>4</td>\n",
              "      <td>0.958631</td>\n",
              "      <td>0.960608</td>\n",
              "      <td>0.962640</td>\n",
              "      <td>0.687500</td>\n",
              "      <td>0.891892</td>\n",
              "      <td>0.559322</td>\n",
              "    </tr>\n",
              "    <tr>\n",
              "      <th>7</th>\n",
              "      <td>Voting Classifier</td>\n",
              "      <td>741</td>\n",
              "      <td>31</td>\n",
              "      <td>28</td>\n",
              "      <td>3</td>\n",
              "      <td>0.956525</td>\n",
              "      <td>0.959781</td>\n",
              "      <td>0.961395</td>\n",
              "      <td>0.666667</td>\n",
              "      <td>0.911765</td>\n",
              "      <td>0.525424</td>\n",
              "    </tr>\n",
              "  </tbody>\n",
              "</table>\n",
              "</div>\n",
              "      <button class=\"colab-df-convert\" onclick=\"convertToInteractive('df-5ccc9c22-574e-4701-b550-ca7d6e2872d1')\"\n",
              "              title=\"Convert this dataframe to an interactive table.\"\n",
              "              style=\"display:none;\">\n",
              "        \n",
              "  <svg xmlns=\"http://www.w3.org/2000/svg\" height=\"24px\"viewBox=\"0 0 24 24\"\n",
              "       width=\"24px\">\n",
              "    <path d=\"M0 0h24v24H0V0z\" fill=\"none\"/>\n",
              "    <path d=\"M18.56 5.44l.94 2.06.94-2.06 2.06-.94-2.06-.94-.94-2.06-.94 2.06-2.06.94zm-11 1L8.5 8.5l.94-2.06 2.06-.94-2.06-.94L8.5 2.5l-.94 2.06-2.06.94zm10 10l.94 2.06.94-2.06 2.06-.94-2.06-.94-.94-2.06-.94 2.06-2.06.94z\"/><path d=\"M17.41 7.96l-1.37-1.37c-.4-.4-.92-.59-1.43-.59-.52 0-1.04.2-1.43.59L10.3 9.45l-7.72 7.72c-.78.78-.78 2.05 0 2.83L4 21.41c.39.39.9.59 1.41.59.51 0 1.02-.2 1.41-.59l7.78-7.78 2.81-2.81c.8-.78.8-2.07 0-2.86zM5.41 20L4 18.59l7.72-7.72 1.47 1.35L5.41 20z\"/>\n",
              "  </svg>\n",
              "      </button>\n",
              "      \n",
              "  <style>\n",
              "    .colab-df-container {\n",
              "      display:flex;\n",
              "      flex-wrap:wrap;\n",
              "      gap: 12px;\n",
              "    }\n",
              "\n",
              "    .colab-df-convert {\n",
              "      background-color: #E8F0FE;\n",
              "      border: none;\n",
              "      border-radius: 50%;\n",
              "      cursor: pointer;\n",
              "      display: none;\n",
              "      fill: #1967D2;\n",
              "      height: 32px;\n",
              "      padding: 0 0 0 0;\n",
              "      width: 32px;\n",
              "    }\n",
              "\n",
              "    .colab-df-convert:hover {\n",
              "      background-color: #E2EBFA;\n",
              "      box-shadow: 0px 1px 2px rgba(60, 64, 67, 0.3), 0px 1px 3px 1px rgba(60, 64, 67, 0.15);\n",
              "      fill: #174EA6;\n",
              "    }\n",
              "\n",
              "    [theme=dark] .colab-df-convert {\n",
              "      background-color: #3B4455;\n",
              "      fill: #D2E3FC;\n",
              "    }\n",
              "\n",
              "    [theme=dark] .colab-df-convert:hover {\n",
              "      background-color: #434B5C;\n",
              "      box-shadow: 0px 1px 3px 1px rgba(0, 0, 0, 0.15);\n",
              "      filter: drop-shadow(0px 1px 2px rgba(0, 0, 0, 0.3));\n",
              "      fill: #FFFFFF;\n",
              "    }\n",
              "  </style>\n",
              "\n",
              "      <script>\n",
              "        const buttonEl =\n",
              "          document.querySelector('#df-5ccc9c22-574e-4701-b550-ca7d6e2872d1 button.colab-df-convert');\n",
              "        buttonEl.style.display =\n",
              "          google.colab.kernel.accessAllowed ? 'block' : 'none';\n",
              "\n",
              "        async function convertToInteractive(key) {\n",
              "          const element = document.querySelector('#df-5ccc9c22-574e-4701-b550-ca7d6e2872d1');\n",
              "          const dataTable =\n",
              "            await google.colab.kernel.invokeFunction('convertToInteractive',\n",
              "                                                     [key], {});\n",
              "          if (!dataTable) return;\n",
              "\n",
              "          const docLinkHtml = 'Like what you see? Visit the ' +\n",
              "            '<a target=\"_blank\" href=https://colab.research.google.com/notebooks/data_table.ipynb>data table notebook</a>'\n",
              "            + ' to learn more about interactive tables.';\n",
              "          element.innerHTML = '';\n",
              "          dataTable['output_type'] = 'display_data';\n",
              "          await google.colab.output.renderOutput(dataTable, element);\n",
              "          const docLink = document.createElement('div');\n",
              "          docLink.innerHTML = docLinkHtml;\n",
              "          element.appendChild(docLink);\n",
              "        }\n",
              "      </script>\n",
              "    </div>\n",
              "  </div>\n",
              "  "
            ]
          },
          "metadata": {},
          "execution_count": 55
        }
      ]
    }
  ]
}