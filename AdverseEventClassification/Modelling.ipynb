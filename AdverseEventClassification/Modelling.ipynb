{
  "nbformat": 4,
  "nbformat_minor": 0,
  "metadata": {
    "colab": {
      "name": "Modelling.ipynb",
      "provenance": [],
      "authorship_tag": "ABX9TyPZkxnFpYWZCs+CYrYGiEpm"
    },
    "kernelspec": {
      "name": "python3",
      "display_name": "Python 3"
    },
    "language_info": {
      "name": "python"
    }
  },
  "cells": [
    {
      "cell_type": "markdown",
      "source": [
        "### Download the data"
      ],
      "metadata": {
        "id": "iEICroIunbrH"
      }
    },
    {
      "cell_type": "code",
      "source": [
        "!wget https://raw.githubusercontent.com/suvigyajain0101/CaseStudies/main/AdverseEventClassification/Data/AE_Data.csv"
      ],
      "metadata": {
        "colab": {
          "base_uri": "https://localhost:8080/"
        },
        "id": "v0qHYHSpni9w",
        "outputId": "83a47824-4641-4047-a04f-f0adb7b28653"
      },
      "execution_count": 24,
      "outputs": [
        {
          "output_type": "stream",
          "name": "stdout",
          "text": [
            "--2022-08-18 20:39:46--  https://raw.githubusercontent.com/suvigyajain0101/CaseStudies/main/AdverseEventClassification/Data/AE_Data.csv\n",
            "Resolving raw.githubusercontent.com (raw.githubusercontent.com)... 185.199.111.133, 185.199.108.133, 185.199.110.133, ...\n",
            "Connecting to raw.githubusercontent.com (raw.githubusercontent.com)|185.199.111.133|:443... connected.\n",
            "HTTP request sent, awaiting response... 200 OK\n",
            "Length: 5998096 (5.7M) [text/plain]\n",
            "Saving to: ‘AE_Data.csv.2’\n",
            "\n",
            "\rAE_Data.csv.2         0%[                    ]       0  --.-KB/s               \rAE_Data.csv.2       100%[===================>]   5.72M  --.-KB/s    in 0.09s   \n",
            "\n",
            "2022-08-18 20:39:47 (63.4 MB/s) - ‘AE_Data.csv.2’ saved [5998096/5998096]\n",
            "\n"
          ]
        }
      ]
    },
    {
      "cell_type": "markdown",
      "source": [
        "### Import Libraries"
      ],
      "metadata": {
        "id": "jpdJtnronjPA"
      }
    },
    {
      "cell_type": "code",
      "source": [
        "import pandas as pd\n",
        "import numpy as np\n",
        "import re"
      ],
      "metadata": {
        "id": "deysFOmVnnSo"
      },
      "execution_count": 25,
      "outputs": []
    },
    {
      "cell_type": "code",
      "source": [
        "WORDS_TO_REMOVE = ['##padding##', 'ti-', 'ti -']"
      ],
      "metadata": {
        "id": "SjwD_F3KunMI"
      },
      "execution_count": 26,
      "outputs": []
    },
    {
      "cell_type": "code",
      "source": [
        "df = pd.read_csv('/content/AE_Data.csv')\n",
        "df.head()"
      ],
      "metadata": {
        "colab": {
          "base_uri": "https://localhost:8080/",
          "height": 206
        },
        "id": "0abX0Dx8no2-",
        "outputId": "dc88a7ef-e5f0-4483-aee4-f753b6e42bb1"
      },
      "execution_count": 27,
      "outputs": [
        {
          "output_type": "execute_result",
          "data": {
            "text/plain": [
              "                                               title  \\\n",
              "0  antimicrobial impacts of essential oils on foo...   \n",
              "1  purification and characterization of a cystein...   \n",
              "2  telavancin activity tested against gram-positi...   \n",
              "3  the in vitro antimicrobial activity of cymbopo...   \n",
              "4  screening currency notes for microbial pathoge...   \n",
              "\n",
              "                                            abstract  label  \n",
              "0  the antimicrobial activity of twelve essential...      0  \n",
              "1  antimicrobial peptide (amp) crustin is a type ...      0  \n",
              "2  objectives: to reassess the activity of telava...      0  \n",
              "3  background: it is well known that cymbopogon (...      0  \n",
              "4  fomites are a well-known source of microbial i...      0  "
            ],
            "text/html": [
              "\n",
              "  <div id=\"df-4110605b-864f-4809-9c8c-776111620d3c\">\n",
              "    <div class=\"colab-df-container\">\n",
              "      <div>\n",
              "<style scoped>\n",
              "    .dataframe tbody tr th:only-of-type {\n",
              "        vertical-align: middle;\n",
              "    }\n",
              "\n",
              "    .dataframe tbody tr th {\n",
              "        vertical-align: top;\n",
              "    }\n",
              "\n",
              "    .dataframe thead th {\n",
              "        text-align: right;\n",
              "    }\n",
              "</style>\n",
              "<table border=\"1\" class=\"dataframe\">\n",
              "  <thead>\n",
              "    <tr style=\"text-align: right;\">\n",
              "      <th></th>\n",
              "      <th>title</th>\n",
              "      <th>abstract</th>\n",
              "      <th>label</th>\n",
              "    </tr>\n",
              "  </thead>\n",
              "  <tbody>\n",
              "    <tr>\n",
              "      <th>0</th>\n",
              "      <td>antimicrobial impacts of essential oils on foo...</td>\n",
              "      <td>the antimicrobial activity of twelve essential...</td>\n",
              "      <td>0</td>\n",
              "    </tr>\n",
              "    <tr>\n",
              "      <th>1</th>\n",
              "      <td>purification and characterization of a cystein...</td>\n",
              "      <td>antimicrobial peptide (amp) crustin is a type ...</td>\n",
              "      <td>0</td>\n",
              "    </tr>\n",
              "    <tr>\n",
              "      <th>2</th>\n",
              "      <td>telavancin activity tested against gram-positi...</td>\n",
              "      <td>objectives: to reassess the activity of telava...</td>\n",
              "      <td>0</td>\n",
              "    </tr>\n",
              "    <tr>\n",
              "      <th>3</th>\n",
              "      <td>the in vitro antimicrobial activity of cymbopo...</td>\n",
              "      <td>background: it is well known that cymbopogon (...</td>\n",
              "      <td>0</td>\n",
              "    </tr>\n",
              "    <tr>\n",
              "      <th>4</th>\n",
              "      <td>screening currency notes for microbial pathoge...</td>\n",
              "      <td>fomites are a well-known source of microbial i...</td>\n",
              "      <td>0</td>\n",
              "    </tr>\n",
              "  </tbody>\n",
              "</table>\n",
              "</div>\n",
              "      <button class=\"colab-df-convert\" onclick=\"convertToInteractive('df-4110605b-864f-4809-9c8c-776111620d3c')\"\n",
              "              title=\"Convert this dataframe to an interactive table.\"\n",
              "              style=\"display:none;\">\n",
              "        \n",
              "  <svg xmlns=\"http://www.w3.org/2000/svg\" height=\"24px\"viewBox=\"0 0 24 24\"\n",
              "       width=\"24px\">\n",
              "    <path d=\"M0 0h24v24H0V0z\" fill=\"none\"/>\n",
              "    <path d=\"M18.56 5.44l.94 2.06.94-2.06 2.06-.94-2.06-.94-.94-2.06-.94 2.06-2.06.94zm-11 1L8.5 8.5l.94-2.06 2.06-.94-2.06-.94L8.5 2.5l-.94 2.06-2.06.94zm10 10l.94 2.06.94-2.06 2.06-.94-2.06-.94-.94-2.06-.94 2.06-2.06.94z\"/><path d=\"M17.41 7.96l-1.37-1.37c-.4-.4-.92-.59-1.43-.59-.52 0-1.04.2-1.43.59L10.3 9.45l-7.72 7.72c-.78.78-.78 2.05 0 2.83L4 21.41c.39.39.9.59 1.41.59.51 0 1.02-.2 1.41-.59l7.78-7.78 2.81-2.81c.8-.78.8-2.07 0-2.86zM5.41 20L4 18.59l7.72-7.72 1.47 1.35L5.41 20z\"/>\n",
              "  </svg>\n",
              "      </button>\n",
              "      \n",
              "  <style>\n",
              "    .colab-df-container {\n",
              "      display:flex;\n",
              "      flex-wrap:wrap;\n",
              "      gap: 12px;\n",
              "    }\n",
              "\n",
              "    .colab-df-convert {\n",
              "      background-color: #E8F0FE;\n",
              "      border: none;\n",
              "      border-radius: 50%;\n",
              "      cursor: pointer;\n",
              "      display: none;\n",
              "      fill: #1967D2;\n",
              "      height: 32px;\n",
              "      padding: 0 0 0 0;\n",
              "      width: 32px;\n",
              "    }\n",
              "\n",
              "    .colab-df-convert:hover {\n",
              "      background-color: #E2EBFA;\n",
              "      box-shadow: 0px 1px 2px rgba(60, 64, 67, 0.3), 0px 1px 3px 1px rgba(60, 64, 67, 0.15);\n",
              "      fill: #174EA6;\n",
              "    }\n",
              "\n",
              "    [theme=dark] .colab-df-convert {\n",
              "      background-color: #3B4455;\n",
              "      fill: #D2E3FC;\n",
              "    }\n",
              "\n",
              "    [theme=dark] .colab-df-convert:hover {\n",
              "      background-color: #434B5C;\n",
              "      box-shadow: 0px 1px 3px 1px rgba(0, 0, 0, 0.15);\n",
              "      filter: drop-shadow(0px 1px 2px rgba(0, 0, 0, 0.3));\n",
              "      fill: #FFFFFF;\n",
              "    }\n",
              "  </style>\n",
              "\n",
              "      <script>\n",
              "        const buttonEl =\n",
              "          document.querySelector('#df-4110605b-864f-4809-9c8c-776111620d3c button.colab-df-convert');\n",
              "        buttonEl.style.display =\n",
              "          google.colab.kernel.accessAllowed ? 'block' : 'none';\n",
              "\n",
              "        async function convertToInteractive(key) {\n",
              "          const element = document.querySelector('#df-4110605b-864f-4809-9c8c-776111620d3c');\n",
              "          const dataTable =\n",
              "            await google.colab.kernel.invokeFunction('convertToInteractive',\n",
              "                                                     [key], {});\n",
              "          if (!dataTable) return;\n",
              "\n",
              "          const docLinkHtml = 'Like what you see? Visit the ' +\n",
              "            '<a target=\"_blank\" href=https://colab.research.google.com/notebooks/data_table.ipynb>data table notebook</a>'\n",
              "            + ' to learn more about interactive tables.';\n",
              "          element.innerHTML = '';\n",
              "          dataTable['output_type'] = 'display_data';\n",
              "          await google.colab.output.renderOutput(dataTable, element);\n",
              "          const docLink = document.createElement('div');\n",
              "          docLink.innerHTML = docLinkHtml;\n",
              "          element.appendChild(docLink);\n",
              "        }\n",
              "      </script>\n",
              "    </div>\n",
              "  </div>\n",
              "  "
            ]
          },
          "metadata": {},
          "execution_count": 27
        }
      ]
    },
    {
      "cell_type": "code",
      "source": [
        "df['label'].value_counts()"
      ],
      "metadata": {
        "colab": {
          "base_uri": "https://localhost:8080/"
        },
        "id": "5ydBapLanqSa",
        "outputId": "c6b27d9c-d81b-4124-8429-bf021fb35dc1"
      },
      "execution_count": 28,
      "outputs": [
        {
          "output_type": "execute_result",
          "data": {
            "text/plain": [
              "0    3851\n",
              "1     294\n",
              "Name: label, dtype: int64"
            ]
          },
          "metadata": {},
          "execution_count": 28
        }
      ]
    },
    {
      "cell_type": "markdown",
      "source": [
        "### Data Cleaning\n",
        "\n",
        "1. Combine Title and Abstract\n",
        "2. Lower case entire corpus\n",
        "2. Remove newline and tabs from the dataset\n",
        "3. Remove brackets, #, colons, 'TI\" (title identifier), '##PADDING##'\n",
        "2. Remove records with less than 10 words"
      ],
      "metadata": {
        "id": "e4pT39M5nu4K"
      }
    },
    {
      "cell_type": "code",
      "source": [
        "df['text'] = df['title'] + ' ' + df['abstract']\n",
        "df.head()"
      ],
      "metadata": {
        "colab": {
          "base_uri": "https://localhost:8080/",
          "height": 206
        },
        "id": "3qqv6Qx1n-rY",
        "outputId": "268b2bad-4b4f-4138-c38f-b48f46658c77"
      },
      "execution_count": 29,
      "outputs": [
        {
          "output_type": "execute_result",
          "data": {
            "text/plain": [
              "                                               title  \\\n",
              "0  antimicrobial impacts of essential oils on foo...   \n",
              "1  purification and characterization of a cystein...   \n",
              "2  telavancin activity tested against gram-positi...   \n",
              "3  the in vitro antimicrobial activity of cymbopo...   \n",
              "4  screening currency notes for microbial pathoge...   \n",
              "\n",
              "                                            abstract  label  \\\n",
              "0  the antimicrobial activity of twelve essential...      0   \n",
              "1  antimicrobial peptide (amp) crustin is a type ...      0   \n",
              "2  objectives: to reassess the activity of telava...      0   \n",
              "3  background: it is well known that cymbopogon (...      0   \n",
              "4  fomites are a well-known source of microbial i...      0   \n",
              "\n",
              "                                                text  \n",
              "0  antimicrobial impacts of essential oils on foo...  \n",
              "1  purification and characterization of a cystein...  \n",
              "2  telavancin activity tested against gram-positi...  \n",
              "3  the in vitro antimicrobial activity of cymbopo...  \n",
              "4  screening currency notes for microbial pathoge...  "
            ],
            "text/html": [
              "\n",
              "  <div id=\"df-dc566683-cefd-40ec-9b4c-c20b3515c930\">\n",
              "    <div class=\"colab-df-container\">\n",
              "      <div>\n",
              "<style scoped>\n",
              "    .dataframe tbody tr th:only-of-type {\n",
              "        vertical-align: middle;\n",
              "    }\n",
              "\n",
              "    .dataframe tbody tr th {\n",
              "        vertical-align: top;\n",
              "    }\n",
              "\n",
              "    .dataframe thead th {\n",
              "        text-align: right;\n",
              "    }\n",
              "</style>\n",
              "<table border=\"1\" class=\"dataframe\">\n",
              "  <thead>\n",
              "    <tr style=\"text-align: right;\">\n",
              "      <th></th>\n",
              "      <th>title</th>\n",
              "      <th>abstract</th>\n",
              "      <th>label</th>\n",
              "      <th>text</th>\n",
              "    </tr>\n",
              "  </thead>\n",
              "  <tbody>\n",
              "    <tr>\n",
              "      <th>0</th>\n",
              "      <td>antimicrobial impacts of essential oils on foo...</td>\n",
              "      <td>the antimicrobial activity of twelve essential...</td>\n",
              "      <td>0</td>\n",
              "      <td>antimicrobial impacts of essential oils on foo...</td>\n",
              "    </tr>\n",
              "    <tr>\n",
              "      <th>1</th>\n",
              "      <td>purification and characterization of a cystein...</td>\n",
              "      <td>antimicrobial peptide (amp) crustin is a type ...</td>\n",
              "      <td>0</td>\n",
              "      <td>purification and characterization of a cystein...</td>\n",
              "    </tr>\n",
              "    <tr>\n",
              "      <th>2</th>\n",
              "      <td>telavancin activity tested against gram-positi...</td>\n",
              "      <td>objectives: to reassess the activity of telava...</td>\n",
              "      <td>0</td>\n",
              "      <td>telavancin activity tested against gram-positi...</td>\n",
              "    </tr>\n",
              "    <tr>\n",
              "      <th>3</th>\n",
              "      <td>the in vitro antimicrobial activity of cymbopo...</td>\n",
              "      <td>background: it is well known that cymbopogon (...</td>\n",
              "      <td>0</td>\n",
              "      <td>the in vitro antimicrobial activity of cymbopo...</td>\n",
              "    </tr>\n",
              "    <tr>\n",
              "      <th>4</th>\n",
              "      <td>screening currency notes for microbial pathoge...</td>\n",
              "      <td>fomites are a well-known source of microbial i...</td>\n",
              "      <td>0</td>\n",
              "      <td>screening currency notes for microbial pathoge...</td>\n",
              "    </tr>\n",
              "  </tbody>\n",
              "</table>\n",
              "</div>\n",
              "      <button class=\"colab-df-convert\" onclick=\"convertToInteractive('df-dc566683-cefd-40ec-9b4c-c20b3515c930')\"\n",
              "              title=\"Convert this dataframe to an interactive table.\"\n",
              "              style=\"display:none;\">\n",
              "        \n",
              "  <svg xmlns=\"http://www.w3.org/2000/svg\" height=\"24px\"viewBox=\"0 0 24 24\"\n",
              "       width=\"24px\">\n",
              "    <path d=\"M0 0h24v24H0V0z\" fill=\"none\"/>\n",
              "    <path d=\"M18.56 5.44l.94 2.06.94-2.06 2.06-.94-2.06-.94-.94-2.06-.94 2.06-2.06.94zm-11 1L8.5 8.5l.94-2.06 2.06-.94-2.06-.94L8.5 2.5l-.94 2.06-2.06.94zm10 10l.94 2.06.94-2.06 2.06-.94-2.06-.94-.94-2.06-.94 2.06-2.06.94z\"/><path d=\"M17.41 7.96l-1.37-1.37c-.4-.4-.92-.59-1.43-.59-.52 0-1.04.2-1.43.59L10.3 9.45l-7.72 7.72c-.78.78-.78 2.05 0 2.83L4 21.41c.39.39.9.59 1.41.59.51 0 1.02-.2 1.41-.59l7.78-7.78 2.81-2.81c.8-.78.8-2.07 0-2.86zM5.41 20L4 18.59l7.72-7.72 1.47 1.35L5.41 20z\"/>\n",
              "  </svg>\n",
              "      </button>\n",
              "      \n",
              "  <style>\n",
              "    .colab-df-container {\n",
              "      display:flex;\n",
              "      flex-wrap:wrap;\n",
              "      gap: 12px;\n",
              "    }\n",
              "\n",
              "    .colab-df-convert {\n",
              "      background-color: #E8F0FE;\n",
              "      border: none;\n",
              "      border-radius: 50%;\n",
              "      cursor: pointer;\n",
              "      display: none;\n",
              "      fill: #1967D2;\n",
              "      height: 32px;\n",
              "      padding: 0 0 0 0;\n",
              "      width: 32px;\n",
              "    }\n",
              "\n",
              "    .colab-df-convert:hover {\n",
              "      background-color: #E2EBFA;\n",
              "      box-shadow: 0px 1px 2px rgba(60, 64, 67, 0.3), 0px 1px 3px 1px rgba(60, 64, 67, 0.15);\n",
              "      fill: #174EA6;\n",
              "    }\n",
              "\n",
              "    [theme=dark] .colab-df-convert {\n",
              "      background-color: #3B4455;\n",
              "      fill: #D2E3FC;\n",
              "    }\n",
              "\n",
              "    [theme=dark] .colab-df-convert:hover {\n",
              "      background-color: #434B5C;\n",
              "      box-shadow: 0px 1px 3px 1px rgba(0, 0, 0, 0.15);\n",
              "      filter: drop-shadow(0px 1px 2px rgba(0, 0, 0, 0.3));\n",
              "      fill: #FFFFFF;\n",
              "    }\n",
              "  </style>\n",
              "\n",
              "      <script>\n",
              "        const buttonEl =\n",
              "          document.querySelector('#df-dc566683-cefd-40ec-9b4c-c20b3515c930 button.colab-df-convert');\n",
              "        buttonEl.style.display =\n",
              "          google.colab.kernel.accessAllowed ? 'block' : 'none';\n",
              "\n",
              "        async function convertToInteractive(key) {\n",
              "          const element = document.querySelector('#df-dc566683-cefd-40ec-9b4c-c20b3515c930');\n",
              "          const dataTable =\n",
              "            await google.colab.kernel.invokeFunction('convertToInteractive',\n",
              "                                                     [key], {});\n",
              "          if (!dataTable) return;\n",
              "\n",
              "          const docLinkHtml = 'Like what you see? Visit the ' +\n",
              "            '<a target=\"_blank\" href=https://colab.research.google.com/notebooks/data_table.ipynb>data table notebook</a>'\n",
              "            + ' to learn more about interactive tables.';\n",
              "          element.innerHTML = '';\n",
              "          dataTable['output_type'] = 'display_data';\n",
              "          await google.colab.output.renderOutput(dataTable, element);\n",
              "          const docLink = document.createElement('div');\n",
              "          docLink.innerHTML = docLinkHtml;\n",
              "          element.appendChild(docLink);\n",
              "        }\n",
              "      </script>\n",
              "    </div>\n",
              "  </div>\n",
              "  "
            ]
          },
          "metadata": {},
          "execution_count": 29
        }
      ]
    },
    {
      "cell_type": "code",
      "source": [
        "df.replace(r'\\n','', regex=True).iloc[4140, :]['text']"
      ],
      "metadata": {
        "colab": {
          "base_uri": "https://localhost:8080/",
          "height": 35
        },
        "id": "cgFd68BPpWfv",
        "outputId": "22abd0a8-9173-4749-e303-8cf3255413dc"
      },
      "execution_count": 30,
      "outputs": [
        {
          "output_type": "execute_result",
          "data": {
            "text/plain": [
              "'TI  - [AUTO-INFECTION (INTESTINAL) IN RADIATION SICKNESS AND ITS PREVENTION IN WISTAR WHITE RATS]. ##PADDING##'"
            ],
            "application/vnd.google.colaboratory.intrinsic+json": {
              "type": "string"
            }
          },
          "metadata": {},
          "execution_count": 30
        }
      ]
    },
    {
      "cell_type": "code",
      "source": [
        "joined_words_to_remove = '|'.join(WORDS_TO_REMOVE)\n",
        "\n",
        "\n",
        "def clean_text(x):\n",
        "  # Lower case the text\n",
        "  lower_x = x.lower()\n",
        "\n",
        "  # Remove line breaks and tabs\n",
        "  no_break_x = re.sub(\"\\n|\\r|\\t\", \" \", lower_x)\n",
        "\n",
        "  # Remove specific words\n",
        "  no_waste_words_x = re.sub(joined_words_to_remove, \" \", no_break_x)\n",
        "\n",
        "  # Remove all non alphabet, numeral and space characters\n",
        "  alpha_x = re.sub('[^0-9a-zA-Z ]+', ' ', no_waste_words_x)\n",
        "\n",
        "  # Remove multi-spaces with single space\n",
        "  beta_x = ' '.join(alpha_x.split())\n",
        "\n",
        "  return beta_x"
      ],
      "metadata": {
        "id": "SAwYUVd6sC47"
      },
      "execution_count": 31,
      "outputs": []
    },
    {
      "cell_type": "markdown",
      "source": [
        "Let's test the function on few examples"
      ],
      "metadata": {
        "id": "qOPATBDpwSho"
      }
    },
    {
      "cell_type": "code",
      "source": [
        "for sample_text in df.sample(5)['text'].values:\n",
        "  print('ORIGINAL TEXT : ', sample_text)\n",
        "  print('-'*100)\n",
        "  print('CLEANED TEXT : ', clean_text(sample_text))\n",
        "  print('\\n')\n",
        "  print('*'*100)"
      ],
      "metadata": {
        "colab": {
          "base_uri": "https://localhost:8080/"
        },
        "id": "j8PxtmOvwVXd",
        "outputId": "d3f85b18-8b51-4416-fb7b-7ecbfde8a629"
      },
      "execution_count": 32,
      "outputs": [
        {
          "output_type": "stream",
          "name": "stdout",
          "text": [
            "ORIGINAL TEXT :  successful treatment of chronic bone and joint infections with oral linezolid.\n",
            " linezolid is an attractive alternative for the treatment of chronic bone and joint infections because it is active against common pathogens including methicillin-resistant staphylococci and vancomycin-resistant enterococci and because its oral formulation is convenient for long-term administration. to evaluate the ability of linezolid to produce long-term remission, we prospectively monitored 11 consecutive adult patients who received linezolid for  osteomyelitis (n = 9) or prosthetic joint infection (n = 2). linezolid 600 mg was administered orally twice daily for a mean of 10 weeks (range, 6 to 19 weeks). pathogens were methicillin-resistantother_species (n = 5), methicillin-resistant coagulase-negative staphylococci (n = 4), vancomycin-resistantother_species (n = 1), and vancomycin-sensitiveother_species (n = 1). after a mean followup of 27 months (range, 17 to 41 months), all 11 patients had remission by clinical, laboratory, and radiographic criteria. during week 8 of linezolid treatment, one patient developed a gram-negative superinfection, which resolved with appropriate therapy. during week 6 of linezolid treatment, one patient developed mild thrombocytopenia and another patient developed mild anemia. both episodes of myelosuppression were reversible within 10 days after completing the planned 6-week courses of linezolid. we recommend weekly complete blood counts to detect  hematologic abnormalities. we conclude that oral linezolid seems to be a useful and convenient alternative for the treatment of bone and joint infections.\n",
            "\n",
            "----------------------------------------------------------------------------------------------------\n",
            "CLEANED TEXT :  successful treatment of chronic bone and joint infections with oral linezolid linezolid is an attractive alternative for the treatment of chronic bone and joint infections because it is active against common pathogens including methicillin resistant staphylococci and vancomycin resistant enterococci and because its oral formulation is convenient for long term administration to evaluate the ability of linezolid to produce long term remission we prospectively monitored 11 consecutive adult patients who received linezolid for osteomyelitis n 9 or prosthetic joint infection n 2 linezolid 600 mg was administered orally twice daily for a mean of 10 weeks range 6 to 19 weeks pathogens were methicillin resistantother species n 5 methicillin resistant coagulase negative staphylococci n 4 vancomycin resistantother species n 1 and vancomycin sensitiveother species n 1 after a mean followup of 27 months range 17 to 41 months all 11 patients had remission by clinical laboratory and radiographic criteria during week 8 of linezolid treatment one patient developed a gram negative superinfection which resolved with appropriate therapy during week 6 of linezolid treatment one patient developed mild thrombocytopenia and another patient developed mild anemia both episodes of myelosuppression were reversible within 10 days after completing the planned 6 week courses of linezolid we recommend weekly complete blood counts to detect hematologic abnormalities we conclude that oral linezolid seems to be a useful and convenient alternative for the treatment of bone and joint infections\n",
            "\n",
            "\n",
            "****************************************************************************************************\n",
            "ORIGINAL TEXT :  TI  - Oligosaccharide-mediated inhibition of the adhesion of pathogenic Escherichia coli strains to human gut epithelial cells in vitro.\n",
            " AB  - The aim of the study was to investigate the ability of pectic oligosaccharides (POS) to inhibit adhesion of three strains of verotoxigenic Escherichia coli, three strains of enteropathogenic E. coli, and one nonclinical strain of Desulfovibrio desulfuricans to human intestinal epithelial cell cultures. Lactobacillus acidophilus and Lactobacillus gasseri were included for comparison. Attachment was determined in the human HT29 cell line by viable count of adherent bacteria. POS in buffer at pH 7.2 were antiadhesive at a dose of 2.5 mg ml(-1), reducing adhesion of enteropathogenic E. coil and verotoxigenic E. coli strains to less than 30% of control values. Concentrations resulting in 50% inhibition ranged from 0.15 to 0.46 mg ml(-1). L. acidophilus was not significantly affected, but adhesion of L. gasseri was reduced to 29% of the control value. POS reduced the adhesion of D. desulfuricans to 0.33% of the control value. POS also had a protective effect against E. coli verocytotoxins VT1 and VT2 at concentrations of 0.01 and 1 microg ml(-1), respectively.\n",
            "\n",
            "----------------------------------------------------------------------------------------------------\n",
            "CLEANED TEXT :  ti oligosaccharide mediated inhibition of the adhesion of pathogenic escherichia coli strains to human gut epithelial cells in vitro ab the aim of the study was to investigate the ability of pectic oligosaccharides pos to inhibit adhesion of three strains of verotoxigenic escherichia coli three strains of enteropathogenic e coli and one nonclinical strain of desulfovibrio desulfuricans to human intestinal epithelial cell cultures lactobacillus acidophilus and lactobacillus gasseri were included for comparison attachment was determined in the human ht29 cell line by viable count of adherent bacteria pos in buffer at ph 7 2 were antiadhesive at a dose of 2 5 mg ml 1 reducing adhesion of enteropathogenic e coil and verotoxigenic e coli strains to less than 30 of control values concentrations resulting in 50 inhibition ranged from 0 15 to 0 46 mg ml 1 l acidophilus was not significantly affected but adhesion of l gasseri was reduced to 29 of the control value pos reduced the adhesion of d desulfuricans to 0 33 of the control value pos also had a protective effect against e coli verocytotoxins vt1 and vt2 at concentrations of 0 01 and 1 microg ml 1 respectively\n",
            "\n",
            "\n",
            "****************************************************************************************************\n",
            "ORIGINAL TEXT :  TI  - Antibacterial activity of Lactobacillus species against Vibrio species.\n",
            " AB  - Forty-one Lactobacillus strains were tested for antagonistic activity against nine strains of Vibrio. L. plantarum and L. casei were the most effective, and L. brevis was the least effective in inhibiting the growth of Vibrio species. L. gasseri and L. helveticus strains showed higher activity, while L. reuteri and L. fermentum showed lower inhibitory activity against Vibrio species. L. acidophilus strains exhibited various degrees of antagonistic activities against Vibrio species. However, none of the Lactobacillus species were able to inhibit the growth of Salmonella enteritidis, S. typhimurium, Escherichia coli, and Staphylococcus aureus. Inhibition of the Vibrio species was probably due to the production of organic acids by the Lactobacillus species.\n",
            "\n",
            "----------------------------------------------------------------------------------------------------\n",
            "CLEANED TEXT :  ti antibacterial activity of lactobacillus species against vibrio species ab forty one lactobacillus strains were tested for antagonistic activity against nine strains of vibrio l plantarum and l casei were the most effective and l brevis was the least effective in inhibiting the growth of vibrio species l gasseri and l helveticus strains showed higher activity while l reuteri and l fermentum showed lower inhibitory activity against vibrio species l acidophilus strains exhibited various degrees of antagonistic activities against vibrio species however none of the lactobacillus species were able to inhibit the growth of salmonella enteritidis s typhimurium escherichia coli and staphylococcus aureus inhibition of the vibrio species was probably due to the production of organic acids by the lactobacillus species\n",
            "\n",
            "\n",
            "****************************************************************************************************\n",
            "ORIGINAL TEXT :  in vitro activity of flomoxef and cefazolin in combination with vancomycin.\n",
            " 207 clinical isolates from strains of patients from the university children's hospital of kiel were investigated for their in vitro activity with the agar dilution method against flomoxef and cefazolin (alone and partially in combination with vancomycin). staphylococci were also tested with other cephalosporins (cefoxitin, cefamandole, cefotaxime, cefotetan and latamoxef). flomoxef and cefazolin always acted more vigorously on staphylococci than the other cephalosporins. resistance ofother_species strains against flomoxef and cefazolin did not occur but was found in 15 and 5 of 98other_species strains, respectively.other_species strains were always resistant against both drugs;other_species strains were only moderately sensitive. combined testing of flomoxef or cefazolin with vancomycin showed synergism in almost all staphylococcal strains. synergism was stronger whenother_species strains were only weakly sensitive to or resistant against flomoxef and cefazolin in comparison to highly sensitive strains. flomoxef (or cefazolin) acted synergistically in combination with vancomycin onother_species andother_species with the exception of two strains ofother_species which showed an additive effect of both drugs.\n",
            "\n",
            "----------------------------------------------------------------------------------------------------\n",
            "CLEANED TEXT :  in vitro activity of flomoxef and cefazolin in combination with vancomycin 207 clinical isolates from strains of patients from the university children s hospital of kiel were investigated for their in vitro activity with the agar dilution method against flomoxef and cefazolin alone and partially in combination with vancomycin staphylococci were also tested with other cephalosporins cefoxitin cefamandole cefotaxime cefotetan and latamoxef flomoxef and cefazolin always acted more vigorously on staphylococci than the other cephalosporins resistance ofother species strains against flomoxef and cefazolin did not occur but was found in 15 and 5 of 98other species strains respectively other species strains were always resistant against both drugs other species strains were only moderately sensitive combined testing of flomoxef or cefazolin with vancomycin showed synergism in almost all staphylococcal strains synergism was stronger whenother species strains were only weakly sensitive to or resistant against flomoxef and cefazolin in comparison to highly sensitive strains flomoxef or cefazolin acted synergistically in combination with vancomycin onother species andother species with the exception of two strains ofother species which showed an additive effect of both drugs\n",
            "\n",
            "\n",
            "****************************************************************************************************\n",
            "ORIGINAL TEXT :  synthesis and antimicrobial activities of oximes derived from o-benzylhydroxylamine as fabh inhibitors.\n",
            " forty-three oxime derivatives were synthesized by allowing o-benzylhydroxylamines to react with primary benzaldehydes or salicylaldehydes; these products were gauged as potential inhibitors of beta-ketoacyl-(acyl-carrier-protein) synthase iii (fabh). among the 43 compounds, 38 are reported herein for the first time. these compounds were assayed for antimicrobial activities againstother_species,other_species,other_species,other_species,other_species, andother_species. compounds with prominent antibacterial activities were tested for theirother_species fabh inhibitory activities. 3-((2,4-dichlorobenzyloxyimino)methyl)benzaldehyde o-2,4-dichlorobenzyl oxime (44) showed the best antibacterial activity, with minimum inhibitory concentrations of 3.13-6.25 mug ml(-1) against the tested bacterial strains, exhibiting the bestother_species fabh inhibitory activity, with an  ic(50) value of 1.7 mm. docking simulations were performed to position compound 44 into theother_species fabh active site in order to determine the most probable binding conformation.\n",
            "\n",
            "----------------------------------------------------------------------------------------------------\n",
            "CLEANED TEXT :  synthesis and antimicrobial activities of oximes derived from o benzylhydroxylamine as fabh inhibitors forty three oxime derivatives were synthesized by allowing o benzylhydroxylamines to react with primary benzaldehydes or salicylaldehydes these products were gauged as potential inhibitors of beta ketoacyl acyl carrier protein synthase iii fabh among the 43 compounds 38 are reported herein for the first time these compounds were assayed for antimicrobial activities againstother species other species other species other species other species andother species compounds with prominent antibacterial activities were tested for theirother species fabh inhibitory activities 3 2 4 dichlorobenzyloxyimino methyl benzaldehyde o 2 4 dichlorobenzyl oxime 44 showed the best antibacterial activity with minimum inhibitory concentrations of 3 13 6 25 mug ml 1 against the tested bacterial strains exhibiting the bestother species fabh inhibitory activity with an ic 50 value of 1 7 mm docking simulations were performed to position compound 44 into theother species fabh active site in order to determine the most probable binding conformation\n",
            "\n",
            "\n",
            "****************************************************************************************************\n"
          ]
        }
      ]
    },
    {
      "cell_type": "code",
      "source": [
        "# Apply cleaning function to the text field\n",
        "df['clean_text'] = df['text'].apply(lambda x : clean_text(x))\n",
        "\n",
        "# Get the length and drop records less than 10 words\n",
        "df['text_len'] = df['clean_text'].str.split().apply(len)\n",
        "\n",
        "cleaned_df = df[df['text_len'] > 10][['clean_text', 'label']]"
      ],
      "metadata": {
        "id": "7ahsc8kwoFX3"
      },
      "execution_count": 33,
      "outputs": []
    },
    {
      "cell_type": "code",
      "source": [
        "cleaned_df.head()"
      ],
      "metadata": {
        "colab": {
          "base_uri": "https://localhost:8080/",
          "height": 206
        },
        "id": "4ZgBEcURrdB7",
        "outputId": "45453a4e-0b65-43be-8327-50d0a5eeae77"
      },
      "execution_count": 34,
      "outputs": [
        {
          "output_type": "execute_result",
          "data": {
            "text/plain": [
              "                                          clean_text  label\n",
              "0  antimicrobial impacts of essential oils on foo...      0\n",
              "1  purification and characterization of a cystein...      0\n",
              "2  telavancin activity tested against gram positi...      0\n",
              "3  the in vitro antimicrobial activity of cymbopo...      0\n",
              "4  screening currency notes for microbial pathoge...      0"
            ],
            "text/html": [
              "\n",
              "  <div id=\"df-05faf09d-a4ac-48b9-b7fc-be6497c90356\">\n",
              "    <div class=\"colab-df-container\">\n",
              "      <div>\n",
              "<style scoped>\n",
              "    .dataframe tbody tr th:only-of-type {\n",
              "        vertical-align: middle;\n",
              "    }\n",
              "\n",
              "    .dataframe tbody tr th {\n",
              "        vertical-align: top;\n",
              "    }\n",
              "\n",
              "    .dataframe thead th {\n",
              "        text-align: right;\n",
              "    }\n",
              "</style>\n",
              "<table border=\"1\" class=\"dataframe\">\n",
              "  <thead>\n",
              "    <tr style=\"text-align: right;\">\n",
              "      <th></th>\n",
              "      <th>clean_text</th>\n",
              "      <th>label</th>\n",
              "    </tr>\n",
              "  </thead>\n",
              "  <tbody>\n",
              "    <tr>\n",
              "      <th>0</th>\n",
              "      <td>antimicrobial impacts of essential oils on foo...</td>\n",
              "      <td>0</td>\n",
              "    </tr>\n",
              "    <tr>\n",
              "      <th>1</th>\n",
              "      <td>purification and characterization of a cystein...</td>\n",
              "      <td>0</td>\n",
              "    </tr>\n",
              "    <tr>\n",
              "      <th>2</th>\n",
              "      <td>telavancin activity tested against gram positi...</td>\n",
              "      <td>0</td>\n",
              "    </tr>\n",
              "    <tr>\n",
              "      <th>3</th>\n",
              "      <td>the in vitro antimicrobial activity of cymbopo...</td>\n",
              "      <td>0</td>\n",
              "    </tr>\n",
              "    <tr>\n",
              "      <th>4</th>\n",
              "      <td>screening currency notes for microbial pathoge...</td>\n",
              "      <td>0</td>\n",
              "    </tr>\n",
              "  </tbody>\n",
              "</table>\n",
              "</div>\n",
              "      <button class=\"colab-df-convert\" onclick=\"convertToInteractive('df-05faf09d-a4ac-48b9-b7fc-be6497c90356')\"\n",
              "              title=\"Convert this dataframe to an interactive table.\"\n",
              "              style=\"display:none;\">\n",
              "        \n",
              "  <svg xmlns=\"http://www.w3.org/2000/svg\" height=\"24px\"viewBox=\"0 0 24 24\"\n",
              "       width=\"24px\">\n",
              "    <path d=\"M0 0h24v24H0V0z\" fill=\"none\"/>\n",
              "    <path d=\"M18.56 5.44l.94 2.06.94-2.06 2.06-.94-2.06-.94-.94-2.06-.94 2.06-2.06.94zm-11 1L8.5 8.5l.94-2.06 2.06-.94-2.06-.94L8.5 2.5l-.94 2.06-2.06.94zm10 10l.94 2.06.94-2.06 2.06-.94-2.06-.94-.94-2.06-.94 2.06-2.06.94z\"/><path d=\"M17.41 7.96l-1.37-1.37c-.4-.4-.92-.59-1.43-.59-.52 0-1.04.2-1.43.59L10.3 9.45l-7.72 7.72c-.78.78-.78 2.05 0 2.83L4 21.41c.39.39.9.59 1.41.59.51 0 1.02-.2 1.41-.59l7.78-7.78 2.81-2.81c.8-.78.8-2.07 0-2.86zM5.41 20L4 18.59l7.72-7.72 1.47 1.35L5.41 20z\"/>\n",
              "  </svg>\n",
              "      </button>\n",
              "      \n",
              "  <style>\n",
              "    .colab-df-container {\n",
              "      display:flex;\n",
              "      flex-wrap:wrap;\n",
              "      gap: 12px;\n",
              "    }\n",
              "\n",
              "    .colab-df-convert {\n",
              "      background-color: #E8F0FE;\n",
              "      border: none;\n",
              "      border-radius: 50%;\n",
              "      cursor: pointer;\n",
              "      display: none;\n",
              "      fill: #1967D2;\n",
              "      height: 32px;\n",
              "      padding: 0 0 0 0;\n",
              "      width: 32px;\n",
              "    }\n",
              "\n",
              "    .colab-df-convert:hover {\n",
              "      background-color: #E2EBFA;\n",
              "      box-shadow: 0px 1px 2px rgba(60, 64, 67, 0.3), 0px 1px 3px 1px rgba(60, 64, 67, 0.15);\n",
              "      fill: #174EA6;\n",
              "    }\n",
              "\n",
              "    [theme=dark] .colab-df-convert {\n",
              "      background-color: #3B4455;\n",
              "      fill: #D2E3FC;\n",
              "    }\n",
              "\n",
              "    [theme=dark] .colab-df-convert:hover {\n",
              "      background-color: #434B5C;\n",
              "      box-shadow: 0px 1px 3px 1px rgba(0, 0, 0, 0.15);\n",
              "      filter: drop-shadow(0px 1px 2px rgba(0, 0, 0, 0.3));\n",
              "      fill: #FFFFFF;\n",
              "    }\n",
              "  </style>\n",
              "\n",
              "      <script>\n",
              "        const buttonEl =\n",
              "          document.querySelector('#df-05faf09d-a4ac-48b9-b7fc-be6497c90356 button.colab-df-convert');\n",
              "        buttonEl.style.display =\n",
              "          google.colab.kernel.accessAllowed ? 'block' : 'none';\n",
              "\n",
              "        async function convertToInteractive(key) {\n",
              "          const element = document.querySelector('#df-05faf09d-a4ac-48b9-b7fc-be6497c90356');\n",
              "          const dataTable =\n",
              "            await google.colab.kernel.invokeFunction('convertToInteractive',\n",
              "                                                     [key], {});\n",
              "          if (!dataTable) return;\n",
              "\n",
              "          const docLinkHtml = 'Like what you see? Visit the ' +\n",
              "            '<a target=\"_blank\" href=https://colab.research.google.com/notebooks/data_table.ipynb>data table notebook</a>'\n",
              "            + ' to learn more about interactive tables.';\n",
              "          element.innerHTML = '';\n",
              "          dataTable['output_type'] = 'display_data';\n",
              "          await google.colab.output.renderOutput(dataTable, element);\n",
              "          const docLink = document.createElement('div');\n",
              "          docLink.innerHTML = docLinkHtml;\n",
              "          element.appendChild(docLink);\n",
              "        }\n",
              "      </script>\n",
              "    </div>\n",
              "  </div>\n",
              "  "
            ]
          },
          "metadata": {},
          "execution_count": 34
        }
      ]
    },
    {
      "cell_type": "code",
      "source": [
        "print('Total records retained after data cleaning : ', cleaned_df.shape[0])\n",
        "cleaned_df['label'].value_counts()"
      ],
      "metadata": {
        "colab": {
          "base_uri": "https://localhost:8080/"
        },
        "id": "90W6Fcsdr0eK",
        "outputId": "d8381af6-3734-4a63-a138-043d9c60edb1"
      },
      "execution_count": 35,
      "outputs": [
        {
          "output_type": "stream",
          "name": "stdout",
          "text": [
            "Total records retained after data cleaning :  4064\n"
          ]
        },
        {
          "output_type": "execute_result",
          "data": {
            "text/plain": [
              "0    3770\n",
              "1     294\n",
              "Name: label, dtype: int64"
            ]
          },
          "metadata": {},
          "execution_count": 35
        }
      ]
    },
    {
      "cell_type": "code",
      "source": [
        ""
      ],
      "metadata": {
        "id": "lTPUbGjJsOv1"
      },
      "execution_count": null,
      "outputs": []
    }
  ]
}