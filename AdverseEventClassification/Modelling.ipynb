{
  "nbformat": 4,
  "nbformat_minor": 0,
  "metadata": {
    "colab": {
      "name": "Modelling.ipynb",
      "provenance": [],
      "authorship_tag": "ABX9TyPY+zVeeCBnyxoRT0XchzWk"
    },
    "kernelspec": {
      "name": "python3",
      "display_name": "Python 3"
    },
    "language_info": {
      "name": "python"
    }
  },
  "cells": [
    {
      "cell_type": "markdown",
      "source": [
        "### Download the data"
      ],
      "metadata": {
        "id": "iEICroIunbrH"
      }
    },
    {
      "cell_type": "code",
      "source": [
        "!wget https://raw.githubusercontent.com/suvigyajain0101/CaseStudies/main/AdverseEventClassification/Data/AE_Data.csv"
      ],
      "metadata": {
        "colab": {
          "base_uri": "https://localhost:8080/"
        },
        "id": "v0qHYHSpni9w",
        "outputId": "7b99afd4-1f68-4a8f-e36a-9693705090ae"
      },
      "execution_count": 1,
      "outputs": [
        {
          "output_type": "stream",
          "name": "stdout",
          "text": [
            "--2022-08-24 18:42:15--  https://raw.githubusercontent.com/suvigyajain0101/CaseStudies/main/AdverseEventClassification/Data/AE_Data.csv\n",
            "Resolving raw.githubusercontent.com (raw.githubusercontent.com)... 185.199.108.133, 185.199.111.133, 185.199.109.133, ...\n",
            "Connecting to raw.githubusercontent.com (raw.githubusercontent.com)|185.199.108.133|:443... connected.\n",
            "HTTP request sent, awaiting response... 200 OK\n",
            "Length: 5998096 (5.7M) [text/plain]\n",
            "Saving to: ‘AE_Data.csv’\n",
            "\n",
            "AE_Data.csv         100%[===================>]   5.72M  --.-KB/s    in 0.07s   \n",
            "\n",
            "2022-08-24 18:42:16 (87.9 MB/s) - ‘AE_Data.csv’ saved [5998096/5998096]\n",
            "\n"
          ]
        }
      ]
    },
    {
      "cell_type": "markdown",
      "source": [
        "### Import Libraries"
      ],
      "metadata": {
        "id": "jpdJtnronjPA"
      }
    },
    {
      "cell_type": "code",
      "source": [
        "import pandas as pd\n",
        "import numpy as np\n",
        "import re"
      ],
      "metadata": {
        "id": "deysFOmVnnSo"
      },
      "execution_count": 2,
      "outputs": []
    },
    {
      "cell_type": "code",
      "source": [
        "WORDS_TO_REMOVE = ['##padding##', 'ti-', 'ti -']\n",
        "EXPERIMENT_RESULTS = []"
      ],
      "metadata": {
        "id": "SjwD_F3KunMI"
      },
      "execution_count": 3,
      "outputs": []
    },
    {
      "cell_type": "code",
      "source": [
        "df = pd.read_csv('/content/AE_Data.csv')\n",
        "df.head()"
      ],
      "metadata": {
        "colab": {
          "base_uri": "https://localhost:8080/",
          "height": 206
        },
        "id": "0abX0Dx8no2-",
        "outputId": "ffe32983-a452-4a63-d5e6-53d8aba619d2"
      },
      "execution_count": 4,
      "outputs": [
        {
          "output_type": "execute_result",
          "data": {
            "text/plain": [
              "                                               title  \\\n",
              "0  antimicrobial impacts of essential oils on foo...   \n",
              "1  purification and characterization of a cystein...   \n",
              "2  telavancin activity tested against gram-positi...   \n",
              "3  the in vitro antimicrobial activity of cymbopo...   \n",
              "4  screening currency notes for microbial pathoge...   \n",
              "\n",
              "                                            abstract  label  \n",
              "0  the antimicrobial activity of twelve essential...      0  \n",
              "1  antimicrobial peptide (amp) crustin is a type ...      0  \n",
              "2  objectives: to reassess the activity of telava...      0  \n",
              "3  background: it is well known that cymbopogon (...      0  \n",
              "4  fomites are a well-known source of microbial i...      0  "
            ],
            "text/html": [
              "\n",
              "  <div id=\"df-3e763bfb-365a-4fad-9873-c2534cfa08f7\">\n",
              "    <div class=\"colab-df-container\">\n",
              "      <div>\n",
              "<style scoped>\n",
              "    .dataframe tbody tr th:only-of-type {\n",
              "        vertical-align: middle;\n",
              "    }\n",
              "\n",
              "    .dataframe tbody tr th {\n",
              "        vertical-align: top;\n",
              "    }\n",
              "\n",
              "    .dataframe thead th {\n",
              "        text-align: right;\n",
              "    }\n",
              "</style>\n",
              "<table border=\"1\" class=\"dataframe\">\n",
              "  <thead>\n",
              "    <tr style=\"text-align: right;\">\n",
              "      <th></th>\n",
              "      <th>title</th>\n",
              "      <th>abstract</th>\n",
              "      <th>label</th>\n",
              "    </tr>\n",
              "  </thead>\n",
              "  <tbody>\n",
              "    <tr>\n",
              "      <th>0</th>\n",
              "      <td>antimicrobial impacts of essential oils on foo...</td>\n",
              "      <td>the antimicrobial activity of twelve essential...</td>\n",
              "      <td>0</td>\n",
              "    </tr>\n",
              "    <tr>\n",
              "      <th>1</th>\n",
              "      <td>purification and characterization of a cystein...</td>\n",
              "      <td>antimicrobial peptide (amp) crustin is a type ...</td>\n",
              "      <td>0</td>\n",
              "    </tr>\n",
              "    <tr>\n",
              "      <th>2</th>\n",
              "      <td>telavancin activity tested against gram-positi...</td>\n",
              "      <td>objectives: to reassess the activity of telava...</td>\n",
              "      <td>0</td>\n",
              "    </tr>\n",
              "    <tr>\n",
              "      <th>3</th>\n",
              "      <td>the in vitro antimicrobial activity of cymbopo...</td>\n",
              "      <td>background: it is well known that cymbopogon (...</td>\n",
              "      <td>0</td>\n",
              "    </tr>\n",
              "    <tr>\n",
              "      <th>4</th>\n",
              "      <td>screening currency notes for microbial pathoge...</td>\n",
              "      <td>fomites are a well-known source of microbial i...</td>\n",
              "      <td>0</td>\n",
              "    </tr>\n",
              "  </tbody>\n",
              "</table>\n",
              "</div>\n",
              "      <button class=\"colab-df-convert\" onclick=\"convertToInteractive('df-3e763bfb-365a-4fad-9873-c2534cfa08f7')\"\n",
              "              title=\"Convert this dataframe to an interactive table.\"\n",
              "              style=\"display:none;\">\n",
              "        \n",
              "  <svg xmlns=\"http://www.w3.org/2000/svg\" height=\"24px\"viewBox=\"0 0 24 24\"\n",
              "       width=\"24px\">\n",
              "    <path d=\"M0 0h24v24H0V0z\" fill=\"none\"/>\n",
              "    <path d=\"M18.56 5.44l.94 2.06.94-2.06 2.06-.94-2.06-.94-.94-2.06-.94 2.06-2.06.94zm-11 1L8.5 8.5l.94-2.06 2.06-.94-2.06-.94L8.5 2.5l-.94 2.06-2.06.94zm10 10l.94 2.06.94-2.06 2.06-.94-2.06-.94-.94-2.06-.94 2.06-2.06.94z\"/><path d=\"M17.41 7.96l-1.37-1.37c-.4-.4-.92-.59-1.43-.59-.52 0-1.04.2-1.43.59L10.3 9.45l-7.72 7.72c-.78.78-.78 2.05 0 2.83L4 21.41c.39.39.9.59 1.41.59.51 0 1.02-.2 1.41-.59l7.78-7.78 2.81-2.81c.8-.78.8-2.07 0-2.86zM5.41 20L4 18.59l7.72-7.72 1.47 1.35L5.41 20z\"/>\n",
              "  </svg>\n",
              "      </button>\n",
              "      \n",
              "  <style>\n",
              "    .colab-df-container {\n",
              "      display:flex;\n",
              "      flex-wrap:wrap;\n",
              "      gap: 12px;\n",
              "    }\n",
              "\n",
              "    .colab-df-convert {\n",
              "      background-color: #E8F0FE;\n",
              "      border: none;\n",
              "      border-radius: 50%;\n",
              "      cursor: pointer;\n",
              "      display: none;\n",
              "      fill: #1967D2;\n",
              "      height: 32px;\n",
              "      padding: 0 0 0 0;\n",
              "      width: 32px;\n",
              "    }\n",
              "\n",
              "    .colab-df-convert:hover {\n",
              "      background-color: #E2EBFA;\n",
              "      box-shadow: 0px 1px 2px rgba(60, 64, 67, 0.3), 0px 1px 3px 1px rgba(60, 64, 67, 0.15);\n",
              "      fill: #174EA6;\n",
              "    }\n",
              "\n",
              "    [theme=dark] .colab-df-convert {\n",
              "      background-color: #3B4455;\n",
              "      fill: #D2E3FC;\n",
              "    }\n",
              "\n",
              "    [theme=dark] .colab-df-convert:hover {\n",
              "      background-color: #434B5C;\n",
              "      box-shadow: 0px 1px 3px 1px rgba(0, 0, 0, 0.15);\n",
              "      filter: drop-shadow(0px 1px 2px rgba(0, 0, 0, 0.3));\n",
              "      fill: #FFFFFF;\n",
              "    }\n",
              "  </style>\n",
              "\n",
              "      <script>\n",
              "        const buttonEl =\n",
              "          document.querySelector('#df-3e763bfb-365a-4fad-9873-c2534cfa08f7 button.colab-df-convert');\n",
              "        buttonEl.style.display =\n",
              "          google.colab.kernel.accessAllowed ? 'block' : 'none';\n",
              "\n",
              "        async function convertToInteractive(key) {\n",
              "          const element = document.querySelector('#df-3e763bfb-365a-4fad-9873-c2534cfa08f7');\n",
              "          const dataTable =\n",
              "            await google.colab.kernel.invokeFunction('convertToInteractive',\n",
              "                                                     [key], {});\n",
              "          if (!dataTable) return;\n",
              "\n",
              "          const docLinkHtml = 'Like what you see? Visit the ' +\n",
              "            '<a target=\"_blank\" href=https://colab.research.google.com/notebooks/data_table.ipynb>data table notebook</a>'\n",
              "            + ' to learn more about interactive tables.';\n",
              "          element.innerHTML = '';\n",
              "          dataTable['output_type'] = 'display_data';\n",
              "          await google.colab.output.renderOutput(dataTable, element);\n",
              "          const docLink = document.createElement('div');\n",
              "          docLink.innerHTML = docLinkHtml;\n",
              "          element.appendChild(docLink);\n",
              "        }\n",
              "      </script>\n",
              "    </div>\n",
              "  </div>\n",
              "  "
            ]
          },
          "metadata": {},
          "execution_count": 4
        }
      ]
    },
    {
      "cell_type": "code",
      "source": [
        "df['label'].value_counts()"
      ],
      "metadata": {
        "colab": {
          "base_uri": "https://localhost:8080/"
        },
        "id": "5ydBapLanqSa",
        "outputId": "1ddec735-2717-4817-f4b5-b8f5b8b86c2b"
      },
      "execution_count": 5,
      "outputs": [
        {
          "output_type": "execute_result",
          "data": {
            "text/plain": [
              "0    3851\n",
              "1     294\n",
              "Name: label, dtype: int64"
            ]
          },
          "metadata": {},
          "execution_count": 5
        }
      ]
    },
    {
      "cell_type": "markdown",
      "source": [
        "### Helper Functions"
      ],
      "metadata": {
        "id": "87i359fWubWi"
      }
    },
    {
      "cell_type": "code",
      "source": [
        "def parse_confusion_matrix(x):\n",
        "  '''\n",
        "  Function parses confusion matrix and \n",
        "  returns TP, TN, FP and FN for a binary classification model\n",
        "  '''\n",
        "  tp = x[0][0]\n",
        "  tn = x[1][1]\n",
        "  fp = x[1][0]\n",
        "  fn = x[0][1]\n",
        "\n",
        "  return [tp, tn, fp, fn]\n",
        "\n",
        "def parse_clf_report(x):\n",
        "  '''\n",
        "  Functinon parses classificatin report dictionary\n",
        "  '''\n",
        "\n",
        "  f1 = x['weighted avg']['f1-score']\n",
        "  precision = x['weighted avg']['precision']\n",
        "  recall = x['weighted avg']['recall']\n",
        "  positive_f1 = x['1']['f1-score']\n",
        "  positive_precision = x['1']['precision']\n",
        "  positive_recall = x['1']['recall']\n",
        "\n",
        "  return [f1, precision, recall, positive_f1, positive_precision, positive_recall]\n",
        "\n",
        "def prepare_exp_report(master_list, exp_name, confsn_mat, clf_rpt):\n",
        "  '''\n",
        "  Function prepares experiment report, \n",
        "  in a nutshell it's just concataneting few lists\n",
        "  '''\n",
        "  # x is the forest here\n",
        "  return master_list.append([exp_name] + confsn_mat + clf_rpt)"
      ],
      "metadata": {
        "id": "EG-UrseGuciu"
      },
      "execution_count": 6,
      "outputs": []
    },
    {
      "cell_type": "markdown",
      "source": [
        "### Data Cleaning\n",
        "\n",
        "1. Combine Title and Abstract\n",
        "2. Lower case entire corpus\n",
        "2. Remove newline and tabs from the dataset\n",
        "3. Remove brackets, #, colons, 'TI\" (title identifier), '##PADDING##'\n",
        "5. Lemmatize and remove stopwords\n",
        "2. Remove records with less than 10 words"
      ],
      "metadata": {
        "id": "e4pT39M5nu4K"
      }
    },
    {
      "cell_type": "code",
      "source": [
        "df['text'] = df['title'] + ' ' + df['abstract']\n",
        "df.head()"
      ],
      "metadata": {
        "colab": {
          "base_uri": "https://localhost:8080/",
          "height": 206
        },
        "id": "3qqv6Qx1n-rY",
        "outputId": "cecb6153-8085-43cb-a070-8d090309af0a"
      },
      "execution_count": 7,
      "outputs": [
        {
          "output_type": "execute_result",
          "data": {
            "text/plain": [
              "                                               title  \\\n",
              "0  antimicrobial impacts of essential oils on foo...   \n",
              "1  purification and characterization of a cystein...   \n",
              "2  telavancin activity tested against gram-positi...   \n",
              "3  the in vitro antimicrobial activity of cymbopo...   \n",
              "4  screening currency notes for microbial pathoge...   \n",
              "\n",
              "                                            abstract  label  \\\n",
              "0  the antimicrobial activity of twelve essential...      0   \n",
              "1  antimicrobial peptide (amp) crustin is a type ...      0   \n",
              "2  objectives: to reassess the activity of telava...      0   \n",
              "3  background: it is well known that cymbopogon (...      0   \n",
              "4  fomites are a well-known source of microbial i...      0   \n",
              "\n",
              "                                                text  \n",
              "0  antimicrobial impacts of essential oils on foo...  \n",
              "1  purification and characterization of a cystein...  \n",
              "2  telavancin activity tested against gram-positi...  \n",
              "3  the in vitro antimicrobial activity of cymbopo...  \n",
              "4  screening currency notes for microbial pathoge...  "
            ],
            "text/html": [
              "\n",
              "  <div id=\"df-005ca231-f979-42f7-b5c6-389b400a8234\">\n",
              "    <div class=\"colab-df-container\">\n",
              "      <div>\n",
              "<style scoped>\n",
              "    .dataframe tbody tr th:only-of-type {\n",
              "        vertical-align: middle;\n",
              "    }\n",
              "\n",
              "    .dataframe tbody tr th {\n",
              "        vertical-align: top;\n",
              "    }\n",
              "\n",
              "    .dataframe thead th {\n",
              "        text-align: right;\n",
              "    }\n",
              "</style>\n",
              "<table border=\"1\" class=\"dataframe\">\n",
              "  <thead>\n",
              "    <tr style=\"text-align: right;\">\n",
              "      <th></th>\n",
              "      <th>title</th>\n",
              "      <th>abstract</th>\n",
              "      <th>label</th>\n",
              "      <th>text</th>\n",
              "    </tr>\n",
              "  </thead>\n",
              "  <tbody>\n",
              "    <tr>\n",
              "      <th>0</th>\n",
              "      <td>antimicrobial impacts of essential oils on foo...</td>\n",
              "      <td>the antimicrobial activity of twelve essential...</td>\n",
              "      <td>0</td>\n",
              "      <td>antimicrobial impacts of essential oils on foo...</td>\n",
              "    </tr>\n",
              "    <tr>\n",
              "      <th>1</th>\n",
              "      <td>purification and characterization of a cystein...</td>\n",
              "      <td>antimicrobial peptide (amp) crustin is a type ...</td>\n",
              "      <td>0</td>\n",
              "      <td>purification and characterization of a cystein...</td>\n",
              "    </tr>\n",
              "    <tr>\n",
              "      <th>2</th>\n",
              "      <td>telavancin activity tested against gram-positi...</td>\n",
              "      <td>objectives: to reassess the activity of telava...</td>\n",
              "      <td>0</td>\n",
              "      <td>telavancin activity tested against gram-positi...</td>\n",
              "    </tr>\n",
              "    <tr>\n",
              "      <th>3</th>\n",
              "      <td>the in vitro antimicrobial activity of cymbopo...</td>\n",
              "      <td>background: it is well known that cymbopogon (...</td>\n",
              "      <td>0</td>\n",
              "      <td>the in vitro antimicrobial activity of cymbopo...</td>\n",
              "    </tr>\n",
              "    <tr>\n",
              "      <th>4</th>\n",
              "      <td>screening currency notes for microbial pathoge...</td>\n",
              "      <td>fomites are a well-known source of microbial i...</td>\n",
              "      <td>0</td>\n",
              "      <td>screening currency notes for microbial pathoge...</td>\n",
              "    </tr>\n",
              "  </tbody>\n",
              "</table>\n",
              "</div>\n",
              "      <button class=\"colab-df-convert\" onclick=\"convertToInteractive('df-005ca231-f979-42f7-b5c6-389b400a8234')\"\n",
              "              title=\"Convert this dataframe to an interactive table.\"\n",
              "              style=\"display:none;\">\n",
              "        \n",
              "  <svg xmlns=\"http://www.w3.org/2000/svg\" height=\"24px\"viewBox=\"0 0 24 24\"\n",
              "       width=\"24px\">\n",
              "    <path d=\"M0 0h24v24H0V0z\" fill=\"none\"/>\n",
              "    <path d=\"M18.56 5.44l.94 2.06.94-2.06 2.06-.94-2.06-.94-.94-2.06-.94 2.06-2.06.94zm-11 1L8.5 8.5l.94-2.06 2.06-.94-2.06-.94L8.5 2.5l-.94 2.06-2.06.94zm10 10l.94 2.06.94-2.06 2.06-.94-2.06-.94-.94-2.06-.94 2.06-2.06.94z\"/><path d=\"M17.41 7.96l-1.37-1.37c-.4-.4-.92-.59-1.43-.59-.52 0-1.04.2-1.43.59L10.3 9.45l-7.72 7.72c-.78.78-.78 2.05 0 2.83L4 21.41c.39.39.9.59 1.41.59.51 0 1.02-.2 1.41-.59l7.78-7.78 2.81-2.81c.8-.78.8-2.07 0-2.86zM5.41 20L4 18.59l7.72-7.72 1.47 1.35L5.41 20z\"/>\n",
              "  </svg>\n",
              "      </button>\n",
              "      \n",
              "  <style>\n",
              "    .colab-df-container {\n",
              "      display:flex;\n",
              "      flex-wrap:wrap;\n",
              "      gap: 12px;\n",
              "    }\n",
              "\n",
              "    .colab-df-convert {\n",
              "      background-color: #E8F0FE;\n",
              "      border: none;\n",
              "      border-radius: 50%;\n",
              "      cursor: pointer;\n",
              "      display: none;\n",
              "      fill: #1967D2;\n",
              "      height: 32px;\n",
              "      padding: 0 0 0 0;\n",
              "      width: 32px;\n",
              "    }\n",
              "\n",
              "    .colab-df-convert:hover {\n",
              "      background-color: #E2EBFA;\n",
              "      box-shadow: 0px 1px 2px rgba(60, 64, 67, 0.3), 0px 1px 3px 1px rgba(60, 64, 67, 0.15);\n",
              "      fill: #174EA6;\n",
              "    }\n",
              "\n",
              "    [theme=dark] .colab-df-convert {\n",
              "      background-color: #3B4455;\n",
              "      fill: #D2E3FC;\n",
              "    }\n",
              "\n",
              "    [theme=dark] .colab-df-convert:hover {\n",
              "      background-color: #434B5C;\n",
              "      box-shadow: 0px 1px 3px 1px rgba(0, 0, 0, 0.15);\n",
              "      filter: drop-shadow(0px 1px 2px rgba(0, 0, 0, 0.3));\n",
              "      fill: #FFFFFF;\n",
              "    }\n",
              "  </style>\n",
              "\n",
              "      <script>\n",
              "        const buttonEl =\n",
              "          document.querySelector('#df-005ca231-f979-42f7-b5c6-389b400a8234 button.colab-df-convert');\n",
              "        buttonEl.style.display =\n",
              "          google.colab.kernel.accessAllowed ? 'block' : 'none';\n",
              "\n",
              "        async function convertToInteractive(key) {\n",
              "          const element = document.querySelector('#df-005ca231-f979-42f7-b5c6-389b400a8234');\n",
              "          const dataTable =\n",
              "            await google.colab.kernel.invokeFunction('convertToInteractive',\n",
              "                                                     [key], {});\n",
              "          if (!dataTable) return;\n",
              "\n",
              "          const docLinkHtml = 'Like what you see? Visit the ' +\n",
              "            '<a target=\"_blank\" href=https://colab.research.google.com/notebooks/data_table.ipynb>data table notebook</a>'\n",
              "            + ' to learn more about interactive tables.';\n",
              "          element.innerHTML = '';\n",
              "          dataTable['output_type'] = 'display_data';\n",
              "          await google.colab.output.renderOutput(dataTable, element);\n",
              "          const docLink = document.createElement('div');\n",
              "          docLink.innerHTML = docLinkHtml;\n",
              "          element.appendChild(docLink);\n",
              "        }\n",
              "      </script>\n",
              "    </div>\n",
              "  </div>\n",
              "  "
            ]
          },
          "metadata": {},
          "execution_count": 7
        }
      ]
    },
    {
      "cell_type": "code",
      "source": [
        "df.replace(r'\\n','', regex=True).iloc[4140, :]['text']"
      ],
      "metadata": {
        "colab": {
          "base_uri": "https://localhost:8080/",
          "height": 35
        },
        "id": "cgFd68BPpWfv",
        "outputId": "ecbc2bac-8bc7-4a64-8723-5dc49569de9a"
      },
      "execution_count": 8,
      "outputs": [
        {
          "output_type": "execute_result",
          "data": {
            "text/plain": [
              "'TI  - [AUTO-INFECTION (INTESTINAL) IN RADIATION SICKNESS AND ITS PREVENTION IN WISTAR WHITE RATS]. ##PADDING##'"
            ],
            "application/vnd.google.colaboratory.intrinsic+json": {
              "type": "string"
            }
          },
          "metadata": {},
          "execution_count": 8
        }
      ]
    },
    {
      "cell_type": "code",
      "source": [
        "import nltk\n",
        "from nltk.stem import WordNetLemmatizer\n",
        "from nltk.corpus import stopwords\n",
        "nltk.download('stopwords')\n",
        "nltk.download('wordnet')\n",
        "nltk.download('omw-1.4')"
      ],
      "metadata": {
        "colab": {
          "base_uri": "https://localhost:8080/"
        },
        "id": "tD1NlEloxF-9",
        "outputId": "915472ff-a21f-4b76-f818-5fb0b8351553"
      },
      "execution_count": 9,
      "outputs": [
        {
          "output_type": "stream",
          "name": "stderr",
          "text": [
            "[nltk_data] Downloading package stopwords to /root/nltk_data...\n",
            "[nltk_data]   Unzipping corpora/stopwords.zip.\n",
            "[nltk_data] Downloading package wordnet to /root/nltk_data...\n",
            "[nltk_data] Downloading package omw-1.4 to /root/nltk_data...\n"
          ]
        },
        {
          "output_type": "execute_result",
          "data": {
            "text/plain": [
              "True"
            ]
          },
          "metadata": {},
          "execution_count": 9
        }
      ]
    },
    {
      "cell_type": "code",
      "source": [
        "eng_stopwords = stopwords.words('english')\n",
        "stemmer = WordNetLemmatizer()\n",
        "\n",
        "joined_words_to_remove = '|'.join(WORDS_TO_REMOVE)\n",
        "\n",
        "\n",
        "def clean_text(x):\n",
        "  # Lower case the text\n",
        "  lower_x = x.lower()\n",
        "\n",
        "  # Remove line breaks and tabs\n",
        "  no_break_x = re.sub(\"\\n|\\r|\\t\", \" \", lower_x)\n",
        "\n",
        "  # Remove specific words\n",
        "  no_waste_words_x = re.sub(joined_words_to_remove, \" \", no_break_x)\n",
        "\n",
        "  # Remove all non alphabet, numeral and space characters\n",
        "  alpha_x = re.sub('[^0-9a-zA-Z ]+', ' ', no_waste_words_x)\n",
        "\n",
        "  # Remove stopwords and lemmatize the word. Join at the end will also remove multi-spaces\n",
        "  lemma_x = ' '.join([stemmer.lemmatize(word) for word in alpha_x.split() if word not in eng_stopwords])\n",
        "\n",
        "  return lemma_x"
      ],
      "metadata": {
        "id": "SAwYUVd6sC47"
      },
      "execution_count": 10,
      "outputs": []
    },
    {
      "cell_type": "markdown",
      "source": [
        "Let's test the function on few examples"
      ],
      "metadata": {
        "id": "qOPATBDpwSho"
      }
    },
    {
      "cell_type": "code",
      "source": [
        "for sample_text in df.sample(5)['text'].values:\n",
        "  print('ORIGINAL TEXT : ', sample_text)\n",
        "  print('-'*100)\n",
        "  print('CLEANED TEXT : ', clean_text(sample_text))\n",
        "  print('\\n')\n",
        "  print('*'*100)"
      ],
      "metadata": {
        "colab": {
          "base_uri": "https://localhost:8080/"
        },
        "id": "j8PxtmOvwVXd",
        "outputId": "22b28272-9a1e-4611-ceb2-02d84a9d5bf6"
      },
      "execution_count": 11,
      "outputs": [
        {
          "output_type": "stream",
          "name": "stdout",
          "text": [
            "ORIGINAL TEXT :  quantitative determination by real-time pcr of four vaginal lactobacillus species,other_species andother_species indicates an inverse relationship betweenother_species andother_species.\n",
            " background: most studies of the vaginal microflora have been based on culture or  on qualitative molecular techniques. here we applied existing real-time pcr formats forother_species,other_species andother_species and developed new formats forother_species,other_species andother_species to obtain a quantitative non culture-based determination of these species in 71 vaginal samples from 32 pregnant and 28 non-pregnant women aged between 18 and 45 years.  results: the 71 vaginal microflora samples of these women were categorized, using the ison and hay criteria, as refined by verhelst et al. (2005), as follows: grade ia: 8 samples, grade iab: 10, grade ib: 13, grade i-like: 10, grade ii: 11, grade iii: 12 and grade iv: 7.l. crispatus was found in all but 5 samples and was the most frequent lactobacillus species detected. a significantly lower concentration ofother_species was found in grades ii (p < 0.0001) and iii (p = 0.002) compared to grade i.other_species was found in all grades but showed higher concentration in grade iab than in grade ia (p = 0.024).other_species andother_species were present in high concentrations in grade iii, with log10 median concentrations (log10 mc), respectively of 9.0 and 9.2 cells/ml. twenty (38.5%) of the 52other_species positive samples were also positive forother_species. in grade ii we found almost noother_species (log10 mc: 0/ml) but a high concentration ofother_species (log10 mc: 8.7/ml). by contrast, in grade iii we found a high concentration ofother_species (log10 mc: 8.3/ml) and a low concentration ofother_species (log10 mc: 0/ml). these results show a negative association betweenother_species andother_species (r = -0.397, p = 0.001) and betweenother_species andother_species (r = -0.408, p < 0.0001). conclusion: in our study we found a clear negative association betweenother_species andother_species and betweenother_species andother_species. our results do not provide support for the generally held proposition that grade ii is an intermediate stage between grades i and iii, becauseother_species, abundant in grade ii is not predominant in grade iii, whereasother_species,  abundant in grade iii is present only in low numbers in grade ii samples.\n",
            "\n",
            "----------------------------------------------------------------------------------------------------\n",
            "CLEANED TEXT :  quantitative determination real time pcr four vaginal lactobacillus specie specie andother specie indicates inverse relationship betweenother specie andother specie background study vaginal microflora based culture qualitative molecular technique applied existing real time pcr format forother specie specie andother specie developed new format forother specie specie andother specie obtain quantitative non culture based determination specie 71 vaginal sample 32 pregnant 28 non pregnant woman aged 18 45 year result 71 vaginal microflora sample woman categorized using ison hay criterion refined verhelst et al 2005 follows grade ia 8 sample grade iab 10 grade ib 13 grade like 10 grade ii 11 grade iii 12 grade iv 7 l crispatus found 5 sample frequent lactobacillus specie detected significantly lower concentration ofother specie found grade ii p 0 0001 iii p 0 002 compared grade specie found grade showed higher concentration grade iab grade ia p 0 024 specie andother specie present high concentration grade iii log10 median concentration log10 mc respectively 9 0 9 2 cell ml twenty 38 5 52other specie positive sample also positive forother specie grade ii found almost noother specie log10 mc 0 ml high concentration ofother specie log10 mc 8 7 ml contrast grade iii found high concentration ofother specie log10 mc 8 3 ml low concentration ofother specie log10 mc 0 ml result show negative association betweenother specie andother specie r 0 397 p 0 001 betweenother specie andother specie r 0 408 p 0 0001 conclusion study found clear negative association betweenother specie andother specie betweenother specie andother specie result provide support generally held proposition grade ii intermediate stage grade iii becauseother specie abundant grade ii predominant grade iii whereasother specie abundant grade iii present low number grade ii sample\n",
            "\n",
            "\n",
            "****************************************************************************************************\n",
            "ORIGINAL TEXT :  screening of antibacterial extracts from plants native to the brazilian amazon rain forest and atlantic forest.\n",
            " more than 20% of the world's biodiversity is located in brazilian forests and only a few plant extracts have been evaluated for potential antibacterial activity. in the present study, 705 organic and aqueous extracts of plants obtained from different amazon rain forest and atlantic forest plants were screened for antibacterial activity at 100 microg/ml, using a microdilution broth assay againstother_species,other_species,other_species andother_species. one extract, vo581, was active againstother_species (minimum inhibitory concentration (mic)=140 microg/ml and minimal bactericidal concentration (mbc)=160 microg/ml, organic extract obtained from stems) and two extracts were active againstother_species, sm053 (mic=80 microg/ml and mbc=90 microg/ml, organic extract obtained from aerial parts), and my841 (mic=30 microg/ml and mbc=50 microg/ml, organic extract obtained from stems). the most active fractions are being fractionated to identify their active substances. higher concentrations of other extracts are currently being evaluated against the same microorganisms.\n",
            "\n",
            "----------------------------------------------------------------------------------------------------\n",
            "CLEANED TEXT :  screening antibacterial extract plant native brazilian amazon rain forest atlantic forest 20 world biodiversity located brazilian forest plant extract evaluated potential antibacterial activity present study 705 organic aqueous extract plant obtained different amazon rain forest atlantic forest plant screened antibacterial activity 100 microg ml using microdilution broth assay againstother specie specie specie andother specie one extract vo581 active againstother specie minimum inhibitory concentration mic 140 microg ml minimal bactericidal concentration mbc 160 microg ml organic extract obtained stem two extract active againstother specie sm053 mic 80 microg ml mbc 90 microg ml organic extract obtained aerial part my841 mic 30 microg ml mbc 50 microg ml organic extract obtained stem active fraction fractionated identify active substance higher concentration extract currently evaluated microorganism\n",
            "\n",
            "\n",
            "****************************************************************************************************\n",
            "ORIGINAL TEXT :  [microbiological study of gentamiycin].\n",
            " gentamycin prepared at the all-union research institute of antibiotics did not differ by its antibacterial spectrum and the activity level from gentamycin samples from other countries. by its activity against clinical strains of ps. aeruginosa gentamycin was somewhat inferior than polymyxin but much more superior than carbenicillin. an agar-diffusion method using bac. pumilus ntcc 8241 as the  test microbe was developed for determination of gentamycin activity. the gentamycin sulfate complex and the components of gentamycin had the same activity levels, antibacterial spectrum and diffusion capacity.\n",
            "\n",
            "----------------------------------------------------------------------------------------------------\n",
            "CLEANED TEXT :  microbiological study gentamiycin gentamycin prepared union research institute antibiotic differ antibacterial spectrum activity level gentamycin sample country activity clinical strain p aeruginosa gentamycin somewhat inferior polymyxin much superior carbenicillin agar diffusion method using bac pumilus ntcc 8241 test microbe developed determination gentamycin activity gentamycin sulfate complex component gentamycin activity level antibacterial spectrum diffusion capacity\n",
            "\n",
            "\n",
            "****************************************************************************************************\n",
            "ORIGINAL TEXT :  mic quality control guidelines for doxycycline when testing gram-positive control strains by the reference methods.\n",
            " with emerging resistance to fluoroquinolones, there arises a need to establish quality control (qc) guidelines for doxycycline, an effective alternative for treating various community-acquired respiratory tract infections. this multicenter study was performed to establish qc guidelines for susceptibility testing those gram-positive qc organisms against doxycycline. the proposed three  or four log2 dilution mic ranges included 100.0% of the doxycycline mic values reported.\n",
            "\n",
            "----------------------------------------------------------------------------------------------------\n",
            "CLEANED TEXT :  mic quality control guideline doxycycline testing gram positive control strain reference method emerging resistance fluoroquinolones arises need establish quality control qc guideline doxycycline effective alternative treating various community acquired respiratory tract infection multicenter study performed establish qc guideline susceptibility testing gram positive qc organism doxycycline proposed three four log2 dilution mic range included 100 0 doxycycline mic value reported\n",
            "\n",
            "\n",
            "****************************************************************************************************\n",
            "ORIGINAL TEXT :  antibiotics and prevention of microbial colonization of catheters.\n",
            " slime-producing staphylococci frequently colonize catheters, and when they are embedded in biofilm, they become resistant to various antibiotics. in the study that is described, the comparative efficacies of vancomycin, clindamycin, novobiocin, and minocycline, alone or in combination with rifampin, were tested in an in vitro model of colonization. the model consisted of the modified robbins device with antibiotic-impregnated cement filling the lumen of catheter segments. the synergistic combination of minocycline and rifampin was the most efficacious  in preventing bacterial colonization of slime-producing strains ofother_species andother_species to catheter surfaces. a similar trend was observed when the inhibitory activities of polyurethane catheters coated with minocycline and rifampin were compared with the inhibitory activities of catheters coated with other antimicrobial agents. the inhibitory activities of catheters coated with minocycline and rifampin againstother_species,other_species, andother_species strains, for example, were significantly better than those of catheters coated with vancomycin (p < 0.05). the inhibitory activities of catheters coated with minocycline and rifampin against gram-negative bacilli and candida albicans were comparable to those of catheters coated with ceftazidime and amphotericin b, respectively. we found that the combination of minocycline and rifampin is unique and highly effective in preventing the colonization of catheters with slime-producing staphylococci and that it also displays a broad-spectrum inhibitory activity against gram-negative bacteria and  yeast cells.\n",
            "\n",
            "----------------------------------------------------------------------------------------------------\n",
            "CLEANED TEXT :  antibiotic prevention microbial colonization catheter slime producing staphylococci frequently colonize catheter embedded biofilm become resistant various antibiotic study described comparative efficacy vancomycin clindamycin novobiocin minocycline alone combination rifampin tested vitro model colonization model consisted modified robbins device antibiotic impregnated cement filling lumen catheter segment synergistic combination minocycline rifampin efficacious preventing bacterial colonization slime producing strain ofother specie andother specie catheter surface similar trend observed inhibitory activity polyurethane catheter coated minocycline rifampin compared inhibitory activity catheter coated antimicrobial agent inhibitory activity catheter coated minocycline rifampin againstother specie specie andother specie strain example significantly better catheter coated vancomycin p 0 05 inhibitory activity catheter coated minocycline rifampin gram negative bacillus candida albicans comparable catheter coated ceftazidime amphotericin b respectively found combination minocycline rifampin unique highly effective preventing colonization catheter slime producing staphylococci also display broad spectrum inhibitory activity gram negative bacteria yeast cell\n",
            "\n",
            "\n",
            "****************************************************************************************************\n"
          ]
        }
      ]
    },
    {
      "cell_type": "code",
      "source": [
        "# Apply cleaning function to the text field\n",
        "df['clean_text'] = df['text'].apply(lambda x : clean_text(x))\n",
        "\n",
        "# Get the length and drop records less than 10 words\n",
        "df['text_len'] = df['clean_text'].str.split().apply(len)\n",
        "\n",
        "cleaned_df = df[df['text_len'] > 10][['clean_text', 'label']]"
      ],
      "metadata": {
        "id": "7ahsc8kwoFX3"
      },
      "execution_count": 12,
      "outputs": []
    },
    {
      "cell_type": "code",
      "source": [
        "cleaned_df.head()"
      ],
      "metadata": {
        "colab": {
          "base_uri": "https://localhost:8080/",
          "height": 206
        },
        "id": "4ZgBEcURrdB7",
        "outputId": "d4ed3af9-bf31-4acb-bc46-fc96b8c4f988"
      },
      "execution_count": 13,
      "outputs": [
        {
          "output_type": "execute_result",
          "data": {
            "text/plain": [
              "                                          clean_text  label\n",
              "0  antimicrobial impact essential oil food borne ...      0\n",
              "1  purification characterization cysteine rich 14...      0\n",
              "2  telavancin activity tested gram positive clini...      0\n",
              "3  vitro antimicrobial activity cymbopogon essent...      0\n",
              "4  screening currency note microbial pathogen ant...      0"
            ],
            "text/html": [
              "\n",
              "  <div id=\"df-37b667be-44a0-47a2-8ace-cc84260523cd\">\n",
              "    <div class=\"colab-df-container\">\n",
              "      <div>\n",
              "<style scoped>\n",
              "    .dataframe tbody tr th:only-of-type {\n",
              "        vertical-align: middle;\n",
              "    }\n",
              "\n",
              "    .dataframe tbody tr th {\n",
              "        vertical-align: top;\n",
              "    }\n",
              "\n",
              "    .dataframe thead th {\n",
              "        text-align: right;\n",
              "    }\n",
              "</style>\n",
              "<table border=\"1\" class=\"dataframe\">\n",
              "  <thead>\n",
              "    <tr style=\"text-align: right;\">\n",
              "      <th></th>\n",
              "      <th>clean_text</th>\n",
              "      <th>label</th>\n",
              "    </tr>\n",
              "  </thead>\n",
              "  <tbody>\n",
              "    <tr>\n",
              "      <th>0</th>\n",
              "      <td>antimicrobial impact essential oil food borne ...</td>\n",
              "      <td>0</td>\n",
              "    </tr>\n",
              "    <tr>\n",
              "      <th>1</th>\n",
              "      <td>purification characterization cysteine rich 14...</td>\n",
              "      <td>0</td>\n",
              "    </tr>\n",
              "    <tr>\n",
              "      <th>2</th>\n",
              "      <td>telavancin activity tested gram positive clini...</td>\n",
              "      <td>0</td>\n",
              "    </tr>\n",
              "    <tr>\n",
              "      <th>3</th>\n",
              "      <td>vitro antimicrobial activity cymbopogon essent...</td>\n",
              "      <td>0</td>\n",
              "    </tr>\n",
              "    <tr>\n",
              "      <th>4</th>\n",
              "      <td>screening currency note microbial pathogen ant...</td>\n",
              "      <td>0</td>\n",
              "    </tr>\n",
              "  </tbody>\n",
              "</table>\n",
              "</div>\n",
              "      <button class=\"colab-df-convert\" onclick=\"convertToInteractive('df-37b667be-44a0-47a2-8ace-cc84260523cd')\"\n",
              "              title=\"Convert this dataframe to an interactive table.\"\n",
              "              style=\"display:none;\">\n",
              "        \n",
              "  <svg xmlns=\"http://www.w3.org/2000/svg\" height=\"24px\"viewBox=\"0 0 24 24\"\n",
              "       width=\"24px\">\n",
              "    <path d=\"M0 0h24v24H0V0z\" fill=\"none\"/>\n",
              "    <path d=\"M18.56 5.44l.94 2.06.94-2.06 2.06-.94-2.06-.94-.94-2.06-.94 2.06-2.06.94zm-11 1L8.5 8.5l.94-2.06 2.06-.94-2.06-.94L8.5 2.5l-.94 2.06-2.06.94zm10 10l.94 2.06.94-2.06 2.06-.94-2.06-.94-.94-2.06-.94 2.06-2.06.94z\"/><path d=\"M17.41 7.96l-1.37-1.37c-.4-.4-.92-.59-1.43-.59-.52 0-1.04.2-1.43.59L10.3 9.45l-7.72 7.72c-.78.78-.78 2.05 0 2.83L4 21.41c.39.39.9.59 1.41.59.51 0 1.02-.2 1.41-.59l7.78-7.78 2.81-2.81c.8-.78.8-2.07 0-2.86zM5.41 20L4 18.59l7.72-7.72 1.47 1.35L5.41 20z\"/>\n",
              "  </svg>\n",
              "      </button>\n",
              "      \n",
              "  <style>\n",
              "    .colab-df-container {\n",
              "      display:flex;\n",
              "      flex-wrap:wrap;\n",
              "      gap: 12px;\n",
              "    }\n",
              "\n",
              "    .colab-df-convert {\n",
              "      background-color: #E8F0FE;\n",
              "      border: none;\n",
              "      border-radius: 50%;\n",
              "      cursor: pointer;\n",
              "      display: none;\n",
              "      fill: #1967D2;\n",
              "      height: 32px;\n",
              "      padding: 0 0 0 0;\n",
              "      width: 32px;\n",
              "    }\n",
              "\n",
              "    .colab-df-convert:hover {\n",
              "      background-color: #E2EBFA;\n",
              "      box-shadow: 0px 1px 2px rgba(60, 64, 67, 0.3), 0px 1px 3px 1px rgba(60, 64, 67, 0.15);\n",
              "      fill: #174EA6;\n",
              "    }\n",
              "\n",
              "    [theme=dark] .colab-df-convert {\n",
              "      background-color: #3B4455;\n",
              "      fill: #D2E3FC;\n",
              "    }\n",
              "\n",
              "    [theme=dark] .colab-df-convert:hover {\n",
              "      background-color: #434B5C;\n",
              "      box-shadow: 0px 1px 3px 1px rgba(0, 0, 0, 0.15);\n",
              "      filter: drop-shadow(0px 1px 2px rgba(0, 0, 0, 0.3));\n",
              "      fill: #FFFFFF;\n",
              "    }\n",
              "  </style>\n",
              "\n",
              "      <script>\n",
              "        const buttonEl =\n",
              "          document.querySelector('#df-37b667be-44a0-47a2-8ace-cc84260523cd button.colab-df-convert');\n",
              "        buttonEl.style.display =\n",
              "          google.colab.kernel.accessAllowed ? 'block' : 'none';\n",
              "\n",
              "        async function convertToInteractive(key) {\n",
              "          const element = document.querySelector('#df-37b667be-44a0-47a2-8ace-cc84260523cd');\n",
              "          const dataTable =\n",
              "            await google.colab.kernel.invokeFunction('convertToInteractive',\n",
              "                                                     [key], {});\n",
              "          if (!dataTable) return;\n",
              "\n",
              "          const docLinkHtml = 'Like what you see? Visit the ' +\n",
              "            '<a target=\"_blank\" href=https://colab.research.google.com/notebooks/data_table.ipynb>data table notebook</a>'\n",
              "            + ' to learn more about interactive tables.';\n",
              "          element.innerHTML = '';\n",
              "          dataTable['output_type'] = 'display_data';\n",
              "          await google.colab.output.renderOutput(dataTable, element);\n",
              "          const docLink = document.createElement('div');\n",
              "          docLink.innerHTML = docLinkHtml;\n",
              "          element.appendChild(docLink);\n",
              "        }\n",
              "      </script>\n",
              "    </div>\n",
              "  </div>\n",
              "  "
            ]
          },
          "metadata": {},
          "execution_count": 13
        }
      ]
    },
    {
      "cell_type": "code",
      "source": [
        "print('Total records retained after data cleaning : ', cleaned_df.shape[0])\n",
        "cleaned_df['label'].value_counts()"
      ],
      "metadata": {
        "colab": {
          "base_uri": "https://localhost:8080/"
        },
        "id": "90W6Fcsdr0eK",
        "outputId": "56fb6b2e-4ffa-406c-bea2-1b38e8295a4a"
      },
      "execution_count": 14,
      "outputs": [
        {
          "output_type": "stream",
          "name": "stdout",
          "text": [
            "Total records retained after data cleaning :  4013\n"
          ]
        },
        {
          "output_type": "execute_result",
          "data": {
            "text/plain": [
              "0    3719\n",
              "1     294\n",
              "Name: label, dtype: int64"
            ]
          },
          "metadata": {},
          "execution_count": 14
        }
      ]
    },
    {
      "cell_type": "markdown",
      "source": [
        "### TF-IDF Vectorizer\n",
        "\n",
        "Convert text to features. We'll use TF-IDF score to give the score to the word in the corpus. "
      ],
      "metadata": {
        "id": "18eI1Bgs3oyh"
      }
    },
    {
      "cell_type": "code",
      "source": [
        "from sklearn.feature_extraction.text import TfidfVectorizer\n",
        "tfidfconverter = TfidfVectorizer(max_features=1500, min_df=5, max_df=0.7, stop_words=stopwords.words('english'))\n",
        "X = tfidfconverter.fit_transform(cleaned_df['clean_text']).toarray()\n",
        "y = cleaned_df['label'].values"
      ],
      "metadata": {
        "id": "mMd19xFE3nCL"
      },
      "execution_count": 15,
      "outputs": []
    },
    {
      "cell_type": "markdown",
      "source": [
        "Since the data is unbalanced, we need to split the data into train-test in such a way that those represent the actual data. That's where stratified sampling comes in"
      ],
      "metadata": {
        "id": "lTPUbGjJsOv1"
      }
    },
    {
      "cell_type": "code",
      "source": [
        "from sklearn.model_selection import train_test_split\n",
        "\n",
        "test_split = 0.2\n",
        "\n",
        "X_train, X_test, y_train, y_test = train_test_split(X, y, test_size=test_split, stratify=y)"
      ],
      "metadata": {
        "id": "whkw8UnOtLEo"
      },
      "execution_count": 16,
      "outputs": []
    },
    {
      "cell_type": "code",
      "source": [
        "print('Label Distribution in the training data')\n",
        "print(np.unique(y_train, return_counts=True))\n",
        "print('*'*50)\n",
        "print('Label Distribution in the testing data')\n",
        "print(np.unique(y_test, return_counts=True))"
      ],
      "metadata": {
        "colab": {
          "base_uri": "https://localhost:8080/"
        },
        "id": "6IbL-1lctsul",
        "outputId": "e6b1c73f-840e-49cc-f140-9c72ea8ffcd5"
      },
      "execution_count": 17,
      "outputs": [
        {
          "output_type": "stream",
          "name": "stdout",
          "text": [
            "Label Distribution in the training data\n",
            "(array([0, 1]), array([2975,  235]))\n",
            "**************************************************\n",
            "Label Distribution in the testing data\n",
            "(array([0, 1]), array([744,  59]))\n"
          ]
        }
      ]
    },
    {
      "cell_type": "markdown",
      "source": [
        "Now that the text has been converted into features, we can model the data "
      ],
      "metadata": {
        "id": "gN7fp4cz1RmW"
      }
    },
    {
      "cell_type": "markdown",
      "source": [
        "## Machine Learning Models\n",
        "\n",
        "The dataset at hand is so imbalanced that accuracy on the predictions is not a good metric to judge a model. We'll use Classification Report, and more importantly F1 Score for model comparison. Also to note, we want to reduce False negatives as much as we can, we don't want to classify a doc non-adverse event if it's in fact a adverse-event related"
      ],
      "metadata": {
        "id": "ct0MQsp-9VZm"
      }
    },
    {
      "cell_type": "code",
      "source": [
        "from sklearn.metrics import classification_report, confusion_matrix, accuracy_score"
      ],
      "metadata": {
        "id": "xbL9ADUE9eyl"
      },
      "execution_count": 18,
      "outputs": []
    },
    {
      "cell_type": "markdown",
      "source": [
        "### Experiment 1 - Random Forest"
      ],
      "metadata": {
        "id": "mpw7p8jn7m6G"
      }
    },
    {
      "cell_type": "code",
      "source": [
        "from sklearn.ensemble import RandomForestClassifier\n",
        "\n",
        "# Experiment Name\n",
        "exp_name1 = 'Random Forest'\n",
        "\n",
        "# Initialize the model\n",
        "classifier = RandomForestClassifier(n_estimators=1000, random_state=0)\n",
        "\n",
        "# Fit the model to the data\n",
        "classifier.fit(X_train, y_train)\n",
        "\n",
        "# Generate predictions\n",
        "y_pred = classifier.predict(X_test)\n",
        "\n",
        "# Prepare Classification Report\n",
        "exp_confusion_matrix = confusion_matrix(y_test,y_pred)\n",
        "exp_clf_report = classification_report(y_test,y_pred, output_dict=True)\n",
        "print(exp_confusion_matrix)\n",
        "print('\\n')\n",
        "print(pd.DataFrame(exp_clf_report))\n",
        "\n",
        "prepare_exp_report(EXPERIMENT_RESULTS, \n",
        "                    exp_name1, \n",
        "                    parse_confusion_matrix(exp_confusion_matrix), \n",
        "                    parse_clf_report(exp_clf_report))"
      ],
      "metadata": {
        "id": "uq-ffFeG8dQR",
        "colab": {
          "base_uri": "https://localhost:8080/"
        },
        "outputId": "48c6389b-e711-4009-d694-a3b3394eabc9"
      },
      "execution_count": 19,
      "outputs": [
        {
          "output_type": "stream",
          "name": "stdout",
          "text": [
            "[[742   2]\n",
            " [ 30  29]]\n",
            "\n",
            "\n",
            "                    0          1  accuracy   macro avg  weighted avg\n",
            "precision    0.961140   0.935484  0.960149    0.948312      0.959255\n",
            "recall       0.997312   0.491525  0.960149    0.744419      0.960149\n",
            "f1-score     0.978892   0.644444  0.960149    0.811668      0.954318\n",
            "support    744.000000  59.000000  0.960149  803.000000    803.000000\n"
          ]
        }
      ]
    },
    {
      "cell_type": "markdown",
      "source": [
        "Performance on 0s is satisfactory, but 1s are pretty terrible!"
      ],
      "metadata": {
        "id": "GkS6TwQ6AJNh"
      }
    },
    {
      "cell_type": "markdown",
      "source": [
        "### Experiment 2 - Multinomial NB"
      ],
      "metadata": {
        "id": "uIgGqJtE_yHF"
      }
    },
    {
      "cell_type": "code",
      "source": [
        "from sklearn.naive_bayes import MultinomialNB\n",
        "\n",
        "# Model Name\n",
        "exp_name2 = 'Multinomial Naive Bayes'\n",
        "\n",
        "# Initialize the model\n",
        "classifier = MultinomialNB()\n",
        "\n",
        "# Fit the model to the data\n",
        "classifier.fit(X_train, y_train)\n",
        "\n",
        "# Generate predictions\n",
        "y_pred = classifier.predict(X_test)\n",
        "\n",
        "# Prepare Classification Report\n",
        "exp_confusion_matrix = confusion_matrix(y_test,y_pred)\n",
        "exp_clf_report = classification_report(y_test,y_pred, output_dict=True)\n",
        "print(exp_confusion_matrix)\n",
        "print('\\n')\n",
        "print(pd.DataFrame(exp_clf_report))\n",
        "\n",
        "prepare_exp_report(EXPERIMENT_RESULTS, \n",
        "                    exp_name2, \n",
        "                    parse_confusion_matrix(exp_confusion_matrix), \n",
        "                    parse_clf_report(exp_clf_report))"
      ],
      "metadata": {
        "colab": {
          "base_uri": "https://localhost:8080/"
        },
        "id": "sEbGejyD_7qM",
        "outputId": "81061e8c-9f0c-4f7c-959c-41c626bf89a9"
      },
      "execution_count": 20,
      "outputs": [
        {
          "output_type": "stream",
          "name": "stdout",
          "text": [
            "[[736   8]\n",
            " [ 38  21]]\n",
            "\n",
            "\n",
            "                    0          1  accuracy   macro avg  weighted avg\n",
            "precision    0.950904   0.724138  0.942715    0.837521      0.934243\n",
            "recall       0.989247   0.355932  0.942715    0.672590      0.942715\n",
            "f1-score     0.969697   0.477273  0.942715    0.723485      0.933516\n",
            "support    744.000000  59.000000  0.942715  803.000000    803.000000\n"
          ]
        }
      ]
    },
    {
      "cell_type": "markdown",
      "source": [
        "Even worse!"
      ],
      "metadata": {
        "id": "kpxGJZjyAUAc"
      }
    },
    {
      "cell_type": "markdown",
      "source": [
        "### Experiment 3 - SVM : SGD Classifier"
      ],
      "metadata": {
        "id": "MFDKers2x3GH"
      }
    },
    {
      "cell_type": "code",
      "source": [
        "from sklearn.linear_model import SGDClassifier\n",
        "\n",
        "# Model Name\n",
        "exp_name3 = 'SVM'\n",
        "\n",
        "# Initialize the model\n",
        "classifier = SGDClassifier(loss='hinge', penalty='l2', alpha=1e-3, max_iter=5, random_state=42)\n",
        "\n",
        "# Fit the model to the data\n",
        "classifier.fit(X_train, y_train)\n",
        "\n",
        "# Generate predictions\n",
        "y_pred = classifier.predict(X_test)\n",
        "\n",
        "# Prepare Classification Report\n",
        "exp_confusion_matrix = confusion_matrix(y_test,y_pred)\n",
        "exp_clf_report = classification_report(y_test,y_pred, output_dict=True)\n",
        "print(exp_confusion_matrix)\n",
        "print('\\n')\n",
        "print(pd.DataFrame(exp_clf_report))\n",
        "\n",
        "prepare_exp_report(EXPERIMENT_RESULTS, \n",
        "                    exp_name3, \n",
        "                    parse_confusion_matrix(exp_confusion_matrix), \n",
        "                    parse_clf_report(exp_clf_report))"
      ],
      "metadata": {
        "colab": {
          "base_uri": "https://localhost:8080/"
        },
        "id": "o7yPs8UzyL6p",
        "outputId": "bf012c81-1d74-4f0a-8f2b-69ab56006a5c"
      },
      "execution_count": 21,
      "outputs": [
        {
          "output_type": "stream",
          "name": "stdout",
          "text": [
            "[[741   3]\n",
            " [ 48  11]]\n",
            "\n",
            "\n",
            "                    0          1  accuracy   macro avg  weighted avg\n",
            "precision    0.939163   0.785714  0.936488    0.862439      0.927889\n",
            "recall       0.995968   0.186441  0.936488    0.591204      0.936488\n",
            "f1-score     0.966732   0.301370  0.936488    0.634051      0.917845\n",
            "support    744.000000  59.000000  0.936488  803.000000    803.000000\n"
          ]
        },
        {
          "output_type": "stream",
          "name": "stderr",
          "text": [
            "/usr/local/lib/python3.7/dist-packages/sklearn/linear_model/_stochastic_gradient.py:700: ConvergenceWarning: Maximum number of iteration reached before convergence. Consider increasing max_iter to improve the fit.\n",
            "  ConvergenceWarning,\n"
          ]
        }
      ]
    },
    {
      "cell_type": "markdown",
      "source": [
        "Better performance than MNB, but worse than Random Forest"
      ],
      "metadata": {
        "id": "NeT6YcXFyuP7"
      }
    },
    {
      "cell_type": "markdown",
      "source": [
        "### Experiment 4 - K-Nearest Neighbors"
      ],
      "metadata": {
        "id": "NVJAcADwzWaE"
      }
    },
    {
      "cell_type": "code",
      "source": [
        "from sklearn.neighbors import KNeighborsClassifier\n",
        "\n",
        "# Model Name\n",
        "exp_name4 = 'k-NN'\n",
        "\n",
        "# Initialize the model\n",
        "classifier = KNeighborsClassifier(n_neighbors=2)\n",
        "\n",
        "# Fit the model to the data\n",
        "classifier.fit(X_train, y_train)\n",
        "\n",
        "# Generate predictions\n",
        "y_pred = classifier.predict(X_test)\n",
        "\n",
        "# Prepare Classification Report\n",
        "exp_confusion_matrix = confusion_matrix(y_test,y_pred)\n",
        "exp_clf_report = classification_report(y_test,y_pred, output_dict=True)\n",
        "print(exp_confusion_matrix)\n",
        "print('\\n')\n",
        "print(pd.DataFrame(exp_clf_report))\n",
        "\n",
        "prepare_exp_report(EXPERIMENT_RESULTS, \n",
        "                    exp_name4, \n",
        "                    parse_confusion_matrix(exp_confusion_matrix), \n",
        "                    parse_clf_report(exp_clf_report))"
      ],
      "metadata": {
        "colab": {
          "base_uri": "https://localhost:8080/"
        },
        "id": "AfyxEVC41nuM",
        "outputId": "20c08106-94c3-4667-92c2-b5ae75aafff4"
      },
      "execution_count": 22,
      "outputs": [
        {
          "output_type": "stream",
          "name": "stdout",
          "text": [
            "[[739   5]\n",
            " [ 36  23]]\n",
            "\n",
            "\n",
            "                    0          1  accuracy   macro avg  weighted avg\n",
            "precision    0.953548   0.821429  0.948941    0.887488      0.943841\n",
            "recall       0.993280   0.389831  0.948941    0.691555      0.948941\n",
            "f1-score     0.973009   0.528736  0.948941    0.750872      0.940366\n",
            "support    744.000000  59.000000  0.948941  803.000000    803.000000\n"
          ]
        }
      ]
    },
    {
      "cell_type": "markdown",
      "source": [
        "Not a good idea, TBH!"
      ],
      "metadata": {
        "id": "BDJ7zaZ_1pZa"
      }
    },
    {
      "cell_type": "markdown",
      "source": [
        "### Experiment 5 - Decision Trees"
      ],
      "metadata": {
        "id": "nSDuf6we2jOm"
      }
    },
    {
      "cell_type": "code",
      "source": [
        "from sklearn.tree import DecisionTreeClassifier\n",
        "\n",
        "# Model Name\n",
        "exp_name5 = 'Decision Tree'\n",
        "\n",
        "# Initialize the model\n",
        "classifier = DecisionTreeClassifier(max_depth=5)\n",
        "\n",
        "# Fit the model to the data\n",
        "classifier.fit(X_train, y_train)\n",
        "\n",
        "# Generate predictions\n",
        "y_pred = classifier.predict(X_test)\n",
        "\n",
        "# Prepare Classification Report\n",
        "exp_confusion_matrix = confusion_matrix(y_test,y_pred)\n",
        "exp_clf_report = classification_report(y_test,y_pred, output_dict=True)\n",
        "print(exp_confusion_matrix)\n",
        "print('\\n')\n",
        "print(pd.DataFrame(exp_clf_report))\n",
        "\n",
        "prepare_exp_report(EXPERIMENT_RESULTS, \n",
        "                    exp_name5, \n",
        "                    parse_confusion_matrix(exp_confusion_matrix), \n",
        "                    parse_clf_report(exp_clf_report))"
      ],
      "metadata": {
        "colab": {
          "base_uri": "https://localhost:8080/"
        },
        "id": "Fc6ShnPM2sxK",
        "outputId": "ec856164-3813-4ebc-8cc2-cc0a906ea814"
      },
      "execution_count": 23,
      "outputs": [
        {
          "output_type": "stream",
          "name": "stdout",
          "text": [
            "[[728  16]\n",
            " [ 33  26]]\n",
            "\n",
            "\n",
            "                    0          1  accuracy   macro avg  weighted avg\n",
            "precision    0.956636   0.619048  0.938979    0.787842      0.931832\n",
            "recall       0.978495   0.440678  0.938979    0.709586      0.938979\n",
            "f1-score     0.967442   0.514851  0.938979    0.741147      0.934188\n",
            "support    744.000000  59.000000  0.938979  803.000000    803.000000\n"
          ]
        }
      ]
    },
    {
      "cell_type": "markdown",
      "source": [
        "A single tree is not working better than a Random Forest. Proves some theories 😀"
      ],
      "metadata": {
        "id": "vxSPj8234WPL"
      }
    },
    {
      "cell_type": "markdown",
      "source": [
        "### Experiment 6 - AdaBoost (discrete SAMME)"
      ],
      "metadata": {
        "id": "PwbVy2JO49ru"
      }
    },
    {
      "cell_type": "code",
      "source": [
        "from sklearn.ensemble import AdaBoostClassifier\n",
        "\n",
        "# Experiment Name\n",
        "exp_name6 = 'Adaboost (Discrete SAMME)'\n",
        "\n",
        "# Base Model for boosting\n",
        "base_model = DecisionTreeClassifier(max_depth=9, min_samples_leaf=1)\n",
        "\n",
        "# Initialize the model\n",
        "classifier = AdaBoostClassifier(\n",
        "    base_estimator=base_model,\n",
        "    learning_rate=1.0,\n",
        "    n_estimators=400,\n",
        "    algorithm=\"SAMME\",\n",
        ")\n",
        "\n",
        "# Fit the model to the data\n",
        "classifier.fit(X_train, y_train)\n",
        "\n",
        "# Generate predictions\n",
        "y_pred = classifier.predict(X_test)\n",
        "\n",
        "# Prepare Classification Report\n",
        "exp_confusion_matrix = confusion_matrix(y_test,y_pred)\n",
        "exp_clf_report = classification_report(y_test,y_pred, output_dict=True)\n",
        "print(exp_confusion_matrix)\n",
        "print('\\n')\n",
        "print(pd.DataFrame(exp_clf_report))\n",
        "\n",
        "prepare_exp_report(EXPERIMENT_RESULTS, \n",
        "                    exp_name6, \n",
        "                    parse_confusion_matrix(exp_confusion_matrix), \n",
        "                    parse_clf_report(exp_clf_report))"
      ],
      "metadata": {
        "colab": {
          "base_uri": "https://localhost:8080/"
        },
        "id": "8Ob2KuuT5kR9",
        "outputId": "daea0424-da9b-4a7b-bcaf-b97bcb1a0098"
      },
      "execution_count": 24,
      "outputs": [
        {
          "output_type": "stream",
          "name": "stdout",
          "text": [
            "[[729  15]\n",
            " [ 23  36]]\n",
            "\n",
            "\n",
            "                    0          1  accuracy   macro avg  weighted avg\n",
            "precision    0.969415   0.705882  0.952677    0.837649      0.950052\n",
            "recall       0.979839   0.610169  0.952677    0.795004      0.952677\n",
            "f1-score     0.974599   0.654545  0.952677    0.814572      0.951083\n",
            "support    744.000000  59.000000  0.952677  803.000000    803.000000\n"
          ]
        }
      ]
    },
    {
      "cell_type": "markdown",
      "source": [
        "That's a considerable improvement!"
      ],
      "metadata": {
        "id": "FYQr_S4O71Na"
      }
    },
    {
      "cell_type": "markdown",
      "source": [
        "### Experiment 7 - AdaBoost (real SAMME.R)"
      ],
      "metadata": {
        "id": "Mm9JmIpm6ycF"
      }
    },
    {
      "cell_type": "code",
      "source": [
        "from sklearn.ensemble import AdaBoostClassifier\n",
        "\n",
        "# Experiment Name\n",
        "exp_name7 = 'Adaboost (Real SAMME.R)'\n",
        "\n",
        "# Base Model for boosting\n",
        "base_model = DecisionTreeClassifier(max_depth=9, min_samples_leaf=1)\n",
        "\n",
        "# Initialize the model\n",
        "classifier = AdaBoostClassifier(\n",
        "    base_estimator=base_model,\n",
        "    learning_rate=1.0,\n",
        "    n_estimators=400,\n",
        "    algorithm=\"SAMME.R\",\n",
        ")\n",
        "\n",
        "# Fit the model to the data\n",
        "classifier.fit(X_train, y_train)\n",
        "\n",
        "# Generate predictions\n",
        "y_pred = classifier.predict(X_test)\n",
        "\n",
        "# Prepare Classification Report\n",
        "exp_confusion_matrix = confusion_matrix(y_test,y_pred)\n",
        "exp_clf_report = classification_report(y_test,y_pred, output_dict=True)\n",
        "print(exp_confusion_matrix)\n",
        "print('\\n')\n",
        "print(pd.DataFrame(exp_clf_report))\n",
        "\n",
        "prepare_exp_report(EXPERIMENT_RESULTS, \n",
        "                    exp_name7, \n",
        "                    parse_confusion_matrix(exp_confusion_matrix), \n",
        "                    parse_clf_report(exp_clf_report))"
      ],
      "metadata": {
        "colab": {
          "base_uri": "https://localhost:8080/"
        },
        "id": "nNZMNRZN7TxL",
        "outputId": "339a2b13-4e7c-4a09-d524-b94d47406c01"
      },
      "execution_count": 25,
      "outputs": [
        {
          "output_type": "stream",
          "name": "stdout",
          "text": [
            "[[738   6]\n",
            " [ 31  28]]\n",
            "\n",
            "\n",
            "                    0          1  accuracy   macro avg  weighted avg\n",
            "precision    0.959688   0.823529  0.953923    0.891609      0.949684\n",
            "recall       0.991935   0.474576  0.953923    0.733256      0.953923\n",
            "f1-score     0.975545   0.602151  0.953923    0.788848      0.948110\n",
            "support    744.000000  59.000000  0.953923  803.000000    803.000000\n"
          ]
        }
      ]
    },
    {
      "cell_type": "markdown",
      "source": [
        "Worse than discrete SAMME algorithm, but still better than other models"
      ],
      "metadata": {
        "id": "XedEJ3zL75_-"
      }
    },
    {
      "cell_type": "markdown",
      "source": [
        "### Experiment 8 - Voting Classifier\n",
        "\n",
        "Voting Classifiers take votes from individual algorithms (panel experts!) about the classification and make decision based on the voting type (Hard or Soft). \n",
        "\n",
        "Difference b/w Hard and Soft Voting - Hard voting involves summing the predictions for each class label and predicting the class label with the most votes. Soft voting involves summing the predicted probabilities (or probability-like scores) for each class label and predicting the class label with the largest probability."
      ],
      "metadata": {
        "id": "5ErydheoKyQB"
      }
    },
    {
      "cell_type": "code",
      "source": [
        "from sklearn.ensemble import VotingClassifier\n",
        "\n",
        "# Experiment Name\n",
        "exp_name8 = 'Voting Classifier'\n",
        "\n",
        "# Model 1 : Adaboost with SAMME.R\n",
        "base_model = DecisionTreeClassifier(max_depth=9, min_samples_leaf=1)\n",
        "\n",
        "adaboost_clf = AdaBoostClassifier(\n",
        "    base_estimator=base_model,\n",
        "    learning_rate=1.0,\n",
        "    n_estimators=400,\n",
        "    algorithm=\"SAMME.R\",\n",
        ")\n",
        "\n",
        "# Model 2 : Decision Trees\n",
        "dt_clf = DecisionTreeClassifier(max_depth=5)\n",
        "\n",
        "# Model 3 : Random Forest\n",
        "rf_clf = RandomForestClassifier(n_estimators=1000, random_state=0)\n",
        "\n",
        "# Initialize the classifer\n",
        "voting_clf = VotingClassifier(estimators=[('Adaboost', adaboost_clf), ('DTree', dt_clf), ('RF', rf_clf)], voting='hard')\n",
        "\n",
        "# Fit the model to the data\n",
        "voting_clf.fit(X_train, y_train)\n",
        "\n",
        "# Generate predictions\n",
        "y_pred = voting_clf.predict(X_test)\n",
        "\n",
        "# Prepare Classification Report\n",
        "exp_confusion_matrix = confusion_matrix(y_test,y_pred)\n",
        "exp_clf_report = classification_report(y_test,y_pred, output_dict=True)\n",
        "print(exp_confusion_matrix)\n",
        "print('\\n')\n",
        "print(pd.DataFrame(exp_clf_report))\n",
        "\n",
        "prepare_exp_report(EXPERIMENT_RESULTS, \n",
        "                    exp_name8, \n",
        "                    parse_confusion_matrix(exp_confusion_matrix), \n",
        "                    parse_clf_report(exp_clf_report))"
      ],
      "metadata": {
        "colab": {
          "base_uri": "https://localhost:8080/"
        },
        "id": "dHoZtHXMK25o",
        "outputId": "2433e938-bada-4a07-c03c-561337eb8cba"
      },
      "execution_count": 26,
      "outputs": [
        {
          "output_type": "stream",
          "name": "stdout",
          "text": [
            "[[739   5]\n",
            " [ 30  29]]\n",
            "\n",
            "\n",
            "                    0          1  accuracy   macro avg  weighted avg\n",
            "precision    0.960988   0.852941  0.956413    0.906965      0.953050\n",
            "recall       0.993280   0.491525  0.956413    0.742402      0.956413\n",
            "f1-score     0.976867   0.623656  0.956413    0.800262      0.950915\n",
            "support    744.000000  59.000000  0.956413  803.000000    803.000000\n"
          ]
        }
      ]
    },
    {
      "cell_type": "markdown",
      "source": [
        "### Experiment 9 - Grid Search with Voting Classifier"
      ],
      "metadata": {
        "id": "Uco0KYLbQ-C0"
      }
    },
    {
      "cell_type": "code",
      "source": [
        "from sklearn.linear_model import LogisticRegression\n",
        "from sklearn.svm import SVC\n",
        "from sklearn.ensemble import VotingClassifier\n",
        "from sklearn.model_selection import GridSearchCV\n",
        "\n",
        "# Experiment Name\n",
        "exp_name9 = 'GridSearch with VotingClassifier'\n",
        "\n",
        "eclf = VotingClassifier(estimators=[ \n",
        "    ('svm', SVC(probability=True)),\n",
        "    ('lr', LogisticRegression()),\n",
        "    ('rf', RandomForestClassifier())\n",
        "    ], voting='soft')\n",
        "\n",
        "# Define Param grid\n",
        "params = {'lr__C': [1.0, 100.0],\n",
        "          'svm__C': [2,3,4],\n",
        "          'rf__n_estimators' : [50,200,500]}\n",
        "\n",
        "# Initialize Grid Search \n",
        "grid = GridSearchCV(estimator=eclf, param_grid=params)\n",
        "\n",
        "# Fit the model to the data\n",
        "grid.fit(X_train, y_train)\n",
        "\n",
        "# Generate predictions\n",
        "y_pred = grid.predict(X_test)\n",
        "\n",
        "# Prepare Classification Report\n",
        "exp_confusion_matrix = confusion_matrix(y_test,y_pred)\n",
        "exp_clf_report = classification_report(y_test,y_pred, output_dict=True)\n",
        "print(exp_confusion_matrix)\n",
        "print('\\n')\n",
        "print(pd.DataFrame(exp_clf_report))\n",
        "\n",
        "prepare_exp_report(EXPERIMENT_RESULTS, \n",
        "                    exp_name9, \n",
        "                    parse_confusion_matrix(exp_confusion_matrix), \n",
        "                    parse_clf_report(exp_clf_report))"
      ],
      "metadata": {
        "id": "uvc8MkGRRAzg"
      },
      "execution_count": null,
      "outputs": []
    },
    {
      "cell_type": "code",
      "source": [
        "# Prepare Classification Report\n",
        "exp_confusion_matrix = confusion_matrix(y_test,y_pred)\n",
        "exp_clf_report = classification_report(y_test,y_pred, output_dict=True)\n",
        "print(exp_confusion_matrix)\n",
        "print('\\n')\n",
        "print(pd.DataFrame(exp_clf_report))\n",
        "\n",
        "prepare_exp_report(EXPERIMENT_RESULTS, \n",
        "                    exp_name9, \n",
        "                    parse_confusion_matrix(exp_confusion_matrix), \n",
        "                    parse_clf_report(exp_clf_report))"
      ],
      "metadata": {
        "colab": {
          "base_uri": "https://localhost:8080/"
        },
        "id": "3RusbhcFfU6C",
        "outputId": "eff4db61-4dc2-40df-a7e9-f0d6bcae526d"
      },
      "execution_count": 33,
      "outputs": [
        {
          "output_type": "stream",
          "name": "stdout",
          "text": [
            "[[735   9]\n",
            " [ 26  33]]\n",
            "\n",
            "\n",
            "                    0          1  accuracy   macro avg  weighted avg\n",
            "precision    0.965834   0.785714  0.956413    0.875774      0.952600\n",
            "recall       0.987903   0.559322  0.956413    0.773613      0.956413\n",
            "f1-score     0.976744   0.653465  0.956413    0.815105      0.952991\n",
            "support    744.000000  59.000000  0.956413  803.000000    803.000000\n"
          ]
        }
      ]
    },
    {
      "cell_type": "code",
      "source": [
        "SCHEMA = ['Experiment Name', 'True Positives', 'True Negatives', 'False Positives', \n",
        "          'False Negatives', 'Overall F1 Score','Overall Precision','Overall Recall',\n",
        "          'F1 for Positives Records','Precision for Positive Records', 'Recall for Positive Records']\n",
        "\n",
        " \n",
        "pd.DataFrame(EXPERIMENT_RESULTS, columns=SCHEMA)"
      ],
      "metadata": {
        "id": "i6wxJPYlR51d",
        "colab": {
          "base_uri": "https://localhost:8080/",
          "height": 480
        },
        "outputId": "7251b73f-e355-4abe-ab09-d40c15ddb94d"
      },
      "execution_count": 35,
      "outputs": [
        {
          "output_type": "execute_result",
          "data": {
            "text/plain": [
              "                    Experiment Name  True Positives  True Negatives  \\\n",
              "0                     Random Forest             742              29   \n",
              "1           Multinomial Naive Bayes             736              21   \n",
              "2                               SVM             741              11   \n",
              "3                              k-NN             739              23   \n",
              "4                     Decision Tree             728              26   \n",
              "5         Adaboost (Discrete SAMME)             729              36   \n",
              "6           Adaboost (Real SAMME.R)             738              28   \n",
              "7                 Voting Classifier             739              29   \n",
              "8  GridSearch with VotingClassifier             735              33   \n",
              "\n",
              "   False Positives  False Negatives  Overall F1 Score  Overall Precision  \\\n",
              "0               30                2          0.954318           0.959255   \n",
              "1               38                8          0.933516           0.934243   \n",
              "2               48                3          0.917845           0.927889   \n",
              "3               36                5          0.940366           0.943841   \n",
              "4               33               16          0.934188           0.931832   \n",
              "5               23               15          0.951083           0.950052   \n",
              "6               31                6          0.948110           0.949684   \n",
              "7               30                5          0.950915           0.953050   \n",
              "8               26                9          0.952991           0.952600   \n",
              "\n",
              "   Overall Recall  F1 for Positives Records  Precision for Positive Records  \\\n",
              "0        0.960149                  0.644444                        0.935484   \n",
              "1        0.942715                  0.477273                        0.724138   \n",
              "2        0.936488                  0.301370                        0.785714   \n",
              "3        0.948941                  0.528736                        0.821429   \n",
              "4        0.938979                  0.514851                        0.619048   \n",
              "5        0.952677                  0.654545                        0.705882   \n",
              "6        0.953923                  0.602151                        0.823529   \n",
              "7        0.956413                  0.623656                        0.852941   \n",
              "8        0.956413                  0.653465                        0.785714   \n",
              "\n",
              "   Recall for Positive Records  \n",
              "0                     0.491525  \n",
              "1                     0.355932  \n",
              "2                     0.186441  \n",
              "3                     0.389831  \n",
              "4                     0.440678  \n",
              "5                     0.610169  \n",
              "6                     0.474576  \n",
              "7                     0.491525  \n",
              "8                     0.559322  "
            ],
            "text/html": [
              "\n",
              "  <div id=\"df-6ab2fd85-d383-4c59-9db5-ad42d2b6547c\">\n",
              "    <div class=\"colab-df-container\">\n",
              "      <div>\n",
              "<style scoped>\n",
              "    .dataframe tbody tr th:only-of-type {\n",
              "        vertical-align: middle;\n",
              "    }\n",
              "\n",
              "    .dataframe tbody tr th {\n",
              "        vertical-align: top;\n",
              "    }\n",
              "\n",
              "    .dataframe thead th {\n",
              "        text-align: right;\n",
              "    }\n",
              "</style>\n",
              "<table border=\"1\" class=\"dataframe\">\n",
              "  <thead>\n",
              "    <tr style=\"text-align: right;\">\n",
              "      <th></th>\n",
              "      <th>Experiment Name</th>\n",
              "      <th>True Positives</th>\n",
              "      <th>True Negatives</th>\n",
              "      <th>False Positives</th>\n",
              "      <th>False Negatives</th>\n",
              "      <th>Overall F1 Score</th>\n",
              "      <th>Overall Precision</th>\n",
              "      <th>Overall Recall</th>\n",
              "      <th>F1 for Positives Records</th>\n",
              "      <th>Precision for Positive Records</th>\n",
              "      <th>Recall for Positive Records</th>\n",
              "    </tr>\n",
              "  </thead>\n",
              "  <tbody>\n",
              "    <tr>\n",
              "      <th>0</th>\n",
              "      <td>Random Forest</td>\n",
              "      <td>742</td>\n",
              "      <td>29</td>\n",
              "      <td>30</td>\n",
              "      <td>2</td>\n",
              "      <td>0.954318</td>\n",
              "      <td>0.959255</td>\n",
              "      <td>0.960149</td>\n",
              "      <td>0.644444</td>\n",
              "      <td>0.935484</td>\n",
              "      <td>0.491525</td>\n",
              "    </tr>\n",
              "    <tr>\n",
              "      <th>1</th>\n",
              "      <td>Multinomial Naive Bayes</td>\n",
              "      <td>736</td>\n",
              "      <td>21</td>\n",
              "      <td>38</td>\n",
              "      <td>8</td>\n",
              "      <td>0.933516</td>\n",
              "      <td>0.934243</td>\n",
              "      <td>0.942715</td>\n",
              "      <td>0.477273</td>\n",
              "      <td>0.724138</td>\n",
              "      <td>0.355932</td>\n",
              "    </tr>\n",
              "    <tr>\n",
              "      <th>2</th>\n",
              "      <td>SVM</td>\n",
              "      <td>741</td>\n",
              "      <td>11</td>\n",
              "      <td>48</td>\n",
              "      <td>3</td>\n",
              "      <td>0.917845</td>\n",
              "      <td>0.927889</td>\n",
              "      <td>0.936488</td>\n",
              "      <td>0.301370</td>\n",
              "      <td>0.785714</td>\n",
              "      <td>0.186441</td>\n",
              "    </tr>\n",
              "    <tr>\n",
              "      <th>3</th>\n",
              "      <td>k-NN</td>\n",
              "      <td>739</td>\n",
              "      <td>23</td>\n",
              "      <td>36</td>\n",
              "      <td>5</td>\n",
              "      <td>0.940366</td>\n",
              "      <td>0.943841</td>\n",
              "      <td>0.948941</td>\n",
              "      <td>0.528736</td>\n",
              "      <td>0.821429</td>\n",
              "      <td>0.389831</td>\n",
              "    </tr>\n",
              "    <tr>\n",
              "      <th>4</th>\n",
              "      <td>Decision Tree</td>\n",
              "      <td>728</td>\n",
              "      <td>26</td>\n",
              "      <td>33</td>\n",
              "      <td>16</td>\n",
              "      <td>0.934188</td>\n",
              "      <td>0.931832</td>\n",
              "      <td>0.938979</td>\n",
              "      <td>0.514851</td>\n",
              "      <td>0.619048</td>\n",
              "      <td>0.440678</td>\n",
              "    </tr>\n",
              "    <tr>\n",
              "      <th>5</th>\n",
              "      <td>Adaboost (Discrete SAMME)</td>\n",
              "      <td>729</td>\n",
              "      <td>36</td>\n",
              "      <td>23</td>\n",
              "      <td>15</td>\n",
              "      <td>0.951083</td>\n",
              "      <td>0.950052</td>\n",
              "      <td>0.952677</td>\n",
              "      <td>0.654545</td>\n",
              "      <td>0.705882</td>\n",
              "      <td>0.610169</td>\n",
              "    </tr>\n",
              "    <tr>\n",
              "      <th>6</th>\n",
              "      <td>Adaboost (Real SAMME.R)</td>\n",
              "      <td>738</td>\n",
              "      <td>28</td>\n",
              "      <td>31</td>\n",
              "      <td>6</td>\n",
              "      <td>0.948110</td>\n",
              "      <td>0.949684</td>\n",
              "      <td>0.953923</td>\n",
              "      <td>0.602151</td>\n",
              "      <td>0.823529</td>\n",
              "      <td>0.474576</td>\n",
              "    </tr>\n",
              "    <tr>\n",
              "      <th>7</th>\n",
              "      <td>Voting Classifier</td>\n",
              "      <td>739</td>\n",
              "      <td>29</td>\n",
              "      <td>30</td>\n",
              "      <td>5</td>\n",
              "      <td>0.950915</td>\n",
              "      <td>0.953050</td>\n",
              "      <td>0.956413</td>\n",
              "      <td>0.623656</td>\n",
              "      <td>0.852941</td>\n",
              "      <td>0.491525</td>\n",
              "    </tr>\n",
              "    <tr>\n",
              "      <th>8</th>\n",
              "      <td>GridSearch with VotingClassifier</td>\n",
              "      <td>735</td>\n",
              "      <td>33</td>\n",
              "      <td>26</td>\n",
              "      <td>9</td>\n",
              "      <td>0.952991</td>\n",
              "      <td>0.952600</td>\n",
              "      <td>0.956413</td>\n",
              "      <td>0.653465</td>\n",
              "      <td>0.785714</td>\n",
              "      <td>0.559322</td>\n",
              "    </tr>\n",
              "  </tbody>\n",
              "</table>\n",
              "</div>\n",
              "      <button class=\"colab-df-convert\" onclick=\"convertToInteractive('df-6ab2fd85-d383-4c59-9db5-ad42d2b6547c')\"\n",
              "              title=\"Convert this dataframe to an interactive table.\"\n",
              "              style=\"display:none;\">\n",
              "        \n",
              "  <svg xmlns=\"http://www.w3.org/2000/svg\" height=\"24px\"viewBox=\"0 0 24 24\"\n",
              "       width=\"24px\">\n",
              "    <path d=\"M0 0h24v24H0V0z\" fill=\"none\"/>\n",
              "    <path d=\"M18.56 5.44l.94 2.06.94-2.06 2.06-.94-2.06-.94-.94-2.06-.94 2.06-2.06.94zm-11 1L8.5 8.5l.94-2.06 2.06-.94-2.06-.94L8.5 2.5l-.94 2.06-2.06.94zm10 10l.94 2.06.94-2.06 2.06-.94-2.06-.94-.94-2.06-.94 2.06-2.06.94z\"/><path d=\"M17.41 7.96l-1.37-1.37c-.4-.4-.92-.59-1.43-.59-.52 0-1.04.2-1.43.59L10.3 9.45l-7.72 7.72c-.78.78-.78 2.05 0 2.83L4 21.41c.39.39.9.59 1.41.59.51 0 1.02-.2 1.41-.59l7.78-7.78 2.81-2.81c.8-.78.8-2.07 0-2.86zM5.41 20L4 18.59l7.72-7.72 1.47 1.35L5.41 20z\"/>\n",
              "  </svg>\n",
              "      </button>\n",
              "      \n",
              "  <style>\n",
              "    .colab-df-container {\n",
              "      display:flex;\n",
              "      flex-wrap:wrap;\n",
              "      gap: 12px;\n",
              "    }\n",
              "\n",
              "    .colab-df-convert {\n",
              "      background-color: #E8F0FE;\n",
              "      border: none;\n",
              "      border-radius: 50%;\n",
              "      cursor: pointer;\n",
              "      display: none;\n",
              "      fill: #1967D2;\n",
              "      height: 32px;\n",
              "      padding: 0 0 0 0;\n",
              "      width: 32px;\n",
              "    }\n",
              "\n",
              "    .colab-df-convert:hover {\n",
              "      background-color: #E2EBFA;\n",
              "      box-shadow: 0px 1px 2px rgba(60, 64, 67, 0.3), 0px 1px 3px 1px rgba(60, 64, 67, 0.15);\n",
              "      fill: #174EA6;\n",
              "    }\n",
              "\n",
              "    [theme=dark] .colab-df-convert {\n",
              "      background-color: #3B4455;\n",
              "      fill: #D2E3FC;\n",
              "    }\n",
              "\n",
              "    [theme=dark] .colab-df-convert:hover {\n",
              "      background-color: #434B5C;\n",
              "      box-shadow: 0px 1px 3px 1px rgba(0, 0, 0, 0.15);\n",
              "      filter: drop-shadow(0px 1px 2px rgba(0, 0, 0, 0.3));\n",
              "      fill: #FFFFFF;\n",
              "    }\n",
              "  </style>\n",
              "\n",
              "      <script>\n",
              "        const buttonEl =\n",
              "          document.querySelector('#df-6ab2fd85-d383-4c59-9db5-ad42d2b6547c button.colab-df-convert');\n",
              "        buttonEl.style.display =\n",
              "          google.colab.kernel.accessAllowed ? 'block' : 'none';\n",
              "\n",
              "        async function convertToInteractive(key) {\n",
              "          const element = document.querySelector('#df-6ab2fd85-d383-4c59-9db5-ad42d2b6547c');\n",
              "          const dataTable =\n",
              "            await google.colab.kernel.invokeFunction('convertToInteractive',\n",
              "                                                     [key], {});\n",
              "          if (!dataTable) return;\n",
              "\n",
              "          const docLinkHtml = 'Like what you see? Visit the ' +\n",
              "            '<a target=\"_blank\" href=https://colab.research.google.com/notebooks/data_table.ipynb>data table notebook</a>'\n",
              "            + ' to learn more about interactive tables.';\n",
              "          element.innerHTML = '';\n",
              "          dataTable['output_type'] = 'display_data';\n",
              "          await google.colab.output.renderOutput(dataTable, element);\n",
              "          const docLink = document.createElement('div');\n",
              "          docLink.innerHTML = docLinkHtml;\n",
              "          element.appendChild(docLink);\n",
              "        }\n",
              "      </script>\n",
              "    </div>\n",
              "  </div>\n",
              "  "
            ]
          },
          "metadata": {},
          "execution_count": 35
        }
      ]
    }
  ]
}