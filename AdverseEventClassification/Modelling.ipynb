{
  "nbformat": 4,
  "nbformat_minor": 0,
  "metadata": {
    "colab": {
      "name": "Modelling.ipynb",
      "provenance": [],
      "authorship_tag": "ABX9TyOrqZAR4VQddy6KzAXRp4rA"
    },
    "kernelspec": {
      "name": "python3",
      "display_name": "Python 3"
    },
    "language_info": {
      "name": "python"
    }
  },
  "cells": [
    {
      "cell_type": "markdown",
      "source": [
        "### Download the data"
      ],
      "metadata": {
        "id": "iEICroIunbrH"
      }
    },
    {
      "cell_type": "code",
      "source": [
        "!wget https://raw.githubusercontent.com/suvigyajain0101/CaseStudies/main/AdverseEventClassification/Data/AE_Data.csv"
      ],
      "metadata": {
        "colab": {
          "base_uri": "https://localhost:8080/"
        },
        "id": "v0qHYHSpni9w",
        "outputId": "2d3b0b8c-c025-4697-dafd-214cab3b2773"
      },
      "execution_count": null,
      "outputs": [
        {
          "output_type": "stream",
          "name": "stdout",
          "text": [
            "--2022-08-25 20:27:54--  https://raw.githubusercontent.com/suvigyajain0101/CaseStudies/main/AdverseEventClassification/Data/AE_Data.csv\n",
            "Resolving raw.githubusercontent.com (raw.githubusercontent.com)... 185.199.108.133, 185.199.109.133, 185.199.110.133, ...\n",
            "Connecting to raw.githubusercontent.com (raw.githubusercontent.com)|185.199.108.133|:443... connected.\n",
            "HTTP request sent, awaiting response... 200 OK\n",
            "Length: 5998096 (5.7M) [text/plain]\n",
            "Saving to: ‘AE_Data.csv’\n",
            "\n",
            "AE_Data.csv         100%[===================>]   5.72M  --.-KB/s    in 0.08s   \n",
            "\n",
            "2022-08-25 20:27:55 (71.4 MB/s) - ‘AE_Data.csv’ saved [5998096/5998096]\n",
            "\n"
          ]
        }
      ]
    },
    {
      "cell_type": "markdown",
      "source": [
        "### Import Libraries"
      ],
      "metadata": {
        "id": "jpdJtnronjPA"
      }
    },
    {
      "cell_type": "code",
      "source": [
        "import pandas as pd\n",
        "import numpy as np\n",
        "import re"
      ],
      "metadata": {
        "id": "deysFOmVnnSo"
      },
      "execution_count": null,
      "outputs": []
    },
    {
      "cell_type": "code",
      "source": [
        "WORDS_TO_REMOVE = ['##padding##', 'ti-', 'ti -']\n",
        "EXPERIMENT_RESULTS = []"
      ],
      "metadata": {
        "id": "SjwD_F3KunMI"
      },
      "execution_count": null,
      "outputs": []
    },
    {
      "cell_type": "code",
      "source": [
        "df = pd.read_csv('/content/AE_Data.csv')\n",
        "df.head()"
      ],
      "metadata": {
        "colab": {
          "base_uri": "https://localhost:8080/",
          "height": 206
        },
        "id": "0abX0Dx8no2-",
        "outputId": "173ab405-c2b2-4f97-ca05-daf6034e34c9"
      },
      "execution_count": null,
      "outputs": [
        {
          "output_type": "execute_result",
          "data": {
            "text/plain": [
              "                                               title  \\\n",
              "0  antimicrobial impacts of essential oils on foo...   \n",
              "1  purification and characterization of a cystein...   \n",
              "2  telavancin activity tested against gram-positi...   \n",
              "3  the in vitro antimicrobial activity of cymbopo...   \n",
              "4  screening currency notes for microbial pathoge...   \n",
              "\n",
              "                                            abstract  label  \n",
              "0  the antimicrobial activity of twelve essential...      0  \n",
              "1  antimicrobial peptide (amp) crustin is a type ...      0  \n",
              "2  objectives: to reassess the activity of telava...      0  \n",
              "3  background: it is well known that cymbopogon (...      0  \n",
              "4  fomites are a well-known source of microbial i...      0  "
            ],
            "text/html": [
              "\n",
              "  <div id=\"df-889d7bd1-2433-419b-b885-7079c54ba4d8\">\n",
              "    <div class=\"colab-df-container\">\n",
              "      <div>\n",
              "<style scoped>\n",
              "    .dataframe tbody tr th:only-of-type {\n",
              "        vertical-align: middle;\n",
              "    }\n",
              "\n",
              "    .dataframe tbody tr th {\n",
              "        vertical-align: top;\n",
              "    }\n",
              "\n",
              "    .dataframe thead th {\n",
              "        text-align: right;\n",
              "    }\n",
              "</style>\n",
              "<table border=\"1\" class=\"dataframe\">\n",
              "  <thead>\n",
              "    <tr style=\"text-align: right;\">\n",
              "      <th></th>\n",
              "      <th>title</th>\n",
              "      <th>abstract</th>\n",
              "      <th>label</th>\n",
              "    </tr>\n",
              "  </thead>\n",
              "  <tbody>\n",
              "    <tr>\n",
              "      <th>0</th>\n",
              "      <td>antimicrobial impacts of essential oils on foo...</td>\n",
              "      <td>the antimicrobial activity of twelve essential...</td>\n",
              "      <td>0</td>\n",
              "    </tr>\n",
              "    <tr>\n",
              "      <th>1</th>\n",
              "      <td>purification and characterization of a cystein...</td>\n",
              "      <td>antimicrobial peptide (amp) crustin is a type ...</td>\n",
              "      <td>0</td>\n",
              "    </tr>\n",
              "    <tr>\n",
              "      <th>2</th>\n",
              "      <td>telavancin activity tested against gram-positi...</td>\n",
              "      <td>objectives: to reassess the activity of telava...</td>\n",
              "      <td>0</td>\n",
              "    </tr>\n",
              "    <tr>\n",
              "      <th>3</th>\n",
              "      <td>the in vitro antimicrobial activity of cymbopo...</td>\n",
              "      <td>background: it is well known that cymbopogon (...</td>\n",
              "      <td>0</td>\n",
              "    </tr>\n",
              "    <tr>\n",
              "      <th>4</th>\n",
              "      <td>screening currency notes for microbial pathoge...</td>\n",
              "      <td>fomites are a well-known source of microbial i...</td>\n",
              "      <td>0</td>\n",
              "    </tr>\n",
              "  </tbody>\n",
              "</table>\n",
              "</div>\n",
              "      <button class=\"colab-df-convert\" onclick=\"convertToInteractive('df-889d7bd1-2433-419b-b885-7079c54ba4d8')\"\n",
              "              title=\"Convert this dataframe to an interactive table.\"\n",
              "              style=\"display:none;\">\n",
              "        \n",
              "  <svg xmlns=\"http://www.w3.org/2000/svg\" height=\"24px\"viewBox=\"0 0 24 24\"\n",
              "       width=\"24px\">\n",
              "    <path d=\"M0 0h24v24H0V0z\" fill=\"none\"/>\n",
              "    <path d=\"M18.56 5.44l.94 2.06.94-2.06 2.06-.94-2.06-.94-.94-2.06-.94 2.06-2.06.94zm-11 1L8.5 8.5l.94-2.06 2.06-.94-2.06-.94L8.5 2.5l-.94 2.06-2.06.94zm10 10l.94 2.06.94-2.06 2.06-.94-2.06-.94-.94-2.06-.94 2.06-2.06.94z\"/><path d=\"M17.41 7.96l-1.37-1.37c-.4-.4-.92-.59-1.43-.59-.52 0-1.04.2-1.43.59L10.3 9.45l-7.72 7.72c-.78.78-.78 2.05 0 2.83L4 21.41c.39.39.9.59 1.41.59.51 0 1.02-.2 1.41-.59l7.78-7.78 2.81-2.81c.8-.78.8-2.07 0-2.86zM5.41 20L4 18.59l7.72-7.72 1.47 1.35L5.41 20z\"/>\n",
              "  </svg>\n",
              "      </button>\n",
              "      \n",
              "  <style>\n",
              "    .colab-df-container {\n",
              "      display:flex;\n",
              "      flex-wrap:wrap;\n",
              "      gap: 12px;\n",
              "    }\n",
              "\n",
              "    .colab-df-convert {\n",
              "      background-color: #E8F0FE;\n",
              "      border: none;\n",
              "      border-radius: 50%;\n",
              "      cursor: pointer;\n",
              "      display: none;\n",
              "      fill: #1967D2;\n",
              "      height: 32px;\n",
              "      padding: 0 0 0 0;\n",
              "      width: 32px;\n",
              "    }\n",
              "\n",
              "    .colab-df-convert:hover {\n",
              "      background-color: #E2EBFA;\n",
              "      box-shadow: 0px 1px 2px rgba(60, 64, 67, 0.3), 0px 1px 3px 1px rgba(60, 64, 67, 0.15);\n",
              "      fill: #174EA6;\n",
              "    }\n",
              "\n",
              "    [theme=dark] .colab-df-convert {\n",
              "      background-color: #3B4455;\n",
              "      fill: #D2E3FC;\n",
              "    }\n",
              "\n",
              "    [theme=dark] .colab-df-convert:hover {\n",
              "      background-color: #434B5C;\n",
              "      box-shadow: 0px 1px 3px 1px rgba(0, 0, 0, 0.15);\n",
              "      filter: drop-shadow(0px 1px 2px rgba(0, 0, 0, 0.3));\n",
              "      fill: #FFFFFF;\n",
              "    }\n",
              "  </style>\n",
              "\n",
              "      <script>\n",
              "        const buttonEl =\n",
              "          document.querySelector('#df-889d7bd1-2433-419b-b885-7079c54ba4d8 button.colab-df-convert');\n",
              "        buttonEl.style.display =\n",
              "          google.colab.kernel.accessAllowed ? 'block' : 'none';\n",
              "\n",
              "        async function convertToInteractive(key) {\n",
              "          const element = document.querySelector('#df-889d7bd1-2433-419b-b885-7079c54ba4d8');\n",
              "          const dataTable =\n",
              "            await google.colab.kernel.invokeFunction('convertToInteractive',\n",
              "                                                     [key], {});\n",
              "          if (!dataTable) return;\n",
              "\n",
              "          const docLinkHtml = 'Like what you see? Visit the ' +\n",
              "            '<a target=\"_blank\" href=https://colab.research.google.com/notebooks/data_table.ipynb>data table notebook</a>'\n",
              "            + ' to learn more about interactive tables.';\n",
              "          element.innerHTML = '';\n",
              "          dataTable['output_type'] = 'display_data';\n",
              "          await google.colab.output.renderOutput(dataTable, element);\n",
              "          const docLink = document.createElement('div');\n",
              "          docLink.innerHTML = docLinkHtml;\n",
              "          element.appendChild(docLink);\n",
              "        }\n",
              "      </script>\n",
              "    </div>\n",
              "  </div>\n",
              "  "
            ]
          },
          "metadata": {},
          "execution_count": 4
        }
      ]
    },
    {
      "cell_type": "code",
      "source": [
        "df['label'].value_counts()"
      ],
      "metadata": {
        "colab": {
          "base_uri": "https://localhost:8080/"
        },
        "id": "5ydBapLanqSa",
        "outputId": "f1a986b9-62a6-45cd-b290-4e66429756bd"
      },
      "execution_count": null,
      "outputs": [
        {
          "output_type": "execute_result",
          "data": {
            "text/plain": [
              "0    3851\n",
              "1     294\n",
              "Name: label, dtype: int64"
            ]
          },
          "metadata": {},
          "execution_count": 5
        }
      ]
    },
    {
      "cell_type": "markdown",
      "source": [
        "### Helper Functions"
      ],
      "metadata": {
        "id": "87i359fWubWi"
      }
    },
    {
      "cell_type": "code",
      "source": [
        "def parse_confusion_matrix(x):\n",
        "  '''\n",
        "  Function parses confusion matrix and \n",
        "  returns TP, TN, FP and FN for a binary classification model\n",
        "  '''\n",
        "  tn, fp, fn, tp = x.ravel()\n",
        "\n",
        "  return [tp, tn, fp, fn]\n",
        "\n",
        "def parse_clf_report(x):\n",
        "  '''\n",
        "  Functinon parses classificatin report dictionary\n",
        "  '''\n",
        "\n",
        "  f1 = x['weighted avg']['f1-score']\n",
        "  precision = x['weighted avg']['precision']\n",
        "  recall = x['weighted avg']['recall']\n",
        "  positive_f1 = x['1']['f1-score']\n",
        "  positive_precision = x['1']['precision']\n",
        "  positive_recall = x['1']['recall']\n",
        "\n",
        "  return [f1, precision, recall, positive_f1, positive_precision, positive_recall]\n",
        "\n",
        "def prepare_exp_report(master_list, exp_name, confsn_mat, clf_rpt):\n",
        "  '''\n",
        "  Function prepares experiment report, \n",
        "  in a nutshell it's just concataneting few lists\n",
        "  '''\n",
        "  # x is the forest here\n",
        "  return master_list.append([exp_name] + confsn_mat + clf_rpt)"
      ],
      "metadata": {
        "id": "EG-UrseGuciu"
      },
      "execution_count": null,
      "outputs": []
    },
    {
      "cell_type": "markdown",
      "source": [
        "### Data Cleaning\n",
        "\n",
        "1. Combine Title and Abstract\n",
        "2. Lower case entire corpus\n",
        "2. Remove newline and tabs from the dataset\n",
        "3. Remove brackets, #, colons, 'TI\" (title identifier), '##PADDING##'\n",
        "5. Lemmatize and remove stopwords\n",
        "2. Remove records with less than 10 words"
      ],
      "metadata": {
        "id": "e4pT39M5nu4K"
      }
    },
    {
      "cell_type": "code",
      "source": [
        "df['text'] = df['title'] + ' ' + df['abstract']\n",
        "df.head()"
      ],
      "metadata": {
        "colab": {
          "base_uri": "https://localhost:8080/",
          "height": 206
        },
        "id": "3qqv6Qx1n-rY",
        "outputId": "1325955a-9445-4e47-d5d2-15d4fc150bae"
      },
      "execution_count": null,
      "outputs": [
        {
          "output_type": "execute_result",
          "data": {
            "text/plain": [
              "                                               title  \\\n",
              "0  antimicrobial impacts of essential oils on foo...   \n",
              "1  purification and characterization of a cystein...   \n",
              "2  telavancin activity tested against gram-positi...   \n",
              "3  the in vitro antimicrobial activity of cymbopo...   \n",
              "4  screening currency notes for microbial pathoge...   \n",
              "\n",
              "                                            abstract  label  \\\n",
              "0  the antimicrobial activity of twelve essential...      0   \n",
              "1  antimicrobial peptide (amp) crustin is a type ...      0   \n",
              "2  objectives: to reassess the activity of telava...      0   \n",
              "3  background: it is well known that cymbopogon (...      0   \n",
              "4  fomites are a well-known source of microbial i...      0   \n",
              "\n",
              "                                                text  \n",
              "0  antimicrobial impacts of essential oils on foo...  \n",
              "1  purification and characterization of a cystein...  \n",
              "2  telavancin activity tested against gram-positi...  \n",
              "3  the in vitro antimicrobial activity of cymbopo...  \n",
              "4  screening currency notes for microbial pathoge...  "
            ],
            "text/html": [
              "\n",
              "  <div id=\"df-f0237085-e6bf-49a8-a8e5-7fc008ce0bf0\">\n",
              "    <div class=\"colab-df-container\">\n",
              "      <div>\n",
              "<style scoped>\n",
              "    .dataframe tbody tr th:only-of-type {\n",
              "        vertical-align: middle;\n",
              "    }\n",
              "\n",
              "    .dataframe tbody tr th {\n",
              "        vertical-align: top;\n",
              "    }\n",
              "\n",
              "    .dataframe thead th {\n",
              "        text-align: right;\n",
              "    }\n",
              "</style>\n",
              "<table border=\"1\" class=\"dataframe\">\n",
              "  <thead>\n",
              "    <tr style=\"text-align: right;\">\n",
              "      <th></th>\n",
              "      <th>title</th>\n",
              "      <th>abstract</th>\n",
              "      <th>label</th>\n",
              "      <th>text</th>\n",
              "    </tr>\n",
              "  </thead>\n",
              "  <tbody>\n",
              "    <tr>\n",
              "      <th>0</th>\n",
              "      <td>antimicrobial impacts of essential oils on foo...</td>\n",
              "      <td>the antimicrobial activity of twelve essential...</td>\n",
              "      <td>0</td>\n",
              "      <td>antimicrobial impacts of essential oils on foo...</td>\n",
              "    </tr>\n",
              "    <tr>\n",
              "      <th>1</th>\n",
              "      <td>purification and characterization of a cystein...</td>\n",
              "      <td>antimicrobial peptide (amp) crustin is a type ...</td>\n",
              "      <td>0</td>\n",
              "      <td>purification and characterization of a cystein...</td>\n",
              "    </tr>\n",
              "    <tr>\n",
              "      <th>2</th>\n",
              "      <td>telavancin activity tested against gram-positi...</td>\n",
              "      <td>objectives: to reassess the activity of telava...</td>\n",
              "      <td>0</td>\n",
              "      <td>telavancin activity tested against gram-positi...</td>\n",
              "    </tr>\n",
              "    <tr>\n",
              "      <th>3</th>\n",
              "      <td>the in vitro antimicrobial activity of cymbopo...</td>\n",
              "      <td>background: it is well known that cymbopogon (...</td>\n",
              "      <td>0</td>\n",
              "      <td>the in vitro antimicrobial activity of cymbopo...</td>\n",
              "    </tr>\n",
              "    <tr>\n",
              "      <th>4</th>\n",
              "      <td>screening currency notes for microbial pathoge...</td>\n",
              "      <td>fomites are a well-known source of microbial i...</td>\n",
              "      <td>0</td>\n",
              "      <td>screening currency notes for microbial pathoge...</td>\n",
              "    </tr>\n",
              "  </tbody>\n",
              "</table>\n",
              "</div>\n",
              "      <button class=\"colab-df-convert\" onclick=\"convertToInteractive('df-f0237085-e6bf-49a8-a8e5-7fc008ce0bf0')\"\n",
              "              title=\"Convert this dataframe to an interactive table.\"\n",
              "              style=\"display:none;\">\n",
              "        \n",
              "  <svg xmlns=\"http://www.w3.org/2000/svg\" height=\"24px\"viewBox=\"0 0 24 24\"\n",
              "       width=\"24px\">\n",
              "    <path d=\"M0 0h24v24H0V0z\" fill=\"none\"/>\n",
              "    <path d=\"M18.56 5.44l.94 2.06.94-2.06 2.06-.94-2.06-.94-.94-2.06-.94 2.06-2.06.94zm-11 1L8.5 8.5l.94-2.06 2.06-.94-2.06-.94L8.5 2.5l-.94 2.06-2.06.94zm10 10l.94 2.06.94-2.06 2.06-.94-2.06-.94-.94-2.06-.94 2.06-2.06.94z\"/><path d=\"M17.41 7.96l-1.37-1.37c-.4-.4-.92-.59-1.43-.59-.52 0-1.04.2-1.43.59L10.3 9.45l-7.72 7.72c-.78.78-.78 2.05 0 2.83L4 21.41c.39.39.9.59 1.41.59.51 0 1.02-.2 1.41-.59l7.78-7.78 2.81-2.81c.8-.78.8-2.07 0-2.86zM5.41 20L4 18.59l7.72-7.72 1.47 1.35L5.41 20z\"/>\n",
              "  </svg>\n",
              "      </button>\n",
              "      \n",
              "  <style>\n",
              "    .colab-df-container {\n",
              "      display:flex;\n",
              "      flex-wrap:wrap;\n",
              "      gap: 12px;\n",
              "    }\n",
              "\n",
              "    .colab-df-convert {\n",
              "      background-color: #E8F0FE;\n",
              "      border: none;\n",
              "      border-radius: 50%;\n",
              "      cursor: pointer;\n",
              "      display: none;\n",
              "      fill: #1967D2;\n",
              "      height: 32px;\n",
              "      padding: 0 0 0 0;\n",
              "      width: 32px;\n",
              "    }\n",
              "\n",
              "    .colab-df-convert:hover {\n",
              "      background-color: #E2EBFA;\n",
              "      box-shadow: 0px 1px 2px rgba(60, 64, 67, 0.3), 0px 1px 3px 1px rgba(60, 64, 67, 0.15);\n",
              "      fill: #174EA6;\n",
              "    }\n",
              "\n",
              "    [theme=dark] .colab-df-convert {\n",
              "      background-color: #3B4455;\n",
              "      fill: #D2E3FC;\n",
              "    }\n",
              "\n",
              "    [theme=dark] .colab-df-convert:hover {\n",
              "      background-color: #434B5C;\n",
              "      box-shadow: 0px 1px 3px 1px rgba(0, 0, 0, 0.15);\n",
              "      filter: drop-shadow(0px 1px 2px rgba(0, 0, 0, 0.3));\n",
              "      fill: #FFFFFF;\n",
              "    }\n",
              "  </style>\n",
              "\n",
              "      <script>\n",
              "        const buttonEl =\n",
              "          document.querySelector('#df-f0237085-e6bf-49a8-a8e5-7fc008ce0bf0 button.colab-df-convert');\n",
              "        buttonEl.style.display =\n",
              "          google.colab.kernel.accessAllowed ? 'block' : 'none';\n",
              "\n",
              "        async function convertToInteractive(key) {\n",
              "          const element = document.querySelector('#df-f0237085-e6bf-49a8-a8e5-7fc008ce0bf0');\n",
              "          const dataTable =\n",
              "            await google.colab.kernel.invokeFunction('convertToInteractive',\n",
              "                                                     [key], {});\n",
              "          if (!dataTable) return;\n",
              "\n",
              "          const docLinkHtml = 'Like what you see? Visit the ' +\n",
              "            '<a target=\"_blank\" href=https://colab.research.google.com/notebooks/data_table.ipynb>data table notebook</a>'\n",
              "            + ' to learn more about interactive tables.';\n",
              "          element.innerHTML = '';\n",
              "          dataTable['output_type'] = 'display_data';\n",
              "          await google.colab.output.renderOutput(dataTable, element);\n",
              "          const docLink = document.createElement('div');\n",
              "          docLink.innerHTML = docLinkHtml;\n",
              "          element.appendChild(docLink);\n",
              "        }\n",
              "      </script>\n",
              "    </div>\n",
              "  </div>\n",
              "  "
            ]
          },
          "metadata": {},
          "execution_count": 7
        }
      ]
    },
    {
      "cell_type": "code",
      "source": [
        "df.replace(r'\\n','', regex=True).iloc[4140, :]['text']"
      ],
      "metadata": {
        "colab": {
          "base_uri": "https://localhost:8080/",
          "height": 35
        },
        "id": "cgFd68BPpWfv",
        "outputId": "8f7e604d-5af7-453f-a6eb-70f00ae92da1"
      },
      "execution_count": null,
      "outputs": [
        {
          "output_type": "execute_result",
          "data": {
            "text/plain": [
              "'TI  - [AUTO-INFECTION (INTESTINAL) IN RADIATION SICKNESS AND ITS PREVENTION IN WISTAR WHITE RATS]. ##PADDING##'"
            ],
            "application/vnd.google.colaboratory.intrinsic+json": {
              "type": "string"
            }
          },
          "metadata": {},
          "execution_count": 8
        }
      ]
    },
    {
      "cell_type": "code",
      "source": [
        "import nltk\n",
        "from nltk.stem import WordNetLemmatizer\n",
        "from nltk.corpus import stopwords\n",
        "nltk.download('stopwords')\n",
        "nltk.download('wordnet')\n",
        "nltk.download('omw-1.4')"
      ],
      "metadata": {
        "colab": {
          "base_uri": "https://localhost:8080/"
        },
        "id": "tD1NlEloxF-9",
        "outputId": "7a38f050-ff5b-4953-84bb-bdfd74245eb2"
      },
      "execution_count": null,
      "outputs": [
        {
          "output_type": "stream",
          "name": "stderr",
          "text": [
            "[nltk_data] Downloading package stopwords to /root/nltk_data...\n",
            "[nltk_data]   Unzipping corpora/stopwords.zip.\n",
            "[nltk_data] Downloading package wordnet to /root/nltk_data...\n",
            "[nltk_data] Downloading package omw-1.4 to /root/nltk_data...\n"
          ]
        },
        {
          "output_type": "execute_result",
          "data": {
            "text/plain": [
              "True"
            ]
          },
          "metadata": {},
          "execution_count": 9
        }
      ]
    },
    {
      "cell_type": "code",
      "source": [
        "eng_stopwords = stopwords.words('english')\n",
        "stemmer = WordNetLemmatizer()\n",
        "\n",
        "joined_words_to_remove = '|'.join(WORDS_TO_REMOVE)\n",
        "\n",
        "\n",
        "def clean_text(x):\n",
        "  # Lower case the text\n",
        "  lower_x = x.lower()\n",
        "\n",
        "  # Remove line breaks and tabs\n",
        "  no_break_x = re.sub(\"\\n|\\r|\\t\", \" \", lower_x)\n",
        "\n",
        "  # Remove specific words\n",
        "  no_waste_words_x = re.sub(joined_words_to_remove, \" \", no_break_x)\n",
        "\n",
        "  # Remove all non alphabet, numeral and space characters\n",
        "  alpha_x = re.sub('[^0-9a-zA-Z ]+', ' ', no_waste_words_x)\n",
        "\n",
        "  # Remove stopwords and lemmatize the word. Join at the end will also remove multi-spaces\n",
        "  lemma_x = ' '.join([stemmer.lemmatize(word) for word in alpha_x.split() if word not in eng_stopwords])\n",
        "\n",
        "  return lemma_x"
      ],
      "metadata": {
        "id": "SAwYUVd6sC47"
      },
      "execution_count": null,
      "outputs": []
    },
    {
      "cell_type": "markdown",
      "source": [
        "Let's test the function on few examples"
      ],
      "metadata": {
        "id": "qOPATBDpwSho"
      }
    },
    {
      "cell_type": "code",
      "source": [
        "for sample_text in df.sample(5)['text'].values:\n",
        "  print('ORIGINAL TEXT : ', sample_text)\n",
        "  print('-'*100)\n",
        "  print('CLEANED TEXT : ', clean_text(sample_text))\n",
        "  print('\\n')\n",
        "  print('*'*100)"
      ],
      "metadata": {
        "colab": {
          "base_uri": "https://localhost:8080/"
        },
        "id": "j8PxtmOvwVXd",
        "outputId": "8fd7eeb6-f65f-4f36-ef01-32bebb3b0485"
      },
      "execution_count": null,
      "outputs": [
        {
          "output_type": "stream",
          "name": "stdout",
          "text": [
            "ORIGINAL TEXT :  binding of streptococcal antigens to muscle tissue in vitro.\n",
            " antigens extracted from cells of streptococcus pyogenes t6 and streptococcus mutans strains aht, bht, 10449, omz175, and k1r adsorbed to the sarcolemmal sheath of cardiac muscle cells in vitro. similar preparations from s. salivarius, s. sanguis, staphylococcus aureus, and lactobacillus casei had weak or negligible tissue-binding activity. tissue-bound bacterial antigens were detected with homologous rabbit antisera with both indirect immunofluorescence tests and an indirect radioimmunoassay. serological cross-reactivity was observed between the  tissue-binding factors of s. pyogenes and s. mutans cells but not between the bacteria and muscle tissue. in a comparative study of extraction procedures, the  greatest yield of tissue-binding factors was obtained from group a streptococci by cell disruption in buffer at 4 degrees c. hot aqueous phenol and hot water extracts were inactive. antibodies specific for the tissue-binding factor(s) were readily adsorbed from rabbit anti-s. pyogenes serum by a preparation of isolated  cytoplasmic membranes but not by a suspension of cell wall fragments. the heart-binding component of s. pyogenes cell extracts was inactivated by protease  digestion and heat treatment and to a lesser extent by periodic acid oxidation. the capacity of heart cell components to adsorb streptococcal antigens was reduced by protease treatment but not by the action of neuraminidase, hyaluronidase, organic solvents, or detergents.\n",
            "\n",
            "----------------------------------------------------------------------------------------------------\n",
            "CLEANED TEXT :  binding streptococcal antigen muscle tissue vitro antigen extracted cell streptococcus pyogenes t6 streptococcus mutans strain aht bht 10449 omz175 k1r adsorbed sarcolemmal sheath cardiac muscle cell vitro similar preparation salivarius sanguis staphylococcus aureus lactobacillus casei weak negligible tissue binding activity tissue bound bacterial antigen detected homologous rabbit antiserum indirect immunofluorescence test indirect radioimmunoassay serological cross reactivity observed tissue binding factor pyogenes mutans cell bacteria muscle tissue comparative study extraction procedure greatest yield tissue binding factor obtained group streptococci cell disruption buffer 4 degree c hot aqueous phenol hot water extract inactive antibody specific tissue binding factor readily adsorbed rabbit pyogenes serum preparation isolated cytoplasmic membrane suspension cell wall fragment heart binding component pyogenes cell extract inactivated protease digestion heat treatment lesser extent periodic acid oxidation capacity heart cell component adsorb streptococcal antigen reduced protease treatment action neuraminidase hyaluronidase organic solvent detergent\n",
            "\n",
            "\n",
            "****************************************************************************************************\n",
            "ORIGINAL TEXT :  TI  - Mechanism of inhibition of tannic acid and related compounds on the growth of intestinal bacteria.\n",
            " AB  - Tannic acid, propyl gallate and methyl gallate, but not gallic acid, were found to be inhibitory to the growth of intestinal bacteria Bacteroides fragilis ATCC 25285, Clostridium clostridiiforme ATCC 25537, C. perfringens ATCC 13124, C. paraputrificum ATCC 25780, Escherichia coli ATCC 25922, Enterobacter cloacae ATCC 13047, Salmonella typhimurium TA98 and S. typhimurium YG1041 at 100-1000 microg/ml in culture broth. Neither Bifidobacterium infantis ATCC 15697 nor Lactobacillus acidophilus ATCC 4356 was inhibited by any of the above compounds up to 500 microg/ml. Tannic acid has a much greater relative binding efficiency to iron than propyl gallate, methyl gallate or gallic acid. The inhibitory effect of tannic acid to the growth of intestinal bacteria may be due to the strong iron binding capacity of tannic acid; whereas the effect of propyl gallate and methyl gallate probably occurs by a different mechanism. The growth of E. coli was restored by the addition of iron to the medium after the precipitate caused by tannic acid was removed. Neither B. infantis nor L. acidophilus require iron for growth. This probably contributes to their resistance to tannic acid. Because tannins are abundant in the human diet, tannins may affect the growth of some intestinal bacteria and thus may have an impact on human health.\n",
            "\n",
            "----------------------------------------------------------------------------------------------------\n",
            "CLEANED TEXT :  ti mechanism inhibition tannic acid related compound growth intestinal bacteria ab tannic acid propyl gallate methyl gallate gallic acid found inhibitory growth intestinal bacteria bacteroides fragilis atcc 25285 clostridium clostridiiforme atcc 25537 c perfringens atcc 13124 c paraputrificum atcc 25780 escherichia coli atcc 25922 enterobacter cloaca atcc 13047 salmonella typhimurium ta98 typhimurium yg1041 100 1000 microg ml culture broth neither bifidobacterium infantis atcc 15697 lactobacillus acidophilus atcc 4356 inhibited compound 500 microg ml tannic acid much greater relative binding efficiency iron propyl gallate methyl gallate gallic acid inhibitory effect tannic acid growth intestinal bacteria may due strong iron binding capacity tannic acid whereas effect propyl gallate methyl gallate probably occurs different mechanism growth e coli restored addition iron medium precipitate caused tannic acid removed neither b infantis l acidophilus require iron growth probably contributes resistance tannic acid tannin abundant human diet tannin may affect growth intestinal bacteria thus may impact human health\n",
            "\n",
            "\n",
            "****************************************************************************************************\n",
            "ORIGINAL TEXT :  TI  - Structural and functional analysis of the S-layer protein crystallisation domain  of Lactobacillus acidophilus ATCC 4356: evidence for protein-protein interaction of two subdomains.\n",
            " AB  - The structure of the crystallisation domain, SAN, of the S(A)-protein of Lactobacillus acidophilus ATCC 4356 was analysed by insertion and deletion mutagenesis, and by proteolytic treatment. Mutant S(A)-protein synthesised in Escherichia coli with 7-13 amino acid insertions near the N terminus or within regions of sequence variation in SAN (amino acid position 7, 45, 114, 125, 193), or in the cell wall-binding domain (position 345) could form crystalline sheets, whereas insertions in conserved regions or in regions with predicted secondary structure elements (positions 30, 67, 88 and 156) destroyed this capacity. FACscan analysis of L.acidophilus synthesising three crystallising and one non-crystallising S(A)-protein c-myc (19 amino acid residues) insertion mutant was performed with c-myc antibodies. Fluorescence was most pronounced for insertions at positions 125 and 156, less for position 45 and severely reduced for position 7. By cytometric flow sorting a transformant harbouring the mutant S(A)-protein gene (position 125) was isolated that showed an increased fluorescense signal. Immunofluorescence microscopy suggested that the transformant synthesized mutant S(A)-protein only. PCR analysis of the transformant grown in the absence of selection pressure indicated that the mutant allele was stably integrated in the chromosome. Proteolytic treatment of S(A)-protein indicated that only sites near the middle of SAN are susceptible, although potential cleavage sites are present through the entire molecule. Expression in E.coli of DNA sequences encoding the two halves of SAN yielded peptides that could oligomerize. Our results indicate that SAN consists of a approximately 12kDa N and a approximately 18kDa C-terminal subdomain linked by a surface exposed loop. The capacity of S(A)-protein of L.acidophilus to present epitopes, up to approximately 19 amino acid residues in length, at the bacterial surface in a genetically stable form, makes the system, in principle, suitable for application as an oral delivery vehicle.\n",
            "\n",
            "----------------------------------------------------------------------------------------------------\n",
            "CLEANED TEXT :  ti structural functional analysis layer protein crystallisation domain lactobacillus acidophilus atcc 4356 evidence protein protein interaction two subdomains ab structure crystallisation domain san protein lactobacillus acidophilus atcc 4356 analysed insertion deletion mutagenesis proteolytic treatment mutant protein synthesised escherichia coli 7 13 amino acid insertion near n terminus within region sequence variation san amino acid position 7 45 114 125 193 cell wall binding domain position 345 could form crystalline sheet whereas insertion conserved region region predicted secondary structure element position 30 67 88 156 destroyed capacity facscan analysis l acidophilus synthesising three crystallising one non crystallising protein c myc 19 amino acid residue insertion mutant performed c myc antibody fluorescence pronounced insertion position 125 156 le position 45 severely reduced position 7 cytometric flow sorting transformant harbouring mutant protein gene position 125 isolated showed increased fluorescense signal immunofluorescence microscopy suggested transformant synthesized mutant protein pcr analysis transformant grown absence selection pressure indicated mutant allele stably integrated chromosome proteolytic treatment protein indicated site near middle san susceptible although potential cleavage site present entire molecule expression e coli dna sequence encoding two half san yielded peptide could oligomerize result indicate san consists approximately 12kda n approximately 18kda c terminal subdomain linked surface exposed loop capacity protein l acidophilus present epitope approximately 19 amino acid residue length bacterial surface genetically stable form make system principle suitable application oral delivery vehicle\n",
            "\n",
            "\n",
            "****************************************************************************************************\n",
            "ORIGINAL TEXT :  a comparison of antimicrobial resistance rates in gram-positive pathogens isolated in the uk from october 1996 to january 1997 and october 1997 to january  1998.\n",
            " rates of resistance for two consecutive years for 28 centres (10 teaching, nine associate teaching and nine district general hospitals) in the uk were compared.  combined rates of resistance for each of the hospital types ofother_species to methicillin revealed an increase in the rate of resistance in teaching  hospitals (12.5% year 1, 23.5% year 2), but, for associate teaching and district  general hospitals rates fell (associate teaching 19.1% year 1, 11.9% year 2; district general 16.5% year 1 and 11.3% year 2). using conventional methodology to determine mics, no strain was considered to have reduced susceptibility to vancomycin. among coagulase-negative staphylococci, increased resistance was observed forother_species to rifampicin, forother_species to clindamycin, forother_species to penicillin and for staphylococcus spp. to clindamycin, methicillin and rifampicin. forother_species an upward trend in low-level resistance to penicillin was observed (18 of the 28 centres), however, for high-level resistance the trend was in the opposite direction (only four centres showed an increase). forother_species there was a trend to a fall in levels of resistance, the only exception being an increase in high-level gentamicin resistance (10.5% year  1, 15.1% year 2, p = 0.0388). forother_species rates of resistance were not significantly different except for increases in resistance to nitrofurantoin  and rifampicin.\n",
            "\n",
            "----------------------------------------------------------------------------------------------------\n",
            "CLEANED TEXT :  comparison antimicrobial resistance rate gram positive pathogen isolated uk october 1996 january 1997 october 1997 january 1998 rate resistance two consecutive year 28 centre 10 teaching nine associate teaching nine district general hospital uk compared combined rate resistance hospital type ofother specie methicillin revealed increase rate resistance teaching hospital 12 5 year 1 23 5 year 2 associate teaching district general hospital rate fell associate teaching 19 1 year 1 11 9 year 2 district general 16 5 year 1 11 3 year 2 using conventional methodology determine mics strain considered reduced susceptibility vancomycin among coagulase negative staphylococci increased resistance observed forother specie rifampicin forother specie clindamycin forother specie penicillin staphylococcus spp clindamycin methicillin rifampicin forother specie upward trend low level resistance penicillin observed 18 28 centre however high level resistance trend opposite direction four centre showed increase forother specie trend fall level resistance exception increase high level gentamicin resistance 10 5 year 1 15 1 year 2 p 0 0388 forother specie rate resistance significantly different except increase resistance nitrofurantoin rifampicin\n",
            "\n",
            "\n",
            "****************************************************************************************************\n",
            "ORIGINAL TEXT :  pathogenicity of encapsulatedother_species group,other_species andother_species subsp. brevis in abscesses in mice.\n",
            " the pathogenicity of 27 clinical isolates of theother_species (bm) group and four clinical isolates ofother_species andother_species subsp. brevis were investigated by inoculating them into mice and subsequently determining their ability to cause subcutaneous (sc) or intraperitoneal abscesses. only 11 isolates of bm group and oneother_species induced abscesses in mice, and all were found to be heavily encapsulated on recovery from the abscesses (more than 50 per cent of the organisms were encapsulated). when the other 23 isolates, however, were injected sc in combination with eitherother_species,other_species,other_species,other_species, staphylococcus  aureus orother_species, abscesses were formed in 16 of the 23 combinations. the bacteroides spp. recovered from the mixed infection were heavily encapsulated. capsules also formed in bacteroides if the organisms were injected together with capsular material or formalin killed cells ofother_species or encapsulated bacteroides sp. once non-encapsulated or only slightly encapsulated strains acquired a capsule, they could induce abscesses on reinoculation into mice.\n",
            "\n",
            "----------------------------------------------------------------------------------------------------\n",
            "CLEANED TEXT :  pathogenicity encapsulatedother specie group specie andother specie subsp brevis abscess mouse pathogenicity 27 clinical isolates theother specie bm group four clinical isolates ofother specie andother specie subsp brevis investigated inoculating mouse subsequently determining ability cause subcutaneous sc intraperitoneal abscess 11 isolates bm group oneother specie induced abscess mouse found heavily encapsulated recovery abscess 50 per cent organism encapsulated 23 isolates however injected sc combination eitherother specie specie specie specie staphylococcus aureus orother specie abscess formed 16 23 combination bacteroides spp recovered mixed infection heavily encapsulated capsule also formed bacteroides organism injected together capsular material formalin killed cell ofother specie encapsulated bacteroides sp non encapsulated slightly encapsulated strain acquired capsule could induce abscess reinoculation mouse\n",
            "\n",
            "\n",
            "****************************************************************************************************\n"
          ]
        }
      ]
    },
    {
      "cell_type": "code",
      "source": [
        "# Apply cleaning function to the text field\n",
        "df['clean_text'] = df['text'].apply(lambda x : clean_text(x))\n",
        "\n",
        "# Get the length and drop records less than 10 words\n",
        "df['text_len'] = df['clean_text'].str.split().apply(len)\n",
        "\n",
        "cleaned_df = df[df['text_len'] > 10][['clean_text', 'label']]"
      ],
      "metadata": {
        "id": "7ahsc8kwoFX3"
      },
      "execution_count": null,
      "outputs": []
    },
    {
      "cell_type": "code",
      "source": [
        "cleaned_df.head()"
      ],
      "metadata": {
        "colab": {
          "base_uri": "https://localhost:8080/",
          "height": 206
        },
        "id": "4ZgBEcURrdB7",
        "outputId": "fca2be7c-8b20-4d09-db14-6cbd8568b67e"
      },
      "execution_count": null,
      "outputs": [
        {
          "output_type": "execute_result",
          "data": {
            "text/plain": [
              "                                          clean_text  label\n",
              "0  antimicrobial impact essential oil food borne ...      0\n",
              "1  purification characterization cysteine rich 14...      0\n",
              "2  telavancin activity tested gram positive clini...      0\n",
              "3  vitro antimicrobial activity cymbopogon essent...      0\n",
              "4  screening currency note microbial pathogen ant...      0"
            ],
            "text/html": [
              "\n",
              "  <div id=\"df-385f5b33-4f4e-4838-8791-bfff1e004c3e\">\n",
              "    <div class=\"colab-df-container\">\n",
              "      <div>\n",
              "<style scoped>\n",
              "    .dataframe tbody tr th:only-of-type {\n",
              "        vertical-align: middle;\n",
              "    }\n",
              "\n",
              "    .dataframe tbody tr th {\n",
              "        vertical-align: top;\n",
              "    }\n",
              "\n",
              "    .dataframe thead th {\n",
              "        text-align: right;\n",
              "    }\n",
              "</style>\n",
              "<table border=\"1\" class=\"dataframe\">\n",
              "  <thead>\n",
              "    <tr style=\"text-align: right;\">\n",
              "      <th></th>\n",
              "      <th>clean_text</th>\n",
              "      <th>label</th>\n",
              "    </tr>\n",
              "  </thead>\n",
              "  <tbody>\n",
              "    <tr>\n",
              "      <th>0</th>\n",
              "      <td>antimicrobial impact essential oil food borne ...</td>\n",
              "      <td>0</td>\n",
              "    </tr>\n",
              "    <tr>\n",
              "      <th>1</th>\n",
              "      <td>purification characterization cysteine rich 14...</td>\n",
              "      <td>0</td>\n",
              "    </tr>\n",
              "    <tr>\n",
              "      <th>2</th>\n",
              "      <td>telavancin activity tested gram positive clini...</td>\n",
              "      <td>0</td>\n",
              "    </tr>\n",
              "    <tr>\n",
              "      <th>3</th>\n",
              "      <td>vitro antimicrobial activity cymbopogon essent...</td>\n",
              "      <td>0</td>\n",
              "    </tr>\n",
              "    <tr>\n",
              "      <th>4</th>\n",
              "      <td>screening currency note microbial pathogen ant...</td>\n",
              "      <td>0</td>\n",
              "    </tr>\n",
              "  </tbody>\n",
              "</table>\n",
              "</div>\n",
              "      <button class=\"colab-df-convert\" onclick=\"convertToInteractive('df-385f5b33-4f4e-4838-8791-bfff1e004c3e')\"\n",
              "              title=\"Convert this dataframe to an interactive table.\"\n",
              "              style=\"display:none;\">\n",
              "        \n",
              "  <svg xmlns=\"http://www.w3.org/2000/svg\" height=\"24px\"viewBox=\"0 0 24 24\"\n",
              "       width=\"24px\">\n",
              "    <path d=\"M0 0h24v24H0V0z\" fill=\"none\"/>\n",
              "    <path d=\"M18.56 5.44l.94 2.06.94-2.06 2.06-.94-2.06-.94-.94-2.06-.94 2.06-2.06.94zm-11 1L8.5 8.5l.94-2.06 2.06-.94-2.06-.94L8.5 2.5l-.94 2.06-2.06.94zm10 10l.94 2.06.94-2.06 2.06-.94-2.06-.94-.94-2.06-.94 2.06-2.06.94z\"/><path d=\"M17.41 7.96l-1.37-1.37c-.4-.4-.92-.59-1.43-.59-.52 0-1.04.2-1.43.59L10.3 9.45l-7.72 7.72c-.78.78-.78 2.05 0 2.83L4 21.41c.39.39.9.59 1.41.59.51 0 1.02-.2 1.41-.59l7.78-7.78 2.81-2.81c.8-.78.8-2.07 0-2.86zM5.41 20L4 18.59l7.72-7.72 1.47 1.35L5.41 20z\"/>\n",
              "  </svg>\n",
              "      </button>\n",
              "      \n",
              "  <style>\n",
              "    .colab-df-container {\n",
              "      display:flex;\n",
              "      flex-wrap:wrap;\n",
              "      gap: 12px;\n",
              "    }\n",
              "\n",
              "    .colab-df-convert {\n",
              "      background-color: #E8F0FE;\n",
              "      border: none;\n",
              "      border-radius: 50%;\n",
              "      cursor: pointer;\n",
              "      display: none;\n",
              "      fill: #1967D2;\n",
              "      height: 32px;\n",
              "      padding: 0 0 0 0;\n",
              "      width: 32px;\n",
              "    }\n",
              "\n",
              "    .colab-df-convert:hover {\n",
              "      background-color: #E2EBFA;\n",
              "      box-shadow: 0px 1px 2px rgba(60, 64, 67, 0.3), 0px 1px 3px 1px rgba(60, 64, 67, 0.15);\n",
              "      fill: #174EA6;\n",
              "    }\n",
              "\n",
              "    [theme=dark] .colab-df-convert {\n",
              "      background-color: #3B4455;\n",
              "      fill: #D2E3FC;\n",
              "    }\n",
              "\n",
              "    [theme=dark] .colab-df-convert:hover {\n",
              "      background-color: #434B5C;\n",
              "      box-shadow: 0px 1px 3px 1px rgba(0, 0, 0, 0.15);\n",
              "      filter: drop-shadow(0px 1px 2px rgba(0, 0, 0, 0.3));\n",
              "      fill: #FFFFFF;\n",
              "    }\n",
              "  </style>\n",
              "\n",
              "      <script>\n",
              "        const buttonEl =\n",
              "          document.querySelector('#df-385f5b33-4f4e-4838-8791-bfff1e004c3e button.colab-df-convert');\n",
              "        buttonEl.style.display =\n",
              "          google.colab.kernel.accessAllowed ? 'block' : 'none';\n",
              "\n",
              "        async function convertToInteractive(key) {\n",
              "          const element = document.querySelector('#df-385f5b33-4f4e-4838-8791-bfff1e004c3e');\n",
              "          const dataTable =\n",
              "            await google.colab.kernel.invokeFunction('convertToInteractive',\n",
              "                                                     [key], {});\n",
              "          if (!dataTable) return;\n",
              "\n",
              "          const docLinkHtml = 'Like what you see? Visit the ' +\n",
              "            '<a target=\"_blank\" href=https://colab.research.google.com/notebooks/data_table.ipynb>data table notebook</a>'\n",
              "            + ' to learn more about interactive tables.';\n",
              "          element.innerHTML = '';\n",
              "          dataTable['output_type'] = 'display_data';\n",
              "          await google.colab.output.renderOutput(dataTable, element);\n",
              "          const docLink = document.createElement('div');\n",
              "          docLink.innerHTML = docLinkHtml;\n",
              "          element.appendChild(docLink);\n",
              "        }\n",
              "      </script>\n",
              "    </div>\n",
              "  </div>\n",
              "  "
            ]
          },
          "metadata": {},
          "execution_count": 13
        }
      ]
    },
    {
      "cell_type": "code",
      "source": [
        "print('Total records retained after data cleaning : ', cleaned_df.shape[0])\n",
        "cleaned_df['label'].value_counts()"
      ],
      "metadata": {
        "colab": {
          "base_uri": "https://localhost:8080/"
        },
        "id": "90W6Fcsdr0eK",
        "outputId": "35e5f8a2-4c0c-451b-bec1-0797f4ee5b41"
      },
      "execution_count": null,
      "outputs": [
        {
          "output_type": "stream",
          "name": "stdout",
          "text": [
            "Total records retained after data cleaning :  4013\n"
          ]
        },
        {
          "output_type": "execute_result",
          "data": {
            "text/plain": [
              "0    3719\n",
              "1     294\n",
              "Name: label, dtype: int64"
            ]
          },
          "metadata": {},
          "execution_count": 14
        }
      ]
    },
    {
      "cell_type": "markdown",
      "source": [
        "### TF-IDF Vectorizer\n",
        "\n",
        "Convert text to features. We'll use TF-IDF score to give the score to the word in the corpus. "
      ],
      "metadata": {
        "id": "18eI1Bgs3oyh"
      }
    },
    {
      "cell_type": "code",
      "source": [
        "from sklearn.feature_extraction.text import TfidfVectorizer\n",
        "tfidfconverter = TfidfVectorizer(max_features=1500, min_df=5, max_df=0.7, stop_words=stopwords.words('english'))\n",
        "X = tfidfconverter.fit_transform(cleaned_df['clean_text']).toarray()\n",
        "y = cleaned_df['label'].values"
      ],
      "metadata": {
        "id": "mMd19xFE3nCL"
      },
      "execution_count": null,
      "outputs": []
    },
    {
      "cell_type": "markdown",
      "source": [
        "Since the data is unbalanced, we need to split the data into train-test in such a way that those represent the actual data. That's where stratified sampling comes in"
      ],
      "metadata": {
        "id": "lTPUbGjJsOv1"
      }
    },
    {
      "cell_type": "code",
      "source": [
        "from sklearn.model_selection import train_test_split\n",
        "\n",
        "test_split = 0.2\n",
        "\n",
        "X_train, X_test, y_train, y_test = train_test_split(X, y, test_size=test_split, stratify=y)"
      ],
      "metadata": {
        "id": "whkw8UnOtLEo"
      },
      "execution_count": null,
      "outputs": []
    },
    {
      "cell_type": "code",
      "source": [
        "print('Label Distribution in the training data')\n",
        "print(np.unique(y_train, return_counts=True))\n",
        "print('*'*50)\n",
        "print('Label Distribution in the testing data')\n",
        "print(np.unique(y_test, return_counts=True))"
      ],
      "metadata": {
        "colab": {
          "base_uri": "https://localhost:8080/"
        },
        "id": "6IbL-1lctsul",
        "outputId": "bfc2d069-5208-48fb-bc35-cb7c1f308c36"
      },
      "execution_count": null,
      "outputs": [
        {
          "output_type": "stream",
          "name": "stdout",
          "text": [
            "Label Distribution in the training data\n",
            "(array([0, 1]), array([2975,  235]))\n",
            "**************************************************\n",
            "Label Distribution in the testing data\n",
            "(array([0, 1]), array([744,  59]))\n"
          ]
        }
      ]
    },
    {
      "cell_type": "markdown",
      "source": [
        "Now that the text has been converted into features, we can model the data "
      ],
      "metadata": {
        "id": "gN7fp4cz1RmW"
      }
    },
    {
      "cell_type": "markdown",
      "source": [
        "## Machine Learning Models\n",
        "\n",
        "The dataset at hand is so imbalanced that accuracy on the predictions is not a good metric to judge a model. We'll use Classification Report, and more importantly F1 Score for model comparison. Also to note, we want to reduce False negatives as much as we can, we don't want to classify a doc non-adverse event if it's in fact a adverse-event related"
      ],
      "metadata": {
        "id": "ct0MQsp-9VZm"
      }
    },
    {
      "cell_type": "code",
      "source": [
        "from sklearn.metrics import classification_report, confusion_matrix, accuracy_score"
      ],
      "metadata": {
        "id": "xbL9ADUE9eyl"
      },
      "execution_count": null,
      "outputs": []
    },
    {
      "cell_type": "markdown",
      "source": [
        "### Experiment 1 - Random Forest"
      ],
      "metadata": {
        "id": "mpw7p8jn7m6G"
      }
    },
    {
      "cell_type": "code",
      "source": [
        "from sklearn.ensemble import RandomForestClassifier\n",
        "\n",
        "# Experiment Name\n",
        "exp_name1 = 'Random Forest'\n",
        "\n",
        "# Initialize the model\n",
        "classifier = RandomForestClassifier(n_estimators=1000, random_state=0)\n",
        "\n",
        "# Fit the model to the data\n",
        "classifier.fit(X_train, y_train)\n",
        "\n",
        "# Generate predictions\n",
        "y_pred = classifier.predict(X_test)\n",
        "\n",
        "# Prepare Classification Report\n",
        "exp_confusion_matrix = confusion_matrix(y_test,y_pred)\n",
        "exp_clf_report = classification_report(y_test,y_pred, output_dict=True)\n",
        "print(exp_confusion_matrix)\n",
        "print('\\n')\n",
        "print(pd.DataFrame(exp_clf_report))\n",
        "\n",
        "prepare_exp_report(EXPERIMENT_RESULTS, \n",
        "                    exp_name1, \n",
        "                    parse_confusion_matrix(exp_confusion_matrix), \n",
        "                    parse_clf_report(exp_clf_report))"
      ],
      "metadata": {
        "id": "uq-ffFeG8dQR",
        "colab": {
          "base_uri": "https://localhost:8080/"
        },
        "outputId": "18d18b31-9fa6-4e5f-d431-f39c59f0508d"
      },
      "execution_count": null,
      "outputs": [
        {
          "output_type": "stream",
          "name": "stdout",
          "text": [
            "[[742   2]\n",
            " [ 28  31]]\n",
            "\n",
            "\n",
            "                    0          1  accuracy   macro avg  weighted avg\n",
            "precision    0.963636   0.939394   0.96264    0.951515      0.961855\n",
            "recall       0.997312   0.525424   0.96264    0.761368      0.962640\n",
            "f1-score     0.980185   0.673913   0.96264    0.827049      0.957682\n",
            "support    744.000000  59.000000   0.96264  803.000000    803.000000\n"
          ]
        }
      ]
    },
    {
      "cell_type": "markdown",
      "source": [
        "Performance on 0s is satisfactory, but 1s are pretty terrible!"
      ],
      "metadata": {
        "id": "GkS6TwQ6AJNh"
      }
    },
    {
      "cell_type": "markdown",
      "source": [
        "### Experiment 2 - Multinomial NB"
      ],
      "metadata": {
        "id": "uIgGqJtE_yHF"
      }
    },
    {
      "cell_type": "code",
      "source": [
        "from sklearn.naive_bayes import MultinomialNB\n",
        "\n",
        "# Model Name\n",
        "exp_name2 = 'Multinomial Naive Bayes'\n",
        "\n",
        "# Initialize the model\n",
        "classifier = MultinomialNB()\n",
        "\n",
        "# Fit the model to the data\n",
        "classifier.fit(X_train, y_train)\n",
        "\n",
        "# Generate predictions\n",
        "y_pred = classifier.predict(X_test)\n",
        "\n",
        "# Prepare Classification Report\n",
        "exp_confusion_matrix = confusion_matrix(y_test,y_pred)\n",
        "exp_clf_report = classification_report(y_test,y_pred, output_dict=True)\n",
        "print(exp_confusion_matrix)\n",
        "print('\\n')\n",
        "print(pd.DataFrame(exp_clf_report))\n",
        "\n",
        "prepare_exp_report(EXPERIMENT_RESULTS, \n",
        "                    exp_name2, \n",
        "                    parse_confusion_matrix(exp_confusion_matrix), \n",
        "                    parse_clf_report(exp_clf_report))"
      ],
      "metadata": {
        "colab": {
          "base_uri": "https://localhost:8080/"
        },
        "id": "sEbGejyD_7qM",
        "outputId": "870a5cad-b823-4a23-97a1-416f8f73bb17"
      },
      "execution_count": null,
      "outputs": [
        {
          "output_type": "stream",
          "name": "stdout",
          "text": [
            "[[736   8]\n",
            " [ 39  20]]\n",
            "\n",
            "\n",
            "                    0          1  accuracy   macro avg  weighted avg\n",
            "precision    0.949677   0.714286  0.941469    0.831982      0.932382\n",
            "recall       0.989247   0.338983  0.941469    0.664115      0.941469\n",
            "f1-score     0.969059   0.459770  0.941469    0.714414      0.931639\n",
            "support    744.000000  59.000000  0.941469  803.000000    803.000000\n"
          ]
        }
      ]
    },
    {
      "cell_type": "markdown",
      "source": [
        "Even worse!"
      ],
      "metadata": {
        "id": "kpxGJZjyAUAc"
      }
    },
    {
      "cell_type": "markdown",
      "source": [
        "### Experiment 3 - SVM : SGD Classifier"
      ],
      "metadata": {
        "id": "MFDKers2x3GH"
      }
    },
    {
      "cell_type": "code",
      "source": [
        "from sklearn.linear_model import SGDClassifier\n",
        "\n",
        "# Model Name\n",
        "exp_name3 = 'SVM'\n",
        "\n",
        "# Initialize the model\n",
        "classifier = SGDClassifier(loss='hinge', penalty='l2', alpha=1e-3, max_iter=5, random_state=42)\n",
        "\n",
        "# Fit the model to the data\n",
        "classifier.fit(X_train, y_train)\n",
        "\n",
        "# Generate predictions\n",
        "y_pred = classifier.predict(X_test)\n",
        "\n",
        "# Prepare Classification Report\n",
        "exp_confusion_matrix = confusion_matrix(y_test,y_pred)\n",
        "exp_clf_report = classification_report(y_test,y_pred, output_dict=True)\n",
        "print(exp_confusion_matrix)\n",
        "print('\\n')\n",
        "print(pd.DataFrame(exp_clf_report))\n",
        "\n",
        "prepare_exp_report(EXPERIMENT_RESULTS, \n",
        "                    exp_name3, \n",
        "                    parse_confusion_matrix(exp_confusion_matrix), \n",
        "                    parse_clf_report(exp_clf_report))"
      ],
      "metadata": {
        "colab": {
          "base_uri": "https://localhost:8080/"
        },
        "id": "o7yPs8UzyL6p",
        "outputId": "5610394b-1934-4ad1-d574-009d7ca21f76"
      },
      "execution_count": null,
      "outputs": [
        {
          "output_type": "stream",
          "name": "stdout",
          "text": [
            "[[741   3]\n",
            " [ 40  19]]\n",
            "\n",
            "\n",
            "                    0          1  accuracy   macro avg  weighted avg\n",
            "precision    0.948784   0.863636  0.946451    0.906210      0.942527\n",
            "recall       0.995968   0.322034  0.946451    0.659001      0.946451\n",
            "f1-score     0.971803   0.469136  0.946451    0.720470      0.934870\n",
            "support    744.000000  59.000000  0.946451  803.000000    803.000000\n"
          ]
        },
        {
          "output_type": "stream",
          "name": "stderr",
          "text": [
            "/usr/local/lib/python3.7/dist-packages/sklearn/linear_model/_stochastic_gradient.py:700: ConvergenceWarning: Maximum number of iteration reached before convergence. Consider increasing max_iter to improve the fit.\n",
            "  ConvergenceWarning,\n"
          ]
        }
      ]
    },
    {
      "cell_type": "markdown",
      "source": [
        "Better performance than MNB, but worse than Random Forest"
      ],
      "metadata": {
        "id": "NeT6YcXFyuP7"
      }
    },
    {
      "cell_type": "markdown",
      "source": [
        "### Experiment 4 - K-Nearest Neighbors"
      ],
      "metadata": {
        "id": "NVJAcADwzWaE"
      }
    },
    {
      "cell_type": "code",
      "source": [
        "from sklearn.neighbors import KNeighborsClassifier\n",
        "\n",
        "# Model Name\n",
        "exp_name4 = 'k-NN'\n",
        "\n",
        "# Initialize the model\n",
        "classifier = KNeighborsClassifier(n_neighbors=2)\n",
        "\n",
        "# Fit the model to the data\n",
        "classifier.fit(X_train, y_train)\n",
        "\n",
        "# Generate predictions\n",
        "y_pred = classifier.predict(X_test)\n",
        "\n",
        "# Prepare Classification Report\n",
        "exp_confusion_matrix = confusion_matrix(y_test,y_pred)\n",
        "exp_clf_report = classification_report(y_test,y_pred, output_dict=True)\n",
        "print(exp_confusion_matrix)\n",
        "print('\\n')\n",
        "print(pd.DataFrame(exp_clf_report))\n",
        "\n",
        "prepare_exp_report(EXPERIMENT_RESULTS, \n",
        "                    exp_name4, \n",
        "                    parse_confusion_matrix(exp_confusion_matrix), \n",
        "                    parse_clf_report(exp_clf_report))"
      ],
      "metadata": {
        "colab": {
          "base_uri": "https://localhost:8080/"
        },
        "id": "AfyxEVC41nuM",
        "outputId": "25ed19a3-8900-4151-c4c6-54d9a5eb5e75"
      },
      "execution_count": null,
      "outputs": [
        {
          "output_type": "stream",
          "name": "stdout",
          "text": [
            "[[736   8]\n",
            " [ 38  21]]\n",
            "\n",
            "\n",
            "                    0          1  accuracy   macro avg  weighted avg\n",
            "precision    0.950904   0.724138  0.942715    0.837521      0.934243\n",
            "recall       0.989247   0.355932  0.942715    0.672590      0.942715\n",
            "f1-score     0.969697   0.477273  0.942715    0.723485      0.933516\n",
            "support    744.000000  59.000000  0.942715  803.000000    803.000000\n"
          ]
        }
      ]
    },
    {
      "cell_type": "markdown",
      "source": [
        "Not a good idea, TBH!"
      ],
      "metadata": {
        "id": "BDJ7zaZ_1pZa"
      }
    },
    {
      "cell_type": "markdown",
      "source": [
        "### Experiment 5 - Decision Trees"
      ],
      "metadata": {
        "id": "nSDuf6we2jOm"
      }
    },
    {
      "cell_type": "code",
      "source": [
        "from sklearn.tree import DecisionTreeClassifier\n",
        "\n",
        "# Model Name\n",
        "exp_name5 = 'Decision Tree'\n",
        "\n",
        "# Initialize the model\n",
        "classifier = DecisionTreeClassifier(max_depth=5)\n",
        "\n",
        "# Fit the model to the data\n",
        "classifier.fit(X_train, y_train)\n",
        "\n",
        "# Generate predictions\n",
        "y_pred = classifier.predict(X_test)\n",
        "\n",
        "# Prepare Classification Report\n",
        "exp_confusion_matrix = confusion_matrix(y_test,y_pred)\n",
        "exp_clf_report = classification_report(y_test,y_pred, output_dict=True)\n",
        "print(exp_confusion_matrix)\n",
        "print('\\n')\n",
        "print(pd.DataFrame(exp_clf_report))\n",
        "\n",
        "prepare_exp_report(EXPERIMENT_RESULTS, \n",
        "                    exp_name5, \n",
        "                    parse_confusion_matrix(exp_confusion_matrix), \n",
        "                    parse_clf_report(exp_clf_report))"
      ],
      "metadata": {
        "colab": {
          "base_uri": "https://localhost:8080/"
        },
        "id": "Fc6ShnPM2sxK",
        "outputId": "b9c212ed-4faa-4d3a-e8fe-2f74ab755f46"
      },
      "execution_count": null,
      "outputs": [
        {
          "output_type": "stream",
          "name": "stdout",
          "text": [
            "[[726  18]\n",
            " [ 37  22]]\n",
            "\n",
            "\n",
            "                    0          1  accuracy   macro avg  weighted avg\n",
            "precision    0.951507   0.550000  0.931507    0.750754      0.922007\n",
            "recall       0.975806   0.372881  0.931507    0.674344      0.931507\n",
            "f1-score     0.963504   0.444444  0.931507    0.703974      0.925366\n",
            "support    744.000000  59.000000  0.931507  803.000000    803.000000\n"
          ]
        }
      ]
    },
    {
      "cell_type": "markdown",
      "source": [
        "A single tree is not working better than a Random Forest. Proves some theories 😀"
      ],
      "metadata": {
        "id": "vxSPj8234WPL"
      }
    },
    {
      "cell_type": "markdown",
      "source": [
        "### Experiment 6 - AdaBoost (discrete SAMME)"
      ],
      "metadata": {
        "id": "PwbVy2JO49ru"
      }
    },
    {
      "cell_type": "code",
      "source": [
        "from sklearn.ensemble import AdaBoostClassifier\n",
        "\n",
        "# Experiment Name\n",
        "exp_name6 = 'Adaboost (Discrete SAMME)'\n",
        "\n",
        "# Base Model for boosting\n",
        "base_model = DecisionTreeClassifier(max_depth=9, min_samples_leaf=1)\n",
        "\n",
        "# Initialize the model\n",
        "classifier = AdaBoostClassifier(\n",
        "    base_estimator=base_model,\n",
        "    learning_rate=1.0,\n",
        "    n_estimators=400,\n",
        "    algorithm=\"SAMME\",\n",
        ")\n",
        "\n",
        "# Fit the model to the data\n",
        "classifier.fit(X_train, y_train)\n",
        "\n",
        "# Generate predictions\n",
        "y_pred = classifier.predict(X_test)\n",
        "\n",
        "# Prepare Classification Report\n",
        "exp_confusion_matrix = confusion_matrix(y_test,y_pred)\n",
        "exp_clf_report = classification_report(y_test,y_pred, output_dict=True)\n",
        "print(exp_confusion_matrix)\n",
        "print('\\n')\n",
        "print(pd.DataFrame(exp_clf_report))\n",
        "\n",
        "prepare_exp_report(EXPERIMENT_RESULTS, \n",
        "                    exp_name6, \n",
        "                    parse_confusion_matrix(exp_confusion_matrix), \n",
        "                    parse_clf_report(exp_clf_report))"
      ],
      "metadata": {
        "colab": {
          "base_uri": "https://localhost:8080/"
        },
        "id": "8Ob2KuuT5kR9",
        "outputId": "6dacaec0-6abf-45f2-a919-f854046f5099"
      },
      "execution_count": null,
      "outputs": [
        {
          "output_type": "stream",
          "name": "stdout",
          "text": [
            "[[737   7]\n",
            " [ 22  37]]\n",
            "\n",
            "\n",
            "                    0          1  accuracy   macro avg  weighted avg\n",
            "precision    0.971014   0.840909  0.963885    0.905962      0.961455\n",
            "recall       0.990591   0.627119  0.963885    0.808855      0.963885\n",
            "f1-score     0.980705   0.718447  0.963885    0.849576      0.961436\n",
            "support    744.000000  59.000000  0.963885  803.000000    803.000000\n"
          ]
        }
      ]
    },
    {
      "cell_type": "markdown",
      "source": [
        "That's a considerable improvement!"
      ],
      "metadata": {
        "id": "FYQr_S4O71Na"
      }
    },
    {
      "cell_type": "markdown",
      "source": [
        "### Experiment 7 - AdaBoost (real SAMME.R)"
      ],
      "metadata": {
        "id": "Mm9JmIpm6ycF"
      }
    },
    {
      "cell_type": "code",
      "source": [
        "from sklearn.ensemble import AdaBoostClassifier\n",
        "\n",
        "# Experiment Name\n",
        "exp_name7 = 'Adaboost (Real SAMME.R)'\n",
        "\n",
        "# Base Model for boosting\n",
        "base_model = DecisionTreeClassifier(max_depth=9, min_samples_leaf=1)\n",
        "\n",
        "# Initialize the model\n",
        "classifier = AdaBoostClassifier(\n",
        "    base_estimator=base_model,\n",
        "    learning_rate=1.0,\n",
        "    n_estimators=400,\n",
        "    algorithm=\"SAMME.R\",\n",
        ")\n",
        "\n",
        "# Fit the model to the data\n",
        "classifier.fit(X_train, y_train)\n",
        "\n",
        "# Generate predictions\n",
        "y_pred = classifier.predict(X_test)\n",
        "\n",
        "# Prepare Classification Report\n",
        "exp_confusion_matrix = confusion_matrix(y_test,y_pred)\n",
        "exp_clf_report = classification_report(y_test,y_pred, output_dict=True)\n",
        "print(exp_confusion_matrix)\n",
        "print('\\n')\n",
        "print(pd.DataFrame(exp_clf_report))\n",
        "\n",
        "prepare_exp_report(EXPERIMENT_RESULTS, \n",
        "                    exp_name7, \n",
        "                    parse_confusion_matrix(exp_confusion_matrix), \n",
        "                    parse_clf_report(exp_clf_report))"
      ],
      "metadata": {
        "colab": {
          "base_uri": "https://localhost:8080/"
        },
        "id": "nNZMNRZN7TxL",
        "outputId": "93bd3d31-6994-40d6-e151-9a76ac245d81"
      },
      "execution_count": null,
      "outputs": [
        {
          "output_type": "stream",
          "name": "stdout",
          "text": [
            "[[739   5]\n",
            " [ 25  34]]\n",
            "\n",
            "\n",
            "                    0          1  accuracy   macro avg  weighted avg\n",
            "precision    0.967277   0.871795   0.96264    0.919536      0.960262\n",
            "recall       0.993280   0.576271   0.96264    0.784775      0.962640\n",
            "f1-score     0.980106   0.693878   0.96264    0.836992      0.959076\n",
            "support    744.000000  59.000000   0.96264  803.000000    803.000000\n"
          ]
        }
      ]
    },
    {
      "cell_type": "markdown",
      "source": [
        "Worse than discrete SAMME algorithm, but still better than other models"
      ],
      "metadata": {
        "id": "XedEJ3zL75_-"
      }
    },
    {
      "cell_type": "markdown",
      "source": [
        "### Experiment 8 - Voting Classifier\n",
        "\n",
        "Voting Classifiers take votes from individual algorithms (panel experts!) about the classification and make decision based on the voting type (Hard or Soft). \n",
        "\n",
        "Difference b/w Hard and Soft Voting - Hard voting involves summing the predictions for each class label and predicting the class label with the most votes. Soft voting involves summing the predicted probabilities (or probability-like scores) for each class label and predicting the class label with the largest probability."
      ],
      "metadata": {
        "id": "5ErydheoKyQB"
      }
    },
    {
      "cell_type": "code",
      "source": [
        "from sklearn.ensemble import VotingClassifier\n",
        "\n",
        "# Experiment Name\n",
        "exp_name8 = 'Voting Classifier'\n",
        "\n",
        "# Model 1 : Adaboost with SAMME.R\n",
        "base_model = DecisionTreeClassifier(max_depth=9, min_samples_leaf=1)\n",
        "\n",
        "adaboost_clf = AdaBoostClassifier(\n",
        "    base_estimator=base_model,\n",
        "    learning_rate=1.0,\n",
        "    n_estimators=400,\n",
        "    algorithm=\"SAMME.R\",\n",
        ")\n",
        "\n",
        "# Model 2 : Decision Trees\n",
        "dt_clf = DecisionTreeClassifier(max_depth=5)\n",
        "\n",
        "# Model 3 : Random Forest\n",
        "rf_clf = RandomForestClassifier(n_estimators=1000, random_state=0)\n",
        "\n",
        "# Initialize the classifer\n",
        "voting_clf = VotingClassifier(estimators=[('Adaboost', adaboost_clf), ('DTree', dt_clf), ('RF', rf_clf)], voting='hard')\n",
        "\n",
        "# Fit the model to the data\n",
        "voting_clf.fit(X_train, y_train)\n",
        "\n",
        "# Generate predictions\n",
        "y_pred = voting_clf.predict(X_test)\n",
        "\n",
        "# Prepare Classification Report\n",
        "exp_confusion_matrix = confusion_matrix(y_test,y_pred)\n",
        "exp_clf_report = classification_report(y_test,y_pred, output_dict=True)\n",
        "print(exp_confusion_matrix)\n",
        "print('\\n')\n",
        "print(pd.DataFrame(exp_clf_report))\n",
        "\n",
        "prepare_exp_report(EXPERIMENT_RESULTS, \n",
        "                    exp_name8, \n",
        "                    parse_confusion_matrix(exp_confusion_matrix), \n",
        "                    parse_clf_report(exp_clf_report))"
      ],
      "metadata": {
        "colab": {
          "base_uri": "https://localhost:8080/"
        },
        "id": "dHoZtHXMK25o",
        "outputId": "18729a70-70a1-4ad3-a926-c958df4a6fc0"
      },
      "execution_count": null,
      "outputs": [
        {
          "output_type": "stream",
          "name": "stdout",
          "text": [
            "[[736   8]\n",
            " [ 25  34]]\n",
            "\n",
            "\n",
            "                    0          1  accuracy   macro avg  weighted avg\n",
            "precision    0.967148   0.809524  0.958904    0.888336      0.955567\n",
            "recall       0.989247   0.576271  0.958904    0.782759      0.958904\n",
            "f1-score     0.978073   0.673267  0.958904    0.825670      0.955678\n",
            "support    744.000000  59.000000  0.958904  803.000000    803.000000\n"
          ]
        }
      ]
    },
    {
      "cell_type": "markdown",
      "source": [
        "### Experiment 9 - Grid Search with Voting Classifier"
      ],
      "metadata": {
        "id": "Uco0KYLbQ-C0"
      }
    },
    {
      "cell_type": "code",
      "source": [
        "from sklearn.linear_model import LogisticRegression\n",
        "from sklearn.svm import SVC\n",
        "from sklearn.ensemble import VotingClassifier\n",
        "from sklearn.model_selection import GridSearchCV\n",
        "\n",
        "# Experiment Name\n",
        "exp_name9 = 'GridSearch with VotingClassifier'\n",
        "\n",
        "eclf = VotingClassifier(estimators=[ \n",
        "    ('svm', SVC(probability=True)),\n",
        "    ('lr', LogisticRegression()),\n",
        "    ('rf', RandomForestClassifier())\n",
        "    ], voting='soft')\n",
        "\n",
        "# Define Param grid\n",
        "params = {'lr__C': [1.0, 100.0],\n",
        "          'svm__C': [2,3,4],\n",
        "          'rf__n_estimators' : [50,200,500]}\n",
        "\n",
        "# Initialize Grid Search \n",
        "grid = GridSearchCV(estimator=eclf, param_grid=params)\n",
        "\n",
        "# Fit the model to the data\n",
        "grid.fit(X_train, y_train)\n",
        "\n",
        "# Generate predictions\n",
        "y_pred = grid.predict(X_test)\n",
        "\n",
        "# Prepare Classification Report\n",
        "exp_confusion_matrix = confusion_matrix(y_test,y_pred)\n",
        "exp_clf_report = classification_report(y_test,y_pred, output_dict=True)\n",
        "print(exp_confusion_matrix)\n",
        "print('\\n')\n",
        "print(pd.DataFrame(exp_clf_report))\n",
        "\n",
        "prepare_exp_report(EXPERIMENT_RESULTS, \n",
        "                    exp_name9, \n",
        "                    parse_confusion_matrix(exp_confusion_matrix), \n",
        "                    parse_clf_report(exp_clf_report))"
      ],
      "metadata": {
        "id": "uvc8MkGRRAzg",
        "colab": {
          "base_uri": "https://localhost:8080/"
        },
        "outputId": "8e137a39-6f5b-41b9-9f51-3fed338b00b6"
      },
      "execution_count": null,
      "outputs": [
        {
          "output_type": "stream",
          "name": "stderr",
          "text": [
            "/usr/local/lib/python3.7/dist-packages/sklearn/linear_model/_logistic.py:818: ConvergenceWarning: lbfgs failed to converge (status=1):\n",
            "STOP: TOTAL NO. of ITERATIONS REACHED LIMIT.\n",
            "\n",
            "Increase the number of iterations (max_iter) or scale the data as shown in:\n",
            "    https://scikit-learn.org/stable/modules/preprocessing.html\n",
            "Please also refer to the documentation for alternative solver options:\n",
            "    https://scikit-learn.org/stable/modules/linear_model.html#logistic-regression\n",
            "  extra_warning_msg=_LOGISTIC_SOLVER_CONVERGENCE_MSG,\n",
            "/usr/local/lib/python3.7/dist-packages/sklearn/linear_model/_logistic.py:818: ConvergenceWarning: lbfgs failed to converge (status=1):\n",
            "STOP: TOTAL NO. of ITERATIONS REACHED LIMIT.\n",
            "\n",
            "Increase the number of iterations (max_iter) or scale the data as shown in:\n",
            "    https://scikit-learn.org/stable/modules/preprocessing.html\n",
            "Please also refer to the documentation for alternative solver options:\n",
            "    https://scikit-learn.org/stable/modules/linear_model.html#logistic-regression\n",
            "  extra_warning_msg=_LOGISTIC_SOLVER_CONVERGENCE_MSG,\n",
            "/usr/local/lib/python3.7/dist-packages/sklearn/linear_model/_logistic.py:818: ConvergenceWarning: lbfgs failed to converge (status=1):\n",
            "STOP: TOTAL NO. of ITERATIONS REACHED LIMIT.\n",
            "\n",
            "Increase the number of iterations (max_iter) or scale the data as shown in:\n",
            "    https://scikit-learn.org/stable/modules/preprocessing.html\n",
            "Please also refer to the documentation for alternative solver options:\n",
            "    https://scikit-learn.org/stable/modules/linear_model.html#logistic-regression\n",
            "  extra_warning_msg=_LOGISTIC_SOLVER_CONVERGENCE_MSG,\n",
            "/usr/local/lib/python3.7/dist-packages/sklearn/linear_model/_logistic.py:818: ConvergenceWarning: lbfgs failed to converge (status=1):\n",
            "STOP: TOTAL NO. of ITERATIONS REACHED LIMIT.\n",
            "\n",
            "Increase the number of iterations (max_iter) or scale the data as shown in:\n",
            "    https://scikit-learn.org/stable/modules/preprocessing.html\n",
            "Please also refer to the documentation for alternative solver options:\n",
            "    https://scikit-learn.org/stable/modules/linear_model.html#logistic-regression\n",
            "  extra_warning_msg=_LOGISTIC_SOLVER_CONVERGENCE_MSG,\n",
            "/usr/local/lib/python3.7/dist-packages/sklearn/linear_model/_logistic.py:818: ConvergenceWarning: lbfgs failed to converge (status=1):\n",
            "STOP: TOTAL NO. of ITERATIONS REACHED LIMIT.\n",
            "\n",
            "Increase the number of iterations (max_iter) or scale the data as shown in:\n",
            "    https://scikit-learn.org/stable/modules/preprocessing.html\n",
            "Please also refer to the documentation for alternative solver options:\n",
            "    https://scikit-learn.org/stable/modules/linear_model.html#logistic-regression\n",
            "  extra_warning_msg=_LOGISTIC_SOLVER_CONVERGENCE_MSG,\n",
            "/usr/local/lib/python3.7/dist-packages/sklearn/linear_model/_logistic.py:818: ConvergenceWarning: lbfgs failed to converge (status=1):\n",
            "STOP: TOTAL NO. of ITERATIONS REACHED LIMIT.\n",
            "\n",
            "Increase the number of iterations (max_iter) or scale the data as shown in:\n",
            "    https://scikit-learn.org/stable/modules/preprocessing.html\n",
            "Please also refer to the documentation for alternative solver options:\n",
            "    https://scikit-learn.org/stable/modules/linear_model.html#logistic-regression\n",
            "  extra_warning_msg=_LOGISTIC_SOLVER_CONVERGENCE_MSG,\n",
            "/usr/local/lib/python3.7/dist-packages/sklearn/linear_model/_logistic.py:818: ConvergenceWarning: lbfgs failed to converge (status=1):\n",
            "STOP: TOTAL NO. of ITERATIONS REACHED LIMIT.\n",
            "\n",
            "Increase the number of iterations (max_iter) or scale the data as shown in:\n",
            "    https://scikit-learn.org/stable/modules/preprocessing.html\n",
            "Please also refer to the documentation for alternative solver options:\n",
            "    https://scikit-learn.org/stable/modules/linear_model.html#logistic-regression\n",
            "  extra_warning_msg=_LOGISTIC_SOLVER_CONVERGENCE_MSG,\n",
            "/usr/local/lib/python3.7/dist-packages/sklearn/linear_model/_logistic.py:818: ConvergenceWarning: lbfgs failed to converge (status=1):\n",
            "STOP: TOTAL NO. of ITERATIONS REACHED LIMIT.\n",
            "\n",
            "Increase the number of iterations (max_iter) or scale the data as shown in:\n",
            "    https://scikit-learn.org/stable/modules/preprocessing.html\n",
            "Please also refer to the documentation for alternative solver options:\n",
            "    https://scikit-learn.org/stable/modules/linear_model.html#logistic-regression\n",
            "  extra_warning_msg=_LOGISTIC_SOLVER_CONVERGENCE_MSG,\n",
            "/usr/local/lib/python3.7/dist-packages/sklearn/linear_model/_logistic.py:818: ConvergenceWarning: lbfgs failed to converge (status=1):\n",
            "STOP: TOTAL NO. of ITERATIONS REACHED LIMIT.\n",
            "\n",
            "Increase the number of iterations (max_iter) or scale the data as shown in:\n",
            "    https://scikit-learn.org/stable/modules/preprocessing.html\n",
            "Please also refer to the documentation for alternative solver options:\n",
            "    https://scikit-learn.org/stable/modules/linear_model.html#logistic-regression\n",
            "  extra_warning_msg=_LOGISTIC_SOLVER_CONVERGENCE_MSG,\n",
            "/usr/local/lib/python3.7/dist-packages/sklearn/linear_model/_logistic.py:818: ConvergenceWarning: lbfgs failed to converge (status=1):\n",
            "STOP: TOTAL NO. of ITERATIONS REACHED LIMIT.\n",
            "\n",
            "Increase the number of iterations (max_iter) or scale the data as shown in:\n",
            "    https://scikit-learn.org/stable/modules/preprocessing.html\n",
            "Please also refer to the documentation for alternative solver options:\n",
            "    https://scikit-learn.org/stable/modules/linear_model.html#logistic-regression\n",
            "  extra_warning_msg=_LOGISTIC_SOLVER_CONVERGENCE_MSG,\n",
            "/usr/local/lib/python3.7/dist-packages/sklearn/linear_model/_logistic.py:818: ConvergenceWarning: lbfgs failed to converge (status=1):\n",
            "STOP: TOTAL NO. of ITERATIONS REACHED LIMIT.\n",
            "\n",
            "Increase the number of iterations (max_iter) or scale the data as shown in:\n",
            "    https://scikit-learn.org/stable/modules/preprocessing.html\n",
            "Please also refer to the documentation for alternative solver options:\n",
            "    https://scikit-learn.org/stable/modules/linear_model.html#logistic-regression\n",
            "  extra_warning_msg=_LOGISTIC_SOLVER_CONVERGENCE_MSG,\n",
            "/usr/local/lib/python3.7/dist-packages/sklearn/linear_model/_logistic.py:818: ConvergenceWarning: lbfgs failed to converge (status=1):\n",
            "STOP: TOTAL NO. of ITERATIONS REACHED LIMIT.\n",
            "\n",
            "Increase the number of iterations (max_iter) or scale the data as shown in:\n",
            "    https://scikit-learn.org/stable/modules/preprocessing.html\n",
            "Please also refer to the documentation for alternative solver options:\n",
            "    https://scikit-learn.org/stable/modules/linear_model.html#logistic-regression\n",
            "  extra_warning_msg=_LOGISTIC_SOLVER_CONVERGENCE_MSG,\n",
            "/usr/local/lib/python3.7/dist-packages/sklearn/linear_model/_logistic.py:818: ConvergenceWarning: lbfgs failed to converge (status=1):\n",
            "STOP: TOTAL NO. of ITERATIONS REACHED LIMIT.\n",
            "\n",
            "Increase the number of iterations (max_iter) or scale the data as shown in:\n",
            "    https://scikit-learn.org/stable/modules/preprocessing.html\n",
            "Please also refer to the documentation for alternative solver options:\n",
            "    https://scikit-learn.org/stable/modules/linear_model.html#logistic-regression\n",
            "  extra_warning_msg=_LOGISTIC_SOLVER_CONVERGENCE_MSG,\n",
            "/usr/local/lib/python3.7/dist-packages/sklearn/linear_model/_logistic.py:818: ConvergenceWarning: lbfgs failed to converge (status=1):\n",
            "STOP: TOTAL NO. of ITERATIONS REACHED LIMIT.\n",
            "\n",
            "Increase the number of iterations (max_iter) or scale the data as shown in:\n",
            "    https://scikit-learn.org/stable/modules/preprocessing.html\n",
            "Please also refer to the documentation for alternative solver options:\n",
            "    https://scikit-learn.org/stable/modules/linear_model.html#logistic-regression\n",
            "  extra_warning_msg=_LOGISTIC_SOLVER_CONVERGENCE_MSG,\n",
            "/usr/local/lib/python3.7/dist-packages/sklearn/linear_model/_logistic.py:818: ConvergenceWarning: lbfgs failed to converge (status=1):\n",
            "STOP: TOTAL NO. of ITERATIONS REACHED LIMIT.\n",
            "\n",
            "Increase the number of iterations (max_iter) or scale the data as shown in:\n",
            "    https://scikit-learn.org/stable/modules/preprocessing.html\n",
            "Please also refer to the documentation for alternative solver options:\n",
            "    https://scikit-learn.org/stable/modules/linear_model.html#logistic-regression\n",
            "  extra_warning_msg=_LOGISTIC_SOLVER_CONVERGENCE_MSG,\n",
            "/usr/local/lib/python3.7/dist-packages/sklearn/linear_model/_logistic.py:818: ConvergenceWarning: lbfgs failed to converge (status=1):\n",
            "STOP: TOTAL NO. of ITERATIONS REACHED LIMIT.\n",
            "\n",
            "Increase the number of iterations (max_iter) or scale the data as shown in:\n",
            "    https://scikit-learn.org/stable/modules/preprocessing.html\n",
            "Please also refer to the documentation for alternative solver options:\n",
            "    https://scikit-learn.org/stable/modules/linear_model.html#logistic-regression\n",
            "  extra_warning_msg=_LOGISTIC_SOLVER_CONVERGENCE_MSG,\n",
            "/usr/local/lib/python3.7/dist-packages/sklearn/linear_model/_logistic.py:818: ConvergenceWarning: lbfgs failed to converge (status=1):\n",
            "STOP: TOTAL NO. of ITERATIONS REACHED LIMIT.\n",
            "\n",
            "Increase the number of iterations (max_iter) or scale the data as shown in:\n",
            "    https://scikit-learn.org/stable/modules/preprocessing.html\n",
            "Please also refer to the documentation for alternative solver options:\n",
            "    https://scikit-learn.org/stable/modules/linear_model.html#logistic-regression\n",
            "  extra_warning_msg=_LOGISTIC_SOLVER_CONVERGENCE_MSG,\n",
            "/usr/local/lib/python3.7/dist-packages/sklearn/linear_model/_logistic.py:818: ConvergenceWarning: lbfgs failed to converge (status=1):\n",
            "STOP: TOTAL NO. of ITERATIONS REACHED LIMIT.\n",
            "\n",
            "Increase the number of iterations (max_iter) or scale the data as shown in:\n",
            "    https://scikit-learn.org/stable/modules/preprocessing.html\n",
            "Please also refer to the documentation for alternative solver options:\n",
            "    https://scikit-learn.org/stable/modules/linear_model.html#logistic-regression\n",
            "  extra_warning_msg=_LOGISTIC_SOLVER_CONVERGENCE_MSG,\n",
            "/usr/local/lib/python3.7/dist-packages/sklearn/linear_model/_logistic.py:818: ConvergenceWarning: lbfgs failed to converge (status=1):\n",
            "STOP: TOTAL NO. of ITERATIONS REACHED LIMIT.\n",
            "\n",
            "Increase the number of iterations (max_iter) or scale the data as shown in:\n",
            "    https://scikit-learn.org/stable/modules/preprocessing.html\n",
            "Please also refer to the documentation for alternative solver options:\n",
            "    https://scikit-learn.org/stable/modules/linear_model.html#logistic-regression\n",
            "  extra_warning_msg=_LOGISTIC_SOLVER_CONVERGENCE_MSG,\n",
            "/usr/local/lib/python3.7/dist-packages/sklearn/linear_model/_logistic.py:818: ConvergenceWarning: lbfgs failed to converge (status=1):\n",
            "STOP: TOTAL NO. of ITERATIONS REACHED LIMIT.\n",
            "\n",
            "Increase the number of iterations (max_iter) or scale the data as shown in:\n",
            "    https://scikit-learn.org/stable/modules/preprocessing.html\n",
            "Please also refer to the documentation for alternative solver options:\n",
            "    https://scikit-learn.org/stable/modules/linear_model.html#logistic-regression\n",
            "  extra_warning_msg=_LOGISTIC_SOLVER_CONVERGENCE_MSG,\n",
            "/usr/local/lib/python3.7/dist-packages/sklearn/linear_model/_logistic.py:818: ConvergenceWarning: lbfgs failed to converge (status=1):\n",
            "STOP: TOTAL NO. of ITERATIONS REACHED LIMIT.\n",
            "\n",
            "Increase the number of iterations (max_iter) or scale the data as shown in:\n",
            "    https://scikit-learn.org/stable/modules/preprocessing.html\n",
            "Please also refer to the documentation for alternative solver options:\n",
            "    https://scikit-learn.org/stable/modules/linear_model.html#logistic-regression\n",
            "  extra_warning_msg=_LOGISTIC_SOLVER_CONVERGENCE_MSG,\n",
            "/usr/local/lib/python3.7/dist-packages/sklearn/linear_model/_logistic.py:818: ConvergenceWarning: lbfgs failed to converge (status=1):\n",
            "STOP: TOTAL NO. of ITERATIONS REACHED LIMIT.\n",
            "\n",
            "Increase the number of iterations (max_iter) or scale the data as shown in:\n",
            "    https://scikit-learn.org/stable/modules/preprocessing.html\n",
            "Please also refer to the documentation for alternative solver options:\n",
            "    https://scikit-learn.org/stable/modules/linear_model.html#logistic-regression\n",
            "  extra_warning_msg=_LOGISTIC_SOLVER_CONVERGENCE_MSG,\n",
            "/usr/local/lib/python3.7/dist-packages/sklearn/linear_model/_logistic.py:818: ConvergenceWarning: lbfgs failed to converge (status=1):\n",
            "STOP: TOTAL NO. of ITERATIONS REACHED LIMIT.\n",
            "\n",
            "Increase the number of iterations (max_iter) or scale the data as shown in:\n",
            "    https://scikit-learn.org/stable/modules/preprocessing.html\n",
            "Please also refer to the documentation for alternative solver options:\n",
            "    https://scikit-learn.org/stable/modules/linear_model.html#logistic-regression\n",
            "  extra_warning_msg=_LOGISTIC_SOLVER_CONVERGENCE_MSG,\n",
            "/usr/local/lib/python3.7/dist-packages/sklearn/linear_model/_logistic.py:818: ConvergenceWarning: lbfgs failed to converge (status=1):\n",
            "STOP: TOTAL NO. of ITERATIONS REACHED LIMIT.\n",
            "\n",
            "Increase the number of iterations (max_iter) or scale the data as shown in:\n",
            "    https://scikit-learn.org/stable/modules/preprocessing.html\n",
            "Please also refer to the documentation for alternative solver options:\n",
            "    https://scikit-learn.org/stable/modules/linear_model.html#logistic-regression\n",
            "  extra_warning_msg=_LOGISTIC_SOLVER_CONVERGENCE_MSG,\n",
            "/usr/local/lib/python3.7/dist-packages/sklearn/linear_model/_logistic.py:818: ConvergenceWarning: lbfgs failed to converge (status=1):\n",
            "STOP: TOTAL NO. of ITERATIONS REACHED LIMIT.\n",
            "\n",
            "Increase the number of iterations (max_iter) or scale the data as shown in:\n",
            "    https://scikit-learn.org/stable/modules/preprocessing.html\n",
            "Please also refer to the documentation for alternative solver options:\n",
            "    https://scikit-learn.org/stable/modules/linear_model.html#logistic-regression\n",
            "  extra_warning_msg=_LOGISTIC_SOLVER_CONVERGENCE_MSG,\n",
            "/usr/local/lib/python3.7/dist-packages/sklearn/linear_model/_logistic.py:818: ConvergenceWarning: lbfgs failed to converge (status=1):\n",
            "STOP: TOTAL NO. of ITERATIONS REACHED LIMIT.\n",
            "\n",
            "Increase the number of iterations (max_iter) or scale the data as shown in:\n",
            "    https://scikit-learn.org/stable/modules/preprocessing.html\n",
            "Please also refer to the documentation for alternative solver options:\n",
            "    https://scikit-learn.org/stable/modules/linear_model.html#logistic-regression\n",
            "  extra_warning_msg=_LOGISTIC_SOLVER_CONVERGENCE_MSG,\n",
            "/usr/local/lib/python3.7/dist-packages/sklearn/linear_model/_logistic.py:818: ConvergenceWarning: lbfgs failed to converge (status=1):\n",
            "STOP: TOTAL NO. of ITERATIONS REACHED LIMIT.\n",
            "\n",
            "Increase the number of iterations (max_iter) or scale the data as shown in:\n",
            "    https://scikit-learn.org/stable/modules/preprocessing.html\n",
            "Please also refer to the documentation for alternative solver options:\n",
            "    https://scikit-learn.org/stable/modules/linear_model.html#logistic-regression\n",
            "  extra_warning_msg=_LOGISTIC_SOLVER_CONVERGENCE_MSG,\n",
            "/usr/local/lib/python3.7/dist-packages/sklearn/linear_model/_logistic.py:818: ConvergenceWarning: lbfgs failed to converge (status=1):\n",
            "STOP: TOTAL NO. of ITERATIONS REACHED LIMIT.\n",
            "\n",
            "Increase the number of iterations (max_iter) or scale the data as shown in:\n",
            "    https://scikit-learn.org/stable/modules/preprocessing.html\n",
            "Please also refer to the documentation for alternative solver options:\n",
            "    https://scikit-learn.org/stable/modules/linear_model.html#logistic-regression\n",
            "  extra_warning_msg=_LOGISTIC_SOLVER_CONVERGENCE_MSG,\n",
            "/usr/local/lib/python3.7/dist-packages/sklearn/linear_model/_logistic.py:818: ConvergenceWarning: lbfgs failed to converge (status=1):\n",
            "STOP: TOTAL NO. of ITERATIONS REACHED LIMIT.\n",
            "\n",
            "Increase the number of iterations (max_iter) or scale the data as shown in:\n",
            "    https://scikit-learn.org/stable/modules/preprocessing.html\n",
            "Please also refer to the documentation for alternative solver options:\n",
            "    https://scikit-learn.org/stable/modules/linear_model.html#logistic-regression\n",
            "  extra_warning_msg=_LOGISTIC_SOLVER_CONVERGENCE_MSG,\n",
            "/usr/local/lib/python3.7/dist-packages/sklearn/linear_model/_logistic.py:818: ConvergenceWarning: lbfgs failed to converge (status=1):\n",
            "STOP: TOTAL NO. of ITERATIONS REACHED LIMIT.\n",
            "\n",
            "Increase the number of iterations (max_iter) or scale the data as shown in:\n",
            "    https://scikit-learn.org/stable/modules/preprocessing.html\n",
            "Please also refer to the documentation for alternative solver options:\n",
            "    https://scikit-learn.org/stable/modules/linear_model.html#logistic-regression\n",
            "  extra_warning_msg=_LOGISTIC_SOLVER_CONVERGENCE_MSG,\n",
            "/usr/local/lib/python3.7/dist-packages/sklearn/linear_model/_logistic.py:818: ConvergenceWarning: lbfgs failed to converge (status=1):\n",
            "STOP: TOTAL NO. of ITERATIONS REACHED LIMIT.\n",
            "\n",
            "Increase the number of iterations (max_iter) or scale the data as shown in:\n",
            "    https://scikit-learn.org/stable/modules/preprocessing.html\n",
            "Please also refer to the documentation for alternative solver options:\n",
            "    https://scikit-learn.org/stable/modules/linear_model.html#logistic-regression\n",
            "  extra_warning_msg=_LOGISTIC_SOLVER_CONVERGENCE_MSG,\n",
            "/usr/local/lib/python3.7/dist-packages/sklearn/linear_model/_logistic.py:818: ConvergenceWarning: lbfgs failed to converge (status=1):\n",
            "STOP: TOTAL NO. of ITERATIONS REACHED LIMIT.\n",
            "\n",
            "Increase the number of iterations (max_iter) or scale the data as shown in:\n",
            "    https://scikit-learn.org/stable/modules/preprocessing.html\n",
            "Please also refer to the documentation for alternative solver options:\n",
            "    https://scikit-learn.org/stable/modules/linear_model.html#logistic-regression\n",
            "  extra_warning_msg=_LOGISTIC_SOLVER_CONVERGENCE_MSG,\n",
            "/usr/local/lib/python3.7/dist-packages/sklearn/linear_model/_logistic.py:818: ConvergenceWarning: lbfgs failed to converge (status=1):\n",
            "STOP: TOTAL NO. of ITERATIONS REACHED LIMIT.\n",
            "\n",
            "Increase the number of iterations (max_iter) or scale the data as shown in:\n",
            "    https://scikit-learn.org/stable/modules/preprocessing.html\n",
            "Please also refer to the documentation for alternative solver options:\n",
            "    https://scikit-learn.org/stable/modules/linear_model.html#logistic-regression\n",
            "  extra_warning_msg=_LOGISTIC_SOLVER_CONVERGENCE_MSG,\n",
            "/usr/local/lib/python3.7/dist-packages/sklearn/linear_model/_logistic.py:818: ConvergenceWarning: lbfgs failed to converge (status=1):\n",
            "STOP: TOTAL NO. of ITERATIONS REACHED LIMIT.\n",
            "\n",
            "Increase the number of iterations (max_iter) or scale the data as shown in:\n",
            "    https://scikit-learn.org/stable/modules/preprocessing.html\n",
            "Please also refer to the documentation for alternative solver options:\n",
            "    https://scikit-learn.org/stable/modules/linear_model.html#logistic-regression\n",
            "  extra_warning_msg=_LOGISTIC_SOLVER_CONVERGENCE_MSG,\n",
            "/usr/local/lib/python3.7/dist-packages/sklearn/linear_model/_logistic.py:818: ConvergenceWarning: lbfgs failed to converge (status=1):\n",
            "STOP: TOTAL NO. of ITERATIONS REACHED LIMIT.\n",
            "\n",
            "Increase the number of iterations (max_iter) or scale the data as shown in:\n",
            "    https://scikit-learn.org/stable/modules/preprocessing.html\n",
            "Please also refer to the documentation for alternative solver options:\n",
            "    https://scikit-learn.org/stable/modules/linear_model.html#logistic-regression\n",
            "  extra_warning_msg=_LOGISTIC_SOLVER_CONVERGENCE_MSG,\n",
            "/usr/local/lib/python3.7/dist-packages/sklearn/linear_model/_logistic.py:818: ConvergenceWarning: lbfgs failed to converge (status=1):\n",
            "STOP: TOTAL NO. of ITERATIONS REACHED LIMIT.\n",
            "\n",
            "Increase the number of iterations (max_iter) or scale the data as shown in:\n",
            "    https://scikit-learn.org/stable/modules/preprocessing.html\n",
            "Please also refer to the documentation for alternative solver options:\n",
            "    https://scikit-learn.org/stable/modules/linear_model.html#logistic-regression\n",
            "  extra_warning_msg=_LOGISTIC_SOLVER_CONVERGENCE_MSG,\n",
            "/usr/local/lib/python3.7/dist-packages/sklearn/linear_model/_logistic.py:818: ConvergenceWarning: lbfgs failed to converge (status=1):\n",
            "STOP: TOTAL NO. of ITERATIONS REACHED LIMIT.\n",
            "\n",
            "Increase the number of iterations (max_iter) or scale the data as shown in:\n",
            "    https://scikit-learn.org/stable/modules/preprocessing.html\n",
            "Please also refer to the documentation for alternative solver options:\n",
            "    https://scikit-learn.org/stable/modules/linear_model.html#logistic-regression\n",
            "  extra_warning_msg=_LOGISTIC_SOLVER_CONVERGENCE_MSG,\n",
            "/usr/local/lib/python3.7/dist-packages/sklearn/linear_model/_logistic.py:818: ConvergenceWarning: lbfgs failed to converge (status=1):\n",
            "STOP: TOTAL NO. of ITERATIONS REACHED LIMIT.\n",
            "\n",
            "Increase the number of iterations (max_iter) or scale the data as shown in:\n",
            "    https://scikit-learn.org/stable/modules/preprocessing.html\n",
            "Please also refer to the documentation for alternative solver options:\n",
            "    https://scikit-learn.org/stable/modules/linear_model.html#logistic-regression\n",
            "  extra_warning_msg=_LOGISTIC_SOLVER_CONVERGENCE_MSG,\n",
            "/usr/local/lib/python3.7/dist-packages/sklearn/linear_model/_logistic.py:818: ConvergenceWarning: lbfgs failed to converge (status=1):\n",
            "STOP: TOTAL NO. of ITERATIONS REACHED LIMIT.\n",
            "\n",
            "Increase the number of iterations (max_iter) or scale the data as shown in:\n",
            "    https://scikit-learn.org/stable/modules/preprocessing.html\n",
            "Please also refer to the documentation for alternative solver options:\n",
            "    https://scikit-learn.org/stable/modules/linear_model.html#logistic-regression\n",
            "  extra_warning_msg=_LOGISTIC_SOLVER_CONVERGENCE_MSG,\n",
            "/usr/local/lib/python3.7/dist-packages/sklearn/linear_model/_logistic.py:818: ConvergenceWarning: lbfgs failed to converge (status=1):\n",
            "STOP: TOTAL NO. of ITERATIONS REACHED LIMIT.\n",
            "\n",
            "Increase the number of iterations (max_iter) or scale the data as shown in:\n",
            "    https://scikit-learn.org/stable/modules/preprocessing.html\n",
            "Please also refer to the documentation for alternative solver options:\n",
            "    https://scikit-learn.org/stable/modules/linear_model.html#logistic-regression\n",
            "  extra_warning_msg=_LOGISTIC_SOLVER_CONVERGENCE_MSG,\n",
            "/usr/local/lib/python3.7/dist-packages/sklearn/linear_model/_logistic.py:818: ConvergenceWarning: lbfgs failed to converge (status=1):\n",
            "STOP: TOTAL NO. of ITERATIONS REACHED LIMIT.\n",
            "\n",
            "Increase the number of iterations (max_iter) or scale the data as shown in:\n",
            "    https://scikit-learn.org/stable/modules/preprocessing.html\n",
            "Please also refer to the documentation for alternative solver options:\n",
            "    https://scikit-learn.org/stable/modules/linear_model.html#logistic-regression\n",
            "  extra_warning_msg=_LOGISTIC_SOLVER_CONVERGENCE_MSG,\n",
            "/usr/local/lib/python3.7/dist-packages/sklearn/linear_model/_logistic.py:818: ConvergenceWarning: lbfgs failed to converge (status=1):\n",
            "STOP: TOTAL NO. of ITERATIONS REACHED LIMIT.\n",
            "\n",
            "Increase the number of iterations (max_iter) or scale the data as shown in:\n",
            "    https://scikit-learn.org/stable/modules/preprocessing.html\n",
            "Please also refer to the documentation for alternative solver options:\n",
            "    https://scikit-learn.org/stable/modules/linear_model.html#logistic-regression\n",
            "  extra_warning_msg=_LOGISTIC_SOLVER_CONVERGENCE_MSG,\n",
            "/usr/local/lib/python3.7/dist-packages/sklearn/linear_model/_logistic.py:818: ConvergenceWarning: lbfgs failed to converge (status=1):\n",
            "STOP: TOTAL NO. of ITERATIONS REACHED LIMIT.\n",
            "\n",
            "Increase the number of iterations (max_iter) or scale the data as shown in:\n",
            "    https://scikit-learn.org/stable/modules/preprocessing.html\n",
            "Please also refer to the documentation for alternative solver options:\n",
            "    https://scikit-learn.org/stable/modules/linear_model.html#logistic-regression\n",
            "  extra_warning_msg=_LOGISTIC_SOLVER_CONVERGENCE_MSG,\n",
            "/usr/local/lib/python3.7/dist-packages/sklearn/linear_model/_logistic.py:818: ConvergenceWarning: lbfgs failed to converge (status=1):\n",
            "STOP: TOTAL NO. of ITERATIONS REACHED LIMIT.\n",
            "\n",
            "Increase the number of iterations (max_iter) or scale the data as shown in:\n",
            "    https://scikit-learn.org/stable/modules/preprocessing.html\n",
            "Please also refer to the documentation for alternative solver options:\n",
            "    https://scikit-learn.org/stable/modules/linear_model.html#logistic-regression\n",
            "  extra_warning_msg=_LOGISTIC_SOLVER_CONVERGENCE_MSG,\n",
            "/usr/local/lib/python3.7/dist-packages/sklearn/linear_model/_logistic.py:818: ConvergenceWarning: lbfgs failed to converge (status=1):\n",
            "STOP: TOTAL NO. of ITERATIONS REACHED LIMIT.\n",
            "\n",
            "Increase the number of iterations (max_iter) or scale the data as shown in:\n",
            "    https://scikit-learn.org/stable/modules/preprocessing.html\n",
            "Please also refer to the documentation for alternative solver options:\n",
            "    https://scikit-learn.org/stable/modules/linear_model.html#logistic-regression\n",
            "  extra_warning_msg=_LOGISTIC_SOLVER_CONVERGENCE_MSG,\n",
            "/usr/local/lib/python3.7/dist-packages/sklearn/linear_model/_logistic.py:818: ConvergenceWarning: lbfgs failed to converge (status=1):\n",
            "STOP: TOTAL NO. of ITERATIONS REACHED LIMIT.\n",
            "\n",
            "Increase the number of iterations (max_iter) or scale the data as shown in:\n",
            "    https://scikit-learn.org/stable/modules/preprocessing.html\n",
            "Please also refer to the documentation for alternative solver options:\n",
            "    https://scikit-learn.org/stable/modules/linear_model.html#logistic-regression\n",
            "  extra_warning_msg=_LOGISTIC_SOLVER_CONVERGENCE_MSG,\n"
          ]
        },
        {
          "output_type": "stream",
          "name": "stdout",
          "text": [
            "[[734  10]\n",
            " [ 21  38]]\n",
            "\n",
            "\n",
            "                    0          1  accuracy   macro avg  weighted avg\n",
            "precision    0.972185   0.791667  0.961395    0.881926      0.958922\n",
            "recall       0.986559   0.644068  0.961395    0.815313      0.961395\n",
            "f1-score     0.979320   0.710280  0.961395    0.844800      0.959552\n",
            "support    744.000000  59.000000  0.961395  803.000000    803.000000\n"
          ]
        }
      ]
    },
    {
      "cell_type": "code",
      "source": [
        "# Prepare Classification Report\n",
        "exp_confusion_matrix = confusion_matrix(y_test,y_pred)\n",
        "exp_clf_report = classification_report(y_test,y_pred, output_dict=True)\n",
        "print(exp_confusion_matrix)\n",
        "print('\\n')\n",
        "print(pd.DataFrame(exp_clf_report))\n",
        "\n",
        "prepare_exp_report(EXPERIMENT_RESULTS, \n",
        "                    exp_name9, \n",
        "                    parse_confusion_matrix(exp_confusion_matrix), \n",
        "                    parse_clf_report(exp_clf_report))"
      ],
      "metadata": {
        "colab": {
          "base_uri": "https://localhost:8080/"
        },
        "id": "3RusbhcFfU6C",
        "outputId": "17555640-7f5d-4924-cc9e-d37cbb0b265b"
      },
      "execution_count": null,
      "outputs": [
        {
          "output_type": "stream",
          "name": "stdout",
          "text": [
            "[[734  10]\n",
            " [ 21  38]]\n",
            "\n",
            "\n",
            "                    0          1  accuracy   macro avg  weighted avg\n",
            "precision    0.972185   0.791667  0.961395    0.881926      0.958922\n",
            "recall       0.986559   0.644068  0.961395    0.815313      0.961395\n",
            "f1-score     0.979320   0.710280  0.961395    0.844800      0.959552\n",
            "support    744.000000  59.000000  0.961395  803.000000    803.000000\n"
          ]
        }
      ]
    },
    {
      "cell_type": "code",
      "source": [
        "SCHEMA = ['Experiment Name', 'True Positives', 'True Negatives', 'False Positives', \n",
        "          'False Negatives', 'Overall F1 Score','Overall Precision','Overall Recall',\n",
        "          'F1 for Positives Records','Precision for Positive Records', 'Recall for Positive Records']\n",
        "\n",
        "pd.DataFrame(EXPERIMENT_RESULTS, columns=SCHEMA)"
      ],
      "metadata": {
        "id": "i6wxJPYlR51d",
        "colab": {
          "base_uri": "https://localhost:8080/"
        },
        "outputId": "5080f47d-e4ec-4b35-9715-1c27992ebf8b"
      },
      "execution_count": null,
      "outputs": [
        {
          "output_type": "execute_result",
          "data": {
            "text/plain": [
              "                    Experiment Name  True Positives  True Negatives  \\\n",
              "0                     Random Forest             742              31   \n",
              "1           Multinomial Naive Bayes             736              20   \n",
              "2                               SVM             741              19   \n",
              "3                              k-NN             736              21   \n",
              "4                     Decision Tree             726              22   \n",
              "5         Adaboost (Discrete SAMME)             737              37   \n",
              "6           Adaboost (Real SAMME.R)             739              34   \n",
              "7                 Voting Classifier             736              34   \n",
              "8  GridSearch with VotingClassifier             734              38   \n",
              "9  GridSearch with VotingClassifier             734              38   \n",
              "\n",
              "   False Positives  False Negatives  Overall F1 Score  Overall Precision  \\\n",
              "0               28                2          0.957682           0.961855   \n",
              "1               39                8          0.931639           0.932382   \n",
              "2               40                3          0.934870           0.942527   \n",
              "3               38                8          0.933516           0.934243   \n",
              "4               37               18          0.925366           0.922007   \n",
              "5               22                7          0.961436           0.961455   \n",
              "6               25                5          0.959076           0.960262   \n",
              "7               25                8          0.955678           0.955567   \n",
              "8               21               10          0.959552           0.958922   \n",
              "9               21               10          0.959552           0.958922   \n",
              "\n",
              "   Overall Recall  F1 for Positives Records  Precision for Positive Records  \\\n",
              "0        0.962640                  0.673913                        0.939394   \n",
              "1        0.941469                  0.459770                        0.714286   \n",
              "2        0.946451                  0.469136                        0.863636   \n",
              "3        0.942715                  0.477273                        0.724138   \n",
              "4        0.931507                  0.444444                        0.550000   \n",
              "5        0.963885                  0.718447                        0.840909   \n",
              "6        0.962640                  0.693878                        0.871795   \n",
              "7        0.958904                  0.673267                        0.809524   \n",
              "8        0.961395                  0.710280                        0.791667   \n",
              "9        0.961395                  0.710280                        0.791667   \n",
              "\n",
              "   Recall for Positive Records  \n",
              "0                     0.525424  \n",
              "1                     0.338983  \n",
              "2                     0.322034  \n",
              "3                     0.355932  \n",
              "4                     0.372881  \n",
              "5                     0.627119  \n",
              "6                     0.576271  \n",
              "7                     0.576271  \n",
              "8                     0.644068  \n",
              "9                     0.644068  "
            ],
            "text/html": [
              "\n",
              "  <div id=\"df-23af1090-d988-4a3e-bec0-10926a27c6cc\">\n",
              "    <div class=\"colab-df-container\">\n",
              "      <div>\n",
              "<style scoped>\n",
              "    .dataframe tbody tr th:only-of-type {\n",
              "        vertical-align: middle;\n",
              "    }\n",
              "\n",
              "    .dataframe tbody tr th {\n",
              "        vertical-align: top;\n",
              "    }\n",
              "\n",
              "    .dataframe thead th {\n",
              "        text-align: right;\n",
              "    }\n",
              "</style>\n",
              "<table border=\"1\" class=\"dataframe\">\n",
              "  <thead>\n",
              "    <tr style=\"text-align: right;\">\n",
              "      <th></th>\n",
              "      <th>Experiment Name</th>\n",
              "      <th>True Positives</th>\n",
              "      <th>True Negatives</th>\n",
              "      <th>False Positives</th>\n",
              "      <th>False Negatives</th>\n",
              "      <th>Overall F1 Score</th>\n",
              "      <th>Overall Precision</th>\n",
              "      <th>Overall Recall</th>\n",
              "      <th>F1 for Positives Records</th>\n",
              "      <th>Precision for Positive Records</th>\n",
              "      <th>Recall for Positive Records</th>\n",
              "    </tr>\n",
              "  </thead>\n",
              "  <tbody>\n",
              "    <tr>\n",
              "      <th>0</th>\n",
              "      <td>Random Forest</td>\n",
              "      <td>742</td>\n",
              "      <td>31</td>\n",
              "      <td>28</td>\n",
              "      <td>2</td>\n",
              "      <td>0.957682</td>\n",
              "      <td>0.961855</td>\n",
              "      <td>0.962640</td>\n",
              "      <td>0.673913</td>\n",
              "      <td>0.939394</td>\n",
              "      <td>0.525424</td>\n",
              "    </tr>\n",
              "    <tr>\n",
              "      <th>1</th>\n",
              "      <td>Multinomial Naive Bayes</td>\n",
              "      <td>736</td>\n",
              "      <td>20</td>\n",
              "      <td>39</td>\n",
              "      <td>8</td>\n",
              "      <td>0.931639</td>\n",
              "      <td>0.932382</td>\n",
              "      <td>0.941469</td>\n",
              "      <td>0.459770</td>\n",
              "      <td>0.714286</td>\n",
              "      <td>0.338983</td>\n",
              "    </tr>\n",
              "    <tr>\n",
              "      <th>2</th>\n",
              "      <td>SVM</td>\n",
              "      <td>741</td>\n",
              "      <td>19</td>\n",
              "      <td>40</td>\n",
              "      <td>3</td>\n",
              "      <td>0.934870</td>\n",
              "      <td>0.942527</td>\n",
              "      <td>0.946451</td>\n",
              "      <td>0.469136</td>\n",
              "      <td>0.863636</td>\n",
              "      <td>0.322034</td>\n",
              "    </tr>\n",
              "    <tr>\n",
              "      <th>3</th>\n",
              "      <td>k-NN</td>\n",
              "      <td>736</td>\n",
              "      <td>21</td>\n",
              "      <td>38</td>\n",
              "      <td>8</td>\n",
              "      <td>0.933516</td>\n",
              "      <td>0.934243</td>\n",
              "      <td>0.942715</td>\n",
              "      <td>0.477273</td>\n",
              "      <td>0.724138</td>\n",
              "      <td>0.355932</td>\n",
              "    </tr>\n",
              "    <tr>\n",
              "      <th>4</th>\n",
              "      <td>Decision Tree</td>\n",
              "      <td>726</td>\n",
              "      <td>22</td>\n",
              "      <td>37</td>\n",
              "      <td>18</td>\n",
              "      <td>0.925366</td>\n",
              "      <td>0.922007</td>\n",
              "      <td>0.931507</td>\n",
              "      <td>0.444444</td>\n",
              "      <td>0.550000</td>\n",
              "      <td>0.372881</td>\n",
              "    </tr>\n",
              "    <tr>\n",
              "      <th>5</th>\n",
              "      <td>Adaboost (Discrete SAMME)</td>\n",
              "      <td>737</td>\n",
              "      <td>37</td>\n",
              "      <td>22</td>\n",
              "      <td>7</td>\n",
              "      <td>0.961436</td>\n",
              "      <td>0.961455</td>\n",
              "      <td>0.963885</td>\n",
              "      <td>0.718447</td>\n",
              "      <td>0.840909</td>\n",
              "      <td>0.627119</td>\n",
              "    </tr>\n",
              "    <tr>\n",
              "      <th>6</th>\n",
              "      <td>Adaboost (Real SAMME.R)</td>\n",
              "      <td>739</td>\n",
              "      <td>34</td>\n",
              "      <td>25</td>\n",
              "      <td>5</td>\n",
              "      <td>0.959076</td>\n",
              "      <td>0.960262</td>\n",
              "      <td>0.962640</td>\n",
              "      <td>0.693878</td>\n",
              "      <td>0.871795</td>\n",
              "      <td>0.576271</td>\n",
              "    </tr>\n",
              "    <tr>\n",
              "      <th>7</th>\n",
              "      <td>Voting Classifier</td>\n",
              "      <td>736</td>\n",
              "      <td>34</td>\n",
              "      <td>25</td>\n",
              "      <td>8</td>\n",
              "      <td>0.955678</td>\n",
              "      <td>0.955567</td>\n",
              "      <td>0.958904</td>\n",
              "      <td>0.673267</td>\n",
              "      <td>0.809524</td>\n",
              "      <td>0.576271</td>\n",
              "    </tr>\n",
              "    <tr>\n",
              "      <th>8</th>\n",
              "      <td>GridSearch with VotingClassifier</td>\n",
              "      <td>734</td>\n",
              "      <td>38</td>\n",
              "      <td>21</td>\n",
              "      <td>10</td>\n",
              "      <td>0.959552</td>\n",
              "      <td>0.958922</td>\n",
              "      <td>0.961395</td>\n",
              "      <td>0.710280</td>\n",
              "      <td>0.791667</td>\n",
              "      <td>0.644068</td>\n",
              "    </tr>\n",
              "    <tr>\n",
              "      <th>9</th>\n",
              "      <td>GridSearch with VotingClassifier</td>\n",
              "      <td>734</td>\n",
              "      <td>38</td>\n",
              "      <td>21</td>\n",
              "      <td>10</td>\n",
              "      <td>0.959552</td>\n",
              "      <td>0.958922</td>\n",
              "      <td>0.961395</td>\n",
              "      <td>0.710280</td>\n",
              "      <td>0.791667</td>\n",
              "      <td>0.644068</td>\n",
              "    </tr>\n",
              "  </tbody>\n",
              "</table>\n",
              "</div>\n",
              "      <button class=\"colab-df-convert\" onclick=\"convertToInteractive('df-23af1090-d988-4a3e-bec0-10926a27c6cc')\"\n",
              "              title=\"Convert this dataframe to an interactive table.\"\n",
              "              style=\"display:none;\">\n",
              "        \n",
              "  <svg xmlns=\"http://www.w3.org/2000/svg\" height=\"24px\"viewBox=\"0 0 24 24\"\n",
              "       width=\"24px\">\n",
              "    <path d=\"M0 0h24v24H0V0z\" fill=\"none\"/>\n",
              "    <path d=\"M18.56 5.44l.94 2.06.94-2.06 2.06-.94-2.06-.94-.94-2.06-.94 2.06-2.06.94zm-11 1L8.5 8.5l.94-2.06 2.06-.94-2.06-.94L8.5 2.5l-.94 2.06-2.06.94zm10 10l.94 2.06.94-2.06 2.06-.94-2.06-.94-.94-2.06-.94 2.06-2.06.94z\"/><path d=\"M17.41 7.96l-1.37-1.37c-.4-.4-.92-.59-1.43-.59-.52 0-1.04.2-1.43.59L10.3 9.45l-7.72 7.72c-.78.78-.78 2.05 0 2.83L4 21.41c.39.39.9.59 1.41.59.51 0 1.02-.2 1.41-.59l7.78-7.78 2.81-2.81c.8-.78.8-2.07 0-2.86zM5.41 20L4 18.59l7.72-7.72 1.47 1.35L5.41 20z\"/>\n",
              "  </svg>\n",
              "      </button>\n",
              "      \n",
              "  <style>\n",
              "    .colab-df-container {\n",
              "      display:flex;\n",
              "      flex-wrap:wrap;\n",
              "      gap: 12px;\n",
              "    }\n",
              "\n",
              "    .colab-df-convert {\n",
              "      background-color: #E8F0FE;\n",
              "      border: none;\n",
              "      border-radius: 50%;\n",
              "      cursor: pointer;\n",
              "      display: none;\n",
              "      fill: #1967D2;\n",
              "      height: 32px;\n",
              "      padding: 0 0 0 0;\n",
              "      width: 32px;\n",
              "    }\n",
              "\n",
              "    .colab-df-convert:hover {\n",
              "      background-color: #E2EBFA;\n",
              "      box-shadow: 0px 1px 2px rgba(60, 64, 67, 0.3), 0px 1px 3px 1px rgba(60, 64, 67, 0.15);\n",
              "      fill: #174EA6;\n",
              "    }\n",
              "\n",
              "    [theme=dark] .colab-df-convert {\n",
              "      background-color: #3B4455;\n",
              "      fill: #D2E3FC;\n",
              "    }\n",
              "\n",
              "    [theme=dark] .colab-df-convert:hover {\n",
              "      background-color: #434B5C;\n",
              "      box-shadow: 0px 1px 3px 1px rgba(0, 0, 0, 0.15);\n",
              "      filter: drop-shadow(0px 1px 2px rgba(0, 0, 0, 0.3));\n",
              "      fill: #FFFFFF;\n",
              "    }\n",
              "  </style>\n",
              "\n",
              "      <script>\n",
              "        const buttonEl =\n",
              "          document.querySelector('#df-23af1090-d988-4a3e-bec0-10926a27c6cc button.colab-df-convert');\n",
              "        buttonEl.style.display =\n",
              "          google.colab.kernel.accessAllowed ? 'block' : 'none';\n",
              "\n",
              "        async function convertToInteractive(key) {\n",
              "          const element = document.querySelector('#df-23af1090-d988-4a3e-bec0-10926a27c6cc');\n",
              "          const dataTable =\n",
              "            await google.colab.kernel.invokeFunction('convertToInteractive',\n",
              "                                                     [key], {});\n",
              "          if (!dataTable) return;\n",
              "\n",
              "          const docLinkHtml = 'Like what you see? Visit the ' +\n",
              "            '<a target=\"_blank\" href=https://colab.research.google.com/notebooks/data_table.ipynb>data table notebook</a>'\n",
              "            + ' to learn more about interactive tables.';\n",
              "          element.innerHTML = '';\n",
              "          dataTable['output_type'] = 'display_data';\n",
              "          await google.colab.output.renderOutput(dataTable, element);\n",
              "          const docLink = document.createElement('div');\n",
              "          docLink.innerHTML = docLinkHtml;\n",
              "          element.appendChild(docLink);\n",
              "        }\n",
              "      </script>\n",
              "    </div>\n",
              "  </div>\n",
              "  "
            ]
          },
          "metadata": {},
          "execution_count": 29
        }
      ]
    }
  ]
}