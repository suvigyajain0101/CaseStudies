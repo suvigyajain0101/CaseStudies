{
  "nbformat": 4,
  "nbformat_minor": 0,
  "metadata": {
    "colab": {
      "name": "Modelling.ipynb",
      "provenance": [],
      "authorship_tag": "ABX9TyNuAoCGthTjlPcpxSsFK1zU"
    },
    "kernelspec": {
      "name": "python3",
      "display_name": "Python 3"
    },
    "language_info": {
      "name": "python"
    }
  },
  "cells": [
    {
      "cell_type": "markdown",
      "source": [
        "### Download the data"
      ],
      "metadata": {
        "id": "iEICroIunbrH"
      }
    },
    {
      "cell_type": "code",
      "source": [
        "!wget https://raw.githubusercontent.com/suvigyajain0101/CaseStudies/main/AdverseEventClassification/Data/AE_Data.csv"
      ],
      "metadata": {
        "colab": {
          "base_uri": "https://localhost:8080/"
        },
        "id": "v0qHYHSpni9w",
        "outputId": "1691fbca-da0c-4390-fdeb-ed88c8649ac4"
      },
      "execution_count": 1,
      "outputs": [
        {
          "output_type": "stream",
          "name": "stdout",
          "text": [
            "--2022-08-19 20:23:38--  https://raw.githubusercontent.com/suvigyajain0101/CaseStudies/main/AdverseEventClassification/Data/AE_Data.csv\n",
            "Resolving raw.githubusercontent.com (raw.githubusercontent.com)... 185.199.109.133, 185.199.111.133, 185.199.110.133, ...\n",
            "Connecting to raw.githubusercontent.com (raw.githubusercontent.com)|185.199.109.133|:443... connected.\n",
            "HTTP request sent, awaiting response... 200 OK\n",
            "Length: 5998096 (5.7M) [text/plain]\n",
            "Saving to: ‘AE_Data.csv’\n",
            "\n",
            "AE_Data.csv         100%[===================>]   5.72M  --.-KB/s    in 0.04s   \n",
            "\n",
            "2022-08-19 20:23:39 (157 MB/s) - ‘AE_Data.csv’ saved [5998096/5998096]\n",
            "\n"
          ]
        }
      ]
    },
    {
      "cell_type": "markdown",
      "source": [
        "### Import Libraries"
      ],
      "metadata": {
        "id": "jpdJtnronjPA"
      }
    },
    {
      "cell_type": "code",
      "source": [
        "import pandas as pd\n",
        "import numpy as np\n",
        "import re"
      ],
      "metadata": {
        "id": "deysFOmVnnSo"
      },
      "execution_count": 2,
      "outputs": []
    },
    {
      "cell_type": "code",
      "source": [
        "WORDS_TO_REMOVE = ['##padding##', 'ti-', 'ti -']"
      ],
      "metadata": {
        "id": "SjwD_F3KunMI"
      },
      "execution_count": 3,
      "outputs": []
    },
    {
      "cell_type": "code",
      "source": [
        "df = pd.read_csv('/content/AE_Data.csv')\n",
        "df.head()"
      ],
      "metadata": {
        "colab": {
          "base_uri": "https://localhost:8080/",
          "height": 206
        },
        "id": "0abX0Dx8no2-",
        "outputId": "8b4ab31c-9b03-4175-d7ed-f90426c1bf0f"
      },
      "execution_count": 4,
      "outputs": [
        {
          "output_type": "execute_result",
          "data": {
            "text/plain": [
              "                                               title  \\\n",
              "0  antimicrobial impacts of essential oils on foo...   \n",
              "1  purification and characterization of a cystein...   \n",
              "2  telavancin activity tested against gram-positi...   \n",
              "3  the in vitro antimicrobial activity of cymbopo...   \n",
              "4  screening currency notes for microbial pathoge...   \n",
              "\n",
              "                                            abstract  label  \n",
              "0  the antimicrobial activity of twelve essential...      0  \n",
              "1  antimicrobial peptide (amp) crustin is a type ...      0  \n",
              "2  objectives: to reassess the activity of telava...      0  \n",
              "3  background: it is well known that cymbopogon (...      0  \n",
              "4  fomites are a well-known source of microbial i...      0  "
            ],
            "text/html": [
              "\n",
              "  <div id=\"df-ab525223-62ef-4ddc-9124-177bd1770931\">\n",
              "    <div class=\"colab-df-container\">\n",
              "      <div>\n",
              "<style scoped>\n",
              "    .dataframe tbody tr th:only-of-type {\n",
              "        vertical-align: middle;\n",
              "    }\n",
              "\n",
              "    .dataframe tbody tr th {\n",
              "        vertical-align: top;\n",
              "    }\n",
              "\n",
              "    .dataframe thead th {\n",
              "        text-align: right;\n",
              "    }\n",
              "</style>\n",
              "<table border=\"1\" class=\"dataframe\">\n",
              "  <thead>\n",
              "    <tr style=\"text-align: right;\">\n",
              "      <th></th>\n",
              "      <th>title</th>\n",
              "      <th>abstract</th>\n",
              "      <th>label</th>\n",
              "    </tr>\n",
              "  </thead>\n",
              "  <tbody>\n",
              "    <tr>\n",
              "      <th>0</th>\n",
              "      <td>antimicrobial impacts of essential oils on foo...</td>\n",
              "      <td>the antimicrobial activity of twelve essential...</td>\n",
              "      <td>0</td>\n",
              "    </tr>\n",
              "    <tr>\n",
              "      <th>1</th>\n",
              "      <td>purification and characterization of a cystein...</td>\n",
              "      <td>antimicrobial peptide (amp) crustin is a type ...</td>\n",
              "      <td>0</td>\n",
              "    </tr>\n",
              "    <tr>\n",
              "      <th>2</th>\n",
              "      <td>telavancin activity tested against gram-positi...</td>\n",
              "      <td>objectives: to reassess the activity of telava...</td>\n",
              "      <td>0</td>\n",
              "    </tr>\n",
              "    <tr>\n",
              "      <th>3</th>\n",
              "      <td>the in vitro antimicrobial activity of cymbopo...</td>\n",
              "      <td>background: it is well known that cymbopogon (...</td>\n",
              "      <td>0</td>\n",
              "    </tr>\n",
              "    <tr>\n",
              "      <th>4</th>\n",
              "      <td>screening currency notes for microbial pathoge...</td>\n",
              "      <td>fomites are a well-known source of microbial i...</td>\n",
              "      <td>0</td>\n",
              "    </tr>\n",
              "  </tbody>\n",
              "</table>\n",
              "</div>\n",
              "      <button class=\"colab-df-convert\" onclick=\"convertToInteractive('df-ab525223-62ef-4ddc-9124-177bd1770931')\"\n",
              "              title=\"Convert this dataframe to an interactive table.\"\n",
              "              style=\"display:none;\">\n",
              "        \n",
              "  <svg xmlns=\"http://www.w3.org/2000/svg\" height=\"24px\"viewBox=\"0 0 24 24\"\n",
              "       width=\"24px\">\n",
              "    <path d=\"M0 0h24v24H0V0z\" fill=\"none\"/>\n",
              "    <path d=\"M18.56 5.44l.94 2.06.94-2.06 2.06-.94-2.06-.94-.94-2.06-.94 2.06-2.06.94zm-11 1L8.5 8.5l.94-2.06 2.06-.94-2.06-.94L8.5 2.5l-.94 2.06-2.06.94zm10 10l.94 2.06.94-2.06 2.06-.94-2.06-.94-.94-2.06-.94 2.06-2.06.94z\"/><path d=\"M17.41 7.96l-1.37-1.37c-.4-.4-.92-.59-1.43-.59-.52 0-1.04.2-1.43.59L10.3 9.45l-7.72 7.72c-.78.78-.78 2.05 0 2.83L4 21.41c.39.39.9.59 1.41.59.51 0 1.02-.2 1.41-.59l7.78-7.78 2.81-2.81c.8-.78.8-2.07 0-2.86zM5.41 20L4 18.59l7.72-7.72 1.47 1.35L5.41 20z\"/>\n",
              "  </svg>\n",
              "      </button>\n",
              "      \n",
              "  <style>\n",
              "    .colab-df-container {\n",
              "      display:flex;\n",
              "      flex-wrap:wrap;\n",
              "      gap: 12px;\n",
              "    }\n",
              "\n",
              "    .colab-df-convert {\n",
              "      background-color: #E8F0FE;\n",
              "      border: none;\n",
              "      border-radius: 50%;\n",
              "      cursor: pointer;\n",
              "      display: none;\n",
              "      fill: #1967D2;\n",
              "      height: 32px;\n",
              "      padding: 0 0 0 0;\n",
              "      width: 32px;\n",
              "    }\n",
              "\n",
              "    .colab-df-convert:hover {\n",
              "      background-color: #E2EBFA;\n",
              "      box-shadow: 0px 1px 2px rgba(60, 64, 67, 0.3), 0px 1px 3px 1px rgba(60, 64, 67, 0.15);\n",
              "      fill: #174EA6;\n",
              "    }\n",
              "\n",
              "    [theme=dark] .colab-df-convert {\n",
              "      background-color: #3B4455;\n",
              "      fill: #D2E3FC;\n",
              "    }\n",
              "\n",
              "    [theme=dark] .colab-df-convert:hover {\n",
              "      background-color: #434B5C;\n",
              "      box-shadow: 0px 1px 3px 1px rgba(0, 0, 0, 0.15);\n",
              "      filter: drop-shadow(0px 1px 2px rgba(0, 0, 0, 0.3));\n",
              "      fill: #FFFFFF;\n",
              "    }\n",
              "  </style>\n",
              "\n",
              "      <script>\n",
              "        const buttonEl =\n",
              "          document.querySelector('#df-ab525223-62ef-4ddc-9124-177bd1770931 button.colab-df-convert');\n",
              "        buttonEl.style.display =\n",
              "          google.colab.kernel.accessAllowed ? 'block' : 'none';\n",
              "\n",
              "        async function convertToInteractive(key) {\n",
              "          const element = document.querySelector('#df-ab525223-62ef-4ddc-9124-177bd1770931');\n",
              "          const dataTable =\n",
              "            await google.colab.kernel.invokeFunction('convertToInteractive',\n",
              "                                                     [key], {});\n",
              "          if (!dataTable) return;\n",
              "\n",
              "          const docLinkHtml = 'Like what you see? Visit the ' +\n",
              "            '<a target=\"_blank\" href=https://colab.research.google.com/notebooks/data_table.ipynb>data table notebook</a>'\n",
              "            + ' to learn more about interactive tables.';\n",
              "          element.innerHTML = '';\n",
              "          dataTable['output_type'] = 'display_data';\n",
              "          await google.colab.output.renderOutput(dataTable, element);\n",
              "          const docLink = document.createElement('div');\n",
              "          docLink.innerHTML = docLinkHtml;\n",
              "          element.appendChild(docLink);\n",
              "        }\n",
              "      </script>\n",
              "    </div>\n",
              "  </div>\n",
              "  "
            ]
          },
          "metadata": {},
          "execution_count": 4
        }
      ]
    },
    {
      "cell_type": "code",
      "source": [
        "df['label'].value_counts()"
      ],
      "metadata": {
        "colab": {
          "base_uri": "https://localhost:8080/"
        },
        "id": "5ydBapLanqSa",
        "outputId": "a5c7abc5-1e7d-4208-e932-4236f3f45f89"
      },
      "execution_count": 5,
      "outputs": [
        {
          "output_type": "execute_result",
          "data": {
            "text/plain": [
              "0    3851\n",
              "1     294\n",
              "Name: label, dtype: int64"
            ]
          },
          "metadata": {},
          "execution_count": 5
        }
      ]
    },
    {
      "cell_type": "markdown",
      "source": [
        "### Data Cleaning\n",
        "\n",
        "1. Combine Title and Abstract\n",
        "2. Lower case entire corpus\n",
        "2. Remove newline and tabs from the dataset\n",
        "3. Remove brackets, #, colons, 'TI\" (title identifier), '##PADDING##'\n",
        "5. Lemmatize and remove stopwords\n",
        "2. Remove records with less than 10 words"
      ],
      "metadata": {
        "id": "e4pT39M5nu4K"
      }
    },
    {
      "cell_type": "code",
      "source": [
        "df['text'] = df['title'] + ' ' + df['abstract']\n",
        "df.head()"
      ],
      "metadata": {
        "colab": {
          "base_uri": "https://localhost:8080/",
          "height": 206
        },
        "id": "3qqv6Qx1n-rY",
        "outputId": "86b876fd-bf69-4157-b469-81702e64f1d2"
      },
      "execution_count": 6,
      "outputs": [
        {
          "output_type": "execute_result",
          "data": {
            "text/plain": [
              "                                               title  \\\n",
              "0  antimicrobial impacts of essential oils on foo...   \n",
              "1  purification and characterization of a cystein...   \n",
              "2  telavancin activity tested against gram-positi...   \n",
              "3  the in vitro antimicrobial activity of cymbopo...   \n",
              "4  screening currency notes for microbial pathoge...   \n",
              "\n",
              "                                            abstract  label  \\\n",
              "0  the antimicrobial activity of twelve essential...      0   \n",
              "1  antimicrobial peptide (amp) crustin is a type ...      0   \n",
              "2  objectives: to reassess the activity of telava...      0   \n",
              "3  background: it is well known that cymbopogon (...      0   \n",
              "4  fomites are a well-known source of microbial i...      0   \n",
              "\n",
              "                                                text  \n",
              "0  antimicrobial impacts of essential oils on foo...  \n",
              "1  purification and characterization of a cystein...  \n",
              "2  telavancin activity tested against gram-positi...  \n",
              "3  the in vitro antimicrobial activity of cymbopo...  \n",
              "4  screening currency notes for microbial pathoge...  "
            ],
            "text/html": [
              "\n",
              "  <div id=\"df-7220b00e-0654-4352-ae70-0bf225c56aba\">\n",
              "    <div class=\"colab-df-container\">\n",
              "      <div>\n",
              "<style scoped>\n",
              "    .dataframe tbody tr th:only-of-type {\n",
              "        vertical-align: middle;\n",
              "    }\n",
              "\n",
              "    .dataframe tbody tr th {\n",
              "        vertical-align: top;\n",
              "    }\n",
              "\n",
              "    .dataframe thead th {\n",
              "        text-align: right;\n",
              "    }\n",
              "</style>\n",
              "<table border=\"1\" class=\"dataframe\">\n",
              "  <thead>\n",
              "    <tr style=\"text-align: right;\">\n",
              "      <th></th>\n",
              "      <th>title</th>\n",
              "      <th>abstract</th>\n",
              "      <th>label</th>\n",
              "      <th>text</th>\n",
              "    </tr>\n",
              "  </thead>\n",
              "  <tbody>\n",
              "    <tr>\n",
              "      <th>0</th>\n",
              "      <td>antimicrobial impacts of essential oils on foo...</td>\n",
              "      <td>the antimicrobial activity of twelve essential...</td>\n",
              "      <td>0</td>\n",
              "      <td>antimicrobial impacts of essential oils on foo...</td>\n",
              "    </tr>\n",
              "    <tr>\n",
              "      <th>1</th>\n",
              "      <td>purification and characterization of a cystein...</td>\n",
              "      <td>antimicrobial peptide (amp) crustin is a type ...</td>\n",
              "      <td>0</td>\n",
              "      <td>purification and characterization of a cystein...</td>\n",
              "    </tr>\n",
              "    <tr>\n",
              "      <th>2</th>\n",
              "      <td>telavancin activity tested against gram-positi...</td>\n",
              "      <td>objectives: to reassess the activity of telava...</td>\n",
              "      <td>0</td>\n",
              "      <td>telavancin activity tested against gram-positi...</td>\n",
              "    </tr>\n",
              "    <tr>\n",
              "      <th>3</th>\n",
              "      <td>the in vitro antimicrobial activity of cymbopo...</td>\n",
              "      <td>background: it is well known that cymbopogon (...</td>\n",
              "      <td>0</td>\n",
              "      <td>the in vitro antimicrobial activity of cymbopo...</td>\n",
              "    </tr>\n",
              "    <tr>\n",
              "      <th>4</th>\n",
              "      <td>screening currency notes for microbial pathoge...</td>\n",
              "      <td>fomites are a well-known source of microbial i...</td>\n",
              "      <td>0</td>\n",
              "      <td>screening currency notes for microbial pathoge...</td>\n",
              "    </tr>\n",
              "  </tbody>\n",
              "</table>\n",
              "</div>\n",
              "      <button class=\"colab-df-convert\" onclick=\"convertToInteractive('df-7220b00e-0654-4352-ae70-0bf225c56aba')\"\n",
              "              title=\"Convert this dataframe to an interactive table.\"\n",
              "              style=\"display:none;\">\n",
              "        \n",
              "  <svg xmlns=\"http://www.w3.org/2000/svg\" height=\"24px\"viewBox=\"0 0 24 24\"\n",
              "       width=\"24px\">\n",
              "    <path d=\"M0 0h24v24H0V0z\" fill=\"none\"/>\n",
              "    <path d=\"M18.56 5.44l.94 2.06.94-2.06 2.06-.94-2.06-.94-.94-2.06-.94 2.06-2.06.94zm-11 1L8.5 8.5l.94-2.06 2.06-.94-2.06-.94L8.5 2.5l-.94 2.06-2.06.94zm10 10l.94 2.06.94-2.06 2.06-.94-2.06-.94-.94-2.06-.94 2.06-2.06.94z\"/><path d=\"M17.41 7.96l-1.37-1.37c-.4-.4-.92-.59-1.43-.59-.52 0-1.04.2-1.43.59L10.3 9.45l-7.72 7.72c-.78.78-.78 2.05 0 2.83L4 21.41c.39.39.9.59 1.41.59.51 0 1.02-.2 1.41-.59l7.78-7.78 2.81-2.81c.8-.78.8-2.07 0-2.86zM5.41 20L4 18.59l7.72-7.72 1.47 1.35L5.41 20z\"/>\n",
              "  </svg>\n",
              "      </button>\n",
              "      \n",
              "  <style>\n",
              "    .colab-df-container {\n",
              "      display:flex;\n",
              "      flex-wrap:wrap;\n",
              "      gap: 12px;\n",
              "    }\n",
              "\n",
              "    .colab-df-convert {\n",
              "      background-color: #E8F0FE;\n",
              "      border: none;\n",
              "      border-radius: 50%;\n",
              "      cursor: pointer;\n",
              "      display: none;\n",
              "      fill: #1967D2;\n",
              "      height: 32px;\n",
              "      padding: 0 0 0 0;\n",
              "      width: 32px;\n",
              "    }\n",
              "\n",
              "    .colab-df-convert:hover {\n",
              "      background-color: #E2EBFA;\n",
              "      box-shadow: 0px 1px 2px rgba(60, 64, 67, 0.3), 0px 1px 3px 1px rgba(60, 64, 67, 0.15);\n",
              "      fill: #174EA6;\n",
              "    }\n",
              "\n",
              "    [theme=dark] .colab-df-convert {\n",
              "      background-color: #3B4455;\n",
              "      fill: #D2E3FC;\n",
              "    }\n",
              "\n",
              "    [theme=dark] .colab-df-convert:hover {\n",
              "      background-color: #434B5C;\n",
              "      box-shadow: 0px 1px 3px 1px rgba(0, 0, 0, 0.15);\n",
              "      filter: drop-shadow(0px 1px 2px rgba(0, 0, 0, 0.3));\n",
              "      fill: #FFFFFF;\n",
              "    }\n",
              "  </style>\n",
              "\n",
              "      <script>\n",
              "        const buttonEl =\n",
              "          document.querySelector('#df-7220b00e-0654-4352-ae70-0bf225c56aba button.colab-df-convert');\n",
              "        buttonEl.style.display =\n",
              "          google.colab.kernel.accessAllowed ? 'block' : 'none';\n",
              "\n",
              "        async function convertToInteractive(key) {\n",
              "          const element = document.querySelector('#df-7220b00e-0654-4352-ae70-0bf225c56aba');\n",
              "          const dataTable =\n",
              "            await google.colab.kernel.invokeFunction('convertToInteractive',\n",
              "                                                     [key], {});\n",
              "          if (!dataTable) return;\n",
              "\n",
              "          const docLinkHtml = 'Like what you see? Visit the ' +\n",
              "            '<a target=\"_blank\" href=https://colab.research.google.com/notebooks/data_table.ipynb>data table notebook</a>'\n",
              "            + ' to learn more about interactive tables.';\n",
              "          element.innerHTML = '';\n",
              "          dataTable['output_type'] = 'display_data';\n",
              "          await google.colab.output.renderOutput(dataTable, element);\n",
              "          const docLink = document.createElement('div');\n",
              "          docLink.innerHTML = docLinkHtml;\n",
              "          element.appendChild(docLink);\n",
              "        }\n",
              "      </script>\n",
              "    </div>\n",
              "  </div>\n",
              "  "
            ]
          },
          "metadata": {},
          "execution_count": 6
        }
      ]
    },
    {
      "cell_type": "code",
      "source": [
        "df.replace(r'\\n','', regex=True).iloc[4140, :]['text']"
      ],
      "metadata": {
        "colab": {
          "base_uri": "https://localhost:8080/",
          "height": 35
        },
        "id": "cgFd68BPpWfv",
        "outputId": "c716690c-1a55-442e-a797-edfa5a0796ce"
      },
      "execution_count": 7,
      "outputs": [
        {
          "output_type": "execute_result",
          "data": {
            "text/plain": [
              "'TI  - [AUTO-INFECTION (INTESTINAL) IN RADIATION SICKNESS AND ITS PREVENTION IN WISTAR WHITE RATS]. ##PADDING##'"
            ],
            "application/vnd.google.colaboratory.intrinsic+json": {
              "type": "string"
            }
          },
          "metadata": {},
          "execution_count": 7
        }
      ]
    },
    {
      "cell_type": "code",
      "source": [
        "import nltk\n",
        "from nltk.stem import WordNetLemmatizer\n",
        "from nltk.corpus import stopwords\n",
        "nltk.download('stopwords')\n",
        "nltk.download('wordnet')\n",
        "nltk.download('omw-1.4')"
      ],
      "metadata": {
        "colab": {
          "base_uri": "https://localhost:8080/"
        },
        "id": "tD1NlEloxF-9",
        "outputId": "355307f3-d626-412d-cc89-8cf5345bf733"
      },
      "execution_count": 8,
      "outputs": [
        {
          "output_type": "stream",
          "name": "stderr",
          "text": [
            "[nltk_data] Downloading package stopwords to /root/nltk_data...\n",
            "[nltk_data]   Unzipping corpora/stopwords.zip.\n",
            "[nltk_data] Downloading package wordnet to /root/nltk_data...\n",
            "[nltk_data] Downloading package omw-1.4 to /root/nltk_data...\n"
          ]
        },
        {
          "output_type": "execute_result",
          "data": {
            "text/plain": [
              "True"
            ]
          },
          "metadata": {},
          "execution_count": 8
        }
      ]
    },
    {
      "cell_type": "code",
      "source": [
        "eng_stopwords = stopwords.words('english')\n",
        "stemmer = WordNetLemmatizer()\n",
        "\n",
        "joined_words_to_remove = '|'.join(WORDS_TO_REMOVE)\n",
        "\n",
        "\n",
        "def clean_text(x):\n",
        "  # Lower case the text\n",
        "  lower_x = x.lower()\n",
        "\n",
        "  # Remove line breaks and tabs\n",
        "  no_break_x = re.sub(\"\\n|\\r|\\t\", \" \", lower_x)\n",
        "\n",
        "  # Remove specific words\n",
        "  no_waste_words_x = re.sub(joined_words_to_remove, \" \", no_break_x)\n",
        "\n",
        "  # Remove all non alphabet, numeral and space characters\n",
        "  alpha_x = re.sub('[^0-9a-zA-Z ]+', ' ', no_waste_words_x)\n",
        "\n",
        "  # Remove stopwords and lemmatize the word. Join at the end will also remove multi-spaces\n",
        "  lemma_x = ' '.join([stemmer.lemmatize(word) for word in alpha_x.split() if word not in eng_stopwords])\n",
        "\n",
        "  return lemma_x"
      ],
      "metadata": {
        "id": "SAwYUVd6sC47"
      },
      "execution_count": 9,
      "outputs": []
    },
    {
      "cell_type": "markdown",
      "source": [
        "Let's test the function on few examples"
      ],
      "metadata": {
        "id": "qOPATBDpwSho"
      }
    },
    {
      "cell_type": "code",
      "source": [
        "for sample_text in df.sample(5)['text'].values:\n",
        "  print('ORIGINAL TEXT : ', sample_text)\n",
        "  print('-'*100)\n",
        "  print('CLEANED TEXT : ', clean_text(sample_text))\n",
        "  print('\\n')\n",
        "  print('*'*100)"
      ],
      "metadata": {
        "colab": {
          "base_uri": "https://localhost:8080/"
        },
        "id": "j8PxtmOvwVXd",
        "outputId": "d0298cbd-c469-4c4b-d703-6b8a2ab637b6"
      },
      "execution_count": 10,
      "outputs": [
        {
          "output_type": "stream",
          "name": "stdout",
          "text": [
            "ORIGINAL TEXT :  [comparative studies on activities of antimicrobial agents against causative organisms isolated from patients with urinary tract infections (1994). ii. background of patients].\n",
            " clinical background was investigated on 628 bacterial strains isolated from patients with urinary tract infections (utis) in 10 hospitals during period from  june, 1994 to may, 1995. 1. distributions of sex, age and urinary tract infections among over sixties males, the majority was taken by complicated urinary tract infections. among females, the uncomplicated urinary tract infections was most frequent without a relation of age. as for over 40 females, the increase of complicated uti was admitted. 2. distribution of sex, age and pathogens isolated from utis in uncomplicated utis,other_species was most frequently isolated without a relation of age, and nextother_species and cns. in complicated utis without indwelling catheter,other_species,other_species andother_species were isolated the most frequent. in complicated utis with indwelling catheter,other_species was most frequently isolated, and nextother_species andother_species. 3. administration of antimicrobial agents and pathogens isolated from utis in uncomplicated utis, pathogens, after administration of antibiotics, isolated from patients have obviously decreased from 216 to 32 isolates. and also, pathogens of complicated utis without indwelling catheter, have decreased from 127 to 50 isolates. however, in complicated utis with indwelling catheter, pathogens after or before administration of antibiotics, were not revealed an obvious change. 4. pathogens  and utis with or without factor and operation in uncomplicated utis with or without factor and operation,other_species was mainly detected. in complicated utis without indwelling catheter and with factor and operationother_species was mainly  detected, and nextother_species,other_species andother_species. without factor and operation,other_species was mainly detected. in complicated utis with indwelling catheter and with factor and operation,other_species,other_species andother_species  were mainly detected at 23.5%, 15.0%, 15.0%, respectively. without factor and operation, proteus spp. 22%, and nextother_species andother_species 10% and 12%,  were detected, respectively. the distribution of pathogens, in the case of proteus spp. andother_species has been obviously varied by the influence of factor and operation.\n",
            "\n",
            "----------------------------------------------------------------------------------------------------\n",
            "CLEANED TEXT :  comparative study activity antimicrobial agent causative organism isolated patient urinary tract infection 1994 ii background patient clinical background investigated 628 bacterial strain isolated patient urinary tract infection utis 10 hospital period june 1994 may 1995 1 distribution sex age urinary tract infection among sixty male majority taken complicated urinary tract infection among female uncomplicated urinary tract infection frequent without relation age 40 female increase complicated uti admitted 2 distribution sex age pathogen isolated utis uncomplicated utis specie frequently isolated without relation age nextother specie cns complicated utis without indwelling catheter specie specie andother specie isolated frequent complicated utis indwelling catheter specie frequently isolated nextother specie andother specie 3 administration antimicrobial agent pathogen isolated utis uncomplicated utis pathogen administration antibiotic isolated patient obviously decreased 216 32 isolates also pathogen complicated utis without indwelling catheter decreased 127 50 isolates however complicated utis indwelling catheter pathogen administration antibiotic revealed obvious change 4 pathogen utis without factor operation uncomplicated utis without factor operation specie mainly detected complicated utis without indwelling catheter factor operationother specie mainly detected nextother specie specie andother specie without factor operation specie mainly detected complicated utis indwelling catheter factor operation specie specie andother specie mainly detected 23 5 15 0 15 0 respectively without factor operation proteus spp 22 nextother specie andother specie 10 12 detected respectively distribution pathogen case proteus spp andother specie obviously varied influence factor operation\n",
            "\n",
            "\n",
            "****************************************************************************************************\n",
            "ORIGINAL TEXT :  rat model of experimental endocarditis.\n",
            " a simple model of infective endocarditis was produced in rats. with the aid of a  guide wire, polyethylene catheters were passed into the left ventricle through the right carotid artery of sprague-dawley rats weighing 300 to 350 g. a volume of 1 ml of an overnight culture ofother_species,other_species, orother_species was intravenously injected 1 to 2 days after catheterization. bacterial titers ofother_species in vegetations were about 10(4)-fold greater than in other tissues. blood cultures were always positive after 6 h. mortality was 19% at 1 week and 82% at 2 weeks. catheters were pulled 24 h after infection, and vegetation titers of greater than 7.0 log10 colony-forming units per g were sustained at 5 days. in intravenously infected rats without catheters, blood and tissues were sterile after 3 to 5 days. withother_species, vegetations had greater than 9.0 log10 colony-forming units and withother_species 8.8 +/- 0.3 log10 colony-forming units per  g at 2 days. the rat model of infective endocarditis should prove to be suitable  for further pathological and therapeutic studies.\n",
            "\n",
            "----------------------------------------------------------------------------------------------------\n",
            "CLEANED TEXT :  rat model experimental endocarditis simple model infective endocarditis produced rat aid guide wire polyethylene catheter passed left ventricle right carotid artery sprague dawley rat weighing 300 350 g volume 1 ml overnight culture ofother specie specie orother specie intravenously injected 1 2 day catheterization bacterial titer ofother specie vegetation 10 4 fold greater tissue blood culture always positive 6 h mortality 19 1 week 82 2 week catheter pulled 24 h infection vegetation titer greater 7 0 log10 colony forming unit per g sustained 5 day intravenously infected rat without catheter blood tissue sterile 3 5 day withother specie vegetation greater 9 0 log10 colony forming unit withother specie 8 8 0 3 log10 colony forming unit per g 2 day rat model infective endocarditis prove suitable pathological therapeutic study\n",
            "\n",
            "\n",
            "****************************************************************************************************\n",
            "ORIGINAL TEXT :  antibacterial compounds from salvia adenophora fernald (lamiaceae).\n",
            " from the aerial parts of salvia adenophora fernald four derivatives of 12-oxo-phytodienoic acid (1-4) together with five clerodane diterpenoids (5, 6, 8-10), and one known diterpene (7) have been isolated. compounds 1-6 and 8-10 are described for the first time. the structures were established by extensive 1d, 2d nmr and hresi-tofms spectroscopic methods. finally, the absolute configuration has been established by comparing of experimental and quantum chemical calculation of ecd spectra. despite a total lack of antimicrobial activity of the plant extract, hinting to the existence of antagonistic interactions in the crude material, three oxylipins (2-4) displayed a promising inhibition on gram-positive multidrug-resistant clinical strains includingother_species,other_species and, particularly,other_species, while the compounds 9 and 10 revealed a specific and strain-dependent activity againstother_species. interestingly, the inhibition provided by these compounds was independent of the resistance patterns of these pathogens to classic antibiotics. no action was reported on gram-negative strains nor on candida albicans. these results confirm that clerodanes and, particularly, prostaglandin-like compounds can be considered as interesting antimicrobial agents deserving further study.\n",
            "\n",
            "----------------------------------------------------------------------------------------------------\n",
            "CLEANED TEXT :  antibacterial compound salvia adenophora fernald lamiaceae aerial part salvia adenophora fernald four derivative 12 oxo phytodienoic acid 1 4 together five clerodane diterpenoids 5 6 8 10 one known diterpene 7 isolated compound 1 6 8 10 described first time structure established extensive 1d 2d nmr hresi tofms spectroscopic method finally absolute configuration established comparing experimental quantum chemical calculation ecd spectrum despite total lack antimicrobial activity plant extract hinting existence antagonistic interaction crude material three oxylipins 2 4 displayed promising inhibition gram positive multidrug resistant clinical strain includingother specie specie particularly specie compound 9 10 revealed specific strain dependent activity againstother specie interestingly inhibition provided compound independent resistance pattern pathogen classic antibiotic action reported gram negative strain candida albicans result confirm clerodanes particularly prostaglandin like compound considered interesting antimicrobial agent deserving study\n",
            "\n",
            "\n",
            "****************************************************************************************************\n",
            "ORIGINAL TEXT :  development of an antimicrobial susceptibility testing method suitable for performance during space flight.\n",
            " very little is known regarding the effects of the microgravity environment of space flight upon the action of antimicrobial agents on bacterial pathogens. this study was undertaken to develop a simple method for conducting antibacterial susceptibility tests during a space shuttle mission. specially prepared susceptibility test research cards (biomerieux vitek, hazelwood, mo.) were designed to include 6 to 11 serial twofold dilutions of 14 antimicrobial agents,  including penicillins, cephalosporins, a beta-lactamase inhibitor, vancomycin, erythromycin, tetracycline, gentamicin, ciprofloxacin, and trimethoprim-sulfamethoxazole. mics of the drugs were determined by visual reading of color end points in the vitek research cards made possible by incorporation of a colorimetric growth indicator (alamarblue; accumed international, westlake, ohio). this study has demonstrated reproducible susceptibility results in the testing of isolates ofother_species, group a streptococcus species,other_species,other_species (beta-lactamase-positive and -negative strains),other_species,other_species, andother_species. in some instances, the mics were comparable to those determined by a standard broth microdilution method, while in some cases the unique test media and format yielded slightly different values that were themselves reproducible. the proposed in-flight experiment will  include inoculation of the vitek cards on the ground prior to launch of the space shuttle, storage of inoculated cards at refrigeration temperature aboard the space shuttle until experiment initiation, and then incubation of the cards for 18 to 48 h prior to visual interpretation of mics by the mission's astronauts. ground-based studies have shown reproducible mics following storage of inoculated cards for 7 days at 4 to 8 degrees c to accommodate the mission's time schedule and the astronaut's activities. for comparison, ground-based control (normal gravity) mic values will be generated by simultaneous inoculation and incubation  of a second set of test cards in a laboratory at the launch site. this procedure  can provide for a safe and compact experiment that should yield new information on the effects of microgravity on the biological activities of various classes of antibiotics.\n",
            "\n",
            "----------------------------------------------------------------------------------------------------\n",
            "CLEANED TEXT :  development antimicrobial susceptibility testing method suitable performance space flight little known regarding effect microgravity environment space flight upon action antimicrobial agent bacterial pathogen study undertaken develop simple method conducting antibacterial susceptibility test space shuttle mission specially prepared susceptibility test research card biomerieux vitek hazelwood mo designed include 6 11 serial twofold dilution 14 antimicrobial agent including penicillin cephalosporin beta lactamase inhibitor vancomycin erythromycin tetracycline gentamicin ciprofloxacin trimethoprim sulfamethoxazole mics drug determined visual reading color end point vitek research card made possible incorporation colorimetric growth indicator alamarblue accumed international westlake ohio study demonstrated reproducible susceptibility result testing isolates ofother specie group streptococcus specie specie specie beta lactamase positive negative strain specie specie andother specie instance mics comparable determined standard broth microdilution method case unique test medium format yielded slightly different value reproducible proposed flight experiment include inoculation vitek card ground prior launch space shuttle storage inoculated card refrigeration temperature aboard space shuttle experiment initiation incubation card 18 48 h prior visual interpretation mics mission astronaut ground based study shown reproducible mics following storage inoculated card 7 day 4 8 degree c accommodate mission time schedule astronaut activity comparison ground based control normal gravity mic value generated simultaneous inoculation incubation second set test card laboratory launch site procedure provide safe compact experiment yield new information effect microgravity biological activity various class antibiotic\n",
            "\n",
            "\n",
            "****************************************************************************************************\n",
            "ORIGINAL TEXT :  reduction of bacteria on spinach, lettuce, and surfaces in food service areas using neutral electrolyzed oxidizing water.\n",
            " food safety issues and increases in food borne illnesses have promulgated the development of new sanitation methods to eliminate pathogenic organisms on foods  and surfaces in food service areas. electrolyzed oxidizing water (eo water) shows promise as an environmentally friendly broad spectrum microbial decontamination agent. eo water is generated by the passage of a dilute salt solution ( approximately 1% nacl) through an electrochemical cell. this electrolytic process converts chloride ions and water molecules into chlorine oxidants (cl(2), hocl/clo(-)). at a near-neutral ph (ph 6.3-6.5), the predominant chemical species is the highly biocidal hypochlorous acid species (hocl) with the oxidation reduction potential (orp) of the solution ranging from 800 to 900mv. the biocidal activity of near-neutral eo water was evaluated at 25 degrees c using pure cultures ofother_species,other_speciesmurium,other_species,other_species, andother_species. treatment of these organisms,  in pure culture, with eo water at concentrations of 20, 50, 100, and 120ppm total residual chlorine (trc) and 10min of contact time resulted in 100% inactivation of all five organisms (reduction of 6.1-6.7log(10)cfu/ml). spray treatment of surfaces in food service areas with eo water containing 278-310ppm trc (ph 6.38)  resulted in a 79-100% reduction of microbial growth. dip (10min) treatment of spinach at 100 and 120ppm trc resulted in a 4.0-5.0log(10)cfu/ml reduction of bacterial counts for all organisms tested. dipping (10min) of lettuce at 100 and  120ppm trc reduced bacterial counts ofother_species by 0.24-0.25log(10)cfu/ml and reduced all other organisms by 2.43-3.81log(10)cfu/ml.\n",
            "\n",
            "----------------------------------------------------------------------------------------------------\n",
            "CLEANED TEXT :  reduction bacteria spinach lettuce surface food service area using neutral electrolyzed oxidizing water food safety issue increase food borne illness promulgated development new sanitation method eliminate pathogenic organism food surface food service area electrolyzed oxidizing water eo water show promise environmentally friendly broad spectrum microbial decontamination agent eo water generated passage dilute salt solution approximately 1 nacl electrochemical cell electrolytic process convert chloride ion water molecule chlorine oxidant cl 2 hocl clo near neutral ph ph 6 3 6 5 predominant chemical specie highly biocidal hypochlorous acid specie hocl oxidation reduction potential orp solution ranging 800 900mv biocidal activity near neutral eo water evaluated 25 degree c using pure culture ofother specie speciesmurium specie specie andother specie treatment organism pure culture eo water concentration 20 50 100 120ppm total residual chlorine trc 10min contact time resulted 100 inactivation five organism reduction 6 1 6 7log 10 cfu ml spray treatment surface food service area eo water containing 278 310ppm trc ph 6 38 resulted 79 100 reduction microbial growth dip 10min treatment spinach 100 120ppm trc resulted 4 0 5 0log 10 cfu ml reduction bacterial count organism tested dipping 10min lettuce 100 120ppm trc reduced bacterial count ofother specie 0 24 0 25log 10 cfu ml reduced organism 2 43 3 81log 10 cfu ml\n",
            "\n",
            "\n",
            "****************************************************************************************************\n"
          ]
        }
      ]
    },
    {
      "cell_type": "code",
      "source": [
        "# Apply cleaning function to the text field\n",
        "df['clean_text'] = df['text'].apply(lambda x : clean_text(x))\n",
        "\n",
        "# Get the length and drop records less than 10 words\n",
        "df['text_len'] = df['clean_text'].str.split().apply(len)\n",
        "\n",
        "cleaned_df = df[df['text_len'] > 10][['clean_text', 'label']]"
      ],
      "metadata": {
        "id": "7ahsc8kwoFX3"
      },
      "execution_count": 11,
      "outputs": []
    },
    {
      "cell_type": "code",
      "source": [
        "cleaned_df.head()"
      ],
      "metadata": {
        "colab": {
          "base_uri": "https://localhost:8080/",
          "height": 206
        },
        "id": "4ZgBEcURrdB7",
        "outputId": "bf7cd9f8-88c0-400c-89bb-66c684248e1d"
      },
      "execution_count": 12,
      "outputs": [
        {
          "output_type": "execute_result",
          "data": {
            "text/plain": [
              "                                          clean_text  label\n",
              "0  antimicrobial impact essential oil food borne ...      0\n",
              "1  purification characterization cysteine rich 14...      0\n",
              "2  telavancin activity tested gram positive clini...      0\n",
              "3  vitro antimicrobial activity cymbopogon essent...      0\n",
              "4  screening currency note microbial pathogen ant...      0"
            ],
            "text/html": [
              "\n",
              "  <div id=\"df-2bf49900-6fdd-4f39-9292-919c66d800ca\">\n",
              "    <div class=\"colab-df-container\">\n",
              "      <div>\n",
              "<style scoped>\n",
              "    .dataframe tbody tr th:only-of-type {\n",
              "        vertical-align: middle;\n",
              "    }\n",
              "\n",
              "    .dataframe tbody tr th {\n",
              "        vertical-align: top;\n",
              "    }\n",
              "\n",
              "    .dataframe thead th {\n",
              "        text-align: right;\n",
              "    }\n",
              "</style>\n",
              "<table border=\"1\" class=\"dataframe\">\n",
              "  <thead>\n",
              "    <tr style=\"text-align: right;\">\n",
              "      <th></th>\n",
              "      <th>clean_text</th>\n",
              "      <th>label</th>\n",
              "    </tr>\n",
              "  </thead>\n",
              "  <tbody>\n",
              "    <tr>\n",
              "      <th>0</th>\n",
              "      <td>antimicrobial impact essential oil food borne ...</td>\n",
              "      <td>0</td>\n",
              "    </tr>\n",
              "    <tr>\n",
              "      <th>1</th>\n",
              "      <td>purification characterization cysteine rich 14...</td>\n",
              "      <td>0</td>\n",
              "    </tr>\n",
              "    <tr>\n",
              "      <th>2</th>\n",
              "      <td>telavancin activity tested gram positive clini...</td>\n",
              "      <td>0</td>\n",
              "    </tr>\n",
              "    <tr>\n",
              "      <th>3</th>\n",
              "      <td>vitro antimicrobial activity cymbopogon essent...</td>\n",
              "      <td>0</td>\n",
              "    </tr>\n",
              "    <tr>\n",
              "      <th>4</th>\n",
              "      <td>screening currency note microbial pathogen ant...</td>\n",
              "      <td>0</td>\n",
              "    </tr>\n",
              "  </tbody>\n",
              "</table>\n",
              "</div>\n",
              "      <button class=\"colab-df-convert\" onclick=\"convertToInteractive('df-2bf49900-6fdd-4f39-9292-919c66d800ca')\"\n",
              "              title=\"Convert this dataframe to an interactive table.\"\n",
              "              style=\"display:none;\">\n",
              "        \n",
              "  <svg xmlns=\"http://www.w3.org/2000/svg\" height=\"24px\"viewBox=\"0 0 24 24\"\n",
              "       width=\"24px\">\n",
              "    <path d=\"M0 0h24v24H0V0z\" fill=\"none\"/>\n",
              "    <path d=\"M18.56 5.44l.94 2.06.94-2.06 2.06-.94-2.06-.94-.94-2.06-.94 2.06-2.06.94zm-11 1L8.5 8.5l.94-2.06 2.06-.94-2.06-.94L8.5 2.5l-.94 2.06-2.06.94zm10 10l.94 2.06.94-2.06 2.06-.94-2.06-.94-.94-2.06-.94 2.06-2.06.94z\"/><path d=\"M17.41 7.96l-1.37-1.37c-.4-.4-.92-.59-1.43-.59-.52 0-1.04.2-1.43.59L10.3 9.45l-7.72 7.72c-.78.78-.78 2.05 0 2.83L4 21.41c.39.39.9.59 1.41.59.51 0 1.02-.2 1.41-.59l7.78-7.78 2.81-2.81c.8-.78.8-2.07 0-2.86zM5.41 20L4 18.59l7.72-7.72 1.47 1.35L5.41 20z\"/>\n",
              "  </svg>\n",
              "      </button>\n",
              "      \n",
              "  <style>\n",
              "    .colab-df-container {\n",
              "      display:flex;\n",
              "      flex-wrap:wrap;\n",
              "      gap: 12px;\n",
              "    }\n",
              "\n",
              "    .colab-df-convert {\n",
              "      background-color: #E8F0FE;\n",
              "      border: none;\n",
              "      border-radius: 50%;\n",
              "      cursor: pointer;\n",
              "      display: none;\n",
              "      fill: #1967D2;\n",
              "      height: 32px;\n",
              "      padding: 0 0 0 0;\n",
              "      width: 32px;\n",
              "    }\n",
              "\n",
              "    .colab-df-convert:hover {\n",
              "      background-color: #E2EBFA;\n",
              "      box-shadow: 0px 1px 2px rgba(60, 64, 67, 0.3), 0px 1px 3px 1px rgba(60, 64, 67, 0.15);\n",
              "      fill: #174EA6;\n",
              "    }\n",
              "\n",
              "    [theme=dark] .colab-df-convert {\n",
              "      background-color: #3B4455;\n",
              "      fill: #D2E3FC;\n",
              "    }\n",
              "\n",
              "    [theme=dark] .colab-df-convert:hover {\n",
              "      background-color: #434B5C;\n",
              "      box-shadow: 0px 1px 3px 1px rgba(0, 0, 0, 0.15);\n",
              "      filter: drop-shadow(0px 1px 2px rgba(0, 0, 0, 0.3));\n",
              "      fill: #FFFFFF;\n",
              "    }\n",
              "  </style>\n",
              "\n",
              "      <script>\n",
              "        const buttonEl =\n",
              "          document.querySelector('#df-2bf49900-6fdd-4f39-9292-919c66d800ca button.colab-df-convert');\n",
              "        buttonEl.style.display =\n",
              "          google.colab.kernel.accessAllowed ? 'block' : 'none';\n",
              "\n",
              "        async function convertToInteractive(key) {\n",
              "          const element = document.querySelector('#df-2bf49900-6fdd-4f39-9292-919c66d800ca');\n",
              "          const dataTable =\n",
              "            await google.colab.kernel.invokeFunction('convertToInteractive',\n",
              "                                                     [key], {});\n",
              "          if (!dataTable) return;\n",
              "\n",
              "          const docLinkHtml = 'Like what you see? Visit the ' +\n",
              "            '<a target=\"_blank\" href=https://colab.research.google.com/notebooks/data_table.ipynb>data table notebook</a>'\n",
              "            + ' to learn more about interactive tables.';\n",
              "          element.innerHTML = '';\n",
              "          dataTable['output_type'] = 'display_data';\n",
              "          await google.colab.output.renderOutput(dataTable, element);\n",
              "          const docLink = document.createElement('div');\n",
              "          docLink.innerHTML = docLinkHtml;\n",
              "          element.appendChild(docLink);\n",
              "        }\n",
              "      </script>\n",
              "    </div>\n",
              "  </div>\n",
              "  "
            ]
          },
          "metadata": {},
          "execution_count": 12
        }
      ]
    },
    {
      "cell_type": "code",
      "source": [
        "print('Total records retained after data cleaning : ', cleaned_df.shape[0])\n",
        "cleaned_df['label'].value_counts()"
      ],
      "metadata": {
        "colab": {
          "base_uri": "https://localhost:8080/"
        },
        "id": "90W6Fcsdr0eK",
        "outputId": "7506f474-8476-49e6-9d8b-158ccba8b513"
      },
      "execution_count": 13,
      "outputs": [
        {
          "output_type": "stream",
          "name": "stdout",
          "text": [
            "Total records retained after data cleaning :  4013\n"
          ]
        },
        {
          "output_type": "execute_result",
          "data": {
            "text/plain": [
              "0    3719\n",
              "1     294\n",
              "Name: label, dtype: int64"
            ]
          },
          "metadata": {},
          "execution_count": 13
        }
      ]
    },
    {
      "cell_type": "markdown",
      "source": [
        "### TF-IDF Vectorizer\n",
        "\n",
        "Convert text to features. We'll use TF-IDF score to give the score to the word in the corpus. "
      ],
      "metadata": {
        "id": "18eI1Bgs3oyh"
      }
    },
    {
      "cell_type": "code",
      "source": [
        "from sklearn.feature_extraction.text import TfidfVectorizer\n",
        "tfidfconverter = TfidfVectorizer(max_features=1500, min_df=5, max_df=0.7, stop_words=stopwords.words('english'))\n",
        "X = tfidfconverter.fit_transform(cleaned_df['clean_text']).toarray()\n",
        "y = cleaned_df['label'].values"
      ],
      "metadata": {
        "id": "mMd19xFE3nCL"
      },
      "execution_count": 14,
      "outputs": []
    },
    {
      "cell_type": "markdown",
      "source": [
        "Since the data is unbalanced, we need to split the data into train-test in such a way that those represent the actual data. That's where stratified sampling comes in"
      ],
      "metadata": {
        "id": "lTPUbGjJsOv1"
      }
    },
    {
      "cell_type": "code",
      "source": [
        "from sklearn.model_selection import train_test_split\n",
        "\n",
        "test_split = 0.2\n",
        "\n",
        "X_train, X_test, y_train, y_test = train_test_split(X, y, test_size=test_split, stratify=y)"
      ],
      "metadata": {
        "id": "whkw8UnOtLEo"
      },
      "execution_count": 15,
      "outputs": []
    },
    {
      "cell_type": "code",
      "source": [
        "print('Label Distribution in the training data')\n",
        "print(np.unique(y_train, return_counts=True))\n",
        "print('*'*50)\n",
        "print('Label Distribution in the testing data')\n",
        "print(np.unique(y_test, return_counts=True))"
      ],
      "metadata": {
        "colab": {
          "base_uri": "https://localhost:8080/"
        },
        "id": "6IbL-1lctsul",
        "outputId": "291535ae-af79-453b-dfa3-de1d7166dfb6"
      },
      "execution_count": 16,
      "outputs": [
        {
          "output_type": "stream",
          "name": "stdout",
          "text": [
            "Label Distribution in the training data\n",
            "(array([0, 1]), array([2975,  235]))\n",
            "**************************************************\n",
            "Label Distribution in the testing data\n",
            "(array([0, 1]), array([744,  59]))\n"
          ]
        }
      ]
    },
    {
      "cell_type": "markdown",
      "source": [
        "Now that the text has been converted into features, we can model the data "
      ],
      "metadata": {
        "id": "gN7fp4cz1RmW"
      }
    },
    {
      "cell_type": "markdown",
      "source": [
        "## Machine Learning Models\n",
        "\n",
        "The dataset at hand is so imbalanced that accuracy on the predictions is not a good metric to judge a model. We'll use Classification Report, and more importantly F1 Score for model comparison. Also to note, we want to reduce False negatives as much as we can, we don't want to classify a doc non-adverse event if it's in fact a adverse-event related"
      ],
      "metadata": {
        "id": "ct0MQsp-9VZm"
      }
    },
    {
      "cell_type": "code",
      "source": [
        "from sklearn.metrics import classification_report, confusion_matrix, accuracy_score"
      ],
      "metadata": {
        "id": "xbL9ADUE9eyl"
      },
      "execution_count": 17,
      "outputs": []
    },
    {
      "cell_type": "markdown",
      "source": [
        "### Experiment 1 - Random Forest"
      ],
      "metadata": {
        "id": "mpw7p8jn7m6G"
      }
    },
    {
      "cell_type": "code",
      "source": [
        "from sklearn.ensemble import RandomForestClassifier\n",
        "\n",
        "# Initialize the model\n",
        "classifier = RandomForestClassifier(n_estimators=1000, random_state=0)\n",
        "\n",
        "# Fit the model to the data\n",
        "classifier.fit(X_train, y_train)\n",
        "\n",
        "# Generate predictions\n",
        "y_pred = classifier.predict(X_test)\n",
        "\n",
        "# Prepare Classification Report\n",
        "print(confusion_matrix(y_test,y_pred))\n",
        "print('\\n')\n",
        "print(classification_report(y_test,y_pred))"
      ],
      "metadata": {
        "colab": {
          "base_uri": "https://localhost:8080/"
        },
        "id": "uq-ffFeG8dQR",
        "outputId": "9dc359a3-2c74-42cd-c8fd-4e3f4bf2ab7d"
      },
      "execution_count": 18,
      "outputs": [
        {
          "output_type": "stream",
          "name": "stdout",
          "text": [
            "[[743   1]\n",
            " [ 31  28]]\n",
            "\n",
            "\n",
            "              precision    recall  f1-score   support\n",
            "\n",
            "           0       0.96      1.00      0.98       744\n",
            "           1       0.97      0.47      0.64        59\n",
            "\n",
            "    accuracy                           0.96       803\n",
            "   macro avg       0.96      0.74      0.81       803\n",
            "weighted avg       0.96      0.96      0.95       803\n",
            "\n"
          ]
        }
      ]
    },
    {
      "cell_type": "markdown",
      "source": [
        "Performance on 0s is satisfactory, but 1s are pretty terrible!"
      ],
      "metadata": {
        "id": "GkS6TwQ6AJNh"
      }
    },
    {
      "cell_type": "markdown",
      "source": [
        "### Experiment 2 - Multinomial NB"
      ],
      "metadata": {
        "id": "uIgGqJtE_yHF"
      }
    },
    {
      "cell_type": "code",
      "source": [
        "from sklearn.naive_bayes import MultinomialNB\n",
        "\n",
        "# Initialize the model\n",
        "classifier = MultinomialNB()\n",
        "\n",
        "# Fit the model to the data\n",
        "classifier.fit(X_train, y_train)\n",
        "\n",
        "# Generate predictions\n",
        "y_pred = classifier.predict(X_test)\n",
        "\n",
        "# Prepare Classification Report\n",
        "print(confusion_matrix(y_test,y_pred))\n",
        "print('\\n')\n",
        "print(classification_report(y_test,y_pred))"
      ],
      "metadata": {
        "colab": {
          "base_uri": "https://localhost:8080/"
        },
        "id": "sEbGejyD_7qM",
        "outputId": "755e3cdf-2600-40ea-95b8-31675239d84f"
      },
      "execution_count": 19,
      "outputs": [
        {
          "output_type": "stream",
          "name": "stdout",
          "text": [
            "[[738   6]\n",
            " [ 41  18]]\n",
            "\n",
            "\n",
            "              precision    recall  f1-score   support\n",
            "\n",
            "           0       0.95      0.99      0.97       744\n",
            "           1       0.75      0.31      0.43        59\n",
            "\n",
            "    accuracy                           0.94       803\n",
            "   macro avg       0.85      0.65      0.70       803\n",
            "weighted avg       0.93      0.94      0.93       803\n",
            "\n"
          ]
        }
      ]
    },
    {
      "cell_type": "markdown",
      "source": [
        "Even worse!"
      ],
      "metadata": {
        "id": "kpxGJZjyAUAc"
      }
    },
    {
      "cell_type": "markdown",
      "source": [
        "### Experiment 3 - SVM : SGD Classifier"
      ],
      "metadata": {
        "id": "MFDKers2x3GH"
      }
    },
    {
      "cell_type": "code",
      "source": [
        "from sklearn.linear_model import SGDClassifier\n",
        "\n",
        "# Initialize the model\n",
        "classifier = SGDClassifier(loss='hinge', penalty='l2', alpha=1e-3, max_iter=5, random_state=42)\n",
        "\n",
        "# Fit the model to the data\n",
        "classifier.fit(X_train, y_train)\n",
        "\n",
        "# Generate predictions\n",
        "y_pred = classifier.predict(X_test)\n",
        "\n",
        "# Prepare Classification Report\n",
        "print(confusion_matrix(y_test,y_pred))\n",
        "print('\\n')\n",
        "print(classification_report(y_test,y_pred))"
      ],
      "metadata": {
        "colab": {
          "base_uri": "https://localhost:8080/"
        },
        "id": "o7yPs8UzyL6p",
        "outputId": "943294cf-4ea1-4d7f-8817-735511b560f8"
      },
      "execution_count": 21,
      "outputs": [
        {
          "output_type": "stream",
          "name": "stdout",
          "text": [
            "[[741   3]\n",
            " [ 38  21]]\n",
            "\n",
            "\n",
            "              precision    recall  f1-score   support\n",
            "\n",
            "           0       0.95      1.00      0.97       744\n",
            "           1       0.88      0.36      0.51        59\n",
            "\n",
            "    accuracy                           0.95       803\n",
            "   macro avg       0.91      0.68      0.74       803\n",
            "weighted avg       0.95      0.95      0.94       803\n",
            "\n"
          ]
        },
        {
          "output_type": "stream",
          "name": "stderr",
          "text": [
            "/usr/local/lib/python3.7/dist-packages/sklearn/linear_model/_stochastic_gradient.py:700: ConvergenceWarning: Maximum number of iteration reached before convergence. Consider increasing max_iter to improve the fit.\n",
            "  ConvergenceWarning,\n"
          ]
        }
      ]
    },
    {
      "cell_type": "markdown",
      "source": [
        "Better performance than MNB, but worse than Random Forest"
      ],
      "metadata": {
        "id": "NeT6YcXFyuP7"
      }
    },
    {
      "cell_type": "markdown",
      "source": [
        "### Experiment 4 - K-Nearest Neighbors"
      ],
      "metadata": {
        "id": "NVJAcADwzWaE"
      }
    },
    {
      "cell_type": "code",
      "source": [
        "from sklearn.neighbors import KNeighborsClassifier\n",
        "\n",
        "# Initialize the model\n",
        "classifier = KNeighborsClassifier(n_neighbors=2)\n",
        "\n",
        "# Fit the model to the data\n",
        "classifier.fit(X_train, y_train)\n",
        "\n",
        "# Generate predictions\n",
        "y_pred = classifier.predict(X_test)\n",
        "\n",
        "# Prepare Classification Report\n",
        "print(confusion_matrix(y_test,y_pred))\n",
        "print('\\n')\n",
        "print(classification_report(y_test,y_pred))"
      ],
      "metadata": {
        "colab": {
          "base_uri": "https://localhost:8080/"
        },
        "id": "AfyxEVC41nuM",
        "outputId": "c194a120-3e5e-4719-a577-502bc7a9840e"
      },
      "execution_count": 23,
      "outputs": [
        {
          "output_type": "stream",
          "name": "stdout",
          "text": [
            "[[737   7]\n",
            " [ 43  16]]\n",
            "\n",
            "\n",
            "              precision    recall  f1-score   support\n",
            "\n",
            "           0       0.94      0.99      0.97       744\n",
            "           1       0.70      0.27      0.39        59\n",
            "\n",
            "    accuracy                           0.94       803\n",
            "   macro avg       0.82      0.63      0.68       803\n",
            "weighted avg       0.93      0.94      0.92       803\n",
            "\n"
          ]
        }
      ]
    },
    {
      "cell_type": "markdown",
      "source": [
        "Not a good idea, TBH!"
      ],
      "metadata": {
        "id": "BDJ7zaZ_1pZa"
      }
    },
    {
      "cell_type": "markdown",
      "source": [
        "### Experiment 5 - Decision Trees"
      ],
      "metadata": {
        "id": "nSDuf6we2jOm"
      }
    },
    {
      "cell_type": "code",
      "source": [
        "from sklearn.tree import DecisionTreeClassifier\n",
        "\n",
        "# Initialize the model\n",
        "classifier = DecisionTreeClassifier(max_depth=5)\n",
        "\n",
        "# Fit the model to the data\n",
        "classifier.fit(X_train, y_train)\n",
        "\n",
        "# Generate predictions\n",
        "y_pred = classifier.predict(X_test)\n",
        "\n",
        "# Prepare Classification Report\n",
        "print(confusion_matrix(y_test,y_pred))\n",
        "print('\\n')\n",
        "print(classification_report(y_test,y_pred))"
      ],
      "metadata": {
        "colab": {
          "base_uri": "https://localhost:8080/"
        },
        "id": "Fc6ShnPM2sxK",
        "outputId": "7ae90e4a-31d2-4d82-d23a-5432d30fd762"
      },
      "execution_count": 25,
      "outputs": [
        {
          "output_type": "stream",
          "name": "stdout",
          "text": [
            "[[737   7]\n",
            " [ 44  15]]\n",
            "\n",
            "\n",
            "              precision    recall  f1-score   support\n",
            "\n",
            "           0       0.94      0.99      0.97       744\n",
            "           1       0.68      0.25      0.37        59\n",
            "\n",
            "    accuracy                           0.94       803\n",
            "   macro avg       0.81      0.62      0.67       803\n",
            "weighted avg       0.92      0.94      0.92       803\n",
            "\n"
          ]
        }
      ]
    },
    {
      "cell_type": "markdown",
      "source": [
        "A single tree is not working better than a Random Forest. Proves some theories 😀"
      ],
      "metadata": {
        "id": "vxSPj8234WPL"
      }
    },
    {
      "cell_type": "markdown",
      "source": [
        "### Experiment 6 - AdaBoost (discrete SAMME)"
      ],
      "metadata": {
        "id": "PwbVy2JO49ru"
      }
    },
    {
      "cell_type": "code",
      "source": [
        "from sklearn.ensemble import AdaBoostClassifier\n",
        "\n",
        "base_model = DecisionTreeClassifier(max_depth=9, min_samples_leaf=1)\n",
        "\n",
        "# Initialize the model\n",
        "classifier = AdaBoostClassifier(\n",
        "    base_estimator=base_model,\n",
        "    learning_rate=1.0,\n",
        "    n_estimators=400,\n",
        "    algorithm=\"SAMME\",\n",
        ")\n",
        "\n",
        "# Fit the model to the data\n",
        "classifier.fit(X_train, y_train)\n",
        "\n",
        "# Generate predictions\n",
        "y_pred = classifier.predict(X_test)\n",
        "\n",
        "# Prepare Classification Report\n",
        "print(confusion_matrix(y_test,y_pred))\n",
        "print('\\n')\n",
        "print(classification_report(y_test,y_pred))"
      ],
      "metadata": {
        "colab": {
          "base_uri": "https://localhost:8080/"
        },
        "id": "8Ob2KuuT5kR9",
        "outputId": "272385e1-d64a-4a74-915f-7aa8ece507a0"
      },
      "execution_count": 26,
      "outputs": [
        {
          "output_type": "stream",
          "name": "stdout",
          "text": [
            "[[741   3]\n",
            " [ 26  33]]\n",
            "\n",
            "\n",
            "              precision    recall  f1-score   support\n",
            "\n",
            "           0       0.97      1.00      0.98       744\n",
            "           1       0.92      0.56      0.69        59\n",
            "\n",
            "    accuracy                           0.96       803\n",
            "   macro avg       0.94      0.78      0.84       803\n",
            "weighted avg       0.96      0.96      0.96       803\n",
            "\n"
          ]
        }
      ]
    },
    {
      "cell_type": "markdown",
      "source": [
        "That's a considerable improvement!"
      ],
      "metadata": {
        "id": "FYQr_S4O71Na"
      }
    },
    {
      "cell_type": "markdown",
      "source": [
        "### Experiment 7 - AdaBoost (real SAMME.R)"
      ],
      "metadata": {
        "id": "Mm9JmIpm6ycF"
      }
    },
    {
      "cell_type": "code",
      "source": [
        "from sklearn.ensemble import AdaBoostClassifier\n",
        "\n",
        "base_model = DecisionTreeClassifier(max_depth=9, min_samples_leaf=1)\n",
        "\n",
        "# Initialize the model\n",
        "classifier = AdaBoostClassifier(\n",
        "    base_estimator=base_model,\n",
        "    learning_rate=1.0,\n",
        "    n_estimators=400,\n",
        "    algorithm=\"SAMME.R\",\n",
        ")\n",
        "\n",
        "# Fit the model to the data\n",
        "classifier.fit(X_train, y_train)\n",
        "\n",
        "# Generate predictions\n",
        "y_pred = classifier.predict(X_test)\n",
        "\n",
        "# Prepare Classification Report\n",
        "print(confusion_matrix(y_test,y_pred))\n",
        "print('\\n')\n",
        "print(classification_report(y_test,y_pred))"
      ],
      "metadata": {
        "colab": {
          "base_uri": "https://localhost:8080/"
        },
        "id": "nNZMNRZN7TxL",
        "outputId": "c2918c0f-de28-4e79-9154-b245a5331675"
      },
      "execution_count": 27,
      "outputs": [
        {
          "output_type": "stream",
          "name": "stdout",
          "text": [
            "[[743   1]\n",
            " [ 33  26]]\n",
            "\n",
            "\n",
            "              precision    recall  f1-score   support\n",
            "\n",
            "           0       0.96      1.00      0.98       744\n",
            "           1       0.96      0.44      0.60        59\n",
            "\n",
            "    accuracy                           0.96       803\n",
            "   macro avg       0.96      0.72      0.79       803\n",
            "weighted avg       0.96      0.96      0.95       803\n",
            "\n"
          ]
        }
      ]
    },
    {
      "cell_type": "markdown",
      "source": [
        "Worse than discrete SAMME algorithm, but still better than other models"
      ],
      "metadata": {
        "id": "XedEJ3zL75_-"
      }
    }
  ]
}