{
  "nbformat": 4,
  "nbformat_minor": 0,
  "metadata": {
    "colab": {
      "name": "Modelling.ipynb",
      "provenance": [],
      "authorship_tag": "ABX9TyMFP/nxBvvWxLLY1t4lt9zQ"
    },
    "kernelspec": {
      "name": "python3",
      "display_name": "Python 3"
    },
    "language_info": {
      "name": "python"
    }
  },
  "cells": [
    {
      "cell_type": "markdown",
      "source": [
        "### Download the data"
      ],
      "metadata": {
        "id": "iEICroIunbrH"
      }
    },
    {
      "cell_type": "code",
      "source": [
        "!wget https://raw.githubusercontent.com/suvigyajain0101/CaseStudies/main/AdverseEventClassification/Data/AE_Data.csv"
      ],
      "metadata": {
        "colab": {
          "base_uri": "https://localhost:8080/"
        },
        "id": "v0qHYHSpni9w",
        "outputId": "45ff3c12-7cfa-446b-e455-df7a07b8807e"
      },
      "execution_count": 1,
      "outputs": [
        {
          "output_type": "stream",
          "name": "stdout",
          "text": [
            "--2022-08-20 21:19:37--  https://raw.githubusercontent.com/suvigyajain0101/CaseStudies/main/AdverseEventClassification/Data/AE_Data.csv\n",
            "Resolving raw.githubusercontent.com (raw.githubusercontent.com)... 185.199.108.133, 185.199.109.133, 185.199.110.133, ...\n",
            "Connecting to raw.githubusercontent.com (raw.githubusercontent.com)|185.199.108.133|:443... connected.\n",
            "HTTP request sent, awaiting response... 200 OK\n",
            "Length: 5998096 (5.7M) [text/plain]\n",
            "Saving to: ‘AE_Data.csv’\n",
            "\n",
            "AE_Data.csv         100%[===================>]   5.72M  --.-KB/s    in 0.1s    \n",
            "\n",
            "2022-08-20 21:19:39 (59.1 MB/s) - ‘AE_Data.csv’ saved [5998096/5998096]\n",
            "\n"
          ]
        }
      ]
    },
    {
      "cell_type": "markdown",
      "source": [
        "### Import Libraries"
      ],
      "metadata": {
        "id": "jpdJtnronjPA"
      }
    },
    {
      "cell_type": "code",
      "source": [
        "import pandas as pd\n",
        "import numpy as np\n",
        "import re"
      ],
      "metadata": {
        "id": "deysFOmVnnSo"
      },
      "execution_count": 2,
      "outputs": []
    },
    {
      "cell_type": "code",
      "source": [
        "WORDS_TO_REMOVE = ['##padding##', 'ti-', 'ti -']"
      ],
      "metadata": {
        "id": "SjwD_F3KunMI"
      },
      "execution_count": 3,
      "outputs": []
    },
    {
      "cell_type": "code",
      "source": [
        "df = pd.read_csv('/content/AE_Data.csv')\n",
        "df.head()"
      ],
      "metadata": {
        "colab": {
          "base_uri": "https://localhost:8080/",
          "height": 206
        },
        "id": "0abX0Dx8no2-",
        "outputId": "0e578ade-4bf2-4be4-8f6a-90e6759e0b9e"
      },
      "execution_count": 4,
      "outputs": [
        {
          "output_type": "execute_result",
          "data": {
            "text/plain": [
              "                                               title  \\\n",
              "0  antimicrobial impacts of essential oils on foo...   \n",
              "1  purification and characterization of a cystein...   \n",
              "2  telavancin activity tested against gram-positi...   \n",
              "3  the in vitro antimicrobial activity of cymbopo...   \n",
              "4  screening currency notes for microbial pathoge...   \n",
              "\n",
              "                                            abstract  label  \n",
              "0  the antimicrobial activity of twelve essential...      0  \n",
              "1  antimicrobial peptide (amp) crustin is a type ...      0  \n",
              "2  objectives: to reassess the activity of telava...      0  \n",
              "3  background: it is well known that cymbopogon (...      0  \n",
              "4  fomites are a well-known source of microbial i...      0  "
            ],
            "text/html": [
              "\n",
              "  <div id=\"df-3709016c-345d-4a39-ab0f-bd097af7ef9c\">\n",
              "    <div class=\"colab-df-container\">\n",
              "      <div>\n",
              "<style scoped>\n",
              "    .dataframe tbody tr th:only-of-type {\n",
              "        vertical-align: middle;\n",
              "    }\n",
              "\n",
              "    .dataframe tbody tr th {\n",
              "        vertical-align: top;\n",
              "    }\n",
              "\n",
              "    .dataframe thead th {\n",
              "        text-align: right;\n",
              "    }\n",
              "</style>\n",
              "<table border=\"1\" class=\"dataframe\">\n",
              "  <thead>\n",
              "    <tr style=\"text-align: right;\">\n",
              "      <th></th>\n",
              "      <th>title</th>\n",
              "      <th>abstract</th>\n",
              "      <th>label</th>\n",
              "    </tr>\n",
              "  </thead>\n",
              "  <tbody>\n",
              "    <tr>\n",
              "      <th>0</th>\n",
              "      <td>antimicrobial impacts of essential oils on foo...</td>\n",
              "      <td>the antimicrobial activity of twelve essential...</td>\n",
              "      <td>0</td>\n",
              "    </tr>\n",
              "    <tr>\n",
              "      <th>1</th>\n",
              "      <td>purification and characterization of a cystein...</td>\n",
              "      <td>antimicrobial peptide (amp) crustin is a type ...</td>\n",
              "      <td>0</td>\n",
              "    </tr>\n",
              "    <tr>\n",
              "      <th>2</th>\n",
              "      <td>telavancin activity tested against gram-positi...</td>\n",
              "      <td>objectives: to reassess the activity of telava...</td>\n",
              "      <td>0</td>\n",
              "    </tr>\n",
              "    <tr>\n",
              "      <th>3</th>\n",
              "      <td>the in vitro antimicrobial activity of cymbopo...</td>\n",
              "      <td>background: it is well known that cymbopogon (...</td>\n",
              "      <td>0</td>\n",
              "    </tr>\n",
              "    <tr>\n",
              "      <th>4</th>\n",
              "      <td>screening currency notes for microbial pathoge...</td>\n",
              "      <td>fomites are a well-known source of microbial i...</td>\n",
              "      <td>0</td>\n",
              "    </tr>\n",
              "  </tbody>\n",
              "</table>\n",
              "</div>\n",
              "      <button class=\"colab-df-convert\" onclick=\"convertToInteractive('df-3709016c-345d-4a39-ab0f-bd097af7ef9c')\"\n",
              "              title=\"Convert this dataframe to an interactive table.\"\n",
              "              style=\"display:none;\">\n",
              "        \n",
              "  <svg xmlns=\"http://www.w3.org/2000/svg\" height=\"24px\"viewBox=\"0 0 24 24\"\n",
              "       width=\"24px\">\n",
              "    <path d=\"M0 0h24v24H0V0z\" fill=\"none\"/>\n",
              "    <path d=\"M18.56 5.44l.94 2.06.94-2.06 2.06-.94-2.06-.94-.94-2.06-.94 2.06-2.06.94zm-11 1L8.5 8.5l.94-2.06 2.06-.94-2.06-.94L8.5 2.5l-.94 2.06-2.06.94zm10 10l.94 2.06.94-2.06 2.06-.94-2.06-.94-.94-2.06-.94 2.06-2.06.94z\"/><path d=\"M17.41 7.96l-1.37-1.37c-.4-.4-.92-.59-1.43-.59-.52 0-1.04.2-1.43.59L10.3 9.45l-7.72 7.72c-.78.78-.78 2.05 0 2.83L4 21.41c.39.39.9.59 1.41.59.51 0 1.02-.2 1.41-.59l7.78-7.78 2.81-2.81c.8-.78.8-2.07 0-2.86zM5.41 20L4 18.59l7.72-7.72 1.47 1.35L5.41 20z\"/>\n",
              "  </svg>\n",
              "      </button>\n",
              "      \n",
              "  <style>\n",
              "    .colab-df-container {\n",
              "      display:flex;\n",
              "      flex-wrap:wrap;\n",
              "      gap: 12px;\n",
              "    }\n",
              "\n",
              "    .colab-df-convert {\n",
              "      background-color: #E8F0FE;\n",
              "      border: none;\n",
              "      border-radius: 50%;\n",
              "      cursor: pointer;\n",
              "      display: none;\n",
              "      fill: #1967D2;\n",
              "      height: 32px;\n",
              "      padding: 0 0 0 0;\n",
              "      width: 32px;\n",
              "    }\n",
              "\n",
              "    .colab-df-convert:hover {\n",
              "      background-color: #E2EBFA;\n",
              "      box-shadow: 0px 1px 2px rgba(60, 64, 67, 0.3), 0px 1px 3px 1px rgba(60, 64, 67, 0.15);\n",
              "      fill: #174EA6;\n",
              "    }\n",
              "\n",
              "    [theme=dark] .colab-df-convert {\n",
              "      background-color: #3B4455;\n",
              "      fill: #D2E3FC;\n",
              "    }\n",
              "\n",
              "    [theme=dark] .colab-df-convert:hover {\n",
              "      background-color: #434B5C;\n",
              "      box-shadow: 0px 1px 3px 1px rgba(0, 0, 0, 0.15);\n",
              "      filter: drop-shadow(0px 1px 2px rgba(0, 0, 0, 0.3));\n",
              "      fill: #FFFFFF;\n",
              "    }\n",
              "  </style>\n",
              "\n",
              "      <script>\n",
              "        const buttonEl =\n",
              "          document.querySelector('#df-3709016c-345d-4a39-ab0f-bd097af7ef9c button.colab-df-convert');\n",
              "        buttonEl.style.display =\n",
              "          google.colab.kernel.accessAllowed ? 'block' : 'none';\n",
              "\n",
              "        async function convertToInteractive(key) {\n",
              "          const element = document.querySelector('#df-3709016c-345d-4a39-ab0f-bd097af7ef9c');\n",
              "          const dataTable =\n",
              "            await google.colab.kernel.invokeFunction('convertToInteractive',\n",
              "                                                     [key], {});\n",
              "          if (!dataTable) return;\n",
              "\n",
              "          const docLinkHtml = 'Like what you see? Visit the ' +\n",
              "            '<a target=\"_blank\" href=https://colab.research.google.com/notebooks/data_table.ipynb>data table notebook</a>'\n",
              "            + ' to learn more about interactive tables.';\n",
              "          element.innerHTML = '';\n",
              "          dataTable['output_type'] = 'display_data';\n",
              "          await google.colab.output.renderOutput(dataTable, element);\n",
              "          const docLink = document.createElement('div');\n",
              "          docLink.innerHTML = docLinkHtml;\n",
              "          element.appendChild(docLink);\n",
              "        }\n",
              "      </script>\n",
              "    </div>\n",
              "  </div>\n",
              "  "
            ]
          },
          "metadata": {},
          "execution_count": 4
        }
      ]
    },
    {
      "cell_type": "code",
      "source": [
        "df['label'].value_counts()"
      ],
      "metadata": {
        "colab": {
          "base_uri": "https://localhost:8080/"
        },
        "id": "5ydBapLanqSa",
        "outputId": "5afdb6cd-5f6c-40fe-fb6b-78ff15e29c1a"
      },
      "execution_count": 5,
      "outputs": [
        {
          "output_type": "execute_result",
          "data": {
            "text/plain": [
              "0    3851\n",
              "1     294\n",
              "Name: label, dtype: int64"
            ]
          },
          "metadata": {},
          "execution_count": 5
        }
      ]
    },
    {
      "cell_type": "markdown",
      "source": [
        "### Data Cleaning\n",
        "\n",
        "1. Combine Title and Abstract\n",
        "2. Lower case entire corpus\n",
        "2. Remove newline and tabs from the dataset\n",
        "3. Remove brackets, #, colons, 'TI\" (title identifier), '##PADDING##'\n",
        "5. Lemmatize and remove stopwords\n",
        "2. Remove records with less than 10 words"
      ],
      "metadata": {
        "id": "e4pT39M5nu4K"
      }
    },
    {
      "cell_type": "code",
      "source": [
        "df['text'] = df['title'] + ' ' + df['abstract']\n",
        "df.head()"
      ],
      "metadata": {
        "colab": {
          "base_uri": "https://localhost:8080/",
          "height": 206
        },
        "id": "3qqv6Qx1n-rY",
        "outputId": "6e62149d-3d73-4e26-f2ed-d7d267522464"
      },
      "execution_count": 6,
      "outputs": [
        {
          "output_type": "execute_result",
          "data": {
            "text/plain": [
              "                                               title  \\\n",
              "0  antimicrobial impacts of essential oils on foo...   \n",
              "1  purification and characterization of a cystein...   \n",
              "2  telavancin activity tested against gram-positi...   \n",
              "3  the in vitro antimicrobial activity of cymbopo...   \n",
              "4  screening currency notes for microbial pathoge...   \n",
              "\n",
              "                                            abstract  label  \\\n",
              "0  the antimicrobial activity of twelve essential...      0   \n",
              "1  antimicrobial peptide (amp) crustin is a type ...      0   \n",
              "2  objectives: to reassess the activity of telava...      0   \n",
              "3  background: it is well known that cymbopogon (...      0   \n",
              "4  fomites are a well-known source of microbial i...      0   \n",
              "\n",
              "                                                text  \n",
              "0  antimicrobial impacts of essential oils on foo...  \n",
              "1  purification and characterization of a cystein...  \n",
              "2  telavancin activity tested against gram-positi...  \n",
              "3  the in vitro antimicrobial activity of cymbopo...  \n",
              "4  screening currency notes for microbial pathoge...  "
            ],
            "text/html": [
              "\n",
              "  <div id=\"df-f0f9f24c-60ac-4269-9a54-439b90be3d1a\">\n",
              "    <div class=\"colab-df-container\">\n",
              "      <div>\n",
              "<style scoped>\n",
              "    .dataframe tbody tr th:only-of-type {\n",
              "        vertical-align: middle;\n",
              "    }\n",
              "\n",
              "    .dataframe tbody tr th {\n",
              "        vertical-align: top;\n",
              "    }\n",
              "\n",
              "    .dataframe thead th {\n",
              "        text-align: right;\n",
              "    }\n",
              "</style>\n",
              "<table border=\"1\" class=\"dataframe\">\n",
              "  <thead>\n",
              "    <tr style=\"text-align: right;\">\n",
              "      <th></th>\n",
              "      <th>title</th>\n",
              "      <th>abstract</th>\n",
              "      <th>label</th>\n",
              "      <th>text</th>\n",
              "    </tr>\n",
              "  </thead>\n",
              "  <tbody>\n",
              "    <tr>\n",
              "      <th>0</th>\n",
              "      <td>antimicrobial impacts of essential oils on foo...</td>\n",
              "      <td>the antimicrobial activity of twelve essential...</td>\n",
              "      <td>0</td>\n",
              "      <td>antimicrobial impacts of essential oils on foo...</td>\n",
              "    </tr>\n",
              "    <tr>\n",
              "      <th>1</th>\n",
              "      <td>purification and characterization of a cystein...</td>\n",
              "      <td>antimicrobial peptide (amp) crustin is a type ...</td>\n",
              "      <td>0</td>\n",
              "      <td>purification and characterization of a cystein...</td>\n",
              "    </tr>\n",
              "    <tr>\n",
              "      <th>2</th>\n",
              "      <td>telavancin activity tested against gram-positi...</td>\n",
              "      <td>objectives: to reassess the activity of telava...</td>\n",
              "      <td>0</td>\n",
              "      <td>telavancin activity tested against gram-positi...</td>\n",
              "    </tr>\n",
              "    <tr>\n",
              "      <th>3</th>\n",
              "      <td>the in vitro antimicrobial activity of cymbopo...</td>\n",
              "      <td>background: it is well known that cymbopogon (...</td>\n",
              "      <td>0</td>\n",
              "      <td>the in vitro antimicrobial activity of cymbopo...</td>\n",
              "    </tr>\n",
              "    <tr>\n",
              "      <th>4</th>\n",
              "      <td>screening currency notes for microbial pathoge...</td>\n",
              "      <td>fomites are a well-known source of microbial i...</td>\n",
              "      <td>0</td>\n",
              "      <td>screening currency notes for microbial pathoge...</td>\n",
              "    </tr>\n",
              "  </tbody>\n",
              "</table>\n",
              "</div>\n",
              "      <button class=\"colab-df-convert\" onclick=\"convertToInteractive('df-f0f9f24c-60ac-4269-9a54-439b90be3d1a')\"\n",
              "              title=\"Convert this dataframe to an interactive table.\"\n",
              "              style=\"display:none;\">\n",
              "        \n",
              "  <svg xmlns=\"http://www.w3.org/2000/svg\" height=\"24px\"viewBox=\"0 0 24 24\"\n",
              "       width=\"24px\">\n",
              "    <path d=\"M0 0h24v24H0V0z\" fill=\"none\"/>\n",
              "    <path d=\"M18.56 5.44l.94 2.06.94-2.06 2.06-.94-2.06-.94-.94-2.06-.94 2.06-2.06.94zm-11 1L8.5 8.5l.94-2.06 2.06-.94-2.06-.94L8.5 2.5l-.94 2.06-2.06.94zm10 10l.94 2.06.94-2.06 2.06-.94-2.06-.94-.94-2.06-.94 2.06-2.06.94z\"/><path d=\"M17.41 7.96l-1.37-1.37c-.4-.4-.92-.59-1.43-.59-.52 0-1.04.2-1.43.59L10.3 9.45l-7.72 7.72c-.78.78-.78 2.05 0 2.83L4 21.41c.39.39.9.59 1.41.59.51 0 1.02-.2 1.41-.59l7.78-7.78 2.81-2.81c.8-.78.8-2.07 0-2.86zM5.41 20L4 18.59l7.72-7.72 1.47 1.35L5.41 20z\"/>\n",
              "  </svg>\n",
              "      </button>\n",
              "      \n",
              "  <style>\n",
              "    .colab-df-container {\n",
              "      display:flex;\n",
              "      flex-wrap:wrap;\n",
              "      gap: 12px;\n",
              "    }\n",
              "\n",
              "    .colab-df-convert {\n",
              "      background-color: #E8F0FE;\n",
              "      border: none;\n",
              "      border-radius: 50%;\n",
              "      cursor: pointer;\n",
              "      display: none;\n",
              "      fill: #1967D2;\n",
              "      height: 32px;\n",
              "      padding: 0 0 0 0;\n",
              "      width: 32px;\n",
              "    }\n",
              "\n",
              "    .colab-df-convert:hover {\n",
              "      background-color: #E2EBFA;\n",
              "      box-shadow: 0px 1px 2px rgba(60, 64, 67, 0.3), 0px 1px 3px 1px rgba(60, 64, 67, 0.15);\n",
              "      fill: #174EA6;\n",
              "    }\n",
              "\n",
              "    [theme=dark] .colab-df-convert {\n",
              "      background-color: #3B4455;\n",
              "      fill: #D2E3FC;\n",
              "    }\n",
              "\n",
              "    [theme=dark] .colab-df-convert:hover {\n",
              "      background-color: #434B5C;\n",
              "      box-shadow: 0px 1px 3px 1px rgba(0, 0, 0, 0.15);\n",
              "      filter: drop-shadow(0px 1px 2px rgba(0, 0, 0, 0.3));\n",
              "      fill: #FFFFFF;\n",
              "    }\n",
              "  </style>\n",
              "\n",
              "      <script>\n",
              "        const buttonEl =\n",
              "          document.querySelector('#df-f0f9f24c-60ac-4269-9a54-439b90be3d1a button.colab-df-convert');\n",
              "        buttonEl.style.display =\n",
              "          google.colab.kernel.accessAllowed ? 'block' : 'none';\n",
              "\n",
              "        async function convertToInteractive(key) {\n",
              "          const element = document.querySelector('#df-f0f9f24c-60ac-4269-9a54-439b90be3d1a');\n",
              "          const dataTable =\n",
              "            await google.colab.kernel.invokeFunction('convertToInteractive',\n",
              "                                                     [key], {});\n",
              "          if (!dataTable) return;\n",
              "\n",
              "          const docLinkHtml = 'Like what you see? Visit the ' +\n",
              "            '<a target=\"_blank\" href=https://colab.research.google.com/notebooks/data_table.ipynb>data table notebook</a>'\n",
              "            + ' to learn more about interactive tables.';\n",
              "          element.innerHTML = '';\n",
              "          dataTable['output_type'] = 'display_data';\n",
              "          await google.colab.output.renderOutput(dataTable, element);\n",
              "          const docLink = document.createElement('div');\n",
              "          docLink.innerHTML = docLinkHtml;\n",
              "          element.appendChild(docLink);\n",
              "        }\n",
              "      </script>\n",
              "    </div>\n",
              "  </div>\n",
              "  "
            ]
          },
          "metadata": {},
          "execution_count": 6
        }
      ]
    },
    {
      "cell_type": "code",
      "source": [
        "df.replace(r'\\n','', regex=True).iloc[4140, :]['text']"
      ],
      "metadata": {
        "colab": {
          "base_uri": "https://localhost:8080/",
          "height": 35
        },
        "id": "cgFd68BPpWfv",
        "outputId": "184fc5c1-c509-44bc-8fae-d0ef0a216bbe"
      },
      "execution_count": 7,
      "outputs": [
        {
          "output_type": "execute_result",
          "data": {
            "text/plain": [
              "'TI  - [AUTO-INFECTION (INTESTINAL) IN RADIATION SICKNESS AND ITS PREVENTION IN WISTAR WHITE RATS]. ##PADDING##'"
            ],
            "application/vnd.google.colaboratory.intrinsic+json": {
              "type": "string"
            }
          },
          "metadata": {},
          "execution_count": 7
        }
      ]
    },
    {
      "cell_type": "code",
      "source": [
        "import nltk\n",
        "from nltk.stem import WordNetLemmatizer\n",
        "from nltk.corpus import stopwords\n",
        "nltk.download('stopwords')\n",
        "nltk.download('wordnet')\n",
        "nltk.download('omw-1.4')"
      ],
      "metadata": {
        "colab": {
          "base_uri": "https://localhost:8080/"
        },
        "id": "tD1NlEloxF-9",
        "outputId": "a3108330-b93a-4cfb-c87d-2b65b7f254b6"
      },
      "execution_count": 8,
      "outputs": [
        {
          "output_type": "stream",
          "name": "stderr",
          "text": [
            "[nltk_data] Downloading package stopwords to /root/nltk_data...\n",
            "[nltk_data]   Unzipping corpora/stopwords.zip.\n",
            "[nltk_data] Downloading package wordnet to /root/nltk_data...\n",
            "[nltk_data] Downloading package omw-1.4 to /root/nltk_data...\n"
          ]
        },
        {
          "output_type": "execute_result",
          "data": {
            "text/plain": [
              "True"
            ]
          },
          "metadata": {},
          "execution_count": 8
        }
      ]
    },
    {
      "cell_type": "code",
      "source": [
        "eng_stopwords = stopwords.words('english')\n",
        "stemmer = WordNetLemmatizer()\n",
        "\n",
        "joined_words_to_remove = '|'.join(WORDS_TO_REMOVE)\n",
        "\n",
        "\n",
        "def clean_text(x):\n",
        "  # Lower case the text\n",
        "  lower_x = x.lower()\n",
        "\n",
        "  # Remove line breaks and tabs\n",
        "  no_break_x = re.sub(\"\\n|\\r|\\t\", \" \", lower_x)\n",
        "\n",
        "  # Remove specific words\n",
        "  no_waste_words_x = re.sub(joined_words_to_remove, \" \", no_break_x)\n",
        "\n",
        "  # Remove all non alphabet, numeral and space characters\n",
        "  alpha_x = re.sub('[^0-9a-zA-Z ]+', ' ', no_waste_words_x)\n",
        "\n",
        "  # Remove stopwords and lemmatize the word. Join at the end will also remove multi-spaces\n",
        "  lemma_x = ' '.join([stemmer.lemmatize(word) for word in alpha_x.split() if word not in eng_stopwords])\n",
        "\n",
        "  return lemma_x"
      ],
      "metadata": {
        "id": "SAwYUVd6sC47"
      },
      "execution_count": 9,
      "outputs": []
    },
    {
      "cell_type": "markdown",
      "source": [
        "Let's test the function on few examples"
      ],
      "metadata": {
        "id": "qOPATBDpwSho"
      }
    },
    {
      "cell_type": "code",
      "source": [
        "for sample_text in df.sample(5)['text'].values:\n",
        "  print('ORIGINAL TEXT : ', sample_text)\n",
        "  print('-'*100)\n",
        "  print('CLEANED TEXT : ', clean_text(sample_text))\n",
        "  print('\\n')\n",
        "  print('*'*100)"
      ],
      "metadata": {
        "colab": {
          "base_uri": "https://localhost:8080/"
        },
        "id": "j8PxtmOvwVXd",
        "outputId": "70c55f70-803f-47a4-bba4-daab1d01750c"
      },
      "execution_count": 10,
      "outputs": [
        {
          "output_type": "stream",
          "name": "stdout",
          "text": [
            "ORIGINAL TEXT :  ofloxacin susceptibility testing quality control parameters for microdilution and disk diffusion, and confirmation of disk diffusion interpretive criteria.\n",
            " the susceptibilities of 221 clinical isolates to ofloxacin were tested simultaneously by broth microdilution and disk diffusion methods with commercially prepared 5-micrograms ofloxacin disks. the acceptability of the following previously proposed zone diameter breakpoints was confirmed: greater than or equal to 16 mm, susceptible; 13 to 15 mm, intermediate; less than or equal to 12 mm, resistant. on the basis of a multilaboratory collaborative study, the following are proposed as acceptable ofloxacin mic ranges for quality control organisms:other_species atcc 25922, 0.03 to 0.06 micrograms/ml;other_species atcc 29213, 0.12 to 0.5 micrograms/ml;other_species atcc 27853 andother_species atcc 29212, 1.0 to 4.0 micrograms/ml. ofloxacin quality control zone diameter ranges for the disk diffusion test are tentatively proposed, but variations in the performance of different lots of mueller-hinton agar may prove to be a serious problem for users.\n",
            "\n",
            "----------------------------------------------------------------------------------------------------\n",
            "CLEANED TEXT :  ofloxacin susceptibility testing quality control parameter microdilution disk diffusion confirmation disk diffusion interpretive criterion susceptibility 221 clinical isolates ofloxacin tested simultaneously broth microdilution disk diffusion method commercially prepared 5 microgram ofloxacin disk acceptability following previously proposed zone diameter breakpoints confirmed greater equal 16 mm susceptible 13 15 mm intermediate le equal 12 mm resistant basis multilaboratory collaborative study following proposed acceptable ofloxacin mic range quality control organism specie atcc 25922 0 03 0 06 microgram ml specie atcc 29213 0 12 0 5 microgram ml specie atcc 27853 andother specie atcc 29212 1 0 4 0 microgram ml ofloxacin quality control zone diameter range disk diffusion test tentatively proposed variation performance different lot mueller hinton agar may prove serious problem user\n",
            "\n",
            "\n",
            "****************************************************************************************************\n",
            "ORIGINAL TEXT :  biodegradable nanofibrous drug delivery systems: effects of metronidazole and ciprofloxacin on periodontopathogens and commensal oral bacteria.\n",
            " objectives: the purposes of this study were to fabricate biodegradable polydioxanone (pds ii(r)) electrospun periodontal drug delivery systems (hereafter referred to as matrices) containing either metronidazole (met) or ciprofloxacin (cip) and to investigate the effects of antibiotic incorporation on both periodontopathogens and commensal oral bacteria. materials and methods: fibrous matrices were processed from pds polymer solution by electrospinning. antibiotic-containing pds solutions were prepared to obtain four distinct groups: 5 wt.% met, 25 wt.% met, 5 wt.% cip, and 25 wt.% cip. pure pds was used as a control. high-performance liquid chromatography (hplc) was done to evaluate met and cip release. dual-species biofilms formed byother_species (lc) andother_species (ss) were grown on the surface of all electrospun matrices. after 4 days of biofilm growth, the viability of bacteria on biofilms was assessed. additionally, antimicrobial properties were evaluated against periodontopathogensother_species (fn) andother_species (aa) using agar diffusion assay. results: a three-dimensional interconnected porous network was observed in the different fabricated matrices. pure pds showed the highest fiber diameter mean (1,158 +/- 402 nm) followed in a descending order by groups 5 wt.% met (1,108 +/- 383 nm), 25 wt.% met (944 +/- 392 nm), 5 wt.% cip (871 +/- 309 nm), and 25 wt.% cip (765 +/- 288 nm). hplc demonstrated that groups containing higher amounts (25 wt.%) of incorporated drugs released more over time, while those with lower levels (5 wt.%) the least. no inhibitory effect of the tested antibiotics was detected on biofilm formation by the tested commensal oral bacteria. meanwhile, cip-containing matrices inhibited growth of fn and aa. conclusion: cip-containing matrices led to a significant inhibition of periodontopathogens without negatively impairing the growth of periodontal beneficial bacteria. clinical relevance: based on the proven in vitro inhibition of periodontitis-related bacteria, future in vivo research using relevant animal models is needed to confirm the effectiveness of these drug delivery systems.\n",
            "\n",
            "----------------------------------------------------------------------------------------------------\n",
            "CLEANED TEXT :  biodegradable nanofibrous drug delivery system effect metronidazole ciprofloxacin periodontopathogens commensal oral bacteria objective purpose study fabricate biodegradable polydioxanone pd ii r electrospun periodontal drug delivery system hereafter referred matrix containing either metronidazole met ciprofloxacin cip investigate effect antibiotic incorporation periodontopathogens commensal oral bacteria material method fibrous matrix processed pd polymer solution electrospinning antibiotic containing pd solution prepared obtain four distinct group 5 wt met 25 wt met 5 wt cip 25 wt cip pure pd used control high performance liquid chromatography hplc done evaluate met cip release dual specie biofilms formed byother specie lc andother specie s grown surface electrospun matrix 4 day biofilm growth viability bacteria biofilms assessed additionally antimicrobial property evaluated periodontopathogensother specie fn andother specie aa using agar diffusion assay result three dimensional interconnected porous network observed different fabricated matrix pure pd showed highest fiber diameter mean 1 158 402 nm followed descending order group 5 wt met 1 108 383 nm 25 wt met 944 392 nm 5 wt cip 871 309 nm 25 wt cip 765 288 nm hplc demonstrated group containing higher amount 25 wt incorporated drug released time lower level 5 wt least inhibitory effect tested antibiotic detected biofilm formation tested commensal oral bacteria meanwhile cip containing matrix inhibited growth fn aa conclusion cip containing matrix led significant inhibition periodontopathogens without negatively impairing growth periodontal beneficial bacteria clinical relevance based proven vitro inhibition periodontitis related bacteria future vivo research using relevant animal model needed confirm effectiveness drug delivery system\n",
            "\n",
            "\n",
            "****************************************************************************************************\n",
            "ORIGINAL TEXT :  mutualistic biofilm communities develop withother_species and initial, early, and late colonizers of enamel.\n",
            " porphyromonas gingivalis is present in dental plaque as early as 4 h after tooth  cleaning, but it is also associated with periodontal disease, a late-developing event in the microbial successions that characterize daily plaque development. we report here thatother_species atcc 33277 is remarkable in its ability to interact with a variety of initial, early, middle, and late colonizers growing solely on saliva. integration ofother_species into multispecies communities was  investigated by using two in vitro biofilm models. in flow cells, bacterial growth was quantified using fluorescently conjugated antibodies against each species, and static biofilm growth on saliva-submerged polystyrene pegs was analyzed by quantitative real-time pcr using species-specific primers.other_species could not grow as a single species or together with initial colonizer other_species but showed mutualistic growth when paired with two other initial colonizers,other_species andother_species, as well as with  veillonella sp. (early colonizer),other_species (middle colonizer), andother_species (late colonizer). in three-species flow cells,other_species grew with veillonella sp. andother_species but not withother_species andother_species. also, it grew with veillonella sp. andother_species but not withother_species andother_species, indicating that p.  gingivalis andother_species are not compatible. however,other_species grew in combination withother_species andother_species, demonstrating its ability to overcome the incompatibility when cultured with a second initially colonizing species. collectively, these data help explain the observed presence ofother_species at all stages of dental plaque development.\n",
            "\n",
            "----------------------------------------------------------------------------------------------------\n",
            "CLEANED TEXT :  mutualistic biofilm community develop withother specie initial early late colonizer enamel porphyromonas gingivalis present dental plaque early 4 h tooth cleaning also associated periodontal disease late developing event microbial succession characterize daily plaque development report thatother specie atcc 33277 remarkable ability interact variety initial early middle late colonizer growing solely saliva integration ofother specie multispecies community investigated using two vitro biofilm model flow cell bacterial growth quantified using fluorescently conjugated antibody specie static biofilm growth saliva submerged polystyrene peg analyzed quantitative real time pcr using specie specific primer specie could grow single specie together initial colonizer specie showed mutualistic growth paired two initial colonizer specie andother specie well veillonella sp early colonizer specie middle colonizer andother specie late colonizer three specie flow cell specie grew veillonella sp andother specie withother specie andother specie also grew veillonella sp andother specie withother specie andother specie indicating p gingivalis andother specie compatible however specie grew combination withother specie andother specie demonstrating ability overcome incompatibility cultured second initially colonizing specie collectively data help explain observed presence ofother specie stage dental plaque development\n",
            "\n",
            "\n",
            "****************************************************************************************************\n",
            "ORIGINAL TEXT :  a role for the dtxr family of metalloregulators in gram-positive pathogenesis.\n",
            " given the central role of transition metal ions in a variety of biochemical processes, the colonization, survival, and proliferation of a bacterium within a  host hinges upon its ability to overcome the metal ion deprivation that characterizes nutritional immunity. metalloregulatory, or 'metal-sensing' proteins have evolved in bacteria to mediate metal ion homeostasis by activating  or repressing the expression of genes encoding metal ion transport systems upon binding their cognate metal ion. yet increasing evidence in the literature supports an additional role for these metalloregulatory proteins in pathogenesis. herein, we survey studies on the dtxr family of metalloregulators, namely dtxr (cornyebacterium diphtheriae), slor (streptococcus mutans), mtsr (streptococcus pyogenes), and mntr (staphylococcus aureus) to describe how metalloregulation enables adaptive virulence gene expression within the mammalian host. this research has important implications for drug design, as the generation of hyper-repressive metalloregulatory proteins may represent a mechanism by which to attenuate bacterial pathogenicity. the fact that metalloregulators are unique to  prokaryotes makes these proteins especially attractive therapeutic targets.\n",
            "\n",
            "----------------------------------------------------------------------------------------------------\n",
            "CLEANED TEXT :  role dtxr family metalloregulators gram positive pathogenesis given central role transition metal ion variety biochemical process colonization survival proliferation bacterium within host hinge upon ability overcome metal ion deprivation characterizes nutritional immunity metalloregulatory metal sensing protein evolved bacteria mediate metal ion homeostasis activating repressing expression gene encoding metal ion transport system upon binding cognate metal ion yet increasing evidence literature support additional role metalloregulatory protein pathogenesis herein survey study dtxr family metalloregulators namely dtxr cornyebacterium diphtheriae slor streptococcus mutans mtsr streptococcus pyogenes mntr staphylococcus aureus describe metalloregulation enables adaptive virulence gene expression within mammalian host research important implication drug design generation hyper repressive metalloregulatory protein may represent mechanism attenuate bacterial pathogenicity fact metalloregulators unique prokaryote make protein especially attractive therapeutic target\n",
            "\n",
            "\n",
            "****************************************************************************************************\n",
            "ORIGINAL TEXT :  cerecidins, novel lantibiotics fromother_species with potent antimicrobial activity.\n",
            " lantibiotics are ribosomally synthesized and posttranslationally modified antimicrobial peptides that are widely produced by gram-positive bacteria, including many species of the bacillus group. in the present study, one novel gene cluster coding lantibiotic cerecidins was unveiled inother_species strain as 1.1846 through genomic mining and pcr screening. the designated cer locus is different from that of conventional class ii lantibiotics in that it included seven tandem precursor cera genes, one modification gene (cerm), two processing genes (cert and cerp), one orphan regulator gene (cerr), and two immunity genes (cerf and cere). in addition, one unprecedented quorum sensing component, comqxpa, was inserted between cerm and cerr. the expression of cerecidins was not detected in this strain ofother_species, which might be due to repressed transcription of cerm. we constitutively coexpressed cera genes and cerm inother_species, and purified precerecidins were proteolytically processed with  the endoproteinase gluc and a truncated version of putative serine protease cerp. thus, two natural variants of cerecidins a1 and a7 were obtained which contained  two terminal nonoverlapping thioether rings rarely found in lantibiotics. both cerecidins a1 and a7 were active against a broad spectrum of gram-positive bacteria. cerecidin a7, especially its mutant dhb13a, showed remarkable efficacy  against multidrug-resistantother_species (mdrsa), vancomycin-resistantother_species (vre), and even streptomyces.\n",
            "\n",
            "----------------------------------------------------------------------------------------------------\n",
            "CLEANED TEXT :  cerecidins novel lantibiotics fromother specie potent antimicrobial activity lantibiotics ribosomally synthesized posttranslationally modified antimicrobial peptide widely produced gram positive bacteria including many specie bacillus group present study one novel gene cluster coding lantibiotic cerecidins unveiled inother specie strain 1 1846 genomic mining pcr screening designated cer locus different conventional class ii lantibiotics included seven tandem precursor cera gene one modification gene cerm two processing gene cert cerp one orphan regulator gene cerr two immunity gene cerf cere addition one unprecedented quorum sensing component comqxpa inserted cerm cerr expression cerecidins detected strain ofother specie might due repressed transcription cerm constitutively coexpressed cera gene cerm inother specie purified precerecidins proteolytically processed endoproteinase gluc truncated version putative serine protease cerp thus two natural variant cerecidins a1 a7 obtained contained two terminal nonoverlapping thioether ring rarely found lantibiotics cerecidins a1 a7 active broad spectrum gram positive bacteria cerecidin a7 especially mutant dhb13a showed remarkable efficacy multidrug resistantother specie mdrsa vancomycin resistantother specie vre even streptomyces\n",
            "\n",
            "\n",
            "****************************************************************************************************\n"
          ]
        }
      ]
    },
    {
      "cell_type": "code",
      "source": [
        "# Apply cleaning function to the text field\n",
        "df['clean_text'] = df['text'].apply(lambda x : clean_text(x))\n",
        "\n",
        "# Get the length and drop records less than 10 words\n",
        "df['text_len'] = df['clean_text'].str.split().apply(len)\n",
        "\n",
        "cleaned_df = df[df['text_len'] > 10][['clean_text', 'label']]"
      ],
      "metadata": {
        "id": "7ahsc8kwoFX3"
      },
      "execution_count": 11,
      "outputs": []
    },
    {
      "cell_type": "code",
      "source": [
        "cleaned_df.head()"
      ],
      "metadata": {
        "colab": {
          "base_uri": "https://localhost:8080/",
          "height": 206
        },
        "id": "4ZgBEcURrdB7",
        "outputId": "7d7b3fe3-8ff2-49e0-ba0c-bb924c4a3aec"
      },
      "execution_count": 12,
      "outputs": [
        {
          "output_type": "execute_result",
          "data": {
            "text/plain": [
              "                                          clean_text  label\n",
              "0  antimicrobial impact essential oil food borne ...      0\n",
              "1  purification characterization cysteine rich 14...      0\n",
              "2  telavancin activity tested gram positive clini...      0\n",
              "3  vitro antimicrobial activity cymbopogon essent...      0\n",
              "4  screening currency note microbial pathogen ant...      0"
            ],
            "text/html": [
              "\n",
              "  <div id=\"df-f120038d-11ea-4b45-91f7-eb55ca560f9e\">\n",
              "    <div class=\"colab-df-container\">\n",
              "      <div>\n",
              "<style scoped>\n",
              "    .dataframe tbody tr th:only-of-type {\n",
              "        vertical-align: middle;\n",
              "    }\n",
              "\n",
              "    .dataframe tbody tr th {\n",
              "        vertical-align: top;\n",
              "    }\n",
              "\n",
              "    .dataframe thead th {\n",
              "        text-align: right;\n",
              "    }\n",
              "</style>\n",
              "<table border=\"1\" class=\"dataframe\">\n",
              "  <thead>\n",
              "    <tr style=\"text-align: right;\">\n",
              "      <th></th>\n",
              "      <th>clean_text</th>\n",
              "      <th>label</th>\n",
              "    </tr>\n",
              "  </thead>\n",
              "  <tbody>\n",
              "    <tr>\n",
              "      <th>0</th>\n",
              "      <td>antimicrobial impact essential oil food borne ...</td>\n",
              "      <td>0</td>\n",
              "    </tr>\n",
              "    <tr>\n",
              "      <th>1</th>\n",
              "      <td>purification characterization cysteine rich 14...</td>\n",
              "      <td>0</td>\n",
              "    </tr>\n",
              "    <tr>\n",
              "      <th>2</th>\n",
              "      <td>telavancin activity tested gram positive clini...</td>\n",
              "      <td>0</td>\n",
              "    </tr>\n",
              "    <tr>\n",
              "      <th>3</th>\n",
              "      <td>vitro antimicrobial activity cymbopogon essent...</td>\n",
              "      <td>0</td>\n",
              "    </tr>\n",
              "    <tr>\n",
              "      <th>4</th>\n",
              "      <td>screening currency note microbial pathogen ant...</td>\n",
              "      <td>0</td>\n",
              "    </tr>\n",
              "  </tbody>\n",
              "</table>\n",
              "</div>\n",
              "      <button class=\"colab-df-convert\" onclick=\"convertToInteractive('df-f120038d-11ea-4b45-91f7-eb55ca560f9e')\"\n",
              "              title=\"Convert this dataframe to an interactive table.\"\n",
              "              style=\"display:none;\">\n",
              "        \n",
              "  <svg xmlns=\"http://www.w3.org/2000/svg\" height=\"24px\"viewBox=\"0 0 24 24\"\n",
              "       width=\"24px\">\n",
              "    <path d=\"M0 0h24v24H0V0z\" fill=\"none\"/>\n",
              "    <path d=\"M18.56 5.44l.94 2.06.94-2.06 2.06-.94-2.06-.94-.94-2.06-.94 2.06-2.06.94zm-11 1L8.5 8.5l.94-2.06 2.06-.94-2.06-.94L8.5 2.5l-.94 2.06-2.06.94zm10 10l.94 2.06.94-2.06 2.06-.94-2.06-.94-.94-2.06-.94 2.06-2.06.94z\"/><path d=\"M17.41 7.96l-1.37-1.37c-.4-.4-.92-.59-1.43-.59-.52 0-1.04.2-1.43.59L10.3 9.45l-7.72 7.72c-.78.78-.78 2.05 0 2.83L4 21.41c.39.39.9.59 1.41.59.51 0 1.02-.2 1.41-.59l7.78-7.78 2.81-2.81c.8-.78.8-2.07 0-2.86zM5.41 20L4 18.59l7.72-7.72 1.47 1.35L5.41 20z\"/>\n",
              "  </svg>\n",
              "      </button>\n",
              "      \n",
              "  <style>\n",
              "    .colab-df-container {\n",
              "      display:flex;\n",
              "      flex-wrap:wrap;\n",
              "      gap: 12px;\n",
              "    }\n",
              "\n",
              "    .colab-df-convert {\n",
              "      background-color: #E8F0FE;\n",
              "      border: none;\n",
              "      border-radius: 50%;\n",
              "      cursor: pointer;\n",
              "      display: none;\n",
              "      fill: #1967D2;\n",
              "      height: 32px;\n",
              "      padding: 0 0 0 0;\n",
              "      width: 32px;\n",
              "    }\n",
              "\n",
              "    .colab-df-convert:hover {\n",
              "      background-color: #E2EBFA;\n",
              "      box-shadow: 0px 1px 2px rgba(60, 64, 67, 0.3), 0px 1px 3px 1px rgba(60, 64, 67, 0.15);\n",
              "      fill: #174EA6;\n",
              "    }\n",
              "\n",
              "    [theme=dark] .colab-df-convert {\n",
              "      background-color: #3B4455;\n",
              "      fill: #D2E3FC;\n",
              "    }\n",
              "\n",
              "    [theme=dark] .colab-df-convert:hover {\n",
              "      background-color: #434B5C;\n",
              "      box-shadow: 0px 1px 3px 1px rgba(0, 0, 0, 0.15);\n",
              "      filter: drop-shadow(0px 1px 2px rgba(0, 0, 0, 0.3));\n",
              "      fill: #FFFFFF;\n",
              "    }\n",
              "  </style>\n",
              "\n",
              "      <script>\n",
              "        const buttonEl =\n",
              "          document.querySelector('#df-f120038d-11ea-4b45-91f7-eb55ca560f9e button.colab-df-convert');\n",
              "        buttonEl.style.display =\n",
              "          google.colab.kernel.accessAllowed ? 'block' : 'none';\n",
              "\n",
              "        async function convertToInteractive(key) {\n",
              "          const element = document.querySelector('#df-f120038d-11ea-4b45-91f7-eb55ca560f9e');\n",
              "          const dataTable =\n",
              "            await google.colab.kernel.invokeFunction('convertToInteractive',\n",
              "                                                     [key], {});\n",
              "          if (!dataTable) return;\n",
              "\n",
              "          const docLinkHtml = 'Like what you see? Visit the ' +\n",
              "            '<a target=\"_blank\" href=https://colab.research.google.com/notebooks/data_table.ipynb>data table notebook</a>'\n",
              "            + ' to learn more about interactive tables.';\n",
              "          element.innerHTML = '';\n",
              "          dataTable['output_type'] = 'display_data';\n",
              "          await google.colab.output.renderOutput(dataTable, element);\n",
              "          const docLink = document.createElement('div');\n",
              "          docLink.innerHTML = docLinkHtml;\n",
              "          element.appendChild(docLink);\n",
              "        }\n",
              "      </script>\n",
              "    </div>\n",
              "  </div>\n",
              "  "
            ]
          },
          "metadata": {},
          "execution_count": 12
        }
      ]
    },
    {
      "cell_type": "code",
      "source": [
        "print('Total records retained after data cleaning : ', cleaned_df.shape[0])\n",
        "cleaned_df['label'].value_counts()"
      ],
      "metadata": {
        "colab": {
          "base_uri": "https://localhost:8080/"
        },
        "id": "90W6Fcsdr0eK",
        "outputId": "5a344aa4-c915-4bcb-9795-26ba726427e7"
      },
      "execution_count": 13,
      "outputs": [
        {
          "output_type": "stream",
          "name": "stdout",
          "text": [
            "Total records retained after data cleaning :  4013\n"
          ]
        },
        {
          "output_type": "execute_result",
          "data": {
            "text/plain": [
              "0    3719\n",
              "1     294\n",
              "Name: label, dtype: int64"
            ]
          },
          "metadata": {},
          "execution_count": 13
        }
      ]
    },
    {
      "cell_type": "markdown",
      "source": [
        "### TF-IDF Vectorizer\n",
        "\n",
        "Convert text to features. We'll use TF-IDF score to give the score to the word in the corpus. "
      ],
      "metadata": {
        "id": "18eI1Bgs3oyh"
      }
    },
    {
      "cell_type": "code",
      "source": [
        "from sklearn.feature_extraction.text import TfidfVectorizer\n",
        "tfidfconverter = TfidfVectorizer(max_features=1500, min_df=5, max_df=0.7, stop_words=stopwords.words('english'))\n",
        "X = tfidfconverter.fit_transform(cleaned_df['clean_text']).toarray()\n",
        "y = cleaned_df['label'].values"
      ],
      "metadata": {
        "id": "mMd19xFE3nCL"
      },
      "execution_count": 14,
      "outputs": []
    },
    {
      "cell_type": "markdown",
      "source": [
        "Since the data is unbalanced, we need to split the data into train-test in such a way that those represent the actual data. That's where stratified sampling comes in"
      ],
      "metadata": {
        "id": "lTPUbGjJsOv1"
      }
    },
    {
      "cell_type": "code",
      "source": [
        "from sklearn.model_selection import train_test_split\n",
        "\n",
        "test_split = 0.2\n",
        "\n",
        "X_train, X_test, y_train, y_test = train_test_split(X, y, test_size=test_split, stratify=y)"
      ],
      "metadata": {
        "id": "whkw8UnOtLEo"
      },
      "execution_count": 15,
      "outputs": []
    },
    {
      "cell_type": "code",
      "source": [
        "print('Label Distribution in the training data')\n",
        "print(np.unique(y_train, return_counts=True))\n",
        "print('*'*50)\n",
        "print('Label Distribution in the testing data')\n",
        "print(np.unique(y_test, return_counts=True))"
      ],
      "metadata": {
        "colab": {
          "base_uri": "https://localhost:8080/"
        },
        "id": "6IbL-1lctsul",
        "outputId": "e72ad4e0-27ae-4f62-b346-7fb4442ff4c9"
      },
      "execution_count": 16,
      "outputs": [
        {
          "output_type": "stream",
          "name": "stdout",
          "text": [
            "Label Distribution in the training data\n",
            "(array([0, 1]), array([2975,  235]))\n",
            "**************************************************\n",
            "Label Distribution in the testing data\n",
            "(array([0, 1]), array([744,  59]))\n"
          ]
        }
      ]
    },
    {
      "cell_type": "markdown",
      "source": [
        "Now that the text has been converted into features, we can model the data "
      ],
      "metadata": {
        "id": "gN7fp4cz1RmW"
      }
    },
    {
      "cell_type": "markdown",
      "source": [
        "## Machine Learning Models\n",
        "\n",
        "The dataset at hand is so imbalanced that accuracy on the predictions is not a good metric to judge a model. We'll use Classification Report, and more importantly F1 Score for model comparison. Also to note, we want to reduce False negatives as much as we can, we don't want to classify a doc non-adverse event if it's in fact a adverse-event related"
      ],
      "metadata": {
        "id": "ct0MQsp-9VZm"
      }
    },
    {
      "cell_type": "code",
      "source": [
        "from sklearn.metrics import classification_report, confusion_matrix, accuracy_score"
      ],
      "metadata": {
        "id": "xbL9ADUE9eyl"
      },
      "execution_count": 17,
      "outputs": []
    },
    {
      "cell_type": "markdown",
      "source": [
        "### Experiment 1 - Random Forest"
      ],
      "metadata": {
        "id": "mpw7p8jn7m6G"
      }
    },
    {
      "cell_type": "code",
      "source": [
        "from sklearn.ensemble import RandomForestClassifier\n",
        "\n",
        "# Initialize the model\n",
        "classifier = RandomForestClassifier(n_estimators=1000, random_state=0)\n",
        "\n",
        "# Fit the model to the data\n",
        "classifier.fit(X_train, y_train)\n",
        "\n",
        "# Generate predictions\n",
        "y_pred = classifier.predict(X_test)\n",
        "\n",
        "# Prepare Classification Report\n",
        "print(confusion_matrix(y_test,y_pred))\n",
        "print('\\n')\n",
        "print(classification_report(y_test,y_pred))"
      ],
      "metadata": {
        "colab": {
          "base_uri": "https://localhost:8080/"
        },
        "id": "uq-ffFeG8dQR",
        "outputId": "f19ded8e-de0d-4424-b6f6-754e0c8e88d4"
      },
      "execution_count": 18,
      "outputs": [
        {
          "output_type": "stream",
          "name": "stdout",
          "text": [
            "[[744   0]\n",
            " [ 29  30]]\n",
            "\n",
            "\n",
            "              precision    recall  f1-score   support\n",
            "\n",
            "           0       0.96      1.00      0.98       744\n",
            "           1       1.00      0.51      0.67        59\n",
            "\n",
            "    accuracy                           0.96       803\n",
            "   macro avg       0.98      0.75      0.83       803\n",
            "weighted avg       0.97      0.96      0.96       803\n",
            "\n"
          ]
        }
      ]
    },
    {
      "cell_type": "markdown",
      "source": [
        "Performance on 0s is satisfactory, but 1s are pretty terrible!"
      ],
      "metadata": {
        "id": "GkS6TwQ6AJNh"
      }
    },
    {
      "cell_type": "markdown",
      "source": [
        "### Experiment 2 - Multinomial NB"
      ],
      "metadata": {
        "id": "uIgGqJtE_yHF"
      }
    },
    {
      "cell_type": "code",
      "source": [
        "from sklearn.naive_bayes import MultinomialNB\n",
        "\n",
        "# Initialize the model\n",
        "classifier = MultinomialNB()\n",
        "\n",
        "# Fit the model to the data\n",
        "classifier.fit(X_train, y_train)\n",
        "\n",
        "# Generate predictions\n",
        "y_pred = classifier.predict(X_test)\n",
        "\n",
        "# Prepare Classification Report\n",
        "print(confusion_matrix(y_test,y_pred))\n",
        "print('\\n')\n",
        "print(classification_report(y_test,y_pred))"
      ],
      "metadata": {
        "colab": {
          "base_uri": "https://localhost:8080/"
        },
        "id": "sEbGejyD_7qM",
        "outputId": "9e8655b0-9ed0-4435-d4cf-e7be8d9429ee"
      },
      "execution_count": 19,
      "outputs": [
        {
          "output_type": "stream",
          "name": "stdout",
          "text": [
            "[[738   6]\n",
            " [ 36  23]]\n",
            "\n",
            "\n",
            "              precision    recall  f1-score   support\n",
            "\n",
            "           0       0.95      0.99      0.97       744\n",
            "           1       0.79      0.39      0.52        59\n",
            "\n",
            "    accuracy                           0.95       803\n",
            "   macro avg       0.87      0.69      0.75       803\n",
            "weighted avg       0.94      0.95      0.94       803\n",
            "\n"
          ]
        }
      ]
    },
    {
      "cell_type": "markdown",
      "source": [
        "Even worse!"
      ],
      "metadata": {
        "id": "kpxGJZjyAUAc"
      }
    },
    {
      "cell_type": "markdown",
      "source": [
        "### Experiment 3 - SVM : SGD Classifier"
      ],
      "metadata": {
        "id": "MFDKers2x3GH"
      }
    },
    {
      "cell_type": "code",
      "source": [
        "from sklearn.linear_model import SGDClassifier\n",
        "\n",
        "# Initialize the model\n",
        "classifier = SGDClassifier(loss='hinge', penalty='l2', alpha=1e-3, max_iter=5, random_state=42)\n",
        "\n",
        "# Fit the model to the data\n",
        "classifier.fit(X_train, y_train)\n",
        "\n",
        "# Generate predictions\n",
        "y_pred = classifier.predict(X_test)\n",
        "\n",
        "# Prepare Classification Report\n",
        "print(confusion_matrix(y_test,y_pred))\n",
        "print('\\n')\n",
        "print(classification_report(y_test,y_pred))"
      ],
      "metadata": {
        "colab": {
          "base_uri": "https://localhost:8080/"
        },
        "id": "o7yPs8UzyL6p",
        "outputId": "0c6eaeac-c7ec-4c96-d795-fd3506382b61"
      },
      "execution_count": 20,
      "outputs": [
        {
          "output_type": "stream",
          "name": "stdout",
          "text": [
            "[[743   1]\n",
            " [ 50   9]]\n",
            "\n",
            "\n",
            "              precision    recall  f1-score   support\n",
            "\n",
            "           0       0.94      1.00      0.97       744\n",
            "           1       0.90      0.15      0.26        59\n",
            "\n",
            "    accuracy                           0.94       803\n",
            "   macro avg       0.92      0.58      0.61       803\n",
            "weighted avg       0.93      0.94      0.91       803\n",
            "\n"
          ]
        },
        {
          "output_type": "stream",
          "name": "stderr",
          "text": [
            "/usr/local/lib/python3.7/dist-packages/sklearn/linear_model/_stochastic_gradient.py:700: ConvergenceWarning: Maximum number of iteration reached before convergence. Consider increasing max_iter to improve the fit.\n",
            "  ConvergenceWarning,\n"
          ]
        }
      ]
    },
    {
      "cell_type": "markdown",
      "source": [
        "Better performance than MNB, but worse than Random Forest"
      ],
      "metadata": {
        "id": "NeT6YcXFyuP7"
      }
    },
    {
      "cell_type": "markdown",
      "source": [
        "### Experiment 4 - K-Nearest Neighbors"
      ],
      "metadata": {
        "id": "NVJAcADwzWaE"
      }
    },
    {
      "cell_type": "code",
      "source": [
        "from sklearn.neighbors import KNeighborsClassifier\n",
        "\n",
        "# Initialize the model\n",
        "classifier = KNeighborsClassifier(n_neighbors=2)\n",
        "\n",
        "# Fit the model to the data\n",
        "classifier.fit(X_train, y_train)\n",
        "\n",
        "# Generate predictions\n",
        "y_pred = classifier.predict(X_test)\n",
        "\n",
        "# Prepare Classification Report\n",
        "print(confusion_matrix(y_test,y_pred))\n",
        "print('\\n')\n",
        "print(classification_report(y_test,y_pred))"
      ],
      "metadata": {
        "colab": {
          "base_uri": "https://localhost:8080/"
        },
        "id": "AfyxEVC41nuM",
        "outputId": "66951340-6a10-481c-f8a7-ca0ca2f8c244"
      },
      "execution_count": 21,
      "outputs": [
        {
          "output_type": "stream",
          "name": "stdout",
          "text": [
            "[[739   5]\n",
            " [ 39  20]]\n",
            "\n",
            "\n",
            "              precision    recall  f1-score   support\n",
            "\n",
            "           0       0.95      0.99      0.97       744\n",
            "           1       0.80      0.34      0.48        59\n",
            "\n",
            "    accuracy                           0.95       803\n",
            "   macro avg       0.87      0.67      0.72       803\n",
            "weighted avg       0.94      0.95      0.93       803\n",
            "\n"
          ]
        }
      ]
    },
    {
      "cell_type": "markdown",
      "source": [
        "Not a good idea, TBH!"
      ],
      "metadata": {
        "id": "BDJ7zaZ_1pZa"
      }
    },
    {
      "cell_type": "markdown",
      "source": [
        "### Experiment 5 - Decision Trees"
      ],
      "metadata": {
        "id": "nSDuf6we2jOm"
      }
    },
    {
      "cell_type": "code",
      "source": [
        "from sklearn.tree import DecisionTreeClassifier\n",
        "\n",
        "# Initialize the model\n",
        "classifier = DecisionTreeClassifier(max_depth=5)\n",
        "\n",
        "# Fit the model to the data\n",
        "classifier.fit(X_train, y_train)\n",
        "\n",
        "# Generate predictions\n",
        "y_pred = classifier.predict(X_test)\n",
        "\n",
        "# Prepare Classification Report\n",
        "print(confusion_matrix(y_test,y_pred))\n",
        "print('\\n')\n",
        "print(classification_report(y_test,y_pred))"
      ],
      "metadata": {
        "colab": {
          "base_uri": "https://localhost:8080/"
        },
        "id": "Fc6ShnPM2sxK",
        "outputId": "414035a9-921f-482f-8102-011dafb2abbd"
      },
      "execution_count": 22,
      "outputs": [
        {
          "output_type": "stream",
          "name": "stdout",
          "text": [
            "[[739   5]\n",
            " [ 36  23]]\n",
            "\n",
            "\n",
            "              precision    recall  f1-score   support\n",
            "\n",
            "           0       0.95      0.99      0.97       744\n",
            "           1       0.82      0.39      0.53        59\n",
            "\n",
            "    accuracy                           0.95       803\n",
            "   macro avg       0.89      0.69      0.75       803\n",
            "weighted avg       0.94      0.95      0.94       803\n",
            "\n"
          ]
        }
      ]
    },
    {
      "cell_type": "markdown",
      "source": [
        "A single tree is not working better than a Random Forest. Proves some theories 😀"
      ],
      "metadata": {
        "id": "vxSPj8234WPL"
      }
    },
    {
      "cell_type": "markdown",
      "source": [
        "### Experiment 6 - AdaBoost (discrete SAMME)"
      ],
      "metadata": {
        "id": "PwbVy2JO49ru"
      }
    },
    {
      "cell_type": "code",
      "source": [
        "from sklearn.ensemble import AdaBoostClassifier\n",
        "\n",
        "base_model = DecisionTreeClassifier(max_depth=9, min_samples_leaf=1)\n",
        "\n",
        "# Initialize the model\n",
        "classifier = AdaBoostClassifier(\n",
        "    base_estimator=base_model,\n",
        "    learning_rate=1.0,\n",
        "    n_estimators=400,\n",
        "    algorithm=\"SAMME\",\n",
        ")\n",
        "\n",
        "# Fit the model to the data\n",
        "classifier.fit(X_train, y_train)\n",
        "\n",
        "# Generate predictions\n",
        "y_pred = classifier.predict(X_test)\n",
        "\n",
        "# Prepare Classification Report\n",
        "print(confusion_matrix(y_test,y_pred))\n",
        "print('\\n')\n",
        "print(classification_report(y_test,y_pred))"
      ],
      "metadata": {
        "colab": {
          "base_uri": "https://localhost:8080/"
        },
        "id": "8Ob2KuuT5kR9",
        "outputId": "594bf05c-ec9e-4882-f659-4ca64149ff0d"
      },
      "execution_count": 23,
      "outputs": [
        {
          "output_type": "stream",
          "name": "stdout",
          "text": [
            "[[742   2]\n",
            " [ 20  39]]\n",
            "\n",
            "\n",
            "              precision    recall  f1-score   support\n",
            "\n",
            "           0       0.97      1.00      0.99       744\n",
            "           1       0.95      0.66      0.78        59\n",
            "\n",
            "    accuracy                           0.97       803\n",
            "   macro avg       0.96      0.83      0.88       803\n",
            "weighted avg       0.97      0.97      0.97       803\n",
            "\n"
          ]
        }
      ]
    },
    {
      "cell_type": "markdown",
      "source": [
        "That's a considerable improvement!"
      ],
      "metadata": {
        "id": "FYQr_S4O71Na"
      }
    },
    {
      "cell_type": "markdown",
      "source": [
        "### Experiment 7 - AdaBoost (real SAMME.R)"
      ],
      "metadata": {
        "id": "Mm9JmIpm6ycF"
      }
    },
    {
      "cell_type": "code",
      "source": [
        "from sklearn.ensemble import AdaBoostClassifier\n",
        "\n",
        "base_model = DecisionTreeClassifier(max_depth=9, min_samples_leaf=1)\n",
        "\n",
        "# Initialize the model\n",
        "classifier = AdaBoostClassifier(\n",
        "    base_estimator=base_model,\n",
        "    learning_rate=1.0,\n",
        "    n_estimators=400,\n",
        "    algorithm=\"SAMME.R\",\n",
        ")\n",
        "\n",
        "# Fit the model to the data\n",
        "classifier.fit(X_train, y_train)\n",
        "\n",
        "# Generate predictions\n",
        "y_pred = classifier.predict(X_test)\n",
        "\n",
        "# Prepare Classification Report\n",
        "print(confusion_matrix(y_test,y_pred))\n",
        "print('\\n')\n",
        "print(classification_report(y_test,y_pred))"
      ],
      "metadata": {
        "colab": {
          "base_uri": "https://localhost:8080/"
        },
        "id": "nNZMNRZN7TxL",
        "outputId": "d380d8b7-a5d7-4614-ee93-f586350cd46d"
      },
      "execution_count": 24,
      "outputs": [
        {
          "output_type": "stream",
          "name": "stdout",
          "text": [
            "[[744   0]\n",
            " [ 24  35]]\n",
            "\n",
            "\n",
            "              precision    recall  f1-score   support\n",
            "\n",
            "           0       0.97      1.00      0.98       744\n",
            "           1       1.00      0.59      0.74        59\n",
            "\n",
            "    accuracy                           0.97       803\n",
            "   macro avg       0.98      0.80      0.86       803\n",
            "weighted avg       0.97      0.97      0.97       803\n",
            "\n"
          ]
        }
      ]
    },
    {
      "cell_type": "markdown",
      "source": [
        "Worse than discrete SAMME algorithm, but still better than other models"
      ],
      "metadata": {
        "id": "XedEJ3zL75_-"
      }
    },
    {
      "cell_type": "markdown",
      "source": [
        "### Experiment 8 - Voting Classifier\n",
        "\n",
        "Voting Classifiers take votes from individual algorithms (panel experts!) about the classification and make decision based on the voting type (Hard or Soft). \n",
        "\n",
        "Difference b/w Hard and Soft Voting - Hard voting involves summing the predictions for each class label and predicting the class label with the most votes. Soft voting involves summing the predicted probabilities (or probability-like scores) for each class label and predicting the class label with the largest probability."
      ],
      "metadata": {
        "id": "5ErydheoKyQB"
      }
    },
    {
      "cell_type": "code",
      "source": [
        "from sklearn.ensemble import VotingClassifier\n",
        "\n",
        "# Model 1 : Adaboost with SAMME.R\n",
        "base_model = DecisionTreeClassifier(max_depth=9, min_samples_leaf=1)\n",
        "\n",
        "adaboost_clf = AdaBoostClassifier(\n",
        "    base_estimator=base_model,\n",
        "    learning_rate=1.0,\n",
        "    n_estimators=400,\n",
        "    algorithm=\"SAMME.R\",\n",
        ")\n",
        "\n",
        "# Model 2 : Decision Trees\n",
        "dt_clf = DecisionTreeClassifier(max_depth=5)\n",
        "\n",
        "# Model 3 : Random Forest\n",
        "rf_clf = RandomForestClassifier(n_estimators=1000, random_state=0)\n",
        "\n",
        "# Initialize the classifer\n",
        "voting_clf = VotingClassifier(estimators=[('Adaboost', adaboost_clf), ('DTree', dt_clf), ('RF', rf_clf)], voting='hard')\n",
        "\n",
        "# Fit the model to the data\n",
        "voting_clf.fit(X_train, y_train)\n",
        "\n",
        "# Generate predictions\n",
        "y_pred = voting_clf.predict(X_test)\n",
        "\n",
        "# Prepare Classification Report\n",
        "print(confusion_matrix(y_test,y_pred))\n",
        "print('\\n')\n",
        "print(classification_report(y_test,y_pred))"
      ],
      "metadata": {
        "colab": {
          "base_uri": "https://localhost:8080/"
        },
        "id": "dHoZtHXMK25o",
        "outputId": "0ce54db5-39b0-4538-f375-6c779235349f"
      },
      "execution_count": 25,
      "outputs": [
        {
          "output_type": "stream",
          "name": "stdout",
          "text": [
            "[[744   0]\n",
            " [ 29  30]]\n",
            "\n",
            "\n",
            "              precision    recall  f1-score   support\n",
            "\n",
            "           0       0.96      1.00      0.98       744\n",
            "           1       1.00      0.51      0.67        59\n",
            "\n",
            "    accuracy                           0.96       803\n",
            "   macro avg       0.98      0.75      0.83       803\n",
            "weighted avg       0.97      0.96      0.96       803\n",
            "\n"
          ]
        }
      ]
    },
    {
      "cell_type": "code",
      "source": [
        "# classification_report(y_test,y_pred, output_dict=True)['weighted avg']['f1-score']"
      ],
      "metadata": {
        "colab": {
          "base_uri": "https://localhost:8080/"
        },
        "id": "i6wxJPYlR51d",
        "outputId": "13fc484c-2be3-49c2-b6a5-4bfcd333568a"
      },
      "execution_count": 36,
      "outputs": [
        {
          "output_type": "execute_result",
          "data": {
            "text/plain": [
              "0.9583467904419037"
            ]
          },
          "metadata": {},
          "execution_count": 36
        }
      ]
    }
  ]
}