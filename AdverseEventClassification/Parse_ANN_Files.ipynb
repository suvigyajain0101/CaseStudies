{
  "nbformat": 4,
  "nbformat_minor": 0,
  "metadata": {
    "colab": {
      "name": "Parse_ANN_Files.ipynb",
      "provenance": [],
      "authorship_tag": "ABX9TyM6UDY0ho9W5dstDnYoSBVn"
    },
    "kernelspec": {
      "name": "python3",
      "display_name": "Python 3"
    },
    "language_info": {
      "name": "python"
    }
  },
  "cells": [
    {
      "cell_type": "markdown",
      "source": [
        "# Parse .ann Files\n",
        "Code to read and parse .ann files, convert the data to pandas dataframe to be used for classification"
      ],
      "metadata": {
        "id": "mkl2HQV0b9OT"
      }
    },
    {
      "cell_type": "markdown",
      "source": [
        "### Download Data"
      ],
      "metadata": {
        "id": "VUxPF8dfb2qi"
      }
    },
    {
      "cell_type": "code",
      "execution_count": null,
      "metadata": {
        "id": "B5hiqw2BOTc3"
      },
      "outputs": [],
      "source": [
        "!wget https://raw.githubusercontent.com/CSB5/atminter/master/data/train_test_data/collated_train.ann\n",
        "!wget https://raw.githubusercontent.com/CSB5/atminter/master/data/train_test_data/lactobacillus_acidophilus%23escherichia_coli.ann"
      ]
    },
    {
      "cell_type": "markdown",
      "source": [
        "### Convert .ann files to pandas dataframe"
      ],
      "metadata": {
        "id": "yGSxEnt2cMiQ"
      }
    },
    {
      "cell_type": "code",
      "source": [
        "import pandas as pd\n",
        "import numpy as np"
      ],
      "metadata": {
        "id": "tLQz7u03e4Ly"
      },
      "execution_count": null,
      "outputs": []
    },
    {
      "cell_type": "code",
      "source": [
        "SCHEMA = ['label','title','abstract']"
      ],
      "metadata": {
        "id": "pkHPYpzIdSIU"
      },
      "execution_count": 23,
      "outputs": []
    },
    {
      "cell_type": "code",
      "source": [
        "def read_ann_file(filePath):\n",
        "\twith open(filePath) as f:\n",
        "\t\ttemp = [i for i in f]\n",
        "\t\ttemp = [temp[i:i + 3] for i in range(0,len(temp), 3)]\n",
        "\n",
        "\treturn temp\n",
        "\n",
        "def convert_np_array_to_pdf(arr, schema=SCHEMA):\n",
        "  return pd.DataFrame(arr, columns=schema)\n",
        "\n",
        "input_file_list = [\n",
        "    '/content/collated_train.ann',\n",
        "    '/content/lactobacillus_acidophilus#escherichia_coli.ann'\n",
        "]\n",
        "\n",
        "\n",
        "output_df = pd.DataFrame()\n",
        "for input_file in input_file_list:\n",
        "  np_arr = read_ann_file(input_file)\n",
        "\n",
        "  pdf = convert_np_array_to_pdf(np_arr)\n",
        "\n",
        "  output_df = output_df.append(pdf)\n",
        "\n",
        "output_df.head()"
      ],
      "metadata": {
        "colab": {
          "base_uri": "https://localhost:8080/",
          "height": 206
        },
        "id": "2z9gQfNjTSlO",
        "outputId": "fcf6f8a7-74e5-4bbd-e23e-fc9ae6828ff0"
      },
      "execution_count": 24,
      "outputs": [
        {
          "output_type": "execute_result",
          "data": {
            "text/plain": [
              "  label                                              title  \\\n",
              "0  >F\\n  antimicrobial impacts of essential oils on foo...   \n",
              "1  >F\\n  purification and characterization of a cystein...   \n",
              "2  >F\\n  telavancin activity tested against gram-positi...   \n",
              "3  >F\\n  the in vitro antimicrobial activity of cymbopo...   \n",
              "4  >F\\n  screening currency notes for microbial pathoge...   \n",
              "\n",
              "                                            abstract  \n",
              "0  the antimicrobial activity of twelve essential...  \n",
              "1  antimicrobial peptide (amp) crustin is a type ...  \n",
              "2  objectives: to reassess the activity of telava...  \n",
              "3  background: it is well known that cymbopogon (...  \n",
              "4  fomites are a well-known source of microbial i...  "
            ],
            "text/html": [
              "\n",
              "  <div id=\"df-c6679128-9fdf-41d4-b423-49de749b1fde\">\n",
              "    <div class=\"colab-df-container\">\n",
              "      <div>\n",
              "<style scoped>\n",
              "    .dataframe tbody tr th:only-of-type {\n",
              "        vertical-align: middle;\n",
              "    }\n",
              "\n",
              "    .dataframe tbody tr th {\n",
              "        vertical-align: top;\n",
              "    }\n",
              "\n",
              "    .dataframe thead th {\n",
              "        text-align: right;\n",
              "    }\n",
              "</style>\n",
              "<table border=\"1\" class=\"dataframe\">\n",
              "  <thead>\n",
              "    <tr style=\"text-align: right;\">\n",
              "      <th></th>\n",
              "      <th>label</th>\n",
              "      <th>title</th>\n",
              "      <th>abstract</th>\n",
              "    </tr>\n",
              "  </thead>\n",
              "  <tbody>\n",
              "    <tr>\n",
              "      <th>0</th>\n",
              "      <td>&gt;F\\n</td>\n",
              "      <td>antimicrobial impacts of essential oils on foo...</td>\n",
              "      <td>the antimicrobial activity of twelve essential...</td>\n",
              "    </tr>\n",
              "    <tr>\n",
              "      <th>1</th>\n",
              "      <td>&gt;F\\n</td>\n",
              "      <td>purification and characterization of a cystein...</td>\n",
              "      <td>antimicrobial peptide (amp) crustin is a type ...</td>\n",
              "    </tr>\n",
              "    <tr>\n",
              "      <th>2</th>\n",
              "      <td>&gt;F\\n</td>\n",
              "      <td>telavancin activity tested against gram-positi...</td>\n",
              "      <td>objectives: to reassess the activity of telava...</td>\n",
              "    </tr>\n",
              "    <tr>\n",
              "      <th>3</th>\n",
              "      <td>&gt;F\\n</td>\n",
              "      <td>the in vitro antimicrobial activity of cymbopo...</td>\n",
              "      <td>background: it is well known that cymbopogon (...</td>\n",
              "    </tr>\n",
              "    <tr>\n",
              "      <th>4</th>\n",
              "      <td>&gt;F\\n</td>\n",
              "      <td>screening currency notes for microbial pathoge...</td>\n",
              "      <td>fomites are a well-known source of microbial i...</td>\n",
              "    </tr>\n",
              "  </tbody>\n",
              "</table>\n",
              "</div>\n",
              "      <button class=\"colab-df-convert\" onclick=\"convertToInteractive('df-c6679128-9fdf-41d4-b423-49de749b1fde')\"\n",
              "              title=\"Convert this dataframe to an interactive table.\"\n",
              "              style=\"display:none;\">\n",
              "        \n",
              "  <svg xmlns=\"http://www.w3.org/2000/svg\" height=\"24px\"viewBox=\"0 0 24 24\"\n",
              "       width=\"24px\">\n",
              "    <path d=\"M0 0h24v24H0V0z\" fill=\"none\"/>\n",
              "    <path d=\"M18.56 5.44l.94 2.06.94-2.06 2.06-.94-2.06-.94-.94-2.06-.94 2.06-2.06.94zm-11 1L8.5 8.5l.94-2.06 2.06-.94-2.06-.94L8.5 2.5l-.94 2.06-2.06.94zm10 10l.94 2.06.94-2.06 2.06-.94-2.06-.94-.94-2.06-.94 2.06-2.06.94z\"/><path d=\"M17.41 7.96l-1.37-1.37c-.4-.4-.92-.59-1.43-.59-.52 0-1.04.2-1.43.59L10.3 9.45l-7.72 7.72c-.78.78-.78 2.05 0 2.83L4 21.41c.39.39.9.59 1.41.59.51 0 1.02-.2 1.41-.59l7.78-7.78 2.81-2.81c.8-.78.8-2.07 0-2.86zM5.41 20L4 18.59l7.72-7.72 1.47 1.35L5.41 20z\"/>\n",
              "  </svg>\n",
              "      </button>\n",
              "      \n",
              "  <style>\n",
              "    .colab-df-container {\n",
              "      display:flex;\n",
              "      flex-wrap:wrap;\n",
              "      gap: 12px;\n",
              "    }\n",
              "\n",
              "    .colab-df-convert {\n",
              "      background-color: #E8F0FE;\n",
              "      border: none;\n",
              "      border-radius: 50%;\n",
              "      cursor: pointer;\n",
              "      display: none;\n",
              "      fill: #1967D2;\n",
              "      height: 32px;\n",
              "      padding: 0 0 0 0;\n",
              "      width: 32px;\n",
              "    }\n",
              "\n",
              "    .colab-df-convert:hover {\n",
              "      background-color: #E2EBFA;\n",
              "      box-shadow: 0px 1px 2px rgba(60, 64, 67, 0.3), 0px 1px 3px 1px rgba(60, 64, 67, 0.15);\n",
              "      fill: #174EA6;\n",
              "    }\n",
              "\n",
              "    [theme=dark] .colab-df-convert {\n",
              "      background-color: #3B4455;\n",
              "      fill: #D2E3FC;\n",
              "    }\n",
              "\n",
              "    [theme=dark] .colab-df-convert:hover {\n",
              "      background-color: #434B5C;\n",
              "      box-shadow: 0px 1px 3px 1px rgba(0, 0, 0, 0.15);\n",
              "      filter: drop-shadow(0px 1px 2px rgba(0, 0, 0, 0.3));\n",
              "      fill: #FFFFFF;\n",
              "    }\n",
              "  </style>\n",
              "\n",
              "      <script>\n",
              "        const buttonEl =\n",
              "          document.querySelector('#df-c6679128-9fdf-41d4-b423-49de749b1fde button.colab-df-convert');\n",
              "        buttonEl.style.display =\n",
              "          google.colab.kernel.accessAllowed ? 'block' : 'none';\n",
              "\n",
              "        async function convertToInteractive(key) {\n",
              "          const element = document.querySelector('#df-c6679128-9fdf-41d4-b423-49de749b1fde');\n",
              "          const dataTable =\n",
              "            await google.colab.kernel.invokeFunction('convertToInteractive',\n",
              "                                                     [key], {});\n",
              "          if (!dataTable) return;\n",
              "\n",
              "          const docLinkHtml = 'Like what you see? Visit the ' +\n",
              "            '<a target=\"_blank\" href=https://colab.research.google.com/notebooks/data_table.ipynb>data table notebook</a>'\n",
              "            + ' to learn more about interactive tables.';\n",
              "          element.innerHTML = '';\n",
              "          dataTable['output_type'] = 'display_data';\n",
              "          await google.colab.output.renderOutput(dataTable, element);\n",
              "          const docLink = document.createElement('div');\n",
              "          docLink.innerHTML = docLinkHtml;\n",
              "          element.appendChild(docLink);\n",
              "        }\n",
              "      </script>\n",
              "    </div>\n",
              "  </div>\n",
              "  "
            ]
          },
          "metadata": {},
          "execution_count": 24
        }
      ]
    },
    {
      "cell_type": "code",
      "source": [
        "output_df['label'].unique()"
      ],
      "metadata": {
        "colab": {
          "base_uri": "https://localhost:8080/"
        },
        "id": "jexPwvtfP0MZ",
        "outputId": "38c9f633-4a91-40df-e06f-ea41b96a6ec3"
      },
      "execution_count": 26,
      "outputs": [
        {
          "output_type": "execute_result",
          "data": {
            "text/plain": [
              "array(['>F\\n', '>T\\n', '>F#(but others)\\n', '>F#GENUS\\n', '>F#others\\n',\n",
              "       '>T#GUTSPECIFIC\\n', '>T#NOTSOLID\\n',\n",
              "       '>F#I::METABOLICINTERACTION\\n', '>F#I::Exclusiviity\\n',\n",
              "       '>F#OPPOSITE\\n', '>F#FAILURE\\n', '>F#AGG\\n', '>f\\n', '>F#OPP\\n',\n",
              "       '>F <NO EVIDENCE TOWARDS, claims that no inhibition>\\n',\n",
              "       '>F#AMBIGUOUS\\n', '>F#Take into account virulence decreases?\\n',\n",
              "       '@F\\n', '>F#see if bacteriocin\\n', '>F#ATT\\n'], dtype=object)"
            ]
          },
          "metadata": {},
          "execution_count": 26
        }
      ]
    }
  ]
}