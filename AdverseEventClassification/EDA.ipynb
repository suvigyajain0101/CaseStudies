{
  "nbformat": 4,
  "nbformat_minor": 0,
  "metadata": {
    "colab": {
      "name": "EDA.ipynb",
      "provenance": [],
      "authorship_tag": "ABX9TyOlqv48TM/GaKyFNLqEWMVW"
    },
    "kernelspec": {
      "name": "python3",
      "display_name": "Python 3"
    },
    "language_info": {
      "name": "python"
    }
  },
  "cells": [
    {
      "cell_type": "markdown",
      "source": [
        "### Download the data"
      ],
      "metadata": {
        "id": "t-VdgB_crT4E"
      }
    },
    {
      "cell_type": "code",
      "source": [
        "!wget https://raw.githubusercontent.com/suvigyajain0101/CaseStudies/main/AdverseEventClassification/Data/AE_Data.csv"
      ],
      "metadata": {
        "colab": {
          "base_uri": "https://localhost:8080/"
        },
        "id": "I5pyXByrra7_",
        "outputId": "9b220503-4f07-4945-a0d8-3dc25d9e7dab"
      },
      "execution_count": 1,
      "outputs": [
        {
          "output_type": "stream",
          "name": "stdout",
          "text": [
            "--2022-08-13 21:12:36--  https://raw.githubusercontent.com/suvigyajain0101/CaseStudies/main/AdverseEventClassification/Data/AE_Data.csv\n",
            "Resolving raw.githubusercontent.com (raw.githubusercontent.com)... 185.199.109.133, 185.199.111.133, 185.199.108.133, ...\n",
            "Connecting to raw.githubusercontent.com (raw.githubusercontent.com)|185.199.109.133|:443... connected.\n",
            "HTTP request sent, awaiting response... 200 OK\n",
            "Length: 5998096 (5.7M) [text/plain]\n",
            "Saving to: ‘AE_Data.csv’\n",
            "\n",
            "AE_Data.csv         100%[===================>]   5.72M  --.-KB/s    in 0.09s   \n",
            "\n",
            "2022-08-13 21:12:37 (63.4 MB/s) - ‘AE_Data.csv’ saved [5998096/5998096]\n",
            "\n"
          ]
        }
      ]
    },
    {
      "cell_type": "markdown",
      "source": [
        "### Import libraries"
      ],
      "metadata": {
        "id": "qUPP9QGarnKB"
      }
    },
    {
      "cell_type": "code",
      "source": [
        "import pandas as pd\n",
        "import numpy as np"
      ],
      "metadata": {
        "id": "cIL8nLbyrpkD"
      },
      "execution_count": 2,
      "outputs": []
    },
    {
      "cell_type": "code",
      "source": [
        "df = pd.read_csv('/content/AE_Data.csv')\n",
        "df.head()"
      ],
      "metadata": {
        "colab": {
          "base_uri": "https://localhost:8080/",
          "height": 206
        },
        "id": "7wMMRBJUrrub",
        "outputId": "55709fce-9e7a-4a14-d359-c53cfe7a6d98"
      },
      "execution_count": 3,
      "outputs": [
        {
          "output_type": "execute_result",
          "data": {
            "text/plain": [
              "                                               title  \\\n",
              "0  antimicrobial impacts of essential oils on foo...   \n",
              "1  purification and characterization of a cystein...   \n",
              "2  telavancin activity tested against gram-positi...   \n",
              "3  the in vitro antimicrobial activity of cymbopo...   \n",
              "4  screening currency notes for microbial pathoge...   \n",
              "\n",
              "                                            abstract  label  \n",
              "0  the antimicrobial activity of twelve essential...      0  \n",
              "1  antimicrobial peptide (amp) crustin is a type ...      0  \n",
              "2  objectives: to reassess the activity of telava...      0  \n",
              "3  background: it is well known that cymbopogon (...      0  \n",
              "4  fomites are a well-known source of microbial i...      0  "
            ],
            "text/html": [
              "\n",
              "  <div id=\"df-a6403629-f95b-41c8-badb-e57f793feda7\">\n",
              "    <div class=\"colab-df-container\">\n",
              "      <div>\n",
              "<style scoped>\n",
              "    .dataframe tbody tr th:only-of-type {\n",
              "        vertical-align: middle;\n",
              "    }\n",
              "\n",
              "    .dataframe tbody tr th {\n",
              "        vertical-align: top;\n",
              "    }\n",
              "\n",
              "    .dataframe thead th {\n",
              "        text-align: right;\n",
              "    }\n",
              "</style>\n",
              "<table border=\"1\" class=\"dataframe\">\n",
              "  <thead>\n",
              "    <tr style=\"text-align: right;\">\n",
              "      <th></th>\n",
              "      <th>title</th>\n",
              "      <th>abstract</th>\n",
              "      <th>label</th>\n",
              "    </tr>\n",
              "  </thead>\n",
              "  <tbody>\n",
              "    <tr>\n",
              "      <th>0</th>\n",
              "      <td>antimicrobial impacts of essential oils on foo...</td>\n",
              "      <td>the antimicrobial activity of twelve essential...</td>\n",
              "      <td>0</td>\n",
              "    </tr>\n",
              "    <tr>\n",
              "      <th>1</th>\n",
              "      <td>purification and characterization of a cystein...</td>\n",
              "      <td>antimicrobial peptide (amp) crustin is a type ...</td>\n",
              "      <td>0</td>\n",
              "    </tr>\n",
              "    <tr>\n",
              "      <th>2</th>\n",
              "      <td>telavancin activity tested against gram-positi...</td>\n",
              "      <td>objectives: to reassess the activity of telava...</td>\n",
              "      <td>0</td>\n",
              "    </tr>\n",
              "    <tr>\n",
              "      <th>3</th>\n",
              "      <td>the in vitro antimicrobial activity of cymbopo...</td>\n",
              "      <td>background: it is well known that cymbopogon (...</td>\n",
              "      <td>0</td>\n",
              "    </tr>\n",
              "    <tr>\n",
              "      <th>4</th>\n",
              "      <td>screening currency notes for microbial pathoge...</td>\n",
              "      <td>fomites are a well-known source of microbial i...</td>\n",
              "      <td>0</td>\n",
              "    </tr>\n",
              "  </tbody>\n",
              "</table>\n",
              "</div>\n",
              "      <button class=\"colab-df-convert\" onclick=\"convertToInteractive('df-a6403629-f95b-41c8-badb-e57f793feda7')\"\n",
              "              title=\"Convert this dataframe to an interactive table.\"\n",
              "              style=\"display:none;\">\n",
              "        \n",
              "  <svg xmlns=\"http://www.w3.org/2000/svg\" height=\"24px\"viewBox=\"0 0 24 24\"\n",
              "       width=\"24px\">\n",
              "    <path d=\"M0 0h24v24H0V0z\" fill=\"none\"/>\n",
              "    <path d=\"M18.56 5.44l.94 2.06.94-2.06 2.06-.94-2.06-.94-.94-2.06-.94 2.06-2.06.94zm-11 1L8.5 8.5l.94-2.06 2.06-.94-2.06-.94L8.5 2.5l-.94 2.06-2.06.94zm10 10l.94 2.06.94-2.06 2.06-.94-2.06-.94-.94-2.06-.94 2.06-2.06.94z\"/><path d=\"M17.41 7.96l-1.37-1.37c-.4-.4-.92-.59-1.43-.59-.52 0-1.04.2-1.43.59L10.3 9.45l-7.72 7.72c-.78.78-.78 2.05 0 2.83L4 21.41c.39.39.9.59 1.41.59.51 0 1.02-.2 1.41-.59l7.78-7.78 2.81-2.81c.8-.78.8-2.07 0-2.86zM5.41 20L4 18.59l7.72-7.72 1.47 1.35L5.41 20z\"/>\n",
              "  </svg>\n",
              "      </button>\n",
              "      \n",
              "  <style>\n",
              "    .colab-df-container {\n",
              "      display:flex;\n",
              "      flex-wrap:wrap;\n",
              "      gap: 12px;\n",
              "    }\n",
              "\n",
              "    .colab-df-convert {\n",
              "      background-color: #E8F0FE;\n",
              "      border: none;\n",
              "      border-radius: 50%;\n",
              "      cursor: pointer;\n",
              "      display: none;\n",
              "      fill: #1967D2;\n",
              "      height: 32px;\n",
              "      padding: 0 0 0 0;\n",
              "      width: 32px;\n",
              "    }\n",
              "\n",
              "    .colab-df-convert:hover {\n",
              "      background-color: #E2EBFA;\n",
              "      box-shadow: 0px 1px 2px rgba(60, 64, 67, 0.3), 0px 1px 3px 1px rgba(60, 64, 67, 0.15);\n",
              "      fill: #174EA6;\n",
              "    }\n",
              "\n",
              "    [theme=dark] .colab-df-convert {\n",
              "      background-color: #3B4455;\n",
              "      fill: #D2E3FC;\n",
              "    }\n",
              "\n",
              "    [theme=dark] .colab-df-convert:hover {\n",
              "      background-color: #434B5C;\n",
              "      box-shadow: 0px 1px 3px 1px rgba(0, 0, 0, 0.15);\n",
              "      filter: drop-shadow(0px 1px 2px rgba(0, 0, 0, 0.3));\n",
              "      fill: #FFFFFF;\n",
              "    }\n",
              "  </style>\n",
              "\n",
              "      <script>\n",
              "        const buttonEl =\n",
              "          document.querySelector('#df-a6403629-f95b-41c8-badb-e57f793feda7 button.colab-df-convert');\n",
              "        buttonEl.style.display =\n",
              "          google.colab.kernel.accessAllowed ? 'block' : 'none';\n",
              "\n",
              "        async function convertToInteractive(key) {\n",
              "          const element = document.querySelector('#df-a6403629-f95b-41c8-badb-e57f793feda7');\n",
              "          const dataTable =\n",
              "            await google.colab.kernel.invokeFunction('convertToInteractive',\n",
              "                                                     [key], {});\n",
              "          if (!dataTable) return;\n",
              "\n",
              "          const docLinkHtml = 'Like what you see? Visit the ' +\n",
              "            '<a target=\"_blank\" href=https://colab.research.google.com/notebooks/data_table.ipynb>data table notebook</a>'\n",
              "            + ' to learn more about interactive tables.';\n",
              "          element.innerHTML = '';\n",
              "          dataTable['output_type'] = 'display_data';\n",
              "          await google.colab.output.renderOutput(dataTable, element);\n",
              "          const docLink = document.createElement('div');\n",
              "          docLink.innerHTML = docLinkHtml;\n",
              "          element.appendChild(docLink);\n",
              "        }\n",
              "      </script>\n",
              "    </div>\n",
              "  </div>\n",
              "  "
            ]
          },
          "metadata": {},
          "execution_count": 3
        }
      ]
    },
    {
      "cell_type": "code",
      "source": [
        "df['label'].value_counts()"
      ],
      "metadata": {
        "colab": {
          "base_uri": "https://localhost:8080/"
        },
        "id": "dLLg2abLrv_g",
        "outputId": "5684cc0a-a874-4d04-de6c-78e2a5823c99"
      },
      "execution_count": 4,
      "outputs": [
        {
          "output_type": "execute_result",
          "data": {
            "text/plain": [
              "0    3851\n",
              "1     294\n",
              "Name: label, dtype: int64"
            ]
          },
          "metadata": {},
          "execution_count": 4
        }
      ]
    },
    {
      "cell_type": "markdown",
      "source": [
        "This is unbalanced classification!"
      ],
      "metadata": {
        "id": "pXrPSdO5sDnD"
      }
    },
    {
      "cell_type": "markdown",
      "source": [
        "### Word Count in Abstract and Title"
      ],
      "metadata": {
        "id": "TMpstkorsHsd"
      }
    },
    {
      "cell_type": "code",
      "source": [
        "df['word_count_abstract'] = df['abstract'].str.split().str.len()\n",
        "df['word_count_title'] = df['title'].str.split().str.len()\n",
        "\n",
        "print('Min word count in Abstract : ', df['word_count_abstract'].min())\n",
        "print('Max word count in Abstract : ', df['word_count_abstract'].max())\n",
        "print('Min word count in Title : ', df['word_count_title'].min())\n",
        "print('Max word count in Title : ', df['word_count_title'].max())"
      ],
      "metadata": {
        "colab": {
          "base_uri": "https://localhost:8080/"
        },
        "id": "49E6s_PVs38U",
        "outputId": "54514bd2-8ae5-4820-e62a-8070f86eba7a"
      },
      "execution_count": 5,
      "outputs": [
        {
          "output_type": "stream",
          "name": "stdout",
          "text": [
            "Min word count in Abstract :  0\n",
            "Max word count in Abstract :  938\n",
            "Min word count in Title :  1\n",
            "Max word count in Title :  35\n"
          ]
        }
      ]
    },
    {
      "cell_type": "code",
      "source": [
        "abstract_bins = range(0,1000,200)\n",
        "\n",
        "title_bins = range(0,35,7)\n",
        "\n",
        "# We can use the same iterator for bin and label\n",
        "df['binned_abstract'] = pd.cut(df['word_count_abstract'], bins=abstract_bins, labels = abstract_bins[1:])\n",
        "df['binned_title'] = pd.cut(df['word_count_title'], bins=title_bins, labels = title_bins[1:])"
      ],
      "metadata": {
        "id": "ANcUoy1Etf7N"
      },
      "execution_count": 6,
      "outputs": []
    },
    {
      "cell_type": "code",
      "source": [
        "import matplotlib.pyplot as plt\n",
        "import numpy as np\n",
        "%matplotlib inline\n",
        "\n",
        "plt.hist(df['binned_abstract'], density=False)  # density=False would make counts\n",
        "plt.ylabel('Count of Documents')\n",
        "plt.xlabel('Word Count in the Abstract of the document');"
      ],
      "metadata": {
        "colab": {
          "base_uri": "https://localhost:8080/",
          "height": 279
        },
        "id": "dIldmDNEuv3Y",
        "outputId": "e72c2f3e-b26c-4b4b-a3bc-513103d496c8"
      },
      "execution_count": 8,
      "outputs": [
        {
          "output_type": "display_data",
          "data": {
            "text/plain": [
              "<Figure size 432x288 with 1 Axes>"
            ],
            "image/png": "[encoded data removed]"
          },
          "metadata": {
            "needs_background": "light"
          }
        }
      ]
    },
    {
      "cell_type": "code",
      "source": [
        "plt.hist(df['binned_title'], density=False)\n",
        "plt.ylabel('Count of Documents')\n",
        "plt.xlabel('Word Count in the Title of the Document');"
      ],
      "metadata": {
        "colab": {
          "base_uri": "https://localhost:8080/",
          "height": 279
        },
        "id": "78R0dbUcE1zc",
        "outputId": "972cadb4-b235-45b1-c543-11d991b3fdfe"
      },
      "execution_count": 13,
      "outputs": [
        {
          "output_type": "display_data",
          "data": {
            "text/plain": [
              "<Figure size 432x288 with 1 Axes>"
            ],
            "image/png": "[encoded data removed]"
          },
          "metadata": {
            "needs_background": "light"
          }
        }
      ]
    },
    {
      "cell_type": "markdown",
      "source": [
        "### Positive and Negative Samples"
      ],
      "metadata": {
        "id": "9csncudnFMdp"
      }
    },
    {
      "cell_type": "code",
      "source": [
        "def get_n_samples(input_df, sample_type=1, n=5):\n",
        "  samples = input_df[input_df['label'] == sample_type][['title', 'abstract']].values[0:n]\n",
        "\n",
        "  print('*'*80 + f'\\nPrinting {n} samples of the type {sample_type}\\n' + '*'*80)\n",
        "  for i in range(n):\n",
        "    print(f'Title {i} : ', samples[i][0])\n",
        "    print(f'Abstract {i} : ', samples[i][1])\n",
        "  print('*'*80)\n",
        "\n",
        "get_n_samples(df)"
      ],
      "metadata": {
        "colab": {
          "base_uri": "https://localhost:8080/"
        },
        "id": "PWDB_RiIMl__",
        "outputId": "f36ec488-3c8b-48c5-97ae-fc2764f92c4f"
      },
      "execution_count": 24,
      "outputs": [
        {
          "output_type": "stream",
          "name": "stdout",
          "text": [
            "********************************************************************************\n",
            "Printing 5 samples of the type 1\n",
            "********************************************************************************\n",
            "Title 0 :  probiotic features of lactobacillus strains isolated from ragusano and pecorino siciliano cheeses.\n",
            "\n",
            "Abstract 0 :  in the present study 177 lactobacillus spp. strains, isolated from ragusano and pecorino siciliano cheeses, were in vitro screened for probiotic traits, and their characteristics were compared to those ofother_species gg, commercial strain. based on acidic and bile salt resistance, thirteen lactobacillus strains were selected. the multiplex-pcr application revealed that  nine strains belonged toother_species species and four toother_species species. all selected strains were further investigated for transit tolerance in  simulated upper gastrointestinal tract (gi), for adhesion capacity to human intestinal cell lines, for hydrophobicity, for co-aggregation and auto-aggregation and for antimicrobial activities. moreover, antibiotic resistance, hemolytic and bile salt hydrolase activities were investigated for safety assessment. viable counts after simulated gastric and duodenal transit revealed that overall the selected lactobacilli tolerated better pancreatic juice and bile salts than acidic juice. in particular, threeother_species strains (fs10, fs2, and ps11) and oneother_species strain (pm8) increased their cell density after the simulated gi transit. the same strains showed also high percentage of auto-aggregation and co-aggregation withother_species. all strains were effective against bothother_species andother_species and variability was achieved versusother_species andother_species  used as pathogenic indicator strains. different behavior was revealed by strains  for adhesion ability and hydrophobicity, which are not always linked each other and are strongly strain-dependent. from the safety point of view, no isolate showed hemolytic and bile salt hydrolase activities, except one, and most of the  strains were sensitive to a broad range of clinical antibiotics. this work showed that theother_species fs10 and theother_species pm8 are good promising probiotic  candidates for further in vivo investigations.\n",
            "\n",
            "Title 1 :  bacteriocin protein bacl1 ofother_species targets cell division loci and specifically recognizes l-ala2-cross-bridged peptidoglycan.\n",
            "\n",
            "Abstract 1 :  bacteriocin 41 (bac41) is produced from clinical isolates ofother_species and consists of two extracellular proteins, bacl1 and baca. we previously reported that bacl1 protein (595 amino acids, 64.5 kda) is a bacteriolytic peptidoglycan d-isoglutamyl-l-lysine endopeptidase that induces cell lysis ofother_species when an accessory factor, baca, is copresent. however,  the target of bacl1 remains unknown. in this study, we investigated the targeting specificity of bacl1. fluorescence microscopy analysis using fluorescent dye-conjugated recombinant protein demonstrated that bacl1 specifically localized at the cell division-associated site, including the equatorial ring, division septum, and nascent cell wall, on the cell surface of targetother_species cells. this specific targeting was dependent on the triple repeat of the sh3 domain located in the region from amino acid 329 to 590 of bacl1. repression of cell growth due to the stationary state of the growth phase or to treatment with bacteriostatic antibiotics rescued bacteria from the bacteriolytic activity of bacl1 and baca. the static growth state also abolished the binding and targeting  of bacl1 to the cell division-associated site. furthermore, the targeting of bacl1 was detectable among gram-positive bacteria with an l-ala-l-ala-cross-bridging peptidoglycan, includingother_species,other_species, orother_species, but not among bacteria with alternate peptidoglycan structures, such asother_species,other_species,other_species, orother_species. these data suggest that bacl1 specifically targets the l-ala-l-ala-cross-bridged peptidoglycan and potentially  lyses theother_species cells during cell division.\n",
            "\n",
            "Title 2 :  selection of potential probioticother_species isolated from portuguese fermented food.\n",
            "\n",
            "Abstract 2 :  fourother_species strains isolated from fermented products were evaluated for potential use as probiotic strains. in addition to efaafm gene, commonly found inother_species food isolates, none of the isolates possessed virulence genes and none had positive reactions for the production of tyramine, histamine, putrescine and cadaverine in the screening medium used. all of these four isolates proved to be resistant to 65 degrees c.other_species 119 did not show antimicrobial activity against any of the target bacteria investigated.other_species 85 and 101 inhibitedother_species andother_species dsmz 13590. the strainother_species 120 inhibited seven target bacteria (listeria monocytogenes 7946,other_species 7947,other_species 2030c,other_species nctc 11286,other_species  dsmz 13590,other_species atcc 29212 andother_species atcc 29213) and was chosen as the representative to assess the ability to survive gastrointestinal tract passage simulation, as well as the protective role of two  food matrices (skim milk and alheira) during its passage. for both matrices used, no significant differences (p<0.05) were obtained between the types of digestion  - quick and slow passage simulation. in the skim milk matrix the isolate was reduced to values below the detection limit of the enumeration technique by the end of the two digestions, in contrast to the alheira matrix, for which isolate 120 showed a reduction of only ca. 1 log cfu/ml. theother_species strain 120 was shown to be a potential candidate for further investigations as a potential probiotic culture.\n",
            "\n",
            "Title 3 :  cerecidins, novel lantibiotics fromother_species with potent antimicrobial activity.\n",
            "\n",
            "Abstract 3 :  lantibiotics are ribosomally synthesized and posttranslationally modified antimicrobial peptides that are widely produced by gram-positive bacteria, including many species of the bacillus group. in the present study, one novel gene cluster coding lantibiotic cerecidins was unveiled inother_species strain as 1.1846 through genomic mining and pcr screening. the designated cer locus is different from that of conventional class ii lantibiotics in that it included seven tandem precursor cera genes, one modification gene (cerm), two processing genes (cert and cerp), one orphan regulator gene (cerr), and two immunity genes (cerf and cere). in addition, one unprecedented quorum sensing component, comqxpa, was inserted between cerm and cerr. the expression of cerecidins was not detected in this strain ofother_species, which might be due to repressed transcription of cerm. we constitutively coexpressed cera genes and cerm inother_species, and purified precerecidins were proteolytically processed with  the endoproteinase gluc and a truncated version of putative serine protease cerp. thus, two natural variants of cerecidins a1 and a7 were obtained which contained  two terminal nonoverlapping thioether rings rarely found in lantibiotics. both cerecidins a1 and a7 were active against a broad spectrum of gram-positive bacteria. cerecidin a7, especially its mutant dhb13a, showed remarkable efficacy  against multidrug-resistantother_species (mdrsa), vancomycin-resistantother_species (vre), and even streptomyces.\n",
            "\n",
            "Title 4 :  acanthamoeba and bacteria produce antimicrobials to target their counterpart.\n",
            "\n",
            "Abstract 4 :  background: in the microbial ecosystem, microbes compete for space and nutrients. consequently, some have developed the ability to kill or inhibit the growth of other competing microbes by producing antimicrobial substances. as the 'producer' species are generally immune to these substances, their compounds act on the competing microbial species and give the producer more space and access to nutrients for growth. many currently used antibiotics were developed by exploiting this potential of certain microbes. findings: here, the free-living amoeba, acanthamoeba castellanii, was investigated for its antibacterial activity against representative gram positive and gram negative bacteria, while bacterial  isolates were tested for their anti-amoebic properties. conditioned medium from a. castellanii showed remarkable bactericidal properties against methicillin-resistantother_species (mrsa) exhibiting almost 100% kill rate, but had limited effect against acinetobacter sp.,other_species and vancomycin-resistantother_species (vre). similarly, the conditioned  medium ofother_species k1 and enterobacter sp., exhibited potent anti-acanthamoebic effects in a concentration-dependent manner. conditioned media of acanthamoeba,other_species k1 and enterobacter sp. showed no cytotoxicity in vitro when tested against human brain microvascular endothelial cells. active molecule/s in aforementioned amoebic and two bacterial conditioned media were 5 - 10 kda, and <5 kda respectively. conclusions: a. castellanii conditioned medium showed potent bactericidal properties against mrsa. the active molecule(s) are heat- and pronase-resistant, and in the 5 to 10 kda molecular mass range. contrary to this,other_species k1 and enterobacter sp., conditioned medium showed anti-amoebic effects that are <5 kda in molecular mass, suggestive of active metabolites.\n",
            "\n",
            "********************************************************************************\n"
          ]
        }
      ]
    },
    {
      "cell_type": "code",
      "source": [
        "get_n_samples(df,0)"
      ],
      "metadata": {
        "colab": {
          "base_uri": "https://localhost:8080/"
        },
        "id": "i1tNcGKVPTQ9",
        "outputId": "0a6fecd9-8a2e-44f1-820d-3c9a68a85bd3"
      },
      "execution_count": 25,
      "outputs": [
        {
          "output_type": "stream",
          "name": "stdout",
          "text": [
            "********************************************************************************\n",
            "Printing 5 samples of the type 0\n",
            "********************************************************************************\n",
            "Title 0 :  antimicrobial impacts of essential oils on food borne-pathogens.\n",
            "\n",
            "Abstract 0 :  the antimicrobial activity of twelve essential oil (pine oil, eucalyptus, thyme,  sage tea, lavender, orange, laurel, lemon, myrtle, lemon, rosemary and juniper) was tested by a disc diffusion method against food borne pathogens (escherichia coli,other_species a,other_species,other_species,other_species,other_species,other_species, enterococcus  faecalis,other_species). the major components in essential oils were monoterpenes hydrocarbons, alpha-pinene, limonene; monoterpene phenol, carvacrol  and oxygenated monoterpenes, camphor, 1,8-cineole, eucalyptol, linalool and linalyl acetate. although the antimicrobial effect of essential oils varied depending on the chemical composition of the essential oils and specific microorganism tested, majority of the oils exhibited antibacterial activity against one or more strains. the essential oil with the lowest inhibition zones was juniper with the values varied from 1.5 to 6 mm. however, the components of essential oil of thyme and pine oil are highly active against food borne pathogen, generating the largest inhibition zones for both gram negative and positive bacteria (5.25-28.25 mm vs. 12.5-30 mm inhibition zones). these results  indicate the possibility use of the essential oils on food system as antimicrobial agents against food-borne pathogen. the article also offers some promising patents on applications of essential oils on food industry as antimicrobial agent.\n",
            "\n",
            "Title 1 :  purification and characterization of a cysteine-rich 14-kda antibacterial peptide from the granular hemocytes of mangrove crab episesarma tetragonum and its antibiofilm activity.\n",
            "\n",
            "Abstract 1 :  antimicrobial peptide (amp) crustin is a type of immune molecule present in the immune system of crustaceans and response against microbial invasion. in the present study, we have identified and characterized the cationic, amphipathic structure consisting of amp crustin from a mangrove crab episesarma tetragonum using cm sepharose-based cation exchange column chromatography. e. tetragonum crustin showed a single band of 14 kda on sds-page and the homogeneity showed retention time of 8.4 min in rp-hplc. functional studies of e. tetragonum crustin exhibits the antibacterial activity (2-4 mug/ml) and biofilm inhibition (20 mug/ml) against the gram-positive bacteriaother_species andother_species. hydrophobicity and extrapolysaccharide production of gram-positive bacteria were inhibited through the bactericidal inhibitory concentration. in situ visualization analysis of biofilm inhibition was observed through light and  confocal laser scanning microscopy. surface morphology and the bacterial biofilm  inhibition were viewed by scanning electron and atomic force microscopy. this study emphasizes the potential activity of e. tetragonum crustin, an interesting  candidate for the development of novel broad-spectrum antimicrobial agent against bacterial pathogens. graphical abstract antimicrobial peptide synthesis and host-pathogen interaction lead to production of immune molecules directed to destruction of pathogens.\n",
            "\n",
            "Title 2 :  telavancin activity tested against gram-positive clinical isolates from european, russian and israeli hospitals (2011-2013) using a revised broth microdilution testing method: redefining the baseline activity of telavancin.\n",
            "\n",
            "Abstract 2 :  objectives: to reassess the activity of telavancin when tested against gram-positive clinical pathogens recovered from hospitalized patients in european and adjacent regions using a revised broth microdilution method. methods: 11 601  consecutive, non-duplicate isolates originating from 36 institutions among 18 countries recovered between 2011 and 2013 were tested for susceptibility using a  revised broth microdilution method for telavancin. interpretive telavancin breakpoints appropriate for the method were those recently approved by the fda and eucast, as available. results: telavancin (mic50/90, 0.03/0.06 mg/l; 100.0% susceptible) was equally potent against methicillin-susceptible ((mssa) and methicillin-resistant (mrsa)other_species. allother_species was susceptible to telavancin (mic50/90, 0.12/0.12 mg/l) and inhibited at the susceptibility breakpoint (i.e. </= 0.25 mg/l), except for vana-phenotype vancomycin-resistant isolates (telavancin mic, >1 mg/l). telavancin ( </= 0.015/0.03 mg/l) was active against vancomycin-susceptibleother_species,  while higher mic values were obtained for vana strains. telavancin (both mic50 and mic90, </= 0.015 mg/l) was potent againstother_species, beta-haemolytic streptococci (mic50/90, </= 0.015/0.06 mg/l) and viridans group streptococci (mic50/90, </= 0.015/0.03 mg/l). conclusions: telavancin exhibited potent activity against this contemporary (2011-2013) collection of organisms, inhibiting indicated pathogens at or below the fda/eucast-approved breakpoints for susceptibility. vana-phenotype enterococci were less susceptible to telavancin, a feature observed using the previous testing method. these results redefine telavancin's activity against isolates from europe.\n",
            "\n",
            "Title 3 :  the in vitro antimicrobial activity of cymbopogon essential oil (lemon grass) and its interaction with silver ions.\n",
            "\n",
            "Abstract 3 :  background: it is well known that cymbopogon (lemon grass) essential oil exhibits antimicrobial activity while the efficacy of silver ions as a disinfectant is equally well reported. hypothesis: the antimicrobial activity of ceo and ag(+) and their synergistic combinations will be useful in improving the current treatment strategies for various infections. study design: in the present study,  we determined the chemical composition and in vitro antimicrobial activity of six different cymbopogon essential oils (ceo's) alone and in combination with silver  ions (ag(+)) against two gram-positive (staphylococcus aureus andother_species), two gram-negative (escherichia coli andother_species) and two yeast species (candida albicans and candida tropicalis). the nature of potential  interactions was determined by fractional inhibitory concentration indices (ficis) for ceo's and ag(+) calculated from microdilution assays and time-kill curves. results: gas chromatography-mass spectrometry results confirmed the presence of nerol, geranial and geraniol as major volatile compounds. minimum inhibitory concentration (mic) values confirmed that all the tested pathogens are variably susceptible to both ceo's as well as ag(+). the mic of ceo's and ag(+) against all the tested pathogens ranged from 0.032 mg/ml to 1 mg/ml and 0.004 and 0.064 mg/ml respectively, whereas when assayed in combination the fici values were drastically reduced to range between 0.258 and 2.186, indicating synergy, additive and indifferent interactions. the most prominent interaction was observed between cymbopogon flexuosus essential oil and ag(+) against c. albicans with summation operatorfic = 0.254. the synergistic interactions were further confirmed through the construction of isobolograms and time-kill plots. transmission electron microscopy showed disturbance in the cell envelope upon the concomitant treatment of ceo's and ag(+), which ultimately leads to cell death. conclusion: results suggest that ceo's and ag(+) when used in combination offers  an opportunity to the formulation scientist to produce novel combinations acting  synergistically in the continued quest to control important infectious pathogens.\n",
            "\n",
            "Title 4 :  screening currency notes for microbial pathogens and antibiotic resistance genes  using a shotgun metagenomic approach.\n",
            "\n",
            "Abstract 4 :  fomites are a well-known source of microbial infections and previous studies have provided insights into the sojourning microbiome of fomites from various sources. paper currency notes are one of the most commonly exchanged objects and its potential to transmit pathogenic organisms has been well recognized. approaches to identify the microbiome associated with paper currency notes have been largely limited to culture dependent approaches. subsequent studies portrayed the use of  16s ribosomal rna based approaches which provided insights into the taxonomical distribution of the microbiome. however, recent techniques including shotgun sequencing provides resolution at gene level and enable estimation of their copy  numbers in the metagenome. we investigated the microbiome of indian paper currency notes using a shotgun metagenome sequencing approach. metagenomic dna isolated from samples of frequently circulated denominations of indian currency notes were sequenced using illumina hiseq sequencer. analysis of the data revealed presence of species belonging to both eukaryotic and prokaryotic genera. the taxonomic distribution at kingdom level revealed contigs mapping to eukaryota (70%), bacteria (9%), viruses and archae (~1%). we identified 78 pathogens includingother_species,other_species,other_species, and 75 cellulose degrading organisms includingother_species,other_species andother_species. additionally, 78 antibiotic resistance genes were identified and 18 of these were found in all the samples. furthermore, six out of 78 pathogens harbored at least one of the 18 common antibiotic resistance genes. to the best of our knowledge, this is the first report of shotgun metagenome sequence dataset of paper currency notes, which can be useful for future applications including as bio-surveillance of exchangeable fomites for infectious agents.\n",
            "\n",
            "********************************************************************************\n"
          ]
        }
      ]
    },
    {
      "cell_type": "code",
      "source": [
        ""
      ],
      "metadata": {
        "id": "nzakzei8PWwC"
      },
      "execution_count": null,
      "outputs": []
    }
  ]
}