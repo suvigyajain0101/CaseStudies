{
  "nbformat": 4,
  "nbformat_minor": 0,
  "metadata": {
    "colab": {
      "name": "EDA.ipynb",
      "provenance": [],
      "authorship_tag": "ABX9TyNCjSmO80p/cwslWQVaSkNg"
    },
    "kernelspec": {
      "name": "python3",
      "display_name": "Python 3"
    },
    "language_info": {
      "name": "python"
    }
  },
  "cells": [
    {
      "cell_type": "markdown",
      "source": [
        "### Download the data"
      ],
      "metadata": {
        "id": "t-VdgB_crT4E"
      }
    },
    {
      "cell_type": "code",
      "source": [
        "!wget https://raw.githubusercontent.com/suvigyajain0101/CaseStudies/main/AdverseEventClassification/Data/AE_Data.csv"
      ],
      "metadata": {
        "colab": {
          "base_uri": "https://localhost:8080/"
        },
        "id": "I5pyXByrra7_",
        "outputId": "c3782b05-8fcd-4367-caa3-006330005702"
      },
      "execution_count": 1,
      "outputs": [
        {
          "output_type": "stream",
          "name": "stdout",
          "text": [
            "--2022-08-12 20:11:01--  https://raw.githubusercontent.com/suvigyajain0101/CaseStudies/main/AdverseEventClassification/Data/AE_Data.csv\n",
            "Resolving raw.githubusercontent.com (raw.githubusercontent.com)... 185.199.108.133, 185.199.111.133, 185.199.110.133, ...\n",
            "Connecting to raw.githubusercontent.com (raw.githubusercontent.com)|185.199.108.133|:443... connected.\n",
            "HTTP request sent, awaiting response... 200 OK\n",
            "Length: 5998096 (5.7M) [text/plain]\n",
            "Saving to: ‘AE_Data.csv’\n",
            "\n",
            "AE_Data.csv         100%[===================>]   5.72M  --.-KB/s    in 0.1s    \n",
            "\n",
            "2022-08-12 20:11:02 (58.2 MB/s) - ‘AE_Data.csv’ saved [5998096/5998096]\n",
            "\n"
          ]
        }
      ]
    },
    {
      "cell_type": "markdown",
      "source": [
        "### Import libraries"
      ],
      "metadata": {
        "id": "qUPP9QGarnKB"
      }
    },
    {
      "cell_type": "code",
      "source": [
        "import pandas as pd\n",
        "import numpy as np"
      ],
      "metadata": {
        "id": "cIL8nLbyrpkD"
      },
      "execution_count": 2,
      "outputs": []
    },
    {
      "cell_type": "code",
      "source": [
        "df = pd.read_csv('/content/AE_Data.csv')\n",
        "df.head()"
      ],
      "metadata": {
        "colab": {
          "base_uri": "https://localhost:8080/",
          "height": 206
        },
        "id": "7wMMRBJUrrub",
        "outputId": "efd680fb-d937-47a6-97af-9a553fb348b7"
      },
      "execution_count": 7,
      "outputs": [
        {
          "output_type": "execute_result",
          "data": {
            "text/plain": [
              "                                               title  \\\n",
              "0  antimicrobial impacts of essential oils on foo...   \n",
              "1  purification and characterization of a cystein...   \n",
              "2  telavancin activity tested against gram-positi...   \n",
              "3  the in vitro antimicrobial activity of cymbopo...   \n",
              "4  screening currency notes for microbial pathoge...   \n",
              "\n",
              "                                            abstract  label  \n",
              "0  the antimicrobial activity of twelve essential...      0  \n",
              "1  antimicrobial peptide (amp) crustin is a type ...      0  \n",
              "2  objectives: to reassess the activity of telava...      0  \n",
              "3  background: it is well known that cymbopogon (...      0  \n",
              "4  fomites are a well-known source of microbial i...      0  "
            ],
            "text/html": [
              "\n",
              "  <div id=\"df-76aacdb8-9a5c-47a5-b8f5-3604d7db7df2\">\n",
              "    <div class=\"colab-df-container\">\n",
              "      <div>\n",
              "<style scoped>\n",
              "    .dataframe tbody tr th:only-of-type {\n",
              "        vertical-align: middle;\n",
              "    }\n",
              "\n",
              "    .dataframe tbody tr th {\n",
              "        vertical-align: top;\n",
              "    }\n",
              "\n",
              "    .dataframe thead th {\n",
              "        text-align: right;\n",
              "    }\n",
              "</style>\n",
              "<table border=\"1\" class=\"dataframe\">\n",
              "  <thead>\n",
              "    <tr style=\"text-align: right;\">\n",
              "      <th></th>\n",
              "      <th>title</th>\n",
              "      <th>abstract</th>\n",
              "      <th>label</th>\n",
              "    </tr>\n",
              "  </thead>\n",
              "  <tbody>\n",
              "    <tr>\n",
              "      <th>0</th>\n",
              "      <td>antimicrobial impacts of essential oils on foo...</td>\n",
              "      <td>the antimicrobial activity of twelve essential...</td>\n",
              "      <td>0</td>\n",
              "    </tr>\n",
              "    <tr>\n",
              "      <th>1</th>\n",
              "      <td>purification and characterization of a cystein...</td>\n",
              "      <td>antimicrobial peptide (amp) crustin is a type ...</td>\n",
              "      <td>0</td>\n",
              "    </tr>\n",
              "    <tr>\n",
              "      <th>2</th>\n",
              "      <td>telavancin activity tested against gram-positi...</td>\n",
              "      <td>objectives: to reassess the activity of telava...</td>\n",
              "      <td>0</td>\n",
              "    </tr>\n",
              "    <tr>\n",
              "      <th>3</th>\n",
              "      <td>the in vitro antimicrobial activity of cymbopo...</td>\n",
              "      <td>background: it is well known that cymbopogon (...</td>\n",
              "      <td>0</td>\n",
              "    </tr>\n",
              "    <tr>\n",
              "      <th>4</th>\n",
              "      <td>screening currency notes for microbial pathoge...</td>\n",
              "      <td>fomites are a well-known source of microbial i...</td>\n",
              "      <td>0</td>\n",
              "    </tr>\n",
              "  </tbody>\n",
              "</table>\n",
              "</div>\n",
              "      <button class=\"colab-df-convert\" onclick=\"convertToInteractive('df-76aacdb8-9a5c-47a5-b8f5-3604d7db7df2')\"\n",
              "              title=\"Convert this dataframe to an interactive table.\"\n",
              "              style=\"display:none;\">\n",
              "        \n",
              "  <svg xmlns=\"http://www.w3.org/2000/svg\" height=\"24px\"viewBox=\"0 0 24 24\"\n",
              "       width=\"24px\">\n",
              "    <path d=\"M0 0h24v24H0V0z\" fill=\"none\"/>\n",
              "    <path d=\"M18.56 5.44l.94 2.06.94-2.06 2.06-.94-2.06-.94-.94-2.06-.94 2.06-2.06.94zm-11 1L8.5 8.5l.94-2.06 2.06-.94-2.06-.94L8.5 2.5l-.94 2.06-2.06.94zm10 10l.94 2.06.94-2.06 2.06-.94-2.06-.94-.94-2.06-.94 2.06-2.06.94z\"/><path d=\"M17.41 7.96l-1.37-1.37c-.4-.4-.92-.59-1.43-.59-.52 0-1.04.2-1.43.59L10.3 9.45l-7.72 7.72c-.78.78-.78 2.05 0 2.83L4 21.41c.39.39.9.59 1.41.59.51 0 1.02-.2 1.41-.59l7.78-7.78 2.81-2.81c.8-.78.8-2.07 0-2.86zM5.41 20L4 18.59l7.72-7.72 1.47 1.35L5.41 20z\"/>\n",
              "  </svg>\n",
              "      </button>\n",
              "      \n",
              "  <style>\n",
              "    .colab-df-container {\n",
              "      display:flex;\n",
              "      flex-wrap:wrap;\n",
              "      gap: 12px;\n",
              "    }\n",
              "\n",
              "    .colab-df-convert {\n",
              "      background-color: #E8F0FE;\n",
              "      border: none;\n",
              "      border-radius: 50%;\n",
              "      cursor: pointer;\n",
              "      display: none;\n",
              "      fill: #1967D2;\n",
              "      height: 32px;\n",
              "      padding: 0 0 0 0;\n",
              "      width: 32px;\n",
              "    }\n",
              "\n",
              "    .colab-df-convert:hover {\n",
              "      background-color: #E2EBFA;\n",
              "      box-shadow: 0px 1px 2px rgba(60, 64, 67, 0.3), 0px 1px 3px 1px rgba(60, 64, 67, 0.15);\n",
              "      fill: #174EA6;\n",
              "    }\n",
              "\n",
              "    [theme=dark] .colab-df-convert {\n",
              "      background-color: #3B4455;\n",
              "      fill: #D2E3FC;\n",
              "    }\n",
              "\n",
              "    [theme=dark] .colab-df-convert:hover {\n",
              "      background-color: #434B5C;\n",
              "      box-shadow: 0px 1px 3px 1px rgba(0, 0, 0, 0.15);\n",
              "      filter: drop-shadow(0px 1px 2px rgba(0, 0, 0, 0.3));\n",
              "      fill: #FFFFFF;\n",
              "    }\n",
              "  </style>\n",
              "\n",
              "      <script>\n",
              "        const buttonEl =\n",
              "          document.querySelector('#df-76aacdb8-9a5c-47a5-b8f5-3604d7db7df2 button.colab-df-convert');\n",
              "        buttonEl.style.display =\n",
              "          google.colab.kernel.accessAllowed ? 'block' : 'none';\n",
              "\n",
              "        async function convertToInteractive(key) {\n",
              "          const element = document.querySelector('#df-76aacdb8-9a5c-47a5-b8f5-3604d7db7df2');\n",
              "          const dataTable =\n",
              "            await google.colab.kernel.invokeFunction('convertToInteractive',\n",
              "                                                     [key], {});\n",
              "          if (!dataTable) return;\n",
              "\n",
              "          const docLinkHtml = 'Like what you see? Visit the ' +\n",
              "            '<a target=\"_blank\" href=https://colab.research.google.com/notebooks/data_table.ipynb>data table notebook</a>'\n",
              "            + ' to learn more about interactive tables.';\n",
              "          element.innerHTML = '';\n",
              "          dataTable['output_type'] = 'display_data';\n",
              "          await google.colab.output.renderOutput(dataTable, element);\n",
              "          const docLink = document.createElement('div');\n",
              "          docLink.innerHTML = docLinkHtml;\n",
              "          element.appendChild(docLink);\n",
              "        }\n",
              "      </script>\n",
              "    </div>\n",
              "  </div>\n",
              "  "
            ]
          },
          "metadata": {},
          "execution_count": 7
        }
      ]
    },
    {
      "cell_type": "code",
      "source": [
        "df['label'].value_counts()"
      ],
      "metadata": {
        "colab": {
          "base_uri": "https://localhost:8080/"
        },
        "id": "dLLg2abLrv_g",
        "outputId": "a561ff6c-c7c7-4b7f-efab-ef012639186c"
      },
      "execution_count": 4,
      "outputs": [
        {
          "output_type": "execute_result",
          "data": {
            "text/plain": [
              "0    3851\n",
              "1     294\n",
              "Name: label, dtype: int64"
            ]
          },
          "metadata": {},
          "execution_count": 4
        }
      ]
    },
    {
      "cell_type": "markdown",
      "source": [
        "This is unbalanced classification!"
      ],
      "metadata": {
        "id": "pXrPSdO5sDnD"
      }
    },
    {
      "cell_type": "markdown",
      "source": [
        "### Word Count in Abstract and Title"
      ],
      "metadata": {
        "id": "TMpstkorsHsd"
      }
    },
    {
      "cell_type": "code",
      "source": [
        "df['word_count_abstract'] = df['abstract'].str.split().str.len()\n",
        "df['word_count_title'] = df['title'].str.split().str.len()\n",
        "\n",
        "print('Min word count in Abstract : ', df['word_count_abstract'].min())\n",
        "print('Max word count in Abstract : ', df['word_count_abstract'].max())\n",
        "print('Min word count in Title : ', df['word_count_title'].min())\n",
        "print('Max word count in Title : ', df['word_count_title'].max())"
      ],
      "metadata": {
        "colab": {
          "base_uri": "https://localhost:8080/"
        },
        "id": "49E6s_PVs38U",
        "outputId": "fe789b75-468e-4aba-bbff-dc02926334c1"
      },
      "execution_count": 9,
      "outputs": [
        {
          "output_type": "stream",
          "name": "stdout",
          "text": [
            "Min word count in Abstract :  0\n",
            "Max word count in Abstract :  938\n",
            "Min word count in Title :  1\n",
            "Max word count in Title :  35\n"
          ]
        }
      ]
    },
    {
      "cell_type": "code",
      "source": [
        "abstract_bins = range(0,1000,200)\n",
        "\n",
        "title_bins = range(0,35,7)\n",
        "\n",
        "# We can use the same iterator for bin and label\n",
        "df['binned_abstract'] = pd.cut(df['word_count_abstract'], bins=abstract_bins, labels = abstract_bins[1:])\n",
        "df['binned_title'] = pd.cut(df['word_count_title'], bins=title_bins, labels = title_bins[1:])"
      ],
      "metadata": {
        "id": "ANcUoy1Etf7N"
      },
      "execution_count": 15,
      "outputs": []
    },
    {
      "cell_type": "code",
      "source": [
        "import matplotlib.pyplot as plt\n",
        "import numpy as np\n",
        "%matplotlib inline\n",
        "\n",
        "# np.random.seed(42)\n",
        "# x = np.random.normal(size=1000)\n",
        "\n",
        "plt.hist(df['binned_abstract'], density=False)  # density=False would make counts\n",
        "plt.ylabel('Probability')\n",
        "plt.xlabel('Data');"
      ],
      "metadata": {
        "colab": {
          "base_uri": "https://localhost:8080/",
          "height": 279
        },
        "id": "dIldmDNEuv3Y",
        "outputId": "721bbd0c-6e92-4175-f070-48188b068885"
      },
      "execution_count": 19,
      "outputs": [
        {
          "output_type": "display_data",
          "data": {
            "text/plain": [
              "<Figure size 432x288 with 1 Axes>"
            ],
            "image/png": "[encoded data removed]"
          },
          "metadata": {
            "needs_background": "light"
          }
        }
      ]
    }
  ]
}