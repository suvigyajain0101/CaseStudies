{
  "nbformat": 4,
  "nbformat_minor": 0,
  "metadata": {
    "colab": {
      "name": "TransformerModel.ipynb",
      "provenance": [],
      "authorship_tag": "ABX9TyNFT70ztNtlAyuR5VAYFJ6N"
    },
    "kernelspec": {
      "name": "python3",
      "display_name": "Python 3"
    },
    "language_info": {
      "name": "python"
    },
    "accelerator": "GPU",
    "gpuClass": "standard"
  },
  "cells": [
    {
      "cell_type": "markdown",
      "source": [
        "### Download the data"
      ],
      "metadata": {
        "id": "RvS2L2crtAvN"
      }
    },
    {
      "cell_type": "code",
      "source": [
        "!wget https://raw.githubusercontent.com/suvigyajain0101/CaseStudies/main/AdverseEventClassification/Data/AE_Data.csv"
      ],
      "metadata": {
        "id": "QrTr0QAKtELU",
        "colab": {
          "base_uri": "https://localhost:8080/"
        },
        "outputId": "f6cf5258-3066-4c8f-da22-816d7a9f4bfb"
      },
      "execution_count": 1,
      "outputs": [
        {
          "output_type": "stream",
          "name": "stdout",
          "text": [
            "--2022-08-30 22:31:18--  https://raw.githubusercontent.com/suvigyajain0101/CaseStudies/main/AdverseEventClassification/Data/AE_Data.csv\n",
            "Resolving raw.githubusercontent.com (raw.githubusercontent.com)... 185.199.111.133, 185.199.109.133, 185.199.108.133, ...\n",
            "Connecting to raw.githubusercontent.com (raw.githubusercontent.com)|185.199.111.133|:443... connected.\n",
            "HTTP request sent, awaiting response... 200 OK\n",
            "Length: 5998096 (5.7M) [text/plain]\n",
            "Saving to: ‘AE_Data.csv.1’\n",
            "\n",
            "\rAE_Data.csv.1         0%[                    ]       0  --.-KB/s               \rAE_Data.csv.1       100%[===================>]   5.72M  --.-KB/s    in 0.02s   \n",
            "\n",
            "2022-08-30 22:31:18 (249 MB/s) - ‘AE_Data.csv.1’ saved [5998096/5998096]\n",
            "\n"
          ]
        }
      ]
    },
    {
      "cell_type": "markdown",
      "source": [
        "### Setup"
      ],
      "metadata": {
        "id": "iUoVxJW7sjcq"
      }
    },
    {
      "cell_type": "code",
      "source": [
        "! pip install tensorflow-text"
      ],
      "metadata": {
        "id": "dLjDQnf9wdEK",
        "colab": {
          "base_uri": "https://localhost:8080/"
        },
        "outputId": "c7625f5e-08d7-4b7f-8f32-353ce2e89288"
      },
      "execution_count": 2,
      "outputs": [
        {
          "output_type": "stream",
          "name": "stdout",
          "text": [
            "Looking in indexes: https://pypi.org/simple, https://us-python.pkg.dev/colab-wheels/public/simple/\n",
            "Requirement already satisfied: tensorflow-text in /usr/local/lib/python3.7/dist-packages (2.9.0)\n",
            "Requirement already satisfied: tensorflow-hub>=0.8.0 in /usr/local/lib/python3.7/dist-packages (from tensorflow-text) (0.12.0)\n",
            "Requirement already satisfied: tensorflow<2.10,>=2.9.0 in /usr/local/lib/python3.7/dist-packages (from tensorflow-text) (2.9.1)\n",
            "Requirement already satisfied: wrapt>=1.11.0 in /usr/local/lib/python3.7/dist-packages (from tensorflow<2.10,>=2.9.0->tensorflow-text) (1.14.1)\n",
            "Requirement already satisfied: typing-extensions>=3.6.6 in /usr/local/lib/python3.7/dist-packages (from tensorflow<2.10,>=2.9.0->tensorflow-text) (4.1.1)\n",
            "Requirement already satisfied: termcolor>=1.1.0 in /usr/local/lib/python3.7/dist-packages (from tensorflow<2.10,>=2.9.0->tensorflow-text) (1.1.0)\n",
            "Requirement already satisfied: h5py>=2.9.0 in /usr/local/lib/python3.7/dist-packages (from tensorflow<2.10,>=2.9.0->tensorflow-text) (3.1.0)\n",
            "Requirement already satisfied: absl-py>=1.0.0 in /usr/local/lib/python3.7/dist-packages (from tensorflow<2.10,>=2.9.0->tensorflow-text) (1.2.0)\n",
            "Requirement already satisfied: tensorflow-estimator<2.10.0,>=2.9.0rc0 in /usr/local/lib/python3.7/dist-packages (from tensorflow<2.10,>=2.9.0->tensorflow-text) (2.9.0)\n",
            "Requirement already satisfied: grpcio<2.0,>=1.24.3 in /usr/local/lib/python3.7/dist-packages (from tensorflow<2.10,>=2.9.0->tensorflow-text) (1.47.0)\n",
            "Requirement already satisfied: packaging in /usr/local/lib/python3.7/dist-packages (from tensorflow<2.10,>=2.9.0->tensorflow-text) (21.3)\n",
            "Requirement already satisfied: astunparse>=1.6.0 in /usr/local/lib/python3.7/dist-packages (from tensorflow<2.10,>=2.9.0->tensorflow-text) (1.6.3)\n",
            "Requirement already satisfied: libclang>=13.0.0 in /usr/local/lib/python3.7/dist-packages (from tensorflow<2.10,>=2.9.0->tensorflow-text) (14.0.6)\n",
            "Requirement already satisfied: setuptools in /usr/local/lib/python3.7/dist-packages (from tensorflow<2.10,>=2.9.0->tensorflow-text) (57.4.0)\n",
            "Requirement already satisfied: opt-einsum>=2.3.2 in /usr/local/lib/python3.7/dist-packages (from tensorflow<2.10,>=2.9.0->tensorflow-text) (3.3.0)\n",
            "Requirement already satisfied: gast<=0.4.0,>=0.2.1 in /usr/local/lib/python3.7/dist-packages (from tensorflow<2.10,>=2.9.0->tensorflow-text) (0.4.0)\n",
            "Requirement already satisfied: protobuf<3.20,>=3.9.2 in /usr/local/lib/python3.7/dist-packages (from tensorflow<2.10,>=2.9.0->tensorflow-text) (3.17.3)\n",
            "Requirement already satisfied: flatbuffers<2,>=1.12 in /usr/local/lib/python3.7/dist-packages (from tensorflow<2.10,>=2.9.0->tensorflow-text) (1.12)\n",
            "Requirement already satisfied: keras<2.10.0,>=2.9.0rc0 in /usr/local/lib/python3.7/dist-packages (from tensorflow<2.10,>=2.9.0->tensorflow-text) (2.9.0)\n",
            "Requirement already satisfied: tensorflow-io-gcs-filesystem>=0.23.1 in /usr/local/lib/python3.7/dist-packages (from tensorflow<2.10,>=2.9.0->tensorflow-text) (0.26.0)\n",
            "Requirement already satisfied: numpy>=1.20 in /usr/local/lib/python3.7/dist-packages (from tensorflow<2.10,>=2.9.0->tensorflow-text) (1.21.6)\n",
            "Requirement already satisfied: google-pasta>=0.1.1 in /usr/local/lib/python3.7/dist-packages (from tensorflow<2.10,>=2.9.0->tensorflow-text) (0.2.0)\n",
            "Requirement already satisfied: keras-preprocessing>=1.1.1 in /usr/local/lib/python3.7/dist-packages (from tensorflow<2.10,>=2.9.0->tensorflow-text) (1.1.2)\n",
            "Requirement already satisfied: tensorboard<2.10,>=2.9 in /usr/local/lib/python3.7/dist-packages (from tensorflow<2.10,>=2.9.0->tensorflow-text) (2.9.1)\n",
            "Requirement already satisfied: six>=1.12.0 in /usr/local/lib/python3.7/dist-packages (from tensorflow<2.10,>=2.9.0->tensorflow-text) (1.15.0)\n",
            "Requirement already satisfied: wheel<1.0,>=0.23.0 in /usr/local/lib/python3.7/dist-packages (from astunparse>=1.6.0->tensorflow<2.10,>=2.9.0->tensorflow-text) (0.37.1)\n",
            "Requirement already satisfied: cached-property in /usr/local/lib/python3.7/dist-packages (from h5py>=2.9.0->tensorflow<2.10,>=2.9.0->tensorflow-text) (1.5.2)\n",
            "Requirement already satisfied: markdown>=2.6.8 in /usr/local/lib/python3.7/dist-packages (from tensorboard<2.10,>=2.9->tensorflow<2.10,>=2.9.0->tensorflow-text) (3.4.1)\n",
            "Requirement already satisfied: werkzeug>=1.0.1 in /usr/local/lib/python3.7/dist-packages (from tensorboard<2.10,>=2.9->tensorflow<2.10,>=2.9.0->tensorflow-text) (1.0.1)\n",
            "Requirement already satisfied: tensorboard-plugin-wit>=1.6.0 in /usr/local/lib/python3.7/dist-packages (from tensorboard<2.10,>=2.9->tensorflow<2.10,>=2.9.0->tensorflow-text) (1.8.1)\n",
            "Requirement already satisfied: google-auth-oauthlib<0.5,>=0.4.1 in /usr/local/lib/python3.7/dist-packages (from tensorboard<2.10,>=2.9->tensorflow<2.10,>=2.9.0->tensorflow-text) (0.4.6)\n",
            "Requirement already satisfied: google-auth<3,>=1.6.3 in /usr/local/lib/python3.7/dist-packages (from tensorboard<2.10,>=2.9->tensorflow<2.10,>=2.9.0->tensorflow-text) (1.35.0)\n",
            "Requirement already satisfied: requests<3,>=2.21.0 in /usr/local/lib/python3.7/dist-packages (from tensorboard<2.10,>=2.9->tensorflow<2.10,>=2.9.0->tensorflow-text) (2.23.0)\n",
            "Requirement already satisfied: tensorboard-data-server<0.7.0,>=0.6.0 in /usr/local/lib/python3.7/dist-packages (from tensorboard<2.10,>=2.9->tensorflow<2.10,>=2.9.0->tensorflow-text) (0.6.1)\n",
            "Requirement already satisfied: cachetools<5.0,>=2.0.0 in /usr/local/lib/python3.7/dist-packages (from google-auth<3,>=1.6.3->tensorboard<2.10,>=2.9->tensorflow<2.10,>=2.9.0->tensorflow-text) (4.2.4)\n",
            "Requirement already satisfied: pyasn1-modules>=0.2.1 in /usr/local/lib/python3.7/dist-packages (from google-auth<3,>=1.6.3->tensorboard<2.10,>=2.9->tensorflow<2.10,>=2.9.0->tensorflow-text) (0.2.8)\n",
            "Requirement already satisfied: rsa<5,>=3.1.4 in /usr/local/lib/python3.7/dist-packages (from google-auth<3,>=1.6.3->tensorboard<2.10,>=2.9->tensorflow<2.10,>=2.9.0->tensorflow-text) (4.9)\n",
            "Requirement already satisfied: requests-oauthlib>=0.7.0 in /usr/local/lib/python3.7/dist-packages (from google-auth-oauthlib<0.5,>=0.4.1->tensorboard<2.10,>=2.9->tensorflow<2.10,>=2.9.0->tensorflow-text) (1.3.1)\n",
            "Requirement already satisfied: importlib-metadata>=4.4 in /usr/local/lib/python3.7/dist-packages (from markdown>=2.6.8->tensorboard<2.10,>=2.9->tensorflow<2.10,>=2.9.0->tensorflow-text) (4.12.0)\n",
            "Requirement already satisfied: zipp>=0.5 in /usr/local/lib/python3.7/dist-packages (from importlib-metadata>=4.4->markdown>=2.6.8->tensorboard<2.10,>=2.9->tensorflow<2.10,>=2.9.0->tensorflow-text) (3.8.1)\n",
            "Requirement already satisfied: pyasn1<0.5.0,>=0.4.6 in /usr/local/lib/python3.7/dist-packages (from pyasn1-modules>=0.2.1->google-auth<3,>=1.6.3->tensorboard<2.10,>=2.9->tensorflow<2.10,>=2.9.0->tensorflow-text) (0.4.8)\n",
            "Requirement already satisfied: idna<3,>=2.5 in /usr/local/lib/python3.7/dist-packages (from requests<3,>=2.21.0->tensorboard<2.10,>=2.9->tensorflow<2.10,>=2.9.0->tensorflow-text) (2.10)\n",
            "Requirement already satisfied: urllib3!=1.25.0,!=1.25.1,<1.26,>=1.21.1 in /usr/local/lib/python3.7/dist-packages (from requests<3,>=2.21.0->tensorboard<2.10,>=2.9->tensorflow<2.10,>=2.9.0->tensorflow-text) (1.24.3)\n",
            "Requirement already satisfied: chardet<4,>=3.0.2 in /usr/local/lib/python3.7/dist-packages (from requests<3,>=2.21.0->tensorboard<2.10,>=2.9->tensorflow<2.10,>=2.9.0->tensorflow-text) (3.0.4)\n",
            "Requirement already satisfied: certifi>=2017.4.17 in /usr/local/lib/python3.7/dist-packages (from requests<3,>=2.21.0->tensorboard<2.10,>=2.9->tensorflow<2.10,>=2.9.0->tensorflow-text) (2022.6.15)\n",
            "Requirement already satisfied: oauthlib>=3.0.0 in /usr/local/lib/python3.7/dist-packages (from requests-oauthlib>=0.7.0->google-auth-oauthlib<0.5,>=0.4.1->tensorboard<2.10,>=2.9->tensorflow<2.10,>=2.9.0->tensorflow-text) (3.2.0)\n",
            "Requirement already satisfied: pyparsing!=3.0.5,>=2.0.2 in /usr/local/lib/python3.7/dist-packages (from packaging->tensorflow<2.10,>=2.9.0->tensorflow-text) (3.0.9)\n"
          ]
        }
      ]
    },
    {
      "cell_type": "code",
      "source": [
        "import tensorflow as tf\n",
        "from tensorflow import keras\n",
        "from tensorflow.keras import layers\n",
        "import pandas as pd\n",
        "import numpy as np\n",
        "import re\n",
        "import os\n",
        "import shutil\n",
        "\n",
        "import tensorflow_hub as hub\n",
        "import tensorflow_text as text\n",
        "# from official.nlp import optimization  # to create AdamW optimizer\n",
        "\n",
        "import matplotlib.pyplot as plt\n",
        "\n",
        "tf.get_logger().setLevel('ERROR')"
      ],
      "metadata": {
        "id": "pG5R2bRus_cx"
      },
      "execution_count": 3,
      "outputs": []
    },
    {
      "cell_type": "code",
      "source": [
        "df = pd.read_csv('/content/AE_Data.csv')\n",
        "df.head()"
      ],
      "metadata": {
        "colab": {
          "base_uri": "https://localhost:8080/",
          "height": 206
        },
        "id": "yS7I6NLFtITe",
        "outputId": "6521f1df-41ed-4afa-9bbe-0f5292f3929a"
      },
      "execution_count": 4,
      "outputs": [
        {
          "output_type": "execute_result",
          "data": {
            "text/plain": [
              "                                               title  \\\n",
              "0  antimicrobial impacts of essential oils on foo...   \n",
              "1  purification and characterization of a cystein...   \n",
              "2  telavancin activity tested against gram-positi...   \n",
              "3  the in vitro antimicrobial activity of cymbopo...   \n",
              "4  screening currency notes for microbial pathoge...   \n",
              "\n",
              "                                            abstract  label  \n",
              "0  the antimicrobial activity of twelve essential...      0  \n",
              "1  antimicrobial peptide (amp) crustin is a type ...      0  \n",
              "2  objectives: to reassess the activity of telava...      0  \n",
              "3  background: it is well known that cymbopogon (...      0  \n",
              "4  fomites are a well-known source of microbial i...      0  "
            ],
            "text/html": [
              "\n",
              "  <div id=\"df-b42ede52-ef20-4fed-b67a-6acdfbca55c7\">\n",
              "    <div class=\"colab-df-container\">\n",
              "      <div>\n",
              "<style scoped>\n",
              "    .dataframe tbody tr th:only-of-type {\n",
              "        vertical-align: middle;\n",
              "    }\n",
              "\n",
              "    .dataframe tbody tr th {\n",
              "        vertical-align: top;\n",
              "    }\n",
              "\n",
              "    .dataframe thead th {\n",
              "        text-align: right;\n",
              "    }\n",
              "</style>\n",
              "<table border=\"1\" class=\"dataframe\">\n",
              "  <thead>\n",
              "    <tr style=\"text-align: right;\">\n",
              "      <th></th>\n",
              "      <th>title</th>\n",
              "      <th>abstract</th>\n",
              "      <th>label</th>\n",
              "    </tr>\n",
              "  </thead>\n",
              "  <tbody>\n",
              "    <tr>\n",
              "      <th>0</th>\n",
              "      <td>antimicrobial impacts of essential oils on foo...</td>\n",
              "      <td>the antimicrobial activity of twelve essential...</td>\n",
              "      <td>0</td>\n",
              "    </tr>\n",
              "    <tr>\n",
              "      <th>1</th>\n",
              "      <td>purification and characterization of a cystein...</td>\n",
              "      <td>antimicrobial peptide (amp) crustin is a type ...</td>\n",
              "      <td>0</td>\n",
              "    </tr>\n",
              "    <tr>\n",
              "      <th>2</th>\n",
              "      <td>telavancin activity tested against gram-positi...</td>\n",
              "      <td>objectives: to reassess the activity of telava...</td>\n",
              "      <td>0</td>\n",
              "    </tr>\n",
              "    <tr>\n",
              "      <th>3</th>\n",
              "      <td>the in vitro antimicrobial activity of cymbopo...</td>\n",
              "      <td>background: it is well known that cymbopogon (...</td>\n",
              "      <td>0</td>\n",
              "    </tr>\n",
              "    <tr>\n",
              "      <th>4</th>\n",
              "      <td>screening currency notes for microbial pathoge...</td>\n",
              "      <td>fomites are a well-known source of microbial i...</td>\n",
              "      <td>0</td>\n",
              "    </tr>\n",
              "  </tbody>\n",
              "</table>\n",
              "</div>\n",
              "      <button class=\"colab-df-convert\" onclick=\"convertToInteractive('df-b42ede52-ef20-4fed-b67a-6acdfbca55c7')\"\n",
              "              title=\"Convert this dataframe to an interactive table.\"\n",
              "              style=\"display:none;\">\n",
              "        \n",
              "  <svg xmlns=\"http://www.w3.org/2000/svg\" height=\"24px\"viewBox=\"0 0 24 24\"\n",
              "       width=\"24px\">\n",
              "    <path d=\"M0 0h24v24H0V0z\" fill=\"none\"/>\n",
              "    <path d=\"M18.56 5.44l.94 2.06.94-2.06 2.06-.94-2.06-.94-.94-2.06-.94 2.06-2.06.94zm-11 1L8.5 8.5l.94-2.06 2.06-.94-2.06-.94L8.5 2.5l-.94 2.06-2.06.94zm10 10l.94 2.06.94-2.06 2.06-.94-2.06-.94-.94-2.06-.94 2.06-2.06.94z\"/><path d=\"M17.41 7.96l-1.37-1.37c-.4-.4-.92-.59-1.43-.59-.52 0-1.04.2-1.43.59L10.3 9.45l-7.72 7.72c-.78.78-.78 2.05 0 2.83L4 21.41c.39.39.9.59 1.41.59.51 0 1.02-.2 1.41-.59l7.78-7.78 2.81-2.81c.8-.78.8-2.07 0-2.86zM5.41 20L4 18.59l7.72-7.72 1.47 1.35L5.41 20z\"/>\n",
              "  </svg>\n",
              "      </button>\n",
              "      \n",
              "  <style>\n",
              "    .colab-df-container {\n",
              "      display:flex;\n",
              "      flex-wrap:wrap;\n",
              "      gap: 12px;\n",
              "    }\n",
              "\n",
              "    .colab-df-convert {\n",
              "      background-color: #E8F0FE;\n",
              "      border: none;\n",
              "      border-radius: 50%;\n",
              "      cursor: pointer;\n",
              "      display: none;\n",
              "      fill: #1967D2;\n",
              "      height: 32px;\n",
              "      padding: 0 0 0 0;\n",
              "      width: 32px;\n",
              "    }\n",
              "\n",
              "    .colab-df-convert:hover {\n",
              "      background-color: #E2EBFA;\n",
              "      box-shadow: 0px 1px 2px rgba(60, 64, 67, 0.3), 0px 1px 3px 1px rgba(60, 64, 67, 0.15);\n",
              "      fill: #174EA6;\n",
              "    }\n",
              "\n",
              "    [theme=dark] .colab-df-convert {\n",
              "      background-color: #3B4455;\n",
              "      fill: #D2E3FC;\n",
              "    }\n",
              "\n",
              "    [theme=dark] .colab-df-convert:hover {\n",
              "      background-color: #434B5C;\n",
              "      box-shadow: 0px 1px 3px 1px rgba(0, 0, 0, 0.15);\n",
              "      filter: drop-shadow(0px 1px 2px rgba(0, 0, 0, 0.3));\n",
              "      fill: #FFFFFF;\n",
              "    }\n",
              "  </style>\n",
              "\n",
              "      <script>\n",
              "        const buttonEl =\n",
              "          document.querySelector('#df-b42ede52-ef20-4fed-b67a-6acdfbca55c7 button.colab-df-convert');\n",
              "        buttonEl.style.display =\n",
              "          google.colab.kernel.accessAllowed ? 'block' : 'none';\n",
              "\n",
              "        async function convertToInteractive(key) {\n",
              "          const element = document.querySelector('#df-b42ede52-ef20-4fed-b67a-6acdfbca55c7');\n",
              "          const dataTable =\n",
              "            await google.colab.kernel.invokeFunction('convertToInteractive',\n",
              "                                                     [key], {});\n",
              "          if (!dataTable) return;\n",
              "\n",
              "          const docLinkHtml = 'Like what you see? Visit the ' +\n",
              "            '<a target=\"_blank\" href=https://colab.research.google.com/notebooks/data_table.ipynb>data table notebook</a>'\n",
              "            + ' to learn more about interactive tables.';\n",
              "          element.innerHTML = '';\n",
              "          dataTable['output_type'] = 'display_data';\n",
              "          await google.colab.output.renderOutput(dataTable, element);\n",
              "          const docLink = document.createElement('div');\n",
              "          docLink.innerHTML = docLinkHtml;\n",
              "          element.appendChild(docLink);\n",
              "        }\n",
              "      </script>\n",
              "    </div>\n",
              "  </div>\n",
              "  "
            ]
          },
          "metadata": {},
          "execution_count": 4
        }
      ]
    },
    {
      "cell_type": "code",
      "source": [
        "df['label'].value_counts()"
      ],
      "metadata": {
        "colab": {
          "base_uri": "https://localhost:8080/"
        },
        "id": "zyAAjzOutJyt",
        "outputId": "2bd6e779-1e39-4d6b-838b-b04f1d6de98e"
      },
      "execution_count": 5,
      "outputs": [
        {
          "output_type": "execute_result",
          "data": {
            "text/plain": [
              "0    3851\n",
              "1     294\n",
              "Name: label, dtype: int64"
            ]
          },
          "metadata": {},
          "execution_count": 5
        }
      ]
    },
    {
      "cell_type": "code",
      "source": [
        "df['text'] = df['title'] + ' ' + df['abstract']\n",
        "df.head()"
      ],
      "metadata": {
        "colab": {
          "base_uri": "https://localhost:8080/",
          "height": 206
        },
        "id": "Aj_6I4cDtL7n",
        "outputId": "676fcbcb-8fc0-4960-bbbd-c94d0d96ef0a"
      },
      "execution_count": 6,
      "outputs": [
        {
          "output_type": "execute_result",
          "data": {
            "text/plain": [
              "                                               title  \\\n",
              "0  antimicrobial impacts of essential oils on foo...   \n",
              "1  purification and characterization of a cystein...   \n",
              "2  telavancin activity tested against gram-positi...   \n",
              "3  the in vitro antimicrobial activity of cymbopo...   \n",
              "4  screening currency notes for microbial pathoge...   \n",
              "\n",
              "                                            abstract  label  \\\n",
              "0  the antimicrobial activity of twelve essential...      0   \n",
              "1  antimicrobial peptide (amp) crustin is a type ...      0   \n",
              "2  objectives: to reassess the activity of telava...      0   \n",
              "3  background: it is well known that cymbopogon (...      0   \n",
              "4  fomites are a well-known source of microbial i...      0   \n",
              "\n",
              "                                                text  \n",
              "0  antimicrobial impacts of essential oils on foo...  \n",
              "1  purification and characterization of a cystein...  \n",
              "2  telavancin activity tested against gram-positi...  \n",
              "3  the in vitro antimicrobial activity of cymbopo...  \n",
              "4  screening currency notes for microbial pathoge...  "
            ],
            "text/html": [
              "\n",
              "  <div id=\"df-f1485c3f-65d7-442a-aac4-ae2d7f5423a5\">\n",
              "    <div class=\"colab-df-container\">\n",
              "      <div>\n",
              "<style scoped>\n",
              "    .dataframe tbody tr th:only-of-type {\n",
              "        vertical-align: middle;\n",
              "    }\n",
              "\n",
              "    .dataframe tbody tr th {\n",
              "        vertical-align: top;\n",
              "    }\n",
              "\n",
              "    .dataframe thead th {\n",
              "        text-align: right;\n",
              "    }\n",
              "</style>\n",
              "<table border=\"1\" class=\"dataframe\">\n",
              "  <thead>\n",
              "    <tr style=\"text-align: right;\">\n",
              "      <th></th>\n",
              "      <th>title</th>\n",
              "      <th>abstract</th>\n",
              "      <th>label</th>\n",
              "      <th>text</th>\n",
              "    </tr>\n",
              "  </thead>\n",
              "  <tbody>\n",
              "    <tr>\n",
              "      <th>0</th>\n",
              "      <td>antimicrobial impacts of essential oils on foo...</td>\n",
              "      <td>the antimicrobial activity of twelve essential...</td>\n",
              "      <td>0</td>\n",
              "      <td>antimicrobial impacts of essential oils on foo...</td>\n",
              "    </tr>\n",
              "    <tr>\n",
              "      <th>1</th>\n",
              "      <td>purification and characterization of a cystein...</td>\n",
              "      <td>antimicrobial peptide (amp) crustin is a type ...</td>\n",
              "      <td>0</td>\n",
              "      <td>purification and characterization of a cystein...</td>\n",
              "    </tr>\n",
              "    <tr>\n",
              "      <th>2</th>\n",
              "      <td>telavancin activity tested against gram-positi...</td>\n",
              "      <td>objectives: to reassess the activity of telava...</td>\n",
              "      <td>0</td>\n",
              "      <td>telavancin activity tested against gram-positi...</td>\n",
              "    </tr>\n",
              "    <tr>\n",
              "      <th>3</th>\n",
              "      <td>the in vitro antimicrobial activity of cymbopo...</td>\n",
              "      <td>background: it is well known that cymbopogon (...</td>\n",
              "      <td>0</td>\n",
              "      <td>the in vitro antimicrobial activity of cymbopo...</td>\n",
              "    </tr>\n",
              "    <tr>\n",
              "      <th>4</th>\n",
              "      <td>screening currency notes for microbial pathoge...</td>\n",
              "      <td>fomites are a well-known source of microbial i...</td>\n",
              "      <td>0</td>\n",
              "      <td>screening currency notes for microbial pathoge...</td>\n",
              "    </tr>\n",
              "  </tbody>\n",
              "</table>\n",
              "</div>\n",
              "      <button class=\"colab-df-convert\" onclick=\"convertToInteractive('df-f1485c3f-65d7-442a-aac4-ae2d7f5423a5')\"\n",
              "              title=\"Convert this dataframe to an interactive table.\"\n",
              "              style=\"display:none;\">\n",
              "        \n",
              "  <svg xmlns=\"http://www.w3.org/2000/svg\" height=\"24px\"viewBox=\"0 0 24 24\"\n",
              "       width=\"24px\">\n",
              "    <path d=\"M0 0h24v24H0V0z\" fill=\"none\"/>\n",
              "    <path d=\"M18.56 5.44l.94 2.06.94-2.06 2.06-.94-2.06-.94-.94-2.06-.94 2.06-2.06.94zm-11 1L8.5 8.5l.94-2.06 2.06-.94-2.06-.94L8.5 2.5l-.94 2.06-2.06.94zm10 10l.94 2.06.94-2.06 2.06-.94-2.06-.94-.94-2.06-.94 2.06-2.06.94z\"/><path d=\"M17.41 7.96l-1.37-1.37c-.4-.4-.92-.59-1.43-.59-.52 0-1.04.2-1.43.59L10.3 9.45l-7.72 7.72c-.78.78-.78 2.05 0 2.83L4 21.41c.39.39.9.59 1.41.59.51 0 1.02-.2 1.41-.59l7.78-7.78 2.81-2.81c.8-.78.8-2.07 0-2.86zM5.41 20L4 18.59l7.72-7.72 1.47 1.35L5.41 20z\"/>\n",
              "  </svg>\n",
              "      </button>\n",
              "      \n",
              "  <style>\n",
              "    .colab-df-container {\n",
              "      display:flex;\n",
              "      flex-wrap:wrap;\n",
              "      gap: 12px;\n",
              "    }\n",
              "\n",
              "    .colab-df-convert {\n",
              "      background-color: #E8F0FE;\n",
              "      border: none;\n",
              "      border-radius: 50%;\n",
              "      cursor: pointer;\n",
              "      display: none;\n",
              "      fill: #1967D2;\n",
              "      height: 32px;\n",
              "      padding: 0 0 0 0;\n",
              "      width: 32px;\n",
              "    }\n",
              "\n",
              "    .colab-df-convert:hover {\n",
              "      background-color: #E2EBFA;\n",
              "      box-shadow: 0px 1px 2px rgba(60, 64, 67, 0.3), 0px 1px 3px 1px rgba(60, 64, 67, 0.15);\n",
              "      fill: #174EA6;\n",
              "    }\n",
              "\n",
              "    [theme=dark] .colab-df-convert {\n",
              "      background-color: #3B4455;\n",
              "      fill: #D2E3FC;\n",
              "    }\n",
              "\n",
              "    [theme=dark] .colab-df-convert:hover {\n",
              "      background-color: #434B5C;\n",
              "      box-shadow: 0px 1px 3px 1px rgba(0, 0, 0, 0.15);\n",
              "      filter: drop-shadow(0px 1px 2px rgba(0, 0, 0, 0.3));\n",
              "      fill: #FFFFFF;\n",
              "    }\n",
              "  </style>\n",
              "\n",
              "      <script>\n",
              "        const buttonEl =\n",
              "          document.querySelector('#df-f1485c3f-65d7-442a-aac4-ae2d7f5423a5 button.colab-df-convert');\n",
              "        buttonEl.style.display =\n",
              "          google.colab.kernel.accessAllowed ? 'block' : 'none';\n",
              "\n",
              "        async function convertToInteractive(key) {\n",
              "          const element = document.querySelector('#df-f1485c3f-65d7-442a-aac4-ae2d7f5423a5');\n",
              "          const dataTable =\n",
              "            await google.colab.kernel.invokeFunction('convertToInteractive',\n",
              "                                                     [key], {});\n",
              "          if (!dataTable) return;\n",
              "\n",
              "          const docLinkHtml = 'Like what you see? Visit the ' +\n",
              "            '<a target=\"_blank\" href=https://colab.research.google.com/notebooks/data_table.ipynb>data table notebook</a>'\n",
              "            + ' to learn more about interactive tables.';\n",
              "          element.innerHTML = '';\n",
              "          dataTable['output_type'] = 'display_data';\n",
              "          await google.colab.output.renderOutput(dataTable, element);\n",
              "          const docLink = document.createElement('div');\n",
              "          docLink.innerHTML = docLinkHtml;\n",
              "          element.appendChild(docLink);\n",
              "        }\n",
              "      </script>\n",
              "    </div>\n",
              "  </div>\n",
              "  "
            ]
          },
          "metadata": {},
          "execution_count": 6
        }
      ]
    },
    {
      "cell_type": "code",
      "source": [
        "# List to hold experiment\n",
        "EXPERIMENT_RESULTS = []"
      ],
      "metadata": {
        "id": "TkD1ObcglWJe"
      },
      "execution_count": 7,
      "outputs": []
    },
    {
      "cell_type": "markdown",
      "source": [
        "### Helper Functions"
      ],
      "metadata": {
        "id": "Jpr5uk48kpRI"
      }
    },
    {
      "cell_type": "code",
      "source": [
        "from sklearn.metrics import classification_report, confusion_matrix, accuracy_score\n",
        "\n",
        "def parse_confusion_matrix(x):\n",
        "  '''\n",
        "  Function parses confusion matrix and \n",
        "  returns TP, TN, FP and FN for a binary classification model\n",
        "  '''\n",
        "  tn, fp, fn, tp = x.ravel()\n",
        "\n",
        "  return [tp, tn, fp, fn]\n",
        "\n",
        "def parse_clf_report(x):\n",
        "  '''\n",
        "  Functinon parses classificatin report dictionary\n",
        "  '''\n",
        "\n",
        "  f1 = x['weighted avg']['f1-score']\n",
        "  precision = x['weighted avg']['precision']\n",
        "  recall = x['weighted avg']['recall']\n",
        "  positive_f1 = x['1']['f1-score']\n",
        "  positive_precision = x['1']['precision']\n",
        "  positive_recall = x['1']['recall']\n",
        "\n",
        "  return [f1, precision, recall, positive_f1, positive_precision, positive_recall]\n",
        "\n",
        "def prepare_exp_report(master_list, exp_name, confsn_mat, clf_rpt):\n",
        "  '''\n",
        "  Function prepares experiment report, \n",
        "  in a nutshell it's just concataneting few lists\n",
        "  '''\n",
        "  return master_list.append([exp_name] + confsn_mat + clf_rpt)\n",
        "\n",
        "# Plotter function\n",
        "def plot_history():\n",
        "    plt.plot(history.history[\"loss\"])\n",
        "    plt.plot(history.history[\"val_loss\"])\n",
        "    plt.legend([\"train_loss\", \"val_loss\"])\n",
        "    plt.xlabel(\"Epochs\")\n",
        "    plt.ylabel(\"Loss\")\n",
        "    plt.show()\n",
        "\n",
        "def train_model(num_epochs, train_batch_size, drop_out_rate=0.2, adam_lr=0.01):\n",
        "  def build_classifier_model():\n",
        "    text_input = tf.keras.layers.Input(shape=(), dtype=tf.string, name='text')\n",
        "    preprocessing_layer = hub.KerasLayer(tfhub_handle_preprocess, name='preprocessing')\n",
        "    encoder_inputs = preprocessing_layer(text_input)\n",
        "    encoder = hub.KerasLayer(tfhub_handle_encoder, trainable=True, name='BERT_encoder')\n",
        "    outputs = encoder(encoder_inputs)\n",
        "    net = outputs['pooled_output']\n",
        "    net = tf.keras.layers.Dropout(drop_out_rate)(net)\n",
        "    net = tf.keras.layers.Dense(1, activation=None, name='classifier')(net)\n",
        "    return tf.keras.Model(text_input, net)\n",
        "\n",
        "\n",
        "  classifier_model = build_classifier_model()\n",
        "\n",
        "  optimizer = keras.optimizers.Adam(learning_rate=adam_lr)\n",
        "  loss = tf.keras.losses.BinaryCrossentropy(from_logits=True)\n",
        "  metrics = tf.metrics.BinaryAccuracy()\n",
        "\n",
        "\n",
        "  classifier_model.compile(optimizer=optimizer,\n",
        "                          loss=loss,\n",
        "                          metrics=metrics)\n",
        "\n",
        "\n",
        "  history = classifier_model.fit(X_train, y_train,\n",
        "                                epochs=num_epochs,\n",
        "                                batch_size=train_batch_size,\n",
        "                                validation_data=(X_val, y_val))\n",
        "  return classifier_model, history"
      ],
      "metadata": {
        "id": "Xyg3Y9JRkrG_"
      },
      "execution_count": 8,
      "outputs": []
    },
    {
      "cell_type": "markdown",
      "source": [
        "### Train Val Test Split\n",
        "\n",
        "Due to imbalanced dataset, we need to follow an innovative approach to split the data. There are ways in [numpy](https://stackoverflow.com/a/38251213/11383333), which can help with train, val, test split (still not present in sklearn), but we need to do the stratified sampling. So use the sklearn's data split 2 times"
      ],
      "metadata": {
        "id": "XgvampuwVlpR"
      }
    },
    {
      "cell_type": "code",
      "source": [
        "from sklearn.model_selection import train_test_split\n",
        "\n",
        "val_split = 0.2\n",
        "test_split = 0.2\n",
        "\n",
        "X = df['text'].values\n",
        "y = df['label'].values\n",
        "\n",
        "# First split, split original dataset in train-val combination and test\n",
        "X_comb, X_test, y_comb, y_test = train_test_split(X, y, test_size=test_split, stratify=y)\n",
        "\n",
        "# Second split, split train-val combination into train and val dataset\n",
        "X_train, X_val, y_train, y_val = train_test_split(X_comb, y_comb, test_size=val_split, stratify=y_comb)"
      ],
      "metadata": {
        "id": "AYfrD9kgtQLC"
      },
      "execution_count": 9,
      "outputs": []
    },
    {
      "cell_type": "code",
      "source": [
        "print('Label Distribution in the training data')\n",
        "print(np.unique(y_train, return_counts=True))\n",
        "print('*'*50)\n",
        "print('Label Distribution in the validation data')\n",
        "print(np.unique(y_val, return_counts=True))\n",
        "print('*'*50)\n",
        "print('Label Distribution in the testing data')\n",
        "print(np.unique(y_test, return_counts=True))"
      ],
      "metadata": {
        "colab": {
          "base_uri": "https://localhost:8080/"
        },
        "id": "QVCGScJstaTz",
        "outputId": "a5ff450b-c40a-49c9-8aa5-5d05e104c9bc"
      },
      "execution_count": 10,
      "outputs": [
        {
          "output_type": "stream",
          "name": "stdout",
          "text": [
            "Label Distribution in the training data\n",
            "(array([0, 1]), array([2464,  188]))\n",
            "**************************************************\n",
            "Label Distribution in the validation data\n",
            "(array([0, 1]), array([617,  47]))\n",
            "**************************************************\n",
            "Label Distribution in the testing data\n",
            "(array([0, 1]), array([770,  59]))\n"
          ]
        }
      ]
    },
    {
      "cell_type": "code",
      "source": [
        "tfhub_handle_preprocess = hub.KerasLayer('https://tfhub.dev/tensorflow/bert_en_uncased_preprocess/3')\n",
        "# tfhub_handle_encoder = hub.KerasLayer('https://tfhub.dev/tensorflow/bert_en_uncased_L-12_H-768_A-12/4',trainable=True)\n",
        "tfhub_handle_encoder = hub.KerasLayer('https://tfhub.dev/tensorflow/bert_en_uncased_L-12_H-768_A-12/4')"
      ],
      "metadata": {
        "id": "zTQfC4RO20gh"
      },
      "execution_count": 11,
      "outputs": []
    },
    {
      "cell_type": "markdown",
      "source": [
        "### Experiment 1 : BERT Out of the Box"
      ],
      "metadata": {
        "id": "3yktx3AHk9wo"
      }
    },
    {
      "cell_type": "code",
      "source": [
        "EPOCHS = 5\n",
        "BATCH_SIZE = 32\n",
        "THRESHOLD = -0.4"
      ],
      "metadata": {
        "id": "Ppir5LNY24uj"
      },
      "execution_count": 12,
      "outputs": []
    },
    {
      "cell_type": "code",
      "source": [
        "# Experiment name\n",
        "exp_name1 = 'BERT - Out of the Box'\n",
        "\n",
        "# Train the model\n",
        "classifier_model, history = train_model(EPOCHS, BATCH_SIZE)\n",
        "\n",
        "# Generate predictions\n",
        "y_probs = classifier_model.predict(X_test)\n",
        "\n",
        "# Convert probabilities to labels\n",
        "y_pred = np.where(y_probs > THRESHOLD, 1, 0)\n",
        "\n",
        "# Prepare Classification Report\n",
        "exp_confusion_matrix = confusion_matrix(y_test,y_pred)\n",
        "exp_clf_report = classification_report(y_test,y_pred, output_dict=True)\n",
        "print('Confusion Matrix : ')\n",
        "print(exp_confusion_matrix)\n",
        "print('\\n')\n",
        "print('Classification Report : ')\n",
        "print(pd.DataFrame(exp_clf_report))\n",
        "\n",
        "# Prepare experiment results\n",
        "prepare_exp_report(EXPERIMENT_RESULTS, \n",
        "                    exp_name1, \n",
        "                    parse_confusion_matrix(exp_confusion_matrix), \n",
        "                    parse_clf_report(exp_clf_report))\n",
        "\n",
        "# Plot loss functions for training and validations\n",
        "print('Model Training Results : ')\n",
        "plot_history()"
      ],
      "metadata": {
        "id": "rRK08P367GR5",
        "colab": {
          "base_uri": "https://localhost:8080/"
        },
        "outputId": "c0790a42-db32-4f7a-f2ff-c218f92779f4"
      },
      "execution_count": null,
      "outputs": [
        {
          "output_type": "stream",
          "name": "stderr",
          "text": [
            "ERROR:absl:hub.KerasLayer is trainable but has zero trainable weights.\n"
          ]
        },
        {
          "output_type": "stream",
          "name": "stdout",
          "text": [
            "Epoch 1/5\n",
            "24/83 [=======>......................] - ETA: 20s - loss: 0.4547 - binary_accuracy: 0.9271"
          ]
        }
      ]
    },
    {
      "cell_type": "markdown",
      "source": [
        "False Negatives are exactly what the model should not be catching. It's very important in business cases like this to focus on reducing the False Negatives. \n",
        "Also, training loss is decreasing, but validation is not showing any signs of improvements.\n",
        "Overall, we can say that the **model performance is terrible in the context of the business case.**"
      ],
      "metadata": {
        "id": "T29lDqQvPgU2"
      }
    },
    {
      "cell_type": "markdown",
      "source": [
        "### Experiment 2 : Increase Epochs"
      ],
      "metadata": {
        "id": "IFDJPCOTopmd"
      }
    },
    {
      "cell_type": "code",
      "source": [
        "EPOCHS = 20\n",
        "BATCH_SIZE = 32\n",
        "THRESHOLD = -0.4"
      ],
      "metadata": {
        "id": "NTEhOAz9otjr"
      },
      "execution_count": null,
      "outputs": []
    },
    {
      "cell_type": "code",
      "source": [
        "# Experiment name\n",
        "exp_name1 = 'BERT - Increase Epochs'\n",
        "\n",
        "# Train the model\n",
        "classifier_model, history = train_model(EPOCHS, BATCH_SIZE)\n",
        "\n",
        "# Generate predictions\n",
        "y_probs = classifier_model.predict(X_test)\n",
        "\n",
        "# Convert probabilities to labels\n",
        "y_pred = np.where(y_probs > THRESHOLD, 1, 0)\n",
        "\n",
        "# Prepare Classification Report\n",
        "exp_confusion_matrix = confusion_matrix(y_test,y_pred)\n",
        "exp_clf_report = classification_report(y_test,y_pred, output_dict=True)\n",
        "print('Confusion Matrix : ')\n",
        "print(exp_confusion_matrix)\n",
        "print('\\n')\n",
        "print('Classification Report : ')\n",
        "print(pd.DataFrame(exp_clf_report))\n",
        "\n",
        "# Prepare experiment results\n",
        "prepare_exp_report(EXPERIMENT_RESULTS, \n",
        "                    exp_name1, \n",
        "                    parse_confusion_matrix(exp_confusion_matrix), \n",
        "                    parse_clf_report(exp_clf_report))\n",
        "\n",
        "# Plot loss functions for training and validations\n",
        "print('Model Training Results : ')\n",
        "plot_history()"
      ],
      "metadata": {
        "id": "zPIIgC-rov0f"
      },
      "execution_count": null,
      "outputs": []
    },
    {
      "cell_type": "markdown",
      "source": [
        "Increasing number of epochs didn't help much. Training and Validation losses are just fluctuating around. Might need to tweak data prep!"
      ],
      "metadata": {
        "id": "E1fGnCn7sLWY"
      }
    },
    {
      "cell_type": "markdown",
      "source": [
        "### Experiment 3 : Reduced Learning Rate"
      ],
      "metadata": {
        "id": "5dJnRGbi3-gs"
      }
    },
    {
      "cell_type": "code",
      "source": [
        "# Experiment name\n",
        "exp_name1 = 'BERT - Reduced Learning Rate'\n",
        "\n",
        "# Train the model\n",
        "classifier_model, history = train_model(num_epochs=EPOCHS,\n",
        "                                        train_batch_size=BATCH_SIZE,\n",
        "                                        adam_lr=0.001)\n",
        "\n",
        "# Generate predictions\n",
        "y_probs = classifier_model.predict(X_test)\n",
        "\n",
        "# Convert probabilities to labels\n",
        "y_pred = np.where(y_probs > THRESHOLD, 1, 0)\n",
        "\n",
        "# Prepare Classification Report\n",
        "exp_confusion_matrix = confusion_matrix(y_test,y_pred)\n",
        "exp_clf_report = classification_report(y_test,y_pred, output_dict=True)\n",
        "print('Confusion Matrix : ')\n",
        "print(exp_confusion_matrix)\n",
        "print('\\n')\n",
        "print('Classification Report : ')\n",
        "print(pd.DataFrame(exp_clf_report))\n",
        "\n",
        "# Prepare experiment results\n",
        "prepare_exp_report(EXPERIMENT_RESULTS, \n",
        "                    exp_name1, \n",
        "                    parse_confusion_matrix(exp_confusion_matrix), \n",
        "                    parse_clf_report(exp_clf_report))\n",
        "\n",
        "# Plot loss functions for training and validations\n",
        "print('Model Training Results : ')\n",
        "plot_history()"
      ],
      "metadata": {
        "id": "sDSm7ITt4ChS"
      },
      "execution_count": null,
      "outputs": []
    },
    {
      "cell_type": "code",
      "source": [
        "SCHEMA = ['Experiment Name', 'True Positives', 'True Negatives', 'False Positives', \n",
        "          'False Negatives', 'Overall F1 Score','Overall Precision','Overall Recall',\n",
        "          'F1 for Positives Records','Precision for Positive Records', 'Recall for Positive Records']\n",
        "\n",
        "pd.DataFrame(EXPERIMENT_RESULTS, columns=SCHEMA)"
      ],
      "metadata": {
        "id": "tk1q89WBQW1C"
      },
      "execution_count": null,
      "outputs": []
    }
  ]
}