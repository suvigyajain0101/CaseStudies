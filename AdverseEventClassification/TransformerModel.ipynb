{
  "nbformat": 4,
  "nbformat_minor": 0,
  "metadata": {
    "colab": {
      "name": "TransformerModel.ipynb",
      "provenance": [],
      "authorship_tag": "ABX9TyMe+gy1ndM5zdLXcMJpWTHI"
    },
    "kernelspec": {
      "name": "python3",
      "display_name": "Python 3"
    },
    "language_info": {
      "name": "python"
    },
    "accelerator": "GPU",
    "gpuClass": "standard"
  },
  "cells": [
    {
      "cell_type": "markdown",
      "source": [
        "### Download the data"
      ],
      "metadata": {
        "id": "RvS2L2crtAvN"
      }
    },
    {
      "cell_type": "code",
      "source": [
        "!wget https://raw.githubusercontent.com/suvigyajain0101/CaseStudies/main/AdverseEventClassification/Data/AE_Data.csv"
      ],
      "metadata": {
        "id": "QrTr0QAKtELU",
        "colab": {
          "base_uri": "https://localhost:8080/"
        },
        "outputId": "55af4817-dc64-4d40-a319-cdc87f7ee4a4"
      },
      "execution_count": 9,
      "outputs": [
        {
          "output_type": "stream",
          "name": "stdout",
          "text": [
            "--2022-08-29 21:54:45--  https://raw.githubusercontent.com/suvigyajain0101/CaseStudies/main/AdverseEventClassification/Data/AE_Data.csv\n",
            "Resolving raw.githubusercontent.com (raw.githubusercontent.com)... 185.199.109.133, 185.199.110.133, 185.199.111.133, ...\n",
            "Connecting to raw.githubusercontent.com (raw.githubusercontent.com)|185.199.109.133|:443... connected.\n",
            "HTTP request sent, awaiting response... 200 OK\n",
            "Length: 5998096 (5.7M) [text/plain]\n",
            "Saving to: ‘AE_Data.csv.4’\n",
            "\n",
            "AE_Data.csv.4       100%[===================>]   5.72M  --.-KB/s    in 0.05s   \n",
            "\n",
            "2022-08-29 21:54:46 (106 MB/s) - ‘AE_Data.csv.4’ saved [5998096/5998096]\n",
            "\n"
          ]
        }
      ]
    },
    {
      "cell_type": "markdown",
      "source": [
        "### Setup"
      ],
      "metadata": {
        "id": "iUoVxJW7sjcq"
      }
    },
    {
      "cell_type": "code",
      "source": [
        "! pip install tensorflow-text"
      ],
      "metadata": {
        "id": "dLjDQnf9wdEK",
        "colab": {
          "base_uri": "https://localhost:8080/"
        },
        "outputId": "1d8bfd97-5ade-4338-de43-aa29da1be154"
      },
      "execution_count": 10,
      "outputs": [
        {
          "output_type": "stream",
          "name": "stdout",
          "text": [
            "Looking in indexes: https://pypi.org/simple, https://us-python.pkg.dev/colab-wheels/public/simple/\n",
            "Requirement already satisfied: tensorflow-text in /usr/local/lib/python3.7/dist-packages (2.9.0)\n",
            "Requirement already satisfied: tensorflow-hub>=0.8.0 in /usr/local/lib/python3.7/dist-packages (from tensorflow-text) (0.12.0)\n",
            "Requirement already satisfied: tensorflow<2.10,>=2.9.0 in /usr/local/lib/python3.7/dist-packages (from tensorflow-text) (2.9.1)\n",
            "Requirement already satisfied: termcolor>=1.1.0 in /usr/local/lib/python3.7/dist-packages (from tensorflow<2.10,>=2.9.0->tensorflow-text) (1.1.0)\n",
            "Requirement already satisfied: absl-py>=1.0.0 in /usr/local/lib/python3.7/dist-packages (from tensorflow<2.10,>=2.9.0->tensorflow-text) (1.2.0)\n",
            "Requirement already satisfied: tensorflow-estimator<2.10.0,>=2.9.0rc0 in /usr/local/lib/python3.7/dist-packages (from tensorflow<2.10,>=2.9.0->tensorflow-text) (2.9.0)\n",
            "Requirement already satisfied: numpy>=1.20 in /usr/local/lib/python3.7/dist-packages (from tensorflow<2.10,>=2.9.0->tensorflow-text) (1.21.6)\n",
            "Requirement already satisfied: six>=1.12.0 in /usr/local/lib/python3.7/dist-packages (from tensorflow<2.10,>=2.9.0->tensorflow-text) (1.15.0)\n",
            "Requirement already satisfied: grpcio<2.0,>=1.24.3 in /usr/local/lib/python3.7/dist-packages (from tensorflow<2.10,>=2.9.0->tensorflow-text) (1.47.0)\n",
            "Requirement already satisfied: tensorflow-io-gcs-filesystem>=0.23.1 in /usr/local/lib/python3.7/dist-packages (from tensorflow<2.10,>=2.9.0->tensorflow-text) (0.26.0)\n",
            "Requirement already satisfied: gast<=0.4.0,>=0.2.1 in /usr/local/lib/python3.7/dist-packages (from tensorflow<2.10,>=2.9.0->tensorflow-text) (0.4.0)\n",
            "Requirement already satisfied: h5py>=2.9.0 in /usr/local/lib/python3.7/dist-packages (from tensorflow<2.10,>=2.9.0->tensorflow-text) (3.1.0)\n",
            "Requirement already satisfied: setuptools in /usr/local/lib/python3.7/dist-packages (from tensorflow<2.10,>=2.9.0->tensorflow-text) (57.4.0)\n",
            "Requirement already satisfied: tensorboard<2.10,>=2.9 in /usr/local/lib/python3.7/dist-packages (from tensorflow<2.10,>=2.9.0->tensorflow-text) (2.9.1)\n",
            "Requirement already satisfied: libclang>=13.0.0 in /usr/local/lib/python3.7/dist-packages (from tensorflow<2.10,>=2.9.0->tensorflow-text) (14.0.6)\n",
            "Requirement already satisfied: typing-extensions>=3.6.6 in /usr/local/lib/python3.7/dist-packages (from tensorflow<2.10,>=2.9.0->tensorflow-text) (4.1.1)\n",
            "Requirement already satisfied: google-pasta>=0.1.1 in /usr/local/lib/python3.7/dist-packages (from tensorflow<2.10,>=2.9.0->tensorflow-text) (0.2.0)\n",
            "Requirement already satisfied: opt-einsum>=2.3.2 in /usr/local/lib/python3.7/dist-packages (from tensorflow<2.10,>=2.9.0->tensorflow-text) (3.3.0)\n",
            "Requirement already satisfied: astunparse>=1.6.0 in /usr/local/lib/python3.7/dist-packages (from tensorflow<2.10,>=2.9.0->tensorflow-text) (1.6.3)\n",
            "Requirement already satisfied: protobuf<3.20,>=3.9.2 in /usr/local/lib/python3.7/dist-packages (from tensorflow<2.10,>=2.9.0->tensorflow-text) (3.17.3)\n",
            "Requirement already satisfied: keras<2.10.0,>=2.9.0rc0 in /usr/local/lib/python3.7/dist-packages (from tensorflow<2.10,>=2.9.0->tensorflow-text) (2.9.0)\n",
            "Requirement already satisfied: wrapt>=1.11.0 in /usr/local/lib/python3.7/dist-packages (from tensorflow<2.10,>=2.9.0->tensorflow-text) (1.14.1)\n",
            "Requirement already satisfied: packaging in /usr/local/lib/python3.7/dist-packages (from tensorflow<2.10,>=2.9.0->tensorflow-text) (21.3)\n",
            "Requirement already satisfied: flatbuffers<2,>=1.12 in /usr/local/lib/python3.7/dist-packages (from tensorflow<2.10,>=2.9.0->tensorflow-text) (1.12)\n",
            "Requirement already satisfied: keras-preprocessing>=1.1.1 in /usr/local/lib/python3.7/dist-packages (from tensorflow<2.10,>=2.9.0->tensorflow-text) (1.1.2)\n",
            "Requirement already satisfied: wheel<1.0,>=0.23.0 in /usr/local/lib/python3.7/dist-packages (from astunparse>=1.6.0->tensorflow<2.10,>=2.9.0->tensorflow-text) (0.37.1)\n",
            "Requirement already satisfied: cached-property in /usr/local/lib/python3.7/dist-packages (from h5py>=2.9.0->tensorflow<2.10,>=2.9.0->tensorflow-text) (1.5.2)\n",
            "Requirement already satisfied: tensorboard-plugin-wit>=1.6.0 in /usr/local/lib/python3.7/dist-packages (from tensorboard<2.10,>=2.9->tensorflow<2.10,>=2.9.0->tensorflow-text) (1.8.1)\n",
            "Requirement already satisfied: markdown>=2.6.8 in /usr/local/lib/python3.7/dist-packages (from tensorboard<2.10,>=2.9->tensorflow<2.10,>=2.9.0->tensorflow-text) (3.4.1)\n",
            "Requirement already satisfied: tensorboard-data-server<0.7.0,>=0.6.0 in /usr/local/lib/python3.7/dist-packages (from tensorboard<2.10,>=2.9->tensorflow<2.10,>=2.9.0->tensorflow-text) (0.6.1)\n",
            "Requirement already satisfied: google-auth-oauthlib<0.5,>=0.4.1 in /usr/local/lib/python3.7/dist-packages (from tensorboard<2.10,>=2.9->tensorflow<2.10,>=2.9.0->tensorflow-text) (0.4.6)\n",
            "Requirement already satisfied: google-auth<3,>=1.6.3 in /usr/local/lib/python3.7/dist-packages (from tensorboard<2.10,>=2.9->tensorflow<2.10,>=2.9.0->tensorflow-text) (1.35.0)\n",
            "Requirement already satisfied: werkzeug>=1.0.1 in /usr/local/lib/python3.7/dist-packages (from tensorboard<2.10,>=2.9->tensorflow<2.10,>=2.9.0->tensorflow-text) (1.0.1)\n",
            "Requirement already satisfied: requests<3,>=2.21.0 in /usr/local/lib/python3.7/dist-packages (from tensorboard<2.10,>=2.9->tensorflow<2.10,>=2.9.0->tensorflow-text) (2.23.0)\n",
            "Requirement already satisfied: rsa<5,>=3.1.4 in /usr/local/lib/python3.7/dist-packages (from google-auth<3,>=1.6.3->tensorboard<2.10,>=2.9->tensorflow<2.10,>=2.9.0->tensorflow-text) (4.9)\n",
            "Requirement already satisfied: cachetools<5.0,>=2.0.0 in /usr/local/lib/python3.7/dist-packages (from google-auth<3,>=1.6.3->tensorboard<2.10,>=2.9->tensorflow<2.10,>=2.9.0->tensorflow-text) (4.2.4)\n",
            "Requirement already satisfied: pyasn1-modules>=0.2.1 in /usr/local/lib/python3.7/dist-packages (from google-auth<3,>=1.6.3->tensorboard<2.10,>=2.9->tensorflow<2.10,>=2.9.0->tensorflow-text) (0.2.8)\n",
            "Requirement already satisfied: requests-oauthlib>=0.7.0 in /usr/local/lib/python3.7/dist-packages (from google-auth-oauthlib<0.5,>=0.4.1->tensorboard<2.10,>=2.9->tensorflow<2.10,>=2.9.0->tensorflow-text) (1.3.1)\n",
            "Requirement already satisfied: importlib-metadata>=4.4 in /usr/local/lib/python3.7/dist-packages (from markdown>=2.6.8->tensorboard<2.10,>=2.9->tensorflow<2.10,>=2.9.0->tensorflow-text) (4.12.0)\n",
            "Requirement already satisfied: zipp>=0.5 in /usr/local/lib/python3.7/dist-packages (from importlib-metadata>=4.4->markdown>=2.6.8->tensorboard<2.10,>=2.9->tensorflow<2.10,>=2.9.0->tensorflow-text) (3.8.1)\n",
            "Requirement already satisfied: pyasn1<0.5.0,>=0.4.6 in /usr/local/lib/python3.7/dist-packages (from pyasn1-modules>=0.2.1->google-auth<3,>=1.6.3->tensorboard<2.10,>=2.9->tensorflow<2.10,>=2.9.0->tensorflow-text) (0.4.8)\n",
            "Requirement already satisfied: urllib3!=1.25.0,!=1.25.1,<1.26,>=1.21.1 in /usr/local/lib/python3.7/dist-packages (from requests<3,>=2.21.0->tensorboard<2.10,>=2.9->tensorflow<2.10,>=2.9.0->tensorflow-text) (1.24.3)\n",
            "Requirement already satisfied: certifi>=2017.4.17 in /usr/local/lib/python3.7/dist-packages (from requests<3,>=2.21.0->tensorboard<2.10,>=2.9->tensorflow<2.10,>=2.9.0->tensorflow-text) (2022.6.15)\n",
            "Requirement already satisfied: idna<3,>=2.5 in /usr/local/lib/python3.7/dist-packages (from requests<3,>=2.21.0->tensorboard<2.10,>=2.9->tensorflow<2.10,>=2.9.0->tensorflow-text) (2.10)\n",
            "Requirement already satisfied: chardet<4,>=3.0.2 in /usr/local/lib/python3.7/dist-packages (from requests<3,>=2.21.0->tensorboard<2.10,>=2.9->tensorflow<2.10,>=2.9.0->tensorflow-text) (3.0.4)\n",
            "Requirement already satisfied: oauthlib>=3.0.0 in /usr/local/lib/python3.7/dist-packages (from requests-oauthlib>=0.7.0->google-auth-oauthlib<0.5,>=0.4.1->tensorboard<2.10,>=2.9->tensorflow<2.10,>=2.9.0->tensorflow-text) (3.2.0)\n",
            "Requirement already satisfied: pyparsing!=3.0.5,>=2.0.2 in /usr/local/lib/python3.7/dist-packages (from packaging->tensorflow<2.10,>=2.9.0->tensorflow-text) (3.0.9)\n"
          ]
        }
      ]
    },
    {
      "cell_type": "code",
      "source": [
        "import tensorflow as tf\n",
        "from tensorflow import keras\n",
        "from tensorflow.keras import layers\n",
        "import pandas as pd\n",
        "import numpy as np\n",
        "import re\n",
        "import os\n",
        "import shutil\n",
        "\n",
        "import tensorflow_hub as hub\n",
        "import tensorflow_text as text\n",
        "# from official.nlp import optimization  # to create AdamW optimizer\n",
        "\n",
        "import matplotlib.pyplot as plt\n",
        "\n",
        "tf.get_logger().setLevel('ERROR')"
      ],
      "metadata": {
        "id": "pG5R2bRus_cx"
      },
      "execution_count": 11,
      "outputs": []
    },
    {
      "cell_type": "code",
      "source": [
        "df = pd.read_csv('/content/AE_Data.csv')\n",
        "df.head()"
      ],
      "metadata": {
        "colab": {
          "base_uri": "https://localhost:8080/",
          "height": 206
        },
        "id": "yS7I6NLFtITe",
        "outputId": "61fd8229-b419-47ba-dd05-221b27855731"
      },
      "execution_count": 12,
      "outputs": [
        {
          "output_type": "execute_result",
          "data": {
            "text/plain": [
              "                                               title  \\\n",
              "0  antimicrobial impacts of essential oils on foo...   \n",
              "1  purification and characterization of a cystein...   \n",
              "2  telavancin activity tested against gram-positi...   \n",
              "3  the in vitro antimicrobial activity of cymbopo...   \n",
              "4  screening currency notes for microbial pathoge...   \n",
              "\n",
              "                                            abstract  label  \n",
              "0  the antimicrobial activity of twelve essential...      0  \n",
              "1  antimicrobial peptide (amp) crustin is a type ...      0  \n",
              "2  objectives: to reassess the activity of telava...      0  \n",
              "3  background: it is well known that cymbopogon (...      0  \n",
              "4  fomites are a well-known source of microbial i...      0  "
            ],
            "text/html": [
              "\n",
              "  <div id=\"df-2758ce5b-43dc-4d85-a722-cd6b21d35a2f\">\n",
              "    <div class=\"colab-df-container\">\n",
              "      <div>\n",
              "<style scoped>\n",
              "    .dataframe tbody tr th:only-of-type {\n",
              "        vertical-align: middle;\n",
              "    }\n",
              "\n",
              "    .dataframe tbody tr th {\n",
              "        vertical-align: top;\n",
              "    }\n",
              "\n",
              "    .dataframe thead th {\n",
              "        text-align: right;\n",
              "    }\n",
              "</style>\n",
              "<table border=\"1\" class=\"dataframe\">\n",
              "  <thead>\n",
              "    <tr style=\"text-align: right;\">\n",
              "      <th></th>\n",
              "      <th>title</th>\n",
              "      <th>abstract</th>\n",
              "      <th>label</th>\n",
              "    </tr>\n",
              "  </thead>\n",
              "  <tbody>\n",
              "    <tr>\n",
              "      <th>0</th>\n",
              "      <td>antimicrobial impacts of essential oils on foo...</td>\n",
              "      <td>the antimicrobial activity of twelve essential...</td>\n",
              "      <td>0</td>\n",
              "    </tr>\n",
              "    <tr>\n",
              "      <th>1</th>\n",
              "      <td>purification and characterization of a cystein...</td>\n",
              "      <td>antimicrobial peptide (amp) crustin is a type ...</td>\n",
              "      <td>0</td>\n",
              "    </tr>\n",
              "    <tr>\n",
              "      <th>2</th>\n",
              "      <td>telavancin activity tested against gram-positi...</td>\n",
              "      <td>objectives: to reassess the activity of telava...</td>\n",
              "      <td>0</td>\n",
              "    </tr>\n",
              "    <tr>\n",
              "      <th>3</th>\n",
              "      <td>the in vitro antimicrobial activity of cymbopo...</td>\n",
              "      <td>background: it is well known that cymbopogon (...</td>\n",
              "      <td>0</td>\n",
              "    </tr>\n",
              "    <tr>\n",
              "      <th>4</th>\n",
              "      <td>screening currency notes for microbial pathoge...</td>\n",
              "      <td>fomites are a well-known source of microbial i...</td>\n",
              "      <td>0</td>\n",
              "    </tr>\n",
              "  </tbody>\n",
              "</table>\n",
              "</div>\n",
              "      <button class=\"colab-df-convert\" onclick=\"convertToInteractive('df-2758ce5b-43dc-4d85-a722-cd6b21d35a2f')\"\n",
              "              title=\"Convert this dataframe to an interactive table.\"\n",
              "              style=\"display:none;\">\n",
              "        \n",
              "  <svg xmlns=\"http://www.w3.org/2000/svg\" height=\"24px\"viewBox=\"0 0 24 24\"\n",
              "       width=\"24px\">\n",
              "    <path d=\"M0 0h24v24H0V0z\" fill=\"none\"/>\n",
              "    <path d=\"M18.56 5.44l.94 2.06.94-2.06 2.06-.94-2.06-.94-.94-2.06-.94 2.06-2.06.94zm-11 1L8.5 8.5l.94-2.06 2.06-.94-2.06-.94L8.5 2.5l-.94 2.06-2.06.94zm10 10l.94 2.06.94-2.06 2.06-.94-2.06-.94-.94-2.06-.94 2.06-2.06.94z\"/><path d=\"M17.41 7.96l-1.37-1.37c-.4-.4-.92-.59-1.43-.59-.52 0-1.04.2-1.43.59L10.3 9.45l-7.72 7.72c-.78.78-.78 2.05 0 2.83L4 21.41c.39.39.9.59 1.41.59.51 0 1.02-.2 1.41-.59l7.78-7.78 2.81-2.81c.8-.78.8-2.07 0-2.86zM5.41 20L4 18.59l7.72-7.72 1.47 1.35L5.41 20z\"/>\n",
              "  </svg>\n",
              "      </button>\n",
              "      \n",
              "  <style>\n",
              "    .colab-df-container {\n",
              "      display:flex;\n",
              "      flex-wrap:wrap;\n",
              "      gap: 12px;\n",
              "    }\n",
              "\n",
              "    .colab-df-convert {\n",
              "      background-color: #E8F0FE;\n",
              "      border: none;\n",
              "      border-radius: 50%;\n",
              "      cursor: pointer;\n",
              "      display: none;\n",
              "      fill: #1967D2;\n",
              "      height: 32px;\n",
              "      padding: 0 0 0 0;\n",
              "      width: 32px;\n",
              "    }\n",
              "\n",
              "    .colab-df-convert:hover {\n",
              "      background-color: #E2EBFA;\n",
              "      box-shadow: 0px 1px 2px rgba(60, 64, 67, 0.3), 0px 1px 3px 1px rgba(60, 64, 67, 0.15);\n",
              "      fill: #174EA6;\n",
              "    }\n",
              "\n",
              "    [theme=dark] .colab-df-convert {\n",
              "      background-color: #3B4455;\n",
              "      fill: #D2E3FC;\n",
              "    }\n",
              "\n",
              "    [theme=dark] .colab-df-convert:hover {\n",
              "      background-color: #434B5C;\n",
              "      box-shadow: 0px 1px 3px 1px rgba(0, 0, 0, 0.15);\n",
              "      filter: drop-shadow(0px 1px 2px rgba(0, 0, 0, 0.3));\n",
              "      fill: #FFFFFF;\n",
              "    }\n",
              "  </style>\n",
              "\n",
              "      <script>\n",
              "        const buttonEl =\n",
              "          document.querySelector('#df-2758ce5b-43dc-4d85-a722-cd6b21d35a2f button.colab-df-convert');\n",
              "        buttonEl.style.display =\n",
              "          google.colab.kernel.accessAllowed ? 'block' : 'none';\n",
              "\n",
              "        async function convertToInteractive(key) {\n",
              "          const element = document.querySelector('#df-2758ce5b-43dc-4d85-a722-cd6b21d35a2f');\n",
              "          const dataTable =\n",
              "            await google.colab.kernel.invokeFunction('convertToInteractive',\n",
              "                                                     [key], {});\n",
              "          if (!dataTable) return;\n",
              "\n",
              "          const docLinkHtml = 'Like what you see? Visit the ' +\n",
              "            '<a target=\"_blank\" href=https://colab.research.google.com/notebooks/data_table.ipynb>data table notebook</a>'\n",
              "            + ' to learn more about interactive tables.';\n",
              "          element.innerHTML = '';\n",
              "          dataTable['output_type'] = 'display_data';\n",
              "          await google.colab.output.renderOutput(dataTable, element);\n",
              "          const docLink = document.createElement('div');\n",
              "          docLink.innerHTML = docLinkHtml;\n",
              "          element.appendChild(docLink);\n",
              "        }\n",
              "      </script>\n",
              "    </div>\n",
              "  </div>\n",
              "  "
            ]
          },
          "metadata": {},
          "execution_count": 12
        }
      ]
    },
    {
      "cell_type": "code",
      "source": [
        "df['label'].value_counts()"
      ],
      "metadata": {
        "colab": {
          "base_uri": "https://localhost:8080/"
        },
        "id": "zyAAjzOutJyt",
        "outputId": "375e4d4a-a6df-4830-9e42-5899bcff280e"
      },
      "execution_count": 13,
      "outputs": [
        {
          "output_type": "execute_result",
          "data": {
            "text/plain": [
              "0    3851\n",
              "1     294\n",
              "Name: label, dtype: int64"
            ]
          },
          "metadata": {},
          "execution_count": 13
        }
      ]
    },
    {
      "cell_type": "code",
      "source": [
        "df['text'] = df['title'] + ' ' + df['abstract']\n",
        "df.head()"
      ],
      "metadata": {
        "colab": {
          "base_uri": "https://localhost:8080/",
          "height": 206
        },
        "id": "Aj_6I4cDtL7n",
        "outputId": "76407e92-dd94-4d9b-92eb-18854fc33431"
      },
      "execution_count": 14,
      "outputs": [
        {
          "output_type": "execute_result",
          "data": {
            "text/plain": [
              "                                               title  \\\n",
              "0  antimicrobial impacts of essential oils on foo...   \n",
              "1  purification and characterization of a cystein...   \n",
              "2  telavancin activity tested against gram-positi...   \n",
              "3  the in vitro antimicrobial activity of cymbopo...   \n",
              "4  screening currency notes for microbial pathoge...   \n",
              "\n",
              "                                            abstract  label  \\\n",
              "0  the antimicrobial activity of twelve essential...      0   \n",
              "1  antimicrobial peptide (amp) crustin is a type ...      0   \n",
              "2  objectives: to reassess the activity of telava...      0   \n",
              "3  background: it is well known that cymbopogon (...      0   \n",
              "4  fomites are a well-known source of microbial i...      0   \n",
              "\n",
              "                                                text  \n",
              "0  antimicrobial impacts of essential oils on foo...  \n",
              "1  purification and characterization of a cystein...  \n",
              "2  telavancin activity tested against gram-positi...  \n",
              "3  the in vitro antimicrobial activity of cymbopo...  \n",
              "4  screening currency notes for microbial pathoge...  "
            ],
            "text/html": [
              "\n",
              "  <div id=\"df-d20f33a0-55b7-4e4f-b5b8-43161e38a951\">\n",
              "    <div class=\"colab-df-container\">\n",
              "      <div>\n",
              "<style scoped>\n",
              "    .dataframe tbody tr th:only-of-type {\n",
              "        vertical-align: middle;\n",
              "    }\n",
              "\n",
              "    .dataframe tbody tr th {\n",
              "        vertical-align: top;\n",
              "    }\n",
              "\n",
              "    .dataframe thead th {\n",
              "        text-align: right;\n",
              "    }\n",
              "</style>\n",
              "<table border=\"1\" class=\"dataframe\">\n",
              "  <thead>\n",
              "    <tr style=\"text-align: right;\">\n",
              "      <th></th>\n",
              "      <th>title</th>\n",
              "      <th>abstract</th>\n",
              "      <th>label</th>\n",
              "      <th>text</th>\n",
              "    </tr>\n",
              "  </thead>\n",
              "  <tbody>\n",
              "    <tr>\n",
              "      <th>0</th>\n",
              "      <td>antimicrobial impacts of essential oils on foo...</td>\n",
              "      <td>the antimicrobial activity of twelve essential...</td>\n",
              "      <td>0</td>\n",
              "      <td>antimicrobial impacts of essential oils on foo...</td>\n",
              "    </tr>\n",
              "    <tr>\n",
              "      <th>1</th>\n",
              "      <td>purification and characterization of a cystein...</td>\n",
              "      <td>antimicrobial peptide (amp) crustin is a type ...</td>\n",
              "      <td>0</td>\n",
              "      <td>purification and characterization of a cystein...</td>\n",
              "    </tr>\n",
              "    <tr>\n",
              "      <th>2</th>\n",
              "      <td>telavancin activity tested against gram-positi...</td>\n",
              "      <td>objectives: to reassess the activity of telava...</td>\n",
              "      <td>0</td>\n",
              "      <td>telavancin activity tested against gram-positi...</td>\n",
              "    </tr>\n",
              "    <tr>\n",
              "      <th>3</th>\n",
              "      <td>the in vitro antimicrobial activity of cymbopo...</td>\n",
              "      <td>background: it is well known that cymbopogon (...</td>\n",
              "      <td>0</td>\n",
              "      <td>the in vitro antimicrobial activity of cymbopo...</td>\n",
              "    </tr>\n",
              "    <tr>\n",
              "      <th>4</th>\n",
              "      <td>screening currency notes for microbial pathoge...</td>\n",
              "      <td>fomites are a well-known source of microbial i...</td>\n",
              "      <td>0</td>\n",
              "      <td>screening currency notes for microbial pathoge...</td>\n",
              "    </tr>\n",
              "  </tbody>\n",
              "</table>\n",
              "</div>\n",
              "      <button class=\"colab-df-convert\" onclick=\"convertToInteractive('df-d20f33a0-55b7-4e4f-b5b8-43161e38a951')\"\n",
              "              title=\"Convert this dataframe to an interactive table.\"\n",
              "              style=\"display:none;\">\n",
              "        \n",
              "  <svg xmlns=\"http://www.w3.org/2000/svg\" height=\"24px\"viewBox=\"0 0 24 24\"\n",
              "       width=\"24px\">\n",
              "    <path d=\"M0 0h24v24H0V0z\" fill=\"none\"/>\n",
              "    <path d=\"M18.56 5.44l.94 2.06.94-2.06 2.06-.94-2.06-.94-.94-2.06-.94 2.06-2.06.94zm-11 1L8.5 8.5l.94-2.06 2.06-.94-2.06-.94L8.5 2.5l-.94 2.06-2.06.94zm10 10l.94 2.06.94-2.06 2.06-.94-2.06-.94-.94-2.06-.94 2.06-2.06.94z\"/><path d=\"M17.41 7.96l-1.37-1.37c-.4-.4-.92-.59-1.43-.59-.52 0-1.04.2-1.43.59L10.3 9.45l-7.72 7.72c-.78.78-.78 2.05 0 2.83L4 21.41c.39.39.9.59 1.41.59.51 0 1.02-.2 1.41-.59l7.78-7.78 2.81-2.81c.8-.78.8-2.07 0-2.86zM5.41 20L4 18.59l7.72-7.72 1.47 1.35L5.41 20z\"/>\n",
              "  </svg>\n",
              "      </button>\n",
              "      \n",
              "  <style>\n",
              "    .colab-df-container {\n",
              "      display:flex;\n",
              "      flex-wrap:wrap;\n",
              "      gap: 12px;\n",
              "    }\n",
              "\n",
              "    .colab-df-convert {\n",
              "      background-color: #E8F0FE;\n",
              "      border: none;\n",
              "      border-radius: 50%;\n",
              "      cursor: pointer;\n",
              "      display: none;\n",
              "      fill: #1967D2;\n",
              "      height: 32px;\n",
              "      padding: 0 0 0 0;\n",
              "      width: 32px;\n",
              "    }\n",
              "\n",
              "    .colab-df-convert:hover {\n",
              "      background-color: #E2EBFA;\n",
              "      box-shadow: 0px 1px 2px rgba(60, 64, 67, 0.3), 0px 1px 3px 1px rgba(60, 64, 67, 0.15);\n",
              "      fill: #174EA6;\n",
              "    }\n",
              "\n",
              "    [theme=dark] .colab-df-convert {\n",
              "      background-color: #3B4455;\n",
              "      fill: #D2E3FC;\n",
              "    }\n",
              "\n",
              "    [theme=dark] .colab-df-convert:hover {\n",
              "      background-color: #434B5C;\n",
              "      box-shadow: 0px 1px 3px 1px rgba(0, 0, 0, 0.15);\n",
              "      filter: drop-shadow(0px 1px 2px rgba(0, 0, 0, 0.3));\n",
              "      fill: #FFFFFF;\n",
              "    }\n",
              "  </style>\n",
              "\n",
              "      <script>\n",
              "        const buttonEl =\n",
              "          document.querySelector('#df-d20f33a0-55b7-4e4f-b5b8-43161e38a951 button.colab-df-convert');\n",
              "        buttonEl.style.display =\n",
              "          google.colab.kernel.accessAllowed ? 'block' : 'none';\n",
              "\n",
              "        async function convertToInteractive(key) {\n",
              "          const element = document.querySelector('#df-d20f33a0-55b7-4e4f-b5b8-43161e38a951');\n",
              "          const dataTable =\n",
              "            await google.colab.kernel.invokeFunction('convertToInteractive',\n",
              "                                                     [key], {});\n",
              "          if (!dataTable) return;\n",
              "\n",
              "          const docLinkHtml = 'Like what you see? Visit the ' +\n",
              "            '<a target=\"_blank\" href=https://colab.research.google.com/notebooks/data_table.ipynb>data table notebook</a>'\n",
              "            + ' to learn more about interactive tables.';\n",
              "          element.innerHTML = '';\n",
              "          dataTable['output_type'] = 'display_data';\n",
              "          await google.colab.output.renderOutput(dataTable, element);\n",
              "          const docLink = document.createElement('div');\n",
              "          docLink.innerHTML = docLinkHtml;\n",
              "          element.appendChild(docLink);\n",
              "        }\n",
              "      </script>\n",
              "    </div>\n",
              "  </div>\n",
              "  "
            ]
          },
          "metadata": {},
          "execution_count": 14
        }
      ]
    },
    {
      "cell_type": "code",
      "source": [
        "# List to hold experiment\n",
        "EXPERIMENT_RESULTS = []"
      ],
      "metadata": {
        "id": "TkD1ObcglWJe"
      },
      "execution_count": 15,
      "outputs": []
    },
    {
      "cell_type": "markdown",
      "source": [
        "### Helper Functions"
      ],
      "metadata": {
        "id": "Jpr5uk48kpRI"
      }
    },
    {
      "cell_type": "code",
      "source": [
        "from sklearn.metrics import classification_report, confusion_matrix, accuracy_score\n",
        "\n",
        "def parse_confusion_matrix(x):\n",
        "  '''\n",
        "  Function parses confusion matrix and \n",
        "  returns TP, TN, FP and FN for a binary classification model\n",
        "  '''\n",
        "  tn, fp, fn, tp = x.ravel()\n",
        "\n",
        "  return [tp, tn, fp, fn]\n",
        "\n",
        "def parse_clf_report(x):\n",
        "  '''\n",
        "  Functinon parses classificatin report dictionary\n",
        "  '''\n",
        "\n",
        "  f1 = x['weighted avg']['f1-score']\n",
        "  precision = x['weighted avg']['precision']\n",
        "  recall = x['weighted avg']['recall']\n",
        "  positive_f1 = x['1']['f1-score']\n",
        "  positive_precision = x['1']['precision']\n",
        "  positive_recall = x['1']['recall']\n",
        "\n",
        "  return [f1, precision, recall, positive_f1, positive_precision, positive_recall]\n",
        "\n",
        "def prepare_exp_report(master_list, exp_name, confsn_mat, clf_rpt):\n",
        "  '''\n",
        "  Function prepares experiment report, \n",
        "  in a nutshell it's just concataneting few lists\n",
        "  '''\n",
        "  return master_list.append([exp_name] + confsn_mat + clf_rpt)\n",
        "\n",
        "# Plotter function\n",
        "def plot_history():\n",
        "    plt.plot(history.history[\"loss\"])\n",
        "    plt.plot(history.history[\"val_loss\"])\n",
        "    plt.legend([\"train_loss\", \"val_loss\"])\n",
        "    plt.xlabel(\"Epochs\")\n",
        "    plt.ylabel(\"Loss\")\n",
        "    plt.show()\n",
        "\n",
        "def train_model(num_epochs, train_batch_size):\n",
        "  def build_classifier_model():\n",
        "    text_input = tf.keras.layers.Input(shape=(), dtype=tf.string, name='text')\n",
        "    preprocessing_layer = hub.KerasLayer(tfhub_handle_preprocess, name='preprocessing')\n",
        "    encoder_inputs = preprocessing_layer(text_input)\n",
        "    encoder = hub.KerasLayer(tfhub_handle_encoder, trainable=True, name='BERT_encoder')\n",
        "    outputs = encoder(encoder_inputs)\n",
        "    net = outputs['pooled_output']\n",
        "    net = tf.keras.layers.Dropout(0.1)(net)\n",
        "    net = tf.keras.layers.Dense(1, activation=None, name='classifier')(net)\n",
        "    return tf.keras.Model(text_input, net)\n",
        "\n",
        "\n",
        "  classifier_model = build_classifier_model()\n",
        "\n",
        "  optimizer = keras.optimizers.Adam(learning_rate=0.01)\n",
        "  loss = tf.keras.losses.BinaryCrossentropy(from_logits=True)\n",
        "  metrics = tf.metrics.BinaryAccuracy()\n",
        "\n",
        "\n",
        "  classifier_model.compile(optimizer=optimizer,\n",
        "                          loss=loss,\n",
        "                          metrics=metrics)\n",
        "\n",
        "\n",
        "  history = classifier_model.fit(X_train, y_train,\n",
        "                                epochs=num_epochs,\n",
        "                                batch_size=train_batch_size,\n",
        "                                validation_data=(X_val, y_val))\n",
        "  return classifier_model, history"
      ],
      "metadata": {
        "id": "Xyg3Y9JRkrG_"
      },
      "execution_count": 16,
      "outputs": []
    },
    {
      "cell_type": "markdown",
      "source": [
        "### Train Val Test Split\n",
        "\n",
        "Due to imbalanced dataset, we need to follow an innovative approach to split the data. There are ways in [numpy](https://stackoverflow.com/a/38251213/11383333), which can help with train, val, test split (still not present in sklearn), but we need to do the stratified sampling. So use the sklearn's data split 2 times"
      ],
      "metadata": {
        "id": "XgvampuwVlpR"
      }
    },
    {
      "cell_type": "code",
      "source": [
        "from sklearn.model_selection import train_test_split\n",
        "\n",
        "val_split = 0.2\n",
        "test_split = 0.2\n",
        "\n",
        "X = df['text'].values\n",
        "y = df['label'].values\n",
        "\n",
        "# First split, split original dataset in train-val combination and test\n",
        "X_comb, X_test, y_comb, y_test = train_test_split(X, y, test_size=test_split, stratify=y)\n",
        "\n",
        "# Second split, split train-val combination into train and val dataset\n",
        "X_train, X_val, y_train, y_val = train_test_split(X_comb, y_comb, test_size=val_split, stratify=y_comb)"
      ],
      "metadata": {
        "id": "AYfrD9kgtQLC"
      },
      "execution_count": 17,
      "outputs": []
    },
    {
      "cell_type": "code",
      "source": [
        "print('Label Distribution in the training data')\n",
        "print(np.unique(y_train, return_counts=True))\n",
        "print('*'*50)\n",
        "print('Label Distribution in the validation data')\n",
        "print(np.unique(y_val, return_counts=True))\n",
        "print('*'*50)\n",
        "print('Label Distribution in the testing data')\n",
        "print(np.unique(y_test, return_counts=True))"
      ],
      "metadata": {
        "colab": {
          "base_uri": "https://localhost:8080/"
        },
        "id": "QVCGScJstaTz",
        "outputId": "93e60d71-dd06-440d-a254-f95c6fbf8048"
      },
      "execution_count": 18,
      "outputs": [
        {
          "output_type": "stream",
          "name": "stdout",
          "text": [
            "Label Distribution in the training data\n",
            "(array([0, 1]), array([2464,  188]))\n",
            "**************************************************\n",
            "Label Distribution in the validation data\n",
            "(array([0, 1]), array([617,  47]))\n",
            "**************************************************\n",
            "Label Distribution in the testing data\n",
            "(array([0, 1]), array([770,  59]))\n"
          ]
        }
      ]
    },
    {
      "cell_type": "code",
      "source": [
        "tfhub_handle_preprocess = hub.KerasLayer('https://tfhub.dev/tensorflow/bert_en_uncased_preprocess/3')\n",
        "# tfhub_handle_encoder = hub.KerasLayer('https://tfhub.dev/tensorflow/bert_en_uncased_L-12_H-768_A-12/4',trainable=True)\n",
        "tfhub_handle_encoder = hub.KerasLayer('https://tfhub.dev/tensorflow/bert_en_uncased_L-12_H-768_A-12/4')"
      ],
      "metadata": {
        "id": "zTQfC4RO20gh"
      },
      "execution_count": 19,
      "outputs": []
    },
    {
      "cell_type": "markdown",
      "source": [
        "### Experiment 1 : BERT Out of the Box"
      ],
      "metadata": {
        "id": "3yktx3AHk9wo"
      }
    },
    {
      "cell_type": "code",
      "source": [
        "EPOCHS = 5\n",
        "BATCH_SIZE = 32\n",
        "THRESHOLD = -0.4"
      ],
      "metadata": {
        "id": "Ppir5LNY24uj"
      },
      "execution_count": 20,
      "outputs": []
    },
    {
      "cell_type": "code",
      "source": [
        "# Experiment name\n",
        "exp_name1 = 'BERT - Out of the Box'\n",
        "\n",
        "# Train the model\n",
        "classifier_model, history = train_model(EPOCHS, BATCH_SIZE)\n",
        "\n",
        "# Generate predictions\n",
        "y_probs = classifier_model.predict(X_test)\n",
        "\n",
        "# Convert probabilities to labels\n",
        "y_pred = np.where(y_probs > THRESHOLD, 1, 0)\n",
        "\n",
        "# Prepare Classification Report\n",
        "exp_confusion_matrix = confusion_matrix(y_test,y_pred)\n",
        "exp_clf_report = classification_report(y_test,y_pred, output_dict=True)\n",
        "print('Confusion Matrix : ')\n",
        "print(exp_confusion_matrix)\n",
        "print('\\n')\n",
        "print('Classification Report : ')\n",
        "print(pd.DataFrame(exp_clf_report))\n",
        "\n",
        "# Prepare experiment results\n",
        "prepare_exp_report(EXPERIMENT_RESULTS, \n",
        "                    exp_name1, \n",
        "                    parse_confusion_matrix(exp_confusion_matrix), \n",
        "                    parse_clf_report(exp_clf_report))\n",
        "\n",
        "# Plot loss functions for training and validations\n",
        "print('Model Training Results : ')\n",
        "plot_history()"
      ],
      "metadata": {
        "id": "rRK08P367GR5",
        "colab": {
          "base_uri": "https://localhost:8080/",
          "height": 643
        },
        "outputId": "7b6ae9fb-f797-4c1f-f30a-f8b42d877c83"
      },
      "execution_count": 21,
      "outputs": [
        {
          "output_type": "stream",
          "name": "stderr",
          "text": [
            "ERROR:absl:hub.KerasLayer is trainable but has zero trainable weights.\n"
          ]
        },
        {
          "output_type": "stream",
          "name": "stdout",
          "text": [
            "Epoch 1/5\n",
            "83/83 [==============================] - 50s 420ms/step - loss: 0.3213 - binary_accuracy: 0.9268 - val_loss: 0.2388 - val_binary_accuracy: 0.9292\n",
            "Epoch 2/5\n",
            "83/83 [==============================] - 34s 407ms/step - loss: 0.2446 - binary_accuracy: 0.9295 - val_loss: 0.2271 - val_binary_accuracy: 0.9292\n",
            "Epoch 3/5\n",
            "83/83 [==============================] - 35s 424ms/step - loss: 0.2404 - binary_accuracy: 0.9284 - val_loss: 0.2284 - val_binary_accuracy: 0.9292\n",
            "Epoch 4/5\n",
            "83/83 [==============================] - 35s 423ms/step - loss: 0.2470 - binary_accuracy: 0.9287 - val_loss: 0.2289 - val_binary_accuracy: 0.9292\n",
            "Epoch 5/5\n",
            "83/83 [==============================] - 35s 427ms/step - loss: 0.2309 - binary_accuracy: 0.9302 - val_loss: 0.2420 - val_binary_accuracy: 0.9277\n",
            "26/26 [==============================] - 9s 333ms/step\n",
            "[[767   3]\n",
            " [ 58   1]]\n",
            "\n",
            "\n",
            "                    0          1  accuracy   macro avg  weighted avg\n",
            "precision    0.929697   0.250000  0.926417    0.589848      0.881323\n",
            "recall       0.996104   0.016949  0.926417    0.506527      0.926417\n",
            "f1-score     0.961755   0.031746  0.926417    0.496751      0.895567\n",
            "support    770.000000  59.000000  0.926417  829.000000    829.000000\n"
          ]
        },
        {
          "output_type": "display_data",
          "data": {
            "text/plain": [
              "<Figure size 432x288 with 1 Axes>"
            ],
            "image/png": "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\n"
          },
          "metadata": {
            "needs_background": "light"
          }
        }
      ]
    },
    {
      "cell_type": "markdown",

      "source": [
        "False Negatives are exactly what the model should not be catching. It's very important in business cases like this to focus on reducing the False Negatives. \n",
        "Also, training loss is decreasing, but validation is not showing any signs of improvements.\n",
        "Overall, we can say that the **model performance is terrible in the context of the business case.**"
      ],
      "metadata": {
        "id": "T29lDqQvPgU2"
      }
    },
    {
      "cell_type": "markdown",
      "source": [
        "### Experiment 2 : Increase Epochs"
      ],
      "metadata": {
        "id": "IFDJPCOTopmd"
      }
    },
    {
      "cell_type": "code",
      "source": [
        "EPOCHS = 20\n",
        "BATCH_SIZE = 32\n",
        "THRESHOLD = -0.4"
      ],
      "metadata": {
        "id": "NTEhOAz9otjr"
      },
      "execution_count": 23,
      "outputs": []

    },
    {
      "cell_type": "code",
      "source": [

        "# Experiment name\n",
        "exp_name1 = 'BERT - Increase Epochs'\n",
        "\n",
        "# Train the model\n",
        "classifier_model, history = train_model(EPOCHS, BATCH_SIZE)\n",
        "\n",
        "# Generate predictions\n",
        "y_probs = classifier_model.predict(X_test)\n",
        "\n",
        "# Convert probabilities to labels\n",
        "y_pred = np.where(y_probs > THRESHOLD, 1, 0)\n",
        "\n",
        "# Prepare Classification Report\n",
        "exp_confusion_matrix = confusion_matrix(y_test,y_pred)\n",
        "exp_clf_report = classification_report(y_test,y_pred, output_dict=True)\n",
        "print('Confusion Matrix : ')\n",
        "print(exp_confusion_matrix)\n",
        "print('\\n')\n",
        "print('Classification Report : ')\n",
        "print(pd.DataFrame(exp_clf_report))\n",
        "\n",
        "# Prepare experiment results\n",
        "prepare_exp_report(EXPERIMENT_RESULTS, \n",
        "                    exp_name1, \n",
        "                    parse_confusion_matrix(exp_confusion_matrix), \n",
        "                    parse_clf_report(exp_clf_report))\n",
        "\n",
        "# Plot loss functions for training and validations\n",
        "print('Model Training Results : ')\n",
        "plot_history()"
      ],
      "metadata": {
        "colab": {
          "base_uri": "https://localhost:8080/",
          "height": 1000
        },
        "id": "zPIIgC-rov0f",
        "outputId": "88d47c1b-c902-4128-9159-cd8462591949"
      },
      "execution_count": 24,
      "outputs": [
        {
          "output_type": "stream",
          "name": "stderr",
          "text": [
            "ERROR:absl:hub.KerasLayer is trainable but has zero trainable weights.\n"
          ]
        },
        {
          "output_type": "stream",
          "name": "stdout",
          "text": [
            "Epoch 1/20\n",
            "83/83 [==============================] - 36s 415ms/step - loss: 0.3175 - binary_accuracy: 0.9242 - val_loss: 0.2801 - val_binary_accuracy: 0.9292\n",
            "Epoch 2/20\n",
            "83/83 [==============================] - 35s 418ms/step - loss: 0.2599 - binary_accuracy: 0.9291 - val_loss: 0.2636 - val_binary_accuracy: 0.9262\n",
            "Epoch 3/20\n",
            "83/83 [==============================] - 35s 420ms/step - loss: 0.2409 - binary_accuracy: 0.9276 - val_loss: 0.2214 - val_binary_accuracy: 0.9292\n",
            "Epoch 4/20\n",
            "83/83 [==============================] - 35s 426ms/step - loss: 0.2455 - binary_accuracy: 0.9291 - val_loss: 0.2446 - val_binary_accuracy: 0.9322\n",
            "Epoch 5/20\n",
            "83/83 [==============================] - 36s 430ms/step - loss: 0.2374 - binary_accuracy: 0.9302 - val_loss: 0.2262 - val_binary_accuracy: 0.9307\n",
            "Epoch 6/20\n",
            "83/83 [==============================] - 35s 426ms/step - loss: 0.2729 - binary_accuracy: 0.9265 - val_loss: 0.2644 - val_binary_accuracy: 0.9292\n",
            "Epoch 7/20\n",
            "83/83 [==============================] - 35s 425ms/step - loss: 0.2306 - binary_accuracy: 0.9280 - val_loss: 0.2253 - val_binary_accuracy: 0.9292\n",
            "Epoch 8/20\n",
            "83/83 [==============================] - 35s 427ms/step - loss: 0.2306 - binary_accuracy: 0.9284 - val_loss: 0.2002 - val_binary_accuracy: 0.9307\n",
            "Epoch 9/20\n",
            "83/83 [==============================] - 35s 424ms/step - loss: 0.2222 - binary_accuracy: 0.9299 - val_loss: 0.2078 - val_binary_accuracy: 0.9292\n",
            "Epoch 10/20\n",
            "83/83 [==============================] - 36s 429ms/step - loss: 0.2163 - binary_accuracy: 0.9306 - val_loss: 0.2306 - val_binary_accuracy: 0.9292\n",
            "Epoch 11/20\n",
            "83/83 [==============================] - 35s 426ms/step - loss: 0.2308 - binary_accuracy: 0.9291 - val_loss: 0.1994 - val_binary_accuracy: 0.9292\n",
            "Epoch 12/20\n",
            "83/83 [==============================] - 35s 424ms/step - loss: 0.2327 - binary_accuracy: 0.9291 - val_loss: 0.2086 - val_binary_accuracy: 0.9352\n",
            "Epoch 13/20\n",
            "83/83 [==============================] - 35s 429ms/step - loss: 0.2329 - binary_accuracy: 0.9280 - val_loss: 0.2752 - val_binary_accuracy: 0.9217\n",
            "Epoch 14/20\n",
            "83/83 [==============================] - 35s 424ms/step - loss: 0.2531 - binary_accuracy: 0.9261 - val_loss: 0.2040 - val_binary_accuracy: 0.9337\n",
            "Epoch 15/20\n",
            "83/83 [==============================] - 35s 424ms/step - loss: 0.2254 - binary_accuracy: 0.9284 - val_loss: 0.1868 - val_binary_accuracy: 0.9307\n",
            "Epoch 16/20\n",
            "83/83 [==============================] - 35s 428ms/step - loss: 0.2090 - binary_accuracy: 0.9310 - val_loss: 0.1941 - val_binary_accuracy: 0.9322\n",
            "Epoch 17/20\n",
            "83/83 [==============================] - 35s 424ms/step - loss: 0.2433 - binary_accuracy: 0.9280 - val_loss: 0.1884 - val_binary_accuracy: 0.9307\n",
            "Epoch 18/20\n",
            "83/83 [==============================] - 35s 424ms/step - loss: 0.2371 - binary_accuracy: 0.9246 - val_loss: 0.2074 - val_binary_accuracy: 0.9307\n",
            "Epoch 19/20\n",
            "83/83 [==============================] - 36s 429ms/step - loss: 0.2067 - binary_accuracy: 0.9302 - val_loss: 0.1821 - val_binary_accuracy: 0.9292\n",
            "Epoch 20/20\n",
            "83/83 [==============================] - 35s 425ms/step - loss: 0.2142 - binary_accuracy: 0.9299 - val_loss: 0.2511 - val_binary_accuracy: 0.9292\n",
            "26/26 [==============================] - 9s 335ms/step\n",
            "Confusion Matrix : \n",
            "[[768   2]\n",
            " [ 57   2]]\n",
            "\n",
            "\n",
            "Classification Report : \n",
            "                    0          1  accuracy   macro avg  weighted avg\n",
            "precision    0.930909   0.500000   0.92883    0.715455      0.900241\n",
            "recall       0.997403   0.033898   0.92883    0.515650      0.928830\n",
            "f1-score     0.963009   0.063492   0.92883    0.513251      0.898991\n",
            "support    770.000000  59.000000   0.92883  829.000000    829.000000\n",
            "Model Training Results : \n"
          ]
        },
        {
          "output_type": "display_data",
          "data": {
            "text/plain": [
              "<Figure size 432x288 with 1 Axes>"
            ],
            "image/png": "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\n"
          },
          "metadata": {
            "needs_background": "light"
          }
        }
      ]
    },
    {
      "cell_type": "markdown",
      "source": [
        "Increasing number of epochs didn't help much. Training and Validation losses are just fluctuating around. Might need to tweak data prep!"
      ],
      "metadata": {
        "id": "E1fGnCn7sLWY"
      }
    },
    {
      "cell_type": "code",
      "source": [
        "SCHEMA = ['Experiment Name', 'True Positives', 'True Negatives', 'False Positives', \n",
        "          'False Negatives', 'Overall F1 Score','Overall Precision','Overall Recall',\n",
        "          'F1 for Positives Records','Precision for Positive Records', 'Recall for Positive Records']\n",
        "\n",
        "pd.DataFrame(EXPERIMENT_RESULTS, columns=SCHEMA)"
      ],
      "metadata": {
        "id": "tk1q89WBQW1C",
        "colab": {
          "base_uri": "https://localhost:8080/",
          "height": 225
        },
        "outputId": "baf6896e-a00f-4a49-857c-8e40afddaa31"
      },
      "execution_count": 25,

        "SCHEMA = ['Experiment Name', 'True Positives', 'True Negatives', 'False Positives', \n",
        "          'False Negatives', 'Overall F1 Score','Overall Precision','Overall Recall',\n",
        "          'F1 for Positives Records','Precision for Positive Records', 'Recall for Positive Records']\n",
        "\n",
        "pd.DataFrame(EXPERIMENT_RESULTS, columns=SCHEMA)"
      ],
      "metadata": {
        "id": "tk1q89WBQW1C",
        "colab": {
          "base_uri": "https://localhost:8080/",
          "height": 159
        },
        "outputId": "a965248c-4ba0-46b8-896b-28875082feb9"
      },
      "execution_count": 22,

      "outputs": [
        {
          "output_type": "execute_result",
          "data": {
            "text/plain": [

              "          Experiment Name  True Positives  True Negatives  False Positives  \\\n",
              "0                    BERT               1             767                3   \n",
              "1  BERT - Increase Epochs               2             768                2   \n",
              "\n",
              "   False Negatives  Overall F1 Score  Overall Precision  Overall Recall  \\\n",
              "0               58          0.895567           0.881323        0.926417   \n",
              "1               57          0.898991           0.900241        0.928830   \n",
              "\n",
              "   F1 for Positives Records  Precision for Positive Records  \\\n",
              "0                  0.031746                            0.25   \n",
              "1                  0.063492                            0.50   \n",
              "\n",
              "   Recall for Positive Records  \n",
              "0                     0.016949  \n",
              "1                     0.033898  "
            ],
            "text/html": [
              "\n",
              "  <div id=\"df-a17a9a9a-44fe-401a-bf4f-53ed69fabcb6\">\n",

              "  Experiment Name  True Positives  True Negatives  False Positives  \\\n",
              "0            BERT               1             767                3   \n",
              "\n",
              "   False Negatives  Overall F1 Score  Overall Precision  Overall Recall  \\\n",
              "0               58          0.895567           0.881323        0.926417   \n",
              "\n",
              "   F1 for Positives Records  Precision for Positive Records  \\\n",
              "0                  0.031746                            0.25   \n",
              "\n",
              "   Recall for Positive Records  \n",
              "0                     0.016949  "
            ],
            "text/html": [
              "\n",
              "  <div id=\"df-6ecf5443-e642-4bb8-94c9-c5204b339521\">\n",

              "    <div class=\"colab-df-container\">\n",
              "      <div>\n",
              "<style scoped>\n",
              "    .dataframe tbody tr th:only-of-type {\n",
              "        vertical-align: middle;\n",
              "    }\n",
              "\n",
              "    .dataframe tbody tr th {\n",
              "        vertical-align: top;\n",
              "    }\n",
              "\n",
              "    .dataframe thead th {\n",
              "        text-align: right;\n",
              "    }\n",
              "</style>\n",
              "<table border=\"1\" class=\"dataframe\">\n",
              "  <thead>\n",
              "    <tr style=\"text-align: right;\">\n",
              "      <th></th>\n",
              "      <th>Experiment Name</th>\n",
              "      <th>True Positives</th>\n",
              "      <th>True Negatives</th>\n",
              "      <th>False Positives</th>\n",
              "      <th>False Negatives</th>\n",
              "      <th>Overall F1 Score</th>\n",
              "      <th>Overall Precision</th>\n",
              "      <th>Overall Recall</th>\n",
              "      <th>F1 for Positives Records</th>\n",
              "      <th>Precision for Positive Records</th>\n",
              "      <th>Recall for Positive Records</th>\n",
              "    </tr>\n",
              "  </thead>\n",
              "  <tbody>\n",
              "    <tr>\n",
              "      <th>0</th>\n",
              "      <td>BERT</td>\n",
              "      <td>1</td>\n",
              "      <td>767</td>\n",
              "      <td>3</td>\n",
              "      <td>58</td>\n",
              "      <td>0.895567</td>\n",
              "      <td>0.881323</td>\n",
              "      <td>0.926417</td>\n",
              "      <td>0.031746</td>\n",
              "      <td>0.25</td>\n",
              "      <td>0.016949</td>\n",
              "    </tr>\n",

              "    <tr>\n",
              "      <th>1</th>\n",
              "      <td>BERT - Increase Epochs</td>\n",
              "      <td>2</td>\n",
              "      <td>768</td>\n",
              "      <td>2</td>\n",
              "      <td>57</td>\n",
              "      <td>0.898991</td>\n",
              "      <td>0.900241</td>\n",
              "      <td>0.928830</td>\n",
              "      <td>0.063492</td>\n",
              "      <td>0.50</td>\n",
              "      <td>0.033898</td>\n",
              "    </tr>\n",
              "  </tbody>\n",
              "</table>\n",
              "</div>\n",
              "      <button class=\"colab-df-convert\" onclick=\"convertToInteractive('df-a17a9a9a-44fe-401a-bf4f-53ed69fabcb6')\"\n",

              "  </tbody>\n",
              "</table>\n",
              "</div>\n",
              "      <button class=\"colab-df-convert\" onclick=\"convertToInteractive('df-6ecf5443-e642-4bb8-94c9-c5204b339521')\"\n",

              "              title=\"Convert this dataframe to an interactive table.\"\n",
              "              style=\"display:none;\">\n",
              "        \n",
              "  <svg xmlns=\"http://www.w3.org/2000/svg\" height=\"24px\"viewBox=\"0 0 24 24\"\n",
              "       width=\"24px\">\n",
              "    <path d=\"M0 0h24v24H0V0z\" fill=\"none\"/>\n",
              "    <path d=\"M18.56 5.44l.94 2.06.94-2.06 2.06-.94-2.06-.94-.94-2.06-.94 2.06-2.06.94zm-11 1L8.5 8.5l.94-2.06 2.06-.94-2.06-.94L8.5 2.5l-.94 2.06-2.06.94zm10 10l.94 2.06.94-2.06 2.06-.94-2.06-.94-.94-2.06-.94 2.06-2.06.94z\"/><path d=\"M17.41 7.96l-1.37-1.37c-.4-.4-.92-.59-1.43-.59-.52 0-1.04.2-1.43.59L10.3 9.45l-7.72 7.72c-.78.78-.78 2.05 0 2.83L4 21.41c.39.39.9.59 1.41.59.51 0 1.02-.2 1.41-.59l7.78-7.78 2.81-2.81c.8-.78.8-2.07 0-2.86zM5.41 20L4 18.59l7.72-7.72 1.47 1.35L5.41 20z\"/>\n",
              "  </svg>\n",
              "      </button>\n",
              "      \n",
              "  <style>\n",
              "    .colab-df-container {\n",
              "      display:flex;\n",
              "      flex-wrap:wrap;\n",
              "      gap: 12px;\n",
              "    }\n",
              "\n",
              "    .colab-df-convert {\n",
              "      background-color: #E8F0FE;\n",
              "      border: none;\n",
              "      border-radius: 50%;\n",
              "      cursor: pointer;\n",
              "      display: none;\n",
              "      fill: #1967D2;\n",
              "      height: 32px;\n",
              "      padding: 0 0 0 0;\n",
              "      width: 32px;\n",
              "    }\n",
              "\n",
              "    .colab-df-convert:hover {\n",
              "      background-color: #E2EBFA;\n",
              "      box-shadow: 0px 1px 2px rgba(60, 64, 67, 0.3), 0px 1px 3px 1px rgba(60, 64, 67, 0.15);\n",
              "      fill: #174EA6;\n",
              "    }\n",
              "\n",
              "    [theme=dark] .colab-df-convert {\n",
              "      background-color: #3B4455;\n",
              "      fill: #D2E3FC;\n",
              "    }\n",
              "\n",
              "    [theme=dark] .colab-df-convert:hover {\n",
              "      background-color: #434B5C;\n",
              "      box-shadow: 0px 1px 3px 1px rgba(0, 0, 0, 0.15);\n",
              "      filter: drop-shadow(0px 1px 2px rgba(0, 0, 0, 0.3));\n",
              "      fill: #FFFFFF;\n",
              "    }\n",
              "  </style>\n",
              "\n",
              "      <script>\n",
              "        const buttonEl =\n",

              "          document.querySelector('#df-a17a9a9a-44fe-401a-bf4f-53ed69fabcb6 button.colab-df-convert');\n",

              "          document.querySelector('#df-6ecf5443-e642-4bb8-94c9-c5204b339521 button.colab-df-convert');\n",

              "        buttonEl.style.display =\n",
              "          google.colab.kernel.accessAllowed ? 'block' : 'none';\n",
              "\n",
              "        async function convertToInteractive(key) {\n",

              "          const element = document.querySelector('#df-a17a9a9a-44fe-401a-bf4f-53ed69fabcb6');\n",

              "          const element = document.querySelector('#df-6ecf5443-e642-4bb8-94c9-c5204b339521');\n",

              "          const dataTable =\n",
              "            await google.colab.kernel.invokeFunction('convertToInteractive',\n",
              "                                                     [key], {});\n",
              "          if (!dataTable) return;\n",
              "\n",
              "          const docLinkHtml = 'Like what you see? Visit the ' +\n",
              "            '<a target=\"_blank\" href=https://colab.research.google.com/notebooks/data_table.ipynb>data table notebook</a>'\n",
              "            + ' to learn more about interactive tables.';\n",
              "          element.innerHTML = '';\n",
              "          dataTable['output_type'] = 'display_data';\n",
              "          await google.colab.output.renderOutput(dataTable, element);\n",
              "          const docLink = document.createElement('div');\n",
              "          docLink.innerHTML = docLinkHtml;\n",
              "          element.appendChild(docLink);\n",
              "        }\n",
              "      </script>\n",
              "    </div>\n",
              "  </div>\n",
              "  "
            ]
          },
          "metadata": {},

          "execution_count": 25

          "execution_count": 22

        }
      ]
    }
  ]
}