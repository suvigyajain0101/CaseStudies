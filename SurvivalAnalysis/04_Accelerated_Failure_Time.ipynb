{
  "nbformat": 4,
  "nbformat_minor": 0,
  "metadata": {
    "colab": {
      "name": "04_Accelerated_Failure_Time.ipynb",
      "provenance": [],
      "authorship_tag": "ABX9TyNSblBpi1KUWZYScMG+D+SD"
    },
    "kernelspec": {
      "name": "python3",
      "display_name": "Python 3"
    },
    "language_info": {
      "name": "python"
    }
  },
  "cells": [
    {
      "cell_type": "markdown",
      "source": [
        "# Accelerated Failure Time\n",
        "\n",
        "* The canonical example of Accelerated Failure Time models, shared by Kleinbaum & Klein in Survival Analysis: A Self-Learning Text, is the lifespan of dogs. It is commonly accepted that dogs age 7x faster than humans. They go through the same lifestages that we do, just faster.\n",
        "\n",
        "* In contrast to Kaplan-Meier and Cox Proportional Hazards, Accelerated Failure Time is a parametric model. This means that the outcome variable is assumed to follow a specified distribution. Parametric models are typically less 'flexible' than non-parametric and semi-parametric models but can be a good choice when you're comfortable with specifying the distribution of the outcome variable.\n",
        "\n",
        "* Similar to Cox Proportional Hazards, the Accelerated Failure Time model has underlying assumptions to be aware of. These assumptions are covered below.\n",
        "\n",
        "## The Accelerated Failure Time Model Equation\n",
        "\n",
        "* Using the Accelerated Failure Time equation below, if we were to define group A as humans and group B as dogs, then the acceleration factor would be 7. Similarly, if we define group A as dogs and group B as humans, then the acceleration factor would be 1/7.\n",
        "\n",
        "* The specification for lambda, which represents the accelerated failure rate, is intentionally generalized here. In practice, the survival function for the accelerated failure rate includes one or more parameters. For example, the specification when using log-logistic accelerated failure time is: 1/(1+lambda x t ^ p).\n",
        "\n",
        "* The full specification of the accelerated failure rate is most relevant when using log-log plots to verify whether the accelerated failure time assumptions have been violated. This is covered in further detail below.\n",
        "\n",
        "![image.png](data:image/png;base64,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)"
      ],
      "metadata": {
        "id": "1WMpnV_NWIZY"
      }
    },
    {
      "cell_type": "markdown",
      "source": [
        "#### Setup"
      ],
      "metadata": {
        "id": "r8V_qz8vX4RI"
      }
    },
    {
      "cell_type": "code",
      "source": [
        "! pip install lifelines"
      ],
      "metadata": {
        "id": "bmi1TVGmXuhy"
      },
      "execution_count": null,
      "outputs": []
    },
    {
      "cell_type": "code",
      "source": [
        "# Import libraries\n",
        "import pandas as pd\n",
        "import seaborn as sns\n",
        "import numpy as np\n",
        "import matplotlib.pyplot as plt\n",
        " \n",
        "from lifelines import WeibullAFTFitter,LogNormalAFTFitter,LogLogisticAFTFitter\n",
        "from lifelines.fitters.coxph_fitter import CoxPHFitter\n",
        "from lifelines.statistics import proportional_hazard_test"
      ],
      "metadata": {
        "id": "Iwfsr2qOX3XT"
      },
      "execution_count": 9,
      "outputs": []
    },
    {
      "cell_type": "code",
      "source": [
        "! wget https://raw.githubusercontent.com/IBM/telco-customer-churn-on-icp4d/master/data/Telco-Customer-Churn.csv"
      ],
      "metadata": {
        "id": "UkJuPI6dYHmY"
      },
      "execution_count": null,
      "outputs": []
    },
    {
      "cell_type": "code",
      "source": [
        "df = pd.read_csv('/content/Telco-Customer-Churn.csv')\n",
        "\n",
        "# To keep the analysis focused, let's just filter to internet subscribers with a month-to-month contract\n",
        "df = df[df['Contract'] == 'Month-to-month']\n",
        "\n",
        "df = df[df['InternetService'] != 'No']\n",
        "\n",
        "# Convert Churn column to a boolean\n",
        "df['Churn'] = df['Churn'].replace(to_replace=['No', 'Yes'], value=[0, 1])\n",
        "\n",
        "print('Data Shape : ', df.shape)\n",
        "df.head()"
      ],
      "metadata": {
        "colab": {
          "base_uri": "https://localhost:8080/",
          "height": 404
        },
        "id": "0d93JmUkYJ1V",
        "outputId": "3a3f267a-5529-4d38-a91c-34319bd2c58b"
      },
      "execution_count": 4,
      "outputs": [
        {
          "output_type": "stream",
          "name": "stdout",
          "text": [
            "Data Shape :  (3351, 21)\n"
          ]
        },
        {
          "output_type": "execute_result",
          "data": {
            "text/plain": [
              "   customerID  gender  SeniorCitizen Partner Dependents  tenure PhoneService  \\\n",
              "0  7590-VHVEG  Female              0     Yes         No       1           No   \n",
              "2  3668-QPYBK    Male              0      No         No       2          Yes   \n",
              "4  9237-HQITU  Female              0      No         No       2          Yes   \n",
              "5  9305-CDSKC  Female              0      No         No       8          Yes   \n",
              "6  1452-KIOVK    Male              0      No        Yes      22          Yes   \n",
              "\n",
              "      MultipleLines InternetService OnlineSecurity  ... DeviceProtection  \\\n",
              "0  No phone service             DSL             No  ...               No   \n",
              "2                No             DSL            Yes  ...               No   \n",
              "4                No     Fiber optic             No  ...               No   \n",
              "5               Yes     Fiber optic             No  ...              Yes   \n",
              "6               Yes     Fiber optic             No  ...               No   \n",
              "\n",
              "  TechSupport StreamingTV StreamingMovies        Contract PaperlessBilling  \\\n",
              "0          No          No              No  Month-to-month              Yes   \n",
              "2          No          No              No  Month-to-month              Yes   \n",
              "4          No          No              No  Month-to-month              Yes   \n",
              "5          No         Yes             Yes  Month-to-month              Yes   \n",
              "6          No         Yes              No  Month-to-month              Yes   \n",
              "\n",
              "             PaymentMethod MonthlyCharges  TotalCharges Churn  \n",
              "0         Electronic check          29.85         29.85     0  \n",
              "2             Mailed check          53.85        108.15     1  \n",
              "4         Electronic check          70.70        151.65     1  \n",
              "5         Electronic check          99.65         820.5     1  \n",
              "6  Credit card (automatic)          89.10        1949.4     0  \n",
              "\n",
              "[5 rows x 21 columns]"
            ],
            "text/html": [
              "\n",
              "  <div id=\"df-df5f5825-387a-4b2d-9894-66ffa5b111b8\">\n",
              "    <div class=\"colab-df-container\">\n",
              "      <div>\n",
              "<style scoped>\n",
              "    .dataframe tbody tr th:only-of-type {\n",
              "        vertical-align: middle;\n",
              "    }\n",
              "\n",
              "    .dataframe tbody tr th {\n",
              "        vertical-align: top;\n",
              "    }\n",
              "\n",
              "    .dataframe thead th {\n",
              "        text-align: right;\n",
              "    }\n",
              "</style>\n",
              "<table border=\"1\" class=\"dataframe\">\n",
              "  <thead>\n",
              "    <tr style=\"text-align: right;\">\n",
              "      <th></th>\n",
              "      <th>customerID</th>\n",
              "      <th>gender</th>\n",
              "      <th>SeniorCitizen</th>\n",
              "      <th>Partner</th>\n",
              "      <th>Dependents</th>\n",
              "      <th>tenure</th>\n",
              "      <th>PhoneService</th>\n",
              "      <th>MultipleLines</th>\n",
              "      <th>InternetService</th>\n",
              "      <th>OnlineSecurity</th>\n",
              "      <th>...</th>\n",
              "      <th>DeviceProtection</th>\n",
              "      <th>TechSupport</th>\n",
              "      <th>StreamingTV</th>\n",
              "      <th>StreamingMovies</th>\n",
              "      <th>Contract</th>\n",
              "      <th>PaperlessBilling</th>\n",
              "      <th>PaymentMethod</th>\n",
              "      <th>MonthlyCharges</th>\n",
              "      <th>TotalCharges</th>\n",
              "      <th>Churn</th>\n",
              "    </tr>\n",
              "  </thead>\n",
              "  <tbody>\n",
              "    <tr>\n",
              "      <th>0</th>\n",
              "      <td>7590-VHVEG</td>\n",
              "      <td>Female</td>\n",
              "      <td>0</td>\n",
              "      <td>Yes</td>\n",
              "      <td>No</td>\n",
              "      <td>1</td>\n",
              "      <td>No</td>\n",
              "      <td>No phone service</td>\n",
              "      <td>DSL</td>\n",
              "      <td>No</td>\n",
              "      <td>...</td>\n",
              "      <td>No</td>\n",
              "      <td>No</td>\n",
              "      <td>No</td>\n",
              "      <td>No</td>\n",
              "      <td>Month-to-month</td>\n",
              "      <td>Yes</td>\n",
              "      <td>Electronic check</td>\n",
              "      <td>29.85</td>\n",
              "      <td>29.85</td>\n",
              "      <td>0</td>\n",
              "    </tr>\n",
              "    <tr>\n",
              "      <th>2</th>\n",
              "      <td>3668-QPYBK</td>\n",
              "      <td>Male</td>\n",
              "      <td>0</td>\n",
              "      <td>No</td>\n",
              "      <td>No</td>\n",
              "      <td>2</td>\n",
              "      <td>Yes</td>\n",
              "      <td>No</td>\n",
              "      <td>DSL</td>\n",
              "      <td>Yes</td>\n",
              "      <td>...</td>\n",
              "      <td>No</td>\n",
              "      <td>No</td>\n",
              "      <td>No</td>\n",
              "      <td>No</td>\n",
              "      <td>Month-to-month</td>\n",
              "      <td>Yes</td>\n",
              "      <td>Mailed check</td>\n",
              "      <td>53.85</td>\n",
              "      <td>108.15</td>\n",
              "      <td>1</td>\n",
              "    </tr>\n",
              "    <tr>\n",
              "      <th>4</th>\n",
              "      <td>9237-HQITU</td>\n",
              "      <td>Female</td>\n",
              "      <td>0</td>\n",
              "      <td>No</td>\n",
              "      <td>No</td>\n",
              "      <td>2</td>\n",
              "      <td>Yes</td>\n",
              "      <td>No</td>\n",
              "      <td>Fiber optic</td>\n",
              "      <td>No</td>\n",
              "      <td>...</td>\n",
              "      <td>No</td>\n",
              "      <td>No</td>\n",
              "      <td>No</td>\n",
              "      <td>No</td>\n",
              "      <td>Month-to-month</td>\n",
              "      <td>Yes</td>\n",
              "      <td>Electronic check</td>\n",
              "      <td>70.70</td>\n",
              "      <td>151.65</td>\n",
              "      <td>1</td>\n",
              "    </tr>\n",
              "    <tr>\n",
              "      <th>5</th>\n",
              "      <td>9305-CDSKC</td>\n",
              "      <td>Female</td>\n",
              "      <td>0</td>\n",
              "      <td>No</td>\n",
              "      <td>No</td>\n",
              "      <td>8</td>\n",
              "      <td>Yes</td>\n",
              "      <td>Yes</td>\n",
              "      <td>Fiber optic</td>\n",
              "      <td>No</td>\n",
              "      <td>...</td>\n",
              "      <td>Yes</td>\n",
              "      <td>No</td>\n",
              "      <td>Yes</td>\n",
              "      <td>Yes</td>\n",
              "      <td>Month-to-month</td>\n",
              "      <td>Yes</td>\n",
              "      <td>Electronic check</td>\n",
              "      <td>99.65</td>\n",
              "      <td>820.5</td>\n",
              "      <td>1</td>\n",
              "    </tr>\n",
              "    <tr>\n",
              "      <th>6</th>\n",
              "      <td>1452-KIOVK</td>\n",
              "      <td>Male</td>\n",
              "      <td>0</td>\n",
              "      <td>No</td>\n",
              "      <td>Yes</td>\n",
              "      <td>22</td>\n",
              "      <td>Yes</td>\n",
              "      <td>Yes</td>\n",
              "      <td>Fiber optic</td>\n",
              "      <td>No</td>\n",
              "      <td>...</td>\n",
              "      <td>No</td>\n",
              "      <td>No</td>\n",
              "      <td>Yes</td>\n",
              "      <td>No</td>\n",
              "      <td>Month-to-month</td>\n",
              "      <td>Yes</td>\n",
              "      <td>Credit card (automatic)</td>\n",
              "      <td>89.10</td>\n",
              "      <td>1949.4</td>\n",
              "      <td>0</td>\n",
              "    </tr>\n",
              "  </tbody>\n",
              "</table>\n",
              "<p>5 rows × 21 columns</p>\n",
              "</div>\n",
              "      <button class=\"colab-df-convert\" onclick=\"convertToInteractive('df-df5f5825-387a-4b2d-9894-66ffa5b111b8')\"\n",
              "              title=\"Convert this dataframe to an interactive table.\"\n",
              "              style=\"display:none;\">\n",
              "        \n",
              "  <svg xmlns=\"http://www.w3.org/2000/svg\" height=\"24px\"viewBox=\"0 0 24 24\"\n",
              "       width=\"24px\">\n",
              "    <path d=\"M0 0h24v24H0V0z\" fill=\"none\"/>\n",
              "    <path d=\"M18.56 5.44l.94 2.06.94-2.06 2.06-.94-2.06-.94-.94-2.06-.94 2.06-2.06.94zm-11 1L8.5 8.5l.94-2.06 2.06-.94-2.06-.94L8.5 2.5l-.94 2.06-2.06.94zm10 10l.94 2.06.94-2.06 2.06-.94-2.06-.94-.94-2.06-.94 2.06-2.06.94z\"/><path d=\"M17.41 7.96l-1.37-1.37c-.4-.4-.92-.59-1.43-.59-.52 0-1.04.2-1.43.59L10.3 9.45l-7.72 7.72c-.78.78-.78 2.05 0 2.83L4 21.41c.39.39.9.59 1.41.59.51 0 1.02-.2 1.41-.59l7.78-7.78 2.81-2.81c.8-.78.8-2.07 0-2.86zM5.41 20L4 18.59l7.72-7.72 1.47 1.35L5.41 20z\"/>\n",
              "  </svg>\n",
              "      </button>\n",
              "      \n",
              "  <style>\n",
              "    .colab-df-container {\n",
              "      display:flex;\n",
              "      flex-wrap:wrap;\n",
              "      gap: 12px;\n",
              "    }\n",
              "\n",
              "    .colab-df-convert {\n",
              "      background-color: #E8F0FE;\n",
              "      border: none;\n",
              "      border-radius: 50%;\n",
              "      cursor: pointer;\n",
              "      display: none;\n",
              "      fill: #1967D2;\n",
              "      height: 32px;\n",
              "      padding: 0 0 0 0;\n",
              "      width: 32px;\n",
              "    }\n",
              "\n",
              "    .colab-df-convert:hover {\n",
              "      background-color: #E2EBFA;\n",
              "      box-shadow: 0px 1px 2px rgba(60, 64, 67, 0.3), 0px 1px 3px 1px rgba(60, 64, 67, 0.15);\n",
              "      fill: #174EA6;\n",
              "    }\n",
              "\n",
              "    [theme=dark] .colab-df-convert {\n",
              "      background-color: #3B4455;\n",
              "      fill: #D2E3FC;\n",
              "    }\n",
              "\n",
              "    [theme=dark] .colab-df-convert:hover {\n",
              "      background-color: #434B5C;\n",
              "      box-shadow: 0px 1px 3px 1px rgba(0, 0, 0, 0.15);\n",
              "      filter: drop-shadow(0px 1px 2px rgba(0, 0, 0, 0.3));\n",
              "      fill: #FFFFFF;\n",
              "    }\n",
              "  </style>\n",
              "\n",
              "      <script>\n",
              "        const buttonEl =\n",
              "          document.querySelector('#df-df5f5825-387a-4b2d-9894-66ffa5b111b8 button.colab-df-convert');\n",
              "        buttonEl.style.display =\n",
              "          google.colab.kernel.accessAllowed ? 'block' : 'none';\n",
              "\n",
              "        async function convertToInteractive(key) {\n",
              "          const element = document.querySelector('#df-df5f5825-387a-4b2d-9894-66ffa5b111b8');\n",
              "          const dataTable =\n",
              "            await google.colab.kernel.invokeFunction('convertToInteractive',\n",
              "                                                     [key], {});\n",
              "          if (!dataTable) return;\n",
              "\n",
              "          const docLinkHtml = 'Like what you see? Visit the ' +\n",
              "            '<a target=\"_blank\" href=https://colab.research.google.com/notebooks/data_table.ipynb>data table notebook</a>'\n",
              "            + ' to learn more about interactive tables.';\n",
              "          element.innerHTML = '';\n",
              "          dataTable['output_type'] = 'display_data';\n",
              "          await google.colab.output.renderOutput(dataTable, element);\n",
              "          const docLink = document.createElement('div');\n",
              "          docLink.innerHTML = docLinkHtml;\n",
              "          element.appendChild(docLink);\n",
              "        }\n",
              "      </script>\n",
              "    </div>\n",
              "  </div>\n",
              "  "
            ]
          },
          "metadata": {},
          "execution_count": 4
        }
      ]
    },
    {
      "cell_type": "markdown",
      "source": [
        "### One-Hot Encode the Categorical Variables\n",
        "\n",
        "* As is the case when using the Lifelines library to fit a Cox Proportional Hazards model, you must one-hot encode your categorical columns when using an Accelerated Failure Time model. We have hand-selected 8 variables to use for this notebook.\n",
        "\n",
        "* After one-hot encoding the variables, we then created a new dataframe consisting of only the columns we need in order to fit the model.\n",
        "\n",
        "* When creating the dataframe that you will use to fit the model, it is important that you drop one column for each one-hot encoded variable. For example, we included dependents_yes and dropped dependents_no. If you neglect to do this, you will likely receive an error when fitting the model that states that there are multi-collinearity issues with your data. This means that certain columns are highly correlated. For example, if you know that dependents_yes = 1 then you in turn know that dependents_no = 0.\n",
        "\n",
        "* You can take one of two approaches when dropping variables. When using Pandas' get_dummies() function, you can simply set drop_first = True. An alternative approach, which is the one taken here, is to hand-select which variables to drop. In this notebook, we dropped the value that had a Kaplan-Meier survival probability curve most similar to the population. While this is by no means necessary, it affords an intuitive interpretation as the baseline closely resembles the population."
      ],
      "metadata": {
        "id": "fVVTqUcLYOjp"
      }
    },
    {
      "cell_type": "code",
      "source": [
        "encode_cols = ['Partner','MultipleLines','InternetService','OnlineSecurity', 'OnlineBackup','DeviceProtection','TechSupport','PaymentMethod']\n",
        " \n",
        "encoded_pd = pd.get_dummies(df,\n",
        "               columns=encode_cols,\n",
        "               prefix=encode_cols,\n",
        "               drop_first=False)\n",
        " \n",
        "encoded_pd.head()"
      ],
      "metadata": {
        "colab": {
          "base_uri": "https://localhost:8080/",
          "height": 421
        },
        "id": "Qx7A2WADYenA",
        "outputId": "948ed847-c2e1-4295-f6c3-0b30f7f9a195"
      },
      "execution_count": 5,
      "outputs": [
        {
          "output_type": "execute_result",
          "data": {
            "text/plain": [
              "   customerID  gender  SeniorCitizen Dependents  tenure PhoneService  \\\n",
              "0  7590-VHVEG  Female              0         No       1           No   \n",
              "2  3668-QPYBK    Male              0         No       2          Yes   \n",
              "4  9237-HQITU  Female              0         No       2          Yes   \n",
              "5  9305-CDSKC  Female              0         No       8          Yes   \n",
              "6  1452-KIOVK    Male              0        Yes      22          Yes   \n",
              "\n",
              "  StreamingTV StreamingMovies        Contract PaperlessBilling  ...  \\\n",
              "0          No              No  Month-to-month              Yes  ...   \n",
              "2          No              No  Month-to-month              Yes  ...   \n",
              "4          No              No  Month-to-month              Yes  ...   \n",
              "5         Yes             Yes  Month-to-month              Yes  ...   \n",
              "6         Yes              No  Month-to-month              Yes  ...   \n",
              "\n",
              "   OnlineBackup_No OnlineBackup_Yes  DeviceProtection_No  \\\n",
              "0                0                1                    1   \n",
              "2                0                1                    1   \n",
              "4                1                0                    1   \n",
              "5                1                0                    0   \n",
              "6                0                1                    1   \n",
              "\n",
              "   DeviceProtection_Yes  TechSupport_No  TechSupport_Yes  \\\n",
              "0                     0               1                0   \n",
              "2                     0               1                0   \n",
              "4                     0               1                0   \n",
              "5                     1               1                0   \n",
              "6                     0               1                0   \n",
              "\n",
              "   PaymentMethod_Bank transfer (automatic)  \\\n",
              "0                                        0   \n",
              "2                                        0   \n",
              "4                                        0   \n",
              "5                                        0   \n",
              "6                                        0   \n",
              "\n",
              "   PaymentMethod_Credit card (automatic)  PaymentMethod_Electronic check  \\\n",
              "0                                      0                               1   \n",
              "2                                      0                               0   \n",
              "4                                      0                               1   \n",
              "5                                      0                               1   \n",
              "6                                      1                               0   \n",
              "\n",
              "   PaymentMethod_Mailed check  \n",
              "0                           0  \n",
              "2                           1  \n",
              "4                           0  \n",
              "5                           0  \n",
              "6                           0  \n",
              "\n",
              "[5 rows x 32 columns]"
            ],
            "text/html": [
              "\n",
              "  <div id=\"df-2bb30f56-5bba-48ab-ad75-149b255f2703\">\n",
              "    <div class=\"colab-df-container\">\n",
              "      <div>\n",
              "<style scoped>\n",
              "    .dataframe tbody tr th:only-of-type {\n",
              "        vertical-align: middle;\n",
              "    }\n",
              "\n",
              "    .dataframe tbody tr th {\n",
              "        vertical-align: top;\n",
              "    }\n",
              "\n",
              "    .dataframe thead th {\n",
              "        text-align: right;\n",
              "    }\n",
              "</style>\n",
              "<table border=\"1\" class=\"dataframe\">\n",
              "  <thead>\n",
              "    <tr style=\"text-align: right;\">\n",
              "      <th></th>\n",
              "      <th>customerID</th>\n",
              "      <th>gender</th>\n",
              "      <th>SeniorCitizen</th>\n",
              "      <th>Dependents</th>\n",
              "      <th>tenure</th>\n",
              "      <th>PhoneService</th>\n",
              "      <th>StreamingTV</th>\n",
              "      <th>StreamingMovies</th>\n",
              "      <th>Contract</th>\n",
              "      <th>PaperlessBilling</th>\n",
              "      <th>...</th>\n",
              "      <th>OnlineBackup_No</th>\n",
              "      <th>OnlineBackup_Yes</th>\n",
              "      <th>DeviceProtection_No</th>\n",
              "      <th>DeviceProtection_Yes</th>\n",
              "      <th>TechSupport_No</th>\n",
              "      <th>TechSupport_Yes</th>\n",
              "      <th>PaymentMethod_Bank transfer (automatic)</th>\n",
              "      <th>PaymentMethod_Credit card (automatic)</th>\n",
              "      <th>PaymentMethod_Electronic check</th>\n",
              "      <th>PaymentMethod_Mailed check</th>\n",
              "    </tr>\n",
              "  </thead>\n",
              "  <tbody>\n",
              "    <tr>\n",
              "      <th>0</th>\n",
              "      <td>7590-VHVEG</td>\n",
              "      <td>Female</td>\n",
              "      <td>0</td>\n",
              "      <td>No</td>\n",
              "      <td>1</td>\n",
              "      <td>No</td>\n",
              "      <td>No</td>\n",
              "      <td>No</td>\n",
              "      <td>Month-to-month</td>\n",
              "      <td>Yes</td>\n",
              "      <td>...</td>\n",
              "      <td>0</td>\n",
              "      <td>1</td>\n",
              "      <td>1</td>\n",
              "      <td>0</td>\n",
              "      <td>1</td>\n",
              "      <td>0</td>\n",
              "      <td>0</td>\n",
              "      <td>0</td>\n",
              "      <td>1</td>\n",
              "      <td>0</td>\n",
              "    </tr>\n",
              "    <tr>\n",
              "      <th>2</th>\n",
              "      <td>3668-QPYBK</td>\n",
              "      <td>Male</td>\n",
              "      <td>0</td>\n",
              "      <td>No</td>\n",
              "      <td>2</td>\n",
              "      <td>Yes</td>\n",
              "      <td>No</td>\n",
              "      <td>No</td>\n",
              "      <td>Month-to-month</td>\n",
              "      <td>Yes</td>\n",
              "      <td>...</td>\n",
              "      <td>0</td>\n",
              "      <td>1</td>\n",
              "      <td>1</td>\n",
              "      <td>0</td>\n",
              "      <td>1</td>\n",
              "      <td>0</td>\n",
              "      <td>0</td>\n",
              "      <td>0</td>\n",
              "      <td>0</td>\n",
              "      <td>1</td>\n",
              "    </tr>\n",
              "    <tr>\n",
              "      <th>4</th>\n",
              "      <td>9237-HQITU</td>\n",
              "      <td>Female</td>\n",
              "      <td>0</td>\n",
              "      <td>No</td>\n",
              "      <td>2</td>\n",
              "      <td>Yes</td>\n",
              "      <td>No</td>\n",
              "      <td>No</td>\n",
              "      <td>Month-to-month</td>\n",
              "      <td>Yes</td>\n",
              "      <td>...</td>\n",
              "      <td>1</td>\n",
              "      <td>0</td>\n",
              "      <td>1</td>\n",
              "      <td>0</td>\n",
              "      <td>1</td>\n",
              "      <td>0</td>\n",
              "      <td>0</td>\n",
              "      <td>0</td>\n",
              "      <td>1</td>\n",
              "      <td>0</td>\n",
              "    </tr>\n",
              "    <tr>\n",
              "      <th>5</th>\n",
              "      <td>9305-CDSKC</td>\n",
              "      <td>Female</td>\n",
              "      <td>0</td>\n",
              "      <td>No</td>\n",
              "      <td>8</td>\n",
              "      <td>Yes</td>\n",
              "      <td>Yes</td>\n",
              "      <td>Yes</td>\n",
              "      <td>Month-to-month</td>\n",
              "      <td>Yes</td>\n",
              "      <td>...</td>\n",
              "      <td>1</td>\n",
              "      <td>0</td>\n",
              "      <td>0</td>\n",
              "      <td>1</td>\n",
              "      <td>1</td>\n",
              "      <td>0</td>\n",
              "      <td>0</td>\n",
              "      <td>0</td>\n",
              "      <td>1</td>\n",
              "      <td>0</td>\n",
              "    </tr>\n",
              "    <tr>\n",
              "      <th>6</th>\n",
              "      <td>1452-KIOVK</td>\n",
              "      <td>Male</td>\n",
              "      <td>0</td>\n",
              "      <td>Yes</td>\n",
              "      <td>22</td>\n",
              "      <td>Yes</td>\n",
              "      <td>Yes</td>\n",
              "      <td>No</td>\n",
              "      <td>Month-to-month</td>\n",
              "      <td>Yes</td>\n",
              "      <td>...</td>\n",
              "      <td>0</td>\n",
              "      <td>1</td>\n",
              "      <td>1</td>\n",
              "      <td>0</td>\n",
              "      <td>1</td>\n",
              "      <td>0</td>\n",
              "      <td>0</td>\n",
              "      <td>1</td>\n",
              "      <td>0</td>\n",
              "      <td>0</td>\n",
              "    </tr>\n",
              "  </tbody>\n",
              "</table>\n",
              "<p>5 rows × 32 columns</p>\n",
              "</div>\n",
              "      <button class=\"colab-df-convert\" onclick=\"convertToInteractive('df-2bb30f56-5bba-48ab-ad75-149b255f2703')\"\n",
              "              title=\"Convert this dataframe to an interactive table.\"\n",
              "              style=\"display:none;\">\n",
              "        \n",
              "  <svg xmlns=\"http://www.w3.org/2000/svg\" height=\"24px\"viewBox=\"0 0 24 24\"\n",
              "       width=\"24px\">\n",
              "    <path d=\"M0 0h24v24H0V0z\" fill=\"none\"/>\n",
              "    <path d=\"M18.56 5.44l.94 2.06.94-2.06 2.06-.94-2.06-.94-.94-2.06-.94 2.06-2.06.94zm-11 1L8.5 8.5l.94-2.06 2.06-.94-2.06-.94L8.5 2.5l-.94 2.06-2.06.94zm10 10l.94 2.06.94-2.06 2.06-.94-2.06-.94-.94-2.06-.94 2.06-2.06.94z\"/><path d=\"M17.41 7.96l-1.37-1.37c-.4-.4-.92-.59-1.43-.59-.52 0-1.04.2-1.43.59L10.3 9.45l-7.72 7.72c-.78.78-.78 2.05 0 2.83L4 21.41c.39.39.9.59 1.41.59.51 0 1.02-.2 1.41-.59l7.78-7.78 2.81-2.81c.8-.78.8-2.07 0-2.86zM5.41 20L4 18.59l7.72-7.72 1.47 1.35L5.41 20z\"/>\n",
              "  </svg>\n",
              "      </button>\n",
              "      \n",
              "  <style>\n",
              "    .colab-df-container {\n",
              "      display:flex;\n",
              "      flex-wrap:wrap;\n",
              "      gap: 12px;\n",
              "    }\n",
              "\n",
              "    .colab-df-convert {\n",
              "      background-color: #E8F0FE;\n",
              "      border: none;\n",
              "      border-radius: 50%;\n",
              "      cursor: pointer;\n",
              "      display: none;\n",
              "      fill: #1967D2;\n",
              "      height: 32px;\n",
              "      padding: 0 0 0 0;\n",
              "      width: 32px;\n",
              "    }\n",
              "\n",
              "    .colab-df-convert:hover {\n",
              "      background-color: #E2EBFA;\n",
              "      box-shadow: 0px 1px 2px rgba(60, 64, 67, 0.3), 0px 1px 3px 1px rgba(60, 64, 67, 0.15);\n",
              "      fill: #174EA6;\n",
              "    }\n",
              "\n",
              "    [theme=dark] .colab-df-convert {\n",
              "      background-color: #3B4455;\n",
              "      fill: #D2E3FC;\n",
              "    }\n",
              "\n",
              "    [theme=dark] .colab-df-convert:hover {\n",
              "      background-color: #434B5C;\n",
              "      box-shadow: 0px 1px 3px 1px rgba(0, 0, 0, 0.15);\n",
              "      filter: drop-shadow(0px 1px 2px rgba(0, 0, 0, 0.3));\n",
              "      fill: #FFFFFF;\n",
              "    }\n",
              "  </style>\n",
              "\n",
              "      <script>\n",
              "        const buttonEl =\n",
              "          document.querySelector('#df-2bb30f56-5bba-48ab-ad75-149b255f2703 button.colab-df-convert');\n",
              "        buttonEl.style.display =\n",
              "          google.colab.kernel.accessAllowed ? 'block' : 'none';\n",
              "\n",
              "        async function convertToInteractive(key) {\n",
              "          const element = document.querySelector('#df-2bb30f56-5bba-48ab-ad75-149b255f2703');\n",
              "          const dataTable =\n",
              "            await google.colab.kernel.invokeFunction('convertToInteractive',\n",
              "                                                     [key], {});\n",
              "          if (!dataTable) return;\n",
              "\n",
              "          const docLinkHtml = 'Like what you see? Visit the ' +\n",
              "            '<a target=\"_blank\" href=https://colab.research.google.com/notebooks/data_table.ipynb>data table notebook</a>'\n",
              "            + ' to learn more about interactive tables.';\n",
              "          element.innerHTML = '';\n",
              "          dataTable['output_type'] = 'display_data';\n",
              "          await google.colab.output.renderOutput(dataTable, element);\n",
              "          const docLink = document.createElement('div');\n",
              "          docLink.innerHTML = docLinkHtml;\n",
              "          element.appendChild(docLink);\n",
              "        }\n",
              "      </script>\n",
              "    </div>\n",
              "  </div>\n",
              "  "
            ]
          },
          "metadata": {},
          "execution_count": 5
        }
      ]
    },
    {
      "cell_type": "code",
      "source": [
        "survival_pd = encoded_pd[['Churn','tenure','Partner_Yes', 'MultipleLines_Yes', \\\n",
        "                          'InternetService_DSL','OnlineSecurity_Yes','OnlineBackup_Yes','DeviceProtection_Yes','TechSupport_Yes',\\\n",
        "                          'PaymentMethod_Bank transfer (automatic)','PaymentMethod_Credit card (automatic)']]"
      ],
      "metadata": {
        "id": "bzZYJiqVYnRS"
      },
      "execution_count": 7,
      "outputs": []
    },
    {
      "cell_type": "markdown",
      "source": [
        "### Fit the Accelerated Failure Time Model\n",
        "\n",
        "Similar to Kaplan-Meier and Cox Proportional Hazards, the first step when using the Lifelines library for Accelerated Failure Time is to fit the model.\n",
        "\n",
        "* In this notebook, the type of distribution that we have specified for the outcome variable is log-logistic. This is reflected by the use of LogLogisticAFTFitter when fitting the model. Other options that are available through Lifelines include: WeibullAFTFitter, LogNormalAFTFitter. After we fit the model and assess the results, we will assess whether LogLogistic is the appropriate type of distribution to specify for this dataset.\n",
        "\n",
        "* We provided three parameters to the fitted model:\n",
        "\n",
        "  1. `suvival_pd`: the dataframe used to fit the model\n",
        "  2. `Tenure`: the duration that a customer has been with the company (if still a subscriber) or was with the company prior to churning.\n",
        "  3. `Churn`: a Boolean indicating whether the customer is still a subscriber or not."
      ],
      "metadata": {
        "id": "2sCUbkRDYq2_"
      }
    },
    {
      "cell_type": "code",
      "source": [
        "aft = LogLogisticAFTFitter()\n",
        "aft.fit(survival_pd, duration_col='tenure', event_col='Churn')"
      ],
      "metadata": {
        "colab": {
          "base_uri": "https://localhost:8080/"
        },
        "id": "jYEprY1SZffm",
        "outputId": "93b1a25a-8744-4559-f9c3-01c1d1a976ab"
      },
      "execution_count": 10,
      "outputs": [
        {
          "output_type": "execute_result",
          "data": {
            "text/plain": [
              "<lifelines.LogLogisticAFTFitter: fitted with 3351 total observations, 1795 right-censored observations>"
            ]
          },
          "metadata": {},
          "execution_count": 10
        }
      ]
    },
    {
      "cell_type": "code",
      "source": [
        "# Note: the output is exponentiated because it is initially in log-odds\n",
        "print(\"Median Survival Time:{:.2f}\".format(np.exp(aft.median_survival_time_)))"
      ],
      "metadata": {
        "colab": {
          "base_uri": "https://localhost:8080/"
        },
        "id": "IYy5vdYyZkQL",
        "outputId": "bb16d71f-7907-46a3-bca4-a7ce662a9292"
      },
      "execution_count": 11,
      "outputs": [
        {
          "output_type": "stream",
          "name": "stdout",
          "text": [
            "Median Survival Time:135.51\n"
          ]
        }
      ]
    },
    {
      "cell_type": "markdown",
      "source": [
        "### Assess the Results of the Fitted Model\n",
        "\n",
        "There are three key questions to ask when initially assessing the model:\n",
        "\n",
        "1. <u>Is each covariate statistically significant?</u>\n",
        "In the column labeled p below, it can be seen that the p-value for each column is below < 0.005. Therefore, each of the columns is statistically significant and safe to include.\n",
        "Similar to other forms of regression, in the event that a variable is not statisitically significant, you can drop that column from your analysis or recategorize the corresponding values.\n",
        "\n",
        "2. <u>How confident are we in the coefficient estimates?</u>\n",
        "Upper and lower bounds for each coefficient and exp(coefficient) are provided in the model summary below (e.g. exp(coef) lower 95%, exp(coef) upper 95%).\n",
        "Shown below the model summary, these bounds can also be viewed visually. Although it's not seen here, note that when viewing the bounds in this way, a variable can be deemed as not signficant when it's corresponding box-and-whisker plot crosses the value 1.\n",
        "\n",
        "3. <u>What is the effect of each covariate on the hazard ratio?</u>\n",
        "Using internetService_DSL as an example, it's shown below that coef = 0.38 and exp(coef) = 1.47. Referring back to the Accelerated Failure Time equation, this means that a customer's time-until-churn is accelerated by a factor of 1.47 when they have Fiber Optic as their internet service. Note that Fiber Optic is the baseline value and corresponds to Group A in the equation shared above.\n",
        "\n",
        "\n",
        "\n",
        "Note that this output also includes several metrics that can be used when comparing models:\n",
        "  1. Concordance\n",
        "  2. AIC\n",
        "  3. Log-likelihood Ratio"
      ],
      "metadata": {
        "id": "XCF295bVZvG5"
      }
    },
    {
      "cell_type": "code",
      "source": [
        "aft.print_summary()"
      ],
      "metadata": {
        "colab": {
          "base_uri": "https://localhost:8080/",
          "height": 809
        },
        "id": "Tnim7MwUa7wK",
        "outputId": "b1ddb1f9-af6e-471c-e9f1-d179760cc4e2"
      },
      "execution_count": 12,
      "outputs": [
        {
          "output_type": "display_data",
          "data": {
            "text/plain": [
              "<lifelines.LogLogisticAFTFitter: fitted with 3351 total observations, 1795 right-censored observations>\n",
              "             duration col = 'tenure'\n",
              "                event col = 'Churn'\n",
              "   number of observations = 3351\n",
              "number of events observed = 1556\n",
              "           log-likelihood = -6838.36\n",
              "         time fit was run = 2022-08-05 19:06:11 UTC\n",
              "\n",
              "---\n",
              "                                                 coef  exp(coef)   se(coef)   coef lower 95%   coef upper 95%  exp(coef) lower 95%  exp(coef) upper 95%\n",
              "param  covariate                                                                                                                                       \n",
              "alpha_ DeviceProtection_Yes                      0.48       1.62       0.07             0.35             0.62                 1.41                 1.86\n",
              "       InternetService_DSL                       0.38       1.47       0.08             0.23             0.53                 1.26                 1.71\n",
              "       MultipleLines_Yes                         0.66       1.94       0.07             0.53             0.80                 1.70                 2.22\n",
              "       OnlineBackup_Yes                          0.81       2.25       0.07             0.68             0.95                 1.97                 2.59\n",
              "       OnlineSecurity_Yes                        0.86       2.37       0.09             0.69             1.03                 2.00                 2.80\n",
              "       Partner_Yes                               0.68       1.97       0.07             0.55             0.81                 1.73                 2.24\n",
              "       PaymentMethod_Bank transfer (automatic)   0.74       2.10       0.09             0.56             0.92                 1.75                 2.51\n",
              "       PaymentMethod_Credit card (automatic)     0.80       2.22       0.10             0.61             0.99                 1.84                 2.68\n",
              "       TechSupport_Yes                           0.69       1.99       0.09             0.52             0.86                 1.68                 2.36\n",
              "       Intercept                                 1.59       4.91       0.07             1.46             1.72                 4.32                 5.58\n",
              "beta_  Intercept                                 0.12       1.13       0.02             0.08             0.16                 1.08                 1.17\n",
              "\n",
              "                                                 cmp to     z      p   -log2(p)\n",
              "param  covariate                                                               \n",
              "alpha_ DeviceProtection_Yes                        0.00  6.88 <0.005      37.25\n",
              "       InternetService_DSL                         0.00  4.98 <0.005      20.59\n",
              "       MultipleLines_Yes                           0.00  9.64 <0.005      70.70\n",
              "       OnlineBackup_Yes                            0.00 11.63 <0.005     101.50\n",
              "       OnlineSecurity_Yes                          0.00 10.12 <0.005      77.60\n",
              "       Partner_Yes                                 0.00 10.21 <0.005      78.93\n",
              "       PaymentMethod_Bank transfer (automatic)     0.00  8.05 <0.005      50.07\n",
              "       PaymentMethod_Credit card (automatic)       0.00  8.36 <0.005      53.81\n",
              "       TechSupport_Yes                             0.00  7.90 <0.005      48.37\n",
              "       Intercept                                   0.00 24.47 <0.005     436.88\n",
              "beta_  Intercept                                   0.00  5.71 <0.005      26.42\n",
              "---\n",
              "Concordance = 0.73\n",
              "AIC = 13698.72\n",
              "log-likelihood ratio test = 877.49 on 9 df\n",
              "-log2(p) of ll-ratio test = 605.78"
            ],
            "text/html": [
              "<div>\n",
              "<style scoped>\n",
              "    .dataframe tbody tr th:only-of-type {\n",
              "        vertical-align: middle;\n",
              "    }\n",
              "\n",
              "    .dataframe tbody tr th {\n",
              "        vertical-align: top;\n",
              "    }\n",
              "\n",
              "    .dataframe thead th {\n",
              "        text-align: right;\n",
              "    }\n",
              "</style>\n",
              "<table border=\"1\" class=\"dataframe\">\n",
              "  <tbody>\n",
              "    <tr>\n",
              "      <th>model</th>\n",
              "      <td>lifelines.LogLogisticAFTFitter</td>\n",
              "    </tr>\n",
              "    <tr>\n",
              "      <th>duration col</th>\n",
              "      <td>'tenure'</td>\n",
              "    </tr>\n",
              "    <tr>\n",
              "      <th>event col</th>\n",
              "      <td>'Churn'</td>\n",
              "    </tr>\n",
              "    <tr>\n",
              "      <th>number of observations</th>\n",
              "      <td>3351</td>\n",
              "    </tr>\n",
              "    <tr>\n",
              "      <th>number of events observed</th>\n",
              "      <td>1556</td>\n",
              "    </tr>\n",
              "    <tr>\n",
              "      <th>log-likelihood</th>\n",
              "      <td>-6838.36</td>\n",
              "    </tr>\n",
              "    <tr>\n",
              "      <th>time fit was run</th>\n",
              "      <td>2022-08-05 19:06:11 UTC</td>\n",
              "    </tr>\n",
              "  </tbody>\n",
              "</table>\n",
              "</div><table border=\"1\" class=\"dataframe\">\n",
              "  <thead>\n",
              "    <tr style=\"text-align: right;\">\n",
              "      <th style=\"min-width: 12px;\"></th>\n",
              "      <th style=\"min-width: 12px;\"></th>\n",
              "      <th style=\"min-width: 12px;\">coef</th>\n",
              "      <th style=\"min-width: 12px;\">exp(coef)</th>\n",
              "      <th style=\"min-width: 12px;\">se(coef)</th>\n",
              "      <th style=\"min-width: 12px;\">coef lower 95%</th>\n",
              "      <th style=\"min-width: 12px;\">coef upper 95%</th>\n",
              "      <th style=\"min-width: 12px;\">exp(coef) lower 95%</th>\n",
              "      <th style=\"min-width: 12px;\">exp(coef) upper 95%</th>\n",
              "      <th style=\"min-width: 12px;\">cmp to</th>\n",
              "      <th style=\"min-width: 12px;\">z</th>\n",
              "      <th style=\"min-width: 12px;\">p</th>\n",
              "      <th style=\"min-width: 12px;\">-log2(p)</th>\n",
              "    </tr>\n",
              "  </thead>\n",
              "  <tbody>\n",
              "    <tr>\n",
              "      <th rowspan=\"10\" valign=\"top\">alpha_</th>\n",
              "      <th>DeviceProtection_Yes</th>\n",
              "      <td>0.48</td>\n",
              "      <td>1.62</td>\n",
              "      <td>0.07</td>\n",
              "      <td>0.35</td>\n",
              "      <td>0.62</td>\n",
              "      <td>1.41</td>\n",
              "      <td>1.86</td>\n",
              "      <td>0.00</td>\n",
              "      <td>6.88</td>\n",
              "      <td>&lt;0.005</td>\n",
              "      <td>37.25</td>\n",
              "    </tr>\n",
              "    <tr>\n",
              "      <th>InternetService_DSL</th>\n",
              "      <td>0.38</td>\n",
              "      <td>1.47</td>\n",
              "      <td>0.08</td>\n",
              "      <td>0.23</td>\n",
              "      <td>0.53</td>\n",
              "      <td>1.26</td>\n",
              "      <td>1.71</td>\n",
              "      <td>0.00</td>\n",
              "      <td>4.98</td>\n",
              "      <td>&lt;0.005</td>\n",
              "      <td>20.59</td>\n",
              "    </tr>\n",
              "    <tr>\n",
              "      <th>MultipleLines_Yes</th>\n",
              "      <td>0.66</td>\n",
              "      <td>1.94</td>\n",
              "      <td>0.07</td>\n",
              "      <td>0.53</td>\n",
              "      <td>0.80</td>\n",
              "      <td>1.70</td>\n",
              "      <td>2.22</td>\n",
              "      <td>0.00</td>\n",
              "      <td>9.64</td>\n",
              "      <td>&lt;0.005</td>\n",
              "      <td>70.70</td>\n",
              "    </tr>\n",
              "    <tr>\n",
              "      <th>OnlineBackup_Yes</th>\n",
              "      <td>0.81</td>\n",
              "      <td>2.25</td>\n",
              "      <td>0.07</td>\n",
              "      <td>0.68</td>\n",
              "      <td>0.95</td>\n",
              "      <td>1.97</td>\n",
              "      <td>2.59</td>\n",
              "      <td>0.00</td>\n",
              "      <td>11.63</td>\n",
              "      <td>&lt;0.005</td>\n",
              "      <td>101.50</td>\n",
              "    </tr>\n",
              "    <tr>\n",
              "      <th>OnlineSecurity_Yes</th>\n",
              "      <td>0.86</td>\n",
              "      <td>2.37</td>\n",
              "      <td>0.09</td>\n",
              "      <td>0.69</td>\n",
              "      <td>1.03</td>\n",
              "      <td>2.00</td>\n",
              "      <td>2.80</td>\n",
              "      <td>0.00</td>\n",
              "      <td>10.12</td>\n",
              "      <td>&lt;0.005</td>\n",
              "      <td>77.60</td>\n",
              "    </tr>\n",
              "    <tr>\n",
              "      <th>Partner_Yes</th>\n",
              "      <td>0.68</td>\n",
              "      <td>1.97</td>\n",
              "      <td>0.07</td>\n",
              "      <td>0.55</td>\n",
              "      <td>0.81</td>\n",
              "      <td>1.73</td>\n",
              "      <td>2.24</td>\n",
              "      <td>0.00</td>\n",
              "      <td>10.21</td>\n",
              "      <td>&lt;0.005</td>\n",
              "      <td>78.93</td>\n",
              "    </tr>\n",
              "    <tr>\n",
              "      <th>PaymentMethod_Bank transfer (automatic)</th>\n",
              "      <td>0.74</td>\n",
              "      <td>2.10</td>\n",
              "      <td>0.09</td>\n",
              "      <td>0.56</td>\n",
              "      <td>0.92</td>\n",
              "      <td>1.75</td>\n",
              "      <td>2.51</td>\n",
              "      <td>0.00</td>\n",
              "      <td>8.05</td>\n",
              "      <td>&lt;0.005</td>\n",
              "      <td>50.07</td>\n",
              "    </tr>\n",
              "    <tr>\n",
              "      <th>PaymentMethod_Credit card (automatic)</th>\n",
              "      <td>0.80</td>\n",
              "      <td>2.22</td>\n",
              "      <td>0.10</td>\n",
              "      <td>0.61</td>\n",
              "      <td>0.99</td>\n",
              "      <td>1.84</td>\n",
              "      <td>2.68</td>\n",
              "      <td>0.00</td>\n",
              "      <td>8.36</td>\n",
              "      <td>&lt;0.005</td>\n",
              "      <td>53.81</td>\n",
              "    </tr>\n",
              "    <tr>\n",
              "      <th>TechSupport_Yes</th>\n",
              "      <td>0.69</td>\n",
              "      <td>1.99</td>\n",
              "      <td>0.09</td>\n",
              "      <td>0.52</td>\n",
              "      <td>0.86</td>\n",
              "      <td>1.68</td>\n",
              "      <td>2.36</td>\n",
              "      <td>0.00</td>\n",
              "      <td>7.90</td>\n",
              "      <td>&lt;0.005</td>\n",
              "      <td>48.37</td>\n",
              "    </tr>\n",
              "    <tr>\n",
              "      <th>Intercept</th>\n",
              "      <td>1.59</td>\n",
              "      <td>4.91</td>\n",
              "      <td>0.07</td>\n",
              "      <td>1.46</td>\n",
              "      <td>1.72</td>\n",
              "      <td>4.32</td>\n",
              "      <td>5.58</td>\n",
              "      <td>0.00</td>\n",
              "      <td>24.47</td>\n",
              "      <td>&lt;0.005</td>\n",
              "      <td>436.88</td>\n",
              "    </tr>\n",
              "    <tr>\n",
              "      <th>beta_</th>\n",
              "      <th>Intercept</th>\n",
              "      <td>0.12</td>\n",
              "      <td>1.13</td>\n",
              "      <td>0.02</td>\n",
              "      <td>0.08</td>\n",
              "      <td>0.16</td>\n",
              "      <td>1.08</td>\n",
              "      <td>1.17</td>\n",
              "      <td>0.00</td>\n",
              "      <td>5.71</td>\n",
              "      <td>&lt;0.005</td>\n",
              "      <td>26.42</td>\n",
              "    </tr>\n",
              "  </tbody>\n",
              "</table><br><div>\n",
              "<style scoped>\n",
              "    .dataframe tbody tr th:only-of-type {\n",
              "        vertical-align: middle;\n",
              "    }\n",
              "\n",
              "    .dataframe tbody tr th {\n",
              "        vertical-align: top;\n",
              "    }\n",
              "\n",
              "    .dataframe thead th {\n",
              "        text-align: right;\n",
              "    }\n",
              "</style>\n",
              "<table border=\"1\" class=\"dataframe\">\n",
              "  <tbody>\n",
              "    <tr>\n",
              "      <th>Concordance</th>\n",
              "      <td>0.73</td>\n",
              "    </tr>\n",
              "    <tr>\n",
              "      <th>AIC</th>\n",
              "      <td>13698.72</td>\n",
              "    </tr>\n",
              "    <tr>\n",
              "      <th>log-likelihood ratio test</th>\n",
              "      <td>877.49 on 9 df</td>\n",
              "    </tr>\n",
              "    <tr>\n",
              "      <th>-log2(p) of ll-ratio test</th>\n",
              "      <td>605.78</td>\n",
              "    </tr>\n",
              "  </tbody>\n",
              "</table>\n",
              "</div>"
            ],
            "text/latex": "\\begin{tabular}{llrrrrrrrrrrr}\n\\toprule\n      &           &  coef &  exp(coef) &  se(coef) &  coef lower 95\\% &  coef upper 95\\% &  exp(coef) lower 95\\% &  exp(coef) upper 95\\% &  cmp to &     z &    p &  -log2(p) \\\\\nparam & covariate &       &            &           &                 &                 &                      &                      &         &       &      &           \\\\\n\\midrule\nalpha\\_ & DeviceProtection\\_Yes &  0.48 &       1.62 &      0.07 &            0.35 &            0.62 &                 1.41 &                 1.86 &    0.00 &  6.88 & 0.00 &     37.25 \\\\\n      & InternetService\\_DSL &  0.38 &       1.47 &      0.08 &            0.23 &            0.53 &                 1.26 &                 1.71 &    0.00 &  4.98 & 0.00 &     20.59 \\\\\n      & MultipleLines\\_Yes &  0.66 &       1.94 &      0.07 &            0.53 &            0.80 &                 1.70 &                 2.22 &    0.00 &  9.64 & 0.00 &     70.70 \\\\\n      & OnlineBackup\\_Yes &  0.81 &       2.25 &      0.07 &            0.68 &            0.95 &                 1.97 &                 2.59 &    0.00 & 11.63 & 0.00 &    101.50 \\\\\n      & OnlineSecurity\\_Yes &  0.86 &       2.37 &      0.09 &            0.69 &            1.03 &                 2.00 &                 2.80 &    0.00 & 10.12 & 0.00 &     77.60 \\\\\n      & Partner\\_Yes &  0.68 &       1.97 &      0.07 &            0.55 &            0.81 &                 1.73 &                 2.24 &    0.00 & 10.21 & 0.00 &     78.93 \\\\\n      & PaymentMethod\\_Bank transfer (automatic) &  0.74 &       2.10 &      0.09 &            0.56 &            0.92 &                 1.75 &                 2.51 &    0.00 &  8.05 & 0.00 &     50.07 \\\\\n      & PaymentMethod\\_Credit card (automatic) &  0.80 &       2.22 &      0.10 &            0.61 &            0.99 &                 1.84 &                 2.68 &    0.00 &  8.36 & 0.00 &     53.81 \\\\\n      & TechSupport\\_Yes &  0.69 &       1.99 &      0.09 &            0.52 &            0.86 &                 1.68 &                 2.36 &    0.00 &  7.90 & 0.00 &     48.37 \\\\\n      & Intercept &  1.59 &       4.91 &      0.07 &            1.46 &            1.72 &                 4.32 &                 5.58 &    0.00 & 24.47 & 0.00 &    436.88 \\\\\nbeta\\_ & Intercept &  0.12 &       1.13 &      0.02 &            0.08 &            0.16 &                 1.08 &                 1.17 &    0.00 &  5.71 & 0.00 &     26.42 \\\\\n\\bottomrule\n\\end{tabular}\n"
          },
          "metadata": {}
        }
      ]
    },
    {
      "cell_type": "code",
      "source": [
        "aft.plot();"
      ],
      "metadata": {
        "colab": {
          "base_uri": "https://localhost:8080/",
          "height": 279
        },
        "id": "bMPcLKtoa_JC",
        "outputId": "341ca129-85c0-4fbb-a797-a3b19fe8296a"
      },
      "execution_count": 14,
      "outputs": [
        {
          "output_type": "display_data",
          "data": {
            "text/plain": [
              "<Figure size 432x288 with 1 Axes>"
            ],
            "image/png": "[encoded data removed]"
          },
          "metadata": {
            "needs_background": "light"
          }
        }
      ]
    },
    {
      "cell_type": "markdown",
      "source": [
        "### Verify if the Model Adheres to Assumptions\n",
        "* As we saw with Cox Proportional Hazards, log-log plots are very helpful for assessing whether a model violates assumptions.\n",
        "\n",
        "  * For Cox Proportional Hazards, log-log plots were created with log(time) on the x-axis and the log-log of the survival function on the y-axis.\n",
        "\n",
        "  * For Accelerated Failure Time, the formula that is used for the y-axis is dependent upon the type of distribution specified for the outcome variable. Since we are using log-logistic here, the formula for the y-axis is: log(1 - survival_function) / survival_function.\n",
        "\n",
        "* There are two underlying assumptions to assess when using an Accelerated Failure Time model:\n",
        "\n",
        "  * Does the model adhere to the Proportional Odds assumption? - the answer is yes when lines in the plot are parallel.\n",
        "\n",
        "  * Is the specified distribution appropriate for this model? - the answer is yes when the lines are straight.\n",
        "\n",
        "* How does our model fare?\n",
        "\n",
        "* For the most part, the lines in each of the plots are relatively straight. There is some deviation but not bad overall. This implies that selecting log-logistic as the specified distribution is a reasonable choice.\n",
        "\n",
        "* For the most part, the lines in each of the plots are not parallel. This implies that Accelerated Failure Time is not appropriate for the specified model."
      ],
      "metadata": {
        "id": "DDWX8wa-bBOL"
      }
    },
    {
      "cell_type": "code",
      "source": [
        "# Fit the Kaplan-Meier model\n",
        "from lifelines import KaplanMeierFitter\n",
        "kmf = KaplanMeierFitter()\n",
        " \n",
        "T = df['tenure'] #duration\n",
        "C = df['Churn'].astype(float) #event observed\n",
        " \n",
        "kmf.fit(T,C)"
      ],
      "metadata": {
        "colab": {
          "base_uri": "https://localhost:8080/"
        },
        "id": "NLnozi2KbTsi",
        "outputId": "0333e3e3-375e-4b81-d9e0-4a1bda6737bf"
      },
      "execution_count": 15,
      "outputs": [
        {
          "output_type": "execute_result",
          "data": {
            "text/plain": [
              "<lifelines.KaplanMeierFitter:\"KM_estimate\", fitted with 3351 total observations, 1795 right-censored observations>"
            ]
          },
          "metadata": {},
          "execution_count": 15
        }
      ]
    },
    {
      "cell_type": "code",
      "source": [
        "# Utility function for plotting\n",
        "import matplotlib.pyplot as plt\n",
        " \n",
        "def plot_km_logOdds(col):\n",
        "  ax = plt.subplot(111)\n",
        "  for r in df[col].unique():\n",
        "    ix = df[col] == r\n",
        "    kmf.fit(T[ix], C[ix],label=r)\n",
        "    sf = kmf.survival_function_\n",
        "    sf['failureOdds'] = (np.log(1-sf))/sf\n",
        "    sf['logTime'] = np.log(sf.index)\n",
        "    plt.plot(sf['logTime'],sf['failureOdds'])"
      ],
      "metadata": {
        "id": "yDcCLYw1bYFK"
      },
      "execution_count": 17,
      "outputs": []
    },
    {
      "cell_type": "code",
      "source": [
        "plot_km_logOdds('Partner')"
      ],
      "metadata": {
        "colab": {
          "base_uri": "https://localhost:8080/",
          "height": 267
        },
        "id": "rXROPReEbaax",
        "outputId": "79426d56-f2a0-4ed1-c79c-ebf0d711fac5"
      },
      "execution_count": 19,
      "outputs": [
        {
          "output_type": "display_data",
          "data": {
            "text/plain": [
              "<Figure size 432x288 with 1 Axes>"
            ],
            "image/png": "[encoded data removed]"
          },
          "metadata": {
            "needs_background": "light"
          }
        }
      ]
    },
    {
      "cell_type": "code",
      "source": [
        "plot_km_logOdds('MultipleLines')"
      ],
      "metadata": {
        "colab": {
          "base_uri": "https://localhost:8080/",
          "height": 265
        },
        "id": "Z9A9hNVubfc-",
        "outputId": "728a6933-5eae-4957-cd50-eaeba72f63e2"
      },
      "execution_count": 20,
      "outputs": [
        {
          "output_type": "display_data",
          "data": {
            "text/plain": [
              "<Figure size 432x288 with 1 Axes>"
            ],
            "image/png": "[encoded data removed]"
          },
          "metadata": {
            "needs_background": "light"
          }
        }
      ]
    },
    {
      "cell_type": "code",
      "source": [
        "plot_km_logOdds('InternetService')"
      ],
      "metadata": {
        "colab": {
          "base_uri": "https://localhost:8080/",
          "height": 266
        },
        "id": "FM3gfPM1bj8L",
        "outputId": "10120daa-a4a0-4aec-aa49-258e708f06f9"
      },
      "execution_count": 21,
      "outputs": [
        {
          "output_type": "display_data",
          "data": {
            "text/plain": [
              "<Figure size 432x288 with 1 Axes>"
            ],
            "image/png": "[encoded data removed]"
          },
          "metadata": {
            "needs_background": "light"
          }
        }
      ]
    },
    {
      "cell_type": "code",
      "source": [
        "plot_km_logOdds('OnlineSecurity')"
      ],
      "metadata": {
        "colab": {
          "base_uri": "https://localhost:8080/",
          "height": 265
        },
        "id": "AuyjzrXabmyp",
        "outputId": "b96fb540-f081-42af-81e5-2fa3a51c27ce"
      },
      "execution_count": 22,
      "outputs": [
        {
          "output_type": "display_data",
          "data": {
            "text/plain": [
              "<Figure size 432x288 with 1 Axes>"
            ],
            "image/png": "[encoded data removed]"
          },
          "metadata": {
            "needs_background": "light"
          }
        }
      ]
    },
    {
      "cell_type": "code",
      "source": [
        "plot_km_logOdds('OnlineBackup')"
      ],
      "metadata": {
        "colab": {
          "base_uri": "https://localhost:8080/",
          "height": 265
        },
        "id": "41sV7jzlbo5U",
        "outputId": "72a88ccb-985f-41da-81e7-1c0078bdb4ea"
      },
      "execution_count": 23,
      "outputs": [
        {
          "output_type": "display_data",
          "data": {
            "text/plain": [
              "<Figure size 432x288 with 1 Axes>"
            ],
            "image/png": "[encoded data removed]"
          },
          "metadata": {
            "needs_background": "light"
          }
        }
      ]
    },
    {
      "cell_type": "code",
      "source": [
        "plot_km_logOdds('DeviceProtection')"
      ],
      "metadata": {
        "colab": {
          "base_uri": "https://localhost:8080/",
          "height": 265
        },
        "id": "XElb8npZbraF",
        "outputId": "b99f8ff0-e66b-4b00-9c05-065bbd2106b2"
      },
      "execution_count": 24,
      "outputs": [
        {
          "output_type": "display_data",
          "data": {
            "text/plain": [
              "<Figure size 432x288 with 1 Axes>"
            ],
            "image/png": "[encoded data removed]"
          },
          "metadata": {
            "needs_background": "light"
          }
        }
      ]
    },
    {
      "cell_type": "code",
      "source": [
        "plot_km_logOdds('TechSupport')"
      ],
      "metadata": {
        "colab": {
          "base_uri": "https://localhost:8080/",
          "height": 265
        },
        "id": "VzPwSweDbvSn",
        "outputId": "4ae06d1b-cece-4d2b-f49d-8f1a753488bd"
      },
      "execution_count": 25,
      "outputs": [
        {
          "output_type": "display_data",
          "data": {
            "text/plain": [
              "<Figure size 432x288 with 1 Axes>"
            ],
            "image/png": "[encoded data removed]"
          },
          "metadata": {
            "needs_background": "light"
          }
        }
      ]
    },
    {
      "cell_type": "code",
      "source": [
        "plot_km_logOdds('PaymentMethod')"
      ],
      "metadata": {
        "colab": {
          "base_uri": "https://localhost:8080/",
          "height": 265
        },
        "id": "RCZ6DMJbbxrT",
        "outputId": "96fdc1eb-32ff-403a-81b9-953481149bb2"
      },
      "execution_count": 26,
      "outputs": [
        {
          "output_type": "display_data",
          "data": {
            "text/plain": [
              "<Figure size 432x288 with 1 Axes>"
            ],
            "image/png": "[encoded data removed]"
          },
          "metadata": {
            "needs_background": "light"
          }
        }
      ]
    },
    {
      "cell_type": "markdown",
      "source": [
        "### Summary\n",
        "\n",
        "* Cox Proportional Hazards is by far the most popular method used for Time-to-Event (or Survival) Analysis. A big part of why this is the case is that as a semi-parametric model, you are not required to specify the form of your outcome variable. Compounding this benefit, this model tends to perform quite well, and as discussed in the previous notebook, there are a number of techniques available for further improvement.\n",
        "\n",
        "* While Cox Proportional Hazards is often a good choice, it's beneficial to know that other options do exist. In this notebook, we reviewed a fully parametric model referred to as Accelerated Failure Time.\n",
        "\n",
        "* In practice, if your goal is inference, you should select the model that best adheres to the underlying assumptions. If you goal is prediction, you should select the model that performs best with respect to your chosen evaluation metric. For this specific dataset, it would be advised to further explore options 2, 3, and 4 shared in the closing thoughts section of the Cox Proportional Hazards notebook."
      ],
      "metadata": {
        "id": "YVqx_uarb0ia"
      }
    }
  ]
}